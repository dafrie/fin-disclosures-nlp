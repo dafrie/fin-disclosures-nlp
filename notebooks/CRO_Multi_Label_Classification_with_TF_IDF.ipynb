{
 "cells": [
  {
   "cell_type": "markdown",
   "metadata": {},
   "source": [
    "# TODO"
   ]
  },
  {
   "cell_type": "code",
   "execution_count": 57,
   "metadata": {},
   "outputs": [],
   "source": [
    "import sys\n",
    "import os\n",
    "sys.path.append('..')\n",
    "\n",
    "import pandas as pd\n",
    "import numpy as np\n",
    "from sklearn import metrics\n",
    "\n",
    "############################## CONFIG ##############################\n",
    "CATEGORY_LEVEL = 'cro' #@param [\"cro\", \"cro_sub_type_combined\"]\n",
    "AVERAGING_STRATEGY= 'macro' #@param [\"micro\",  \"macro\", \"weighted\"]\n",
    "####################################################################\n",
    "\n",
    "# To make the notebook reproducible (not guaranteed for pytorch on different releases/platforms!)\n",
    "SEED_VALUE = 2\n"
   ]
  },
  {
   "cell_type": "code",
   "execution_count": 58,
   "metadata": {},
   "outputs": [],
   "source": [
    "# Load data\n",
    "# from google.colab import drive\n",
    "# drive.mount('/content/drive')\n",
    "# df = pd.read_pickle(\"/content/drive/My Drive/fin-disclosures-nlp/data/labels/Firm_AnnualReport_Labels_100_combined.pkl\")\n",
    "df = pd.read_pickle(\"/Users/david/Nextcloud/Dokumente/Education/Uni Bern/Master Thesis/Analyzing Financial Climate Disclosures with NLP/Labelling/annual reports/Firm_AnnualReport_Labels_Training_Positive.pkl\")\n",
    "df_neg = pd.read_pickle(\"/Users/david/Nextcloud/Dokumente/Education/Uni Bern/Master Thesis/Analyzing Financial Climate Disclosures with NLP/Labelling/annual reports/Firm_AnnualReport_Labels_Training_Negative.pkl\")\n",
    "\n",
    "# Set id\n",
    "id_columns = ['report_id', 'page', 'paragraph_no']\n",
    "df[\"id\"] = df.apply(lambda row: \"_\".join([str(row[c]) for c in id_columns]), axis=1)\n",
    "df_neg[\"id\"] = df_neg.apply(lambda row: \"_\".join([str(row[c]) for c in id_columns]), axis=1)\n",
    "\n",
    "# Set params\n",
    "if CATEGORY_LEVEL == 'cro':\n",
    "  category_labels = [{\"code\": \"PR\", \"label\": \"PR\"}, {\"code\": \"TR\", \"label\": \"TR\"}, {\"code\": \"OP\", \"label\": \"OP\"}]\n",
    "  \n",
    "  # Drop n/a's\n",
    "  df.query('cro == [\"PR\", \"TR\", \"OP\"]', inplace=True)\n",
    "  no_of_categories = len(df.cro.unique())\n",
    "else:\n",
    "  category_labels = [{\"code\": \"ACUTE\", \"label\": \"PR - Acute\"}, {\"code\": \"CHRON\", \"label\": \"PR - Chronic\"}, \n",
    "                     {\"code\": \"POLICY\", \"label\": \"TR - Policy\"}, {\"code\": \"MARKET\", \"label\": \"TR - Market & Technology\"}, {\"code\": \"REPUTATION\", \"label\": \"TR - Reputation\"},\n",
    "                     {\"code\": \"PRODUCTS\", \"label\": \"OP - Products, Services & Markets\"}, {\"code\": \"RESILIENCE\", \"label\": \"OP - Resource Efficiency & Resilience\"}]\n",
    "  \n",
    "  df.query('cro_sub_type_combined.notnull() and cro_sub_type_combined != \"\"', inplace=True, engine='python')\n",
    "  no_of_categories = len(df.cro_sub_type_combined.unique())\n",
    "\n",
    "label_list = [c[\"label\"] for c in category_labels]\n",
    "\n",
    "# Verification that there are no unlabelled/unwanted categories\n",
    "assert len(category_labels) == no_of_categories\n",
    "\n",
    "\n",
    "# Prepare negative dataset\n",
    "neg_docs = df_neg.groupby([\"id\"]).first().text\n",
    "assert neg_docs.shape[0] == df_neg.shape[0]\n",
    "train_neg_dataset = pd.DataFrame(neg_docs, columns=['text'])\n",
    "\n",
    "docs = df.groupby([\"id\"]).first().text\n",
    "doc_labels = pd.crosstab(df.id, df[CATEGORY_LEVEL], dropna=False)\n",
    "doc_labels = doc_labels[map(lambda c: c['code'], category_labels)]\n",
    "\n",
    "# Set counts to binary 1/0\n",
    "doc_labels = (doc_labels > 0) * 1\n",
    "doc_labels.to_numpy()\n",
    "\n",
    "# Ensure the docs and labels are the same shape\n",
    "assert np.shape(docs)[0] == np.shape(doc_labels)[0]\n",
    "    \n",
    "train_dataset = pd.DataFrame(docs, columns=['text'])\n",
    "train_dataset['labels'] = doc_labels.values.tolist()\n",
    "\n",
    "train_neg_dataset['labels'] = np.zeros((np.shape(train_neg_dataset)[0], no_of_categories), dtype=np.int8).tolist()\n",
    "train_neg_dataset = train_neg_dataset.sample(600, random_state=SEED_VALUE)\n",
    "\n",
    "# Set texts and labels\n",
    "docs = train_dataset.text\n",
    "doc_labels = train_dataset.labels\n",
    "\n",
    "# Add some negative examples\n",
    "docs = pd.concat([docs, train_neg_dataset.text])\n",
    "doc_labels = pd.concat([doc_labels, train_neg_dataset.labels])\n",
    "\n",
    "doc_labels = np.vstack(doc_labels[:,])"
   ]
  },
  {
   "cell_type": "code",
   "execution_count": 59,
   "metadata": {},
   "outputs": [
    {
     "data": {
      "text/plain": [
       "array([122, 162, 826])"
      ]
     },
     "execution_count": 59,
     "metadata": {},
     "output_type": "execute_result"
    }
   ],
   "source": [
    "doc_labels.sum(axis=0)"
   ]
  },
  {
   "cell_type": "code",
   "execution_count": 60,
   "metadata": {},
   "outputs": [],
   "source": [
    "from sklearn.model_selection import train_test_split\n",
    "\n",
    "# Split to train/test (temporary)\n",
    "X_train, X_test, y_train, y_test = train_test_split(docs, doc_labels, test_size=0.1, random_state=SEED_VALUE)"
   ]
  },
  {
   "cell_type": "code",
   "execution_count": 61,
   "metadata": {},
   "outputs": [],
   "source": [
    "# from sklearn.feature_extraction.text import TfidfVectorizer\n",
    "\n",
    "# Vectorize the 2 datasets using tf-idf.\n",
    "# vectorizer = TfidfVectorizer()\n",
    "# vectors_train = vectorizer.fit_transform(X_train)\n",
    "# vectors_test = vectorizer.transform(X_test)\n"
   ]
  },
  {
   "cell_type": "code",
   "execution_count": 62,
   "metadata": {},
   "outputs": [],
   "source": [
    "from sklearn.feature_extraction.text import CountVectorizer, TfidfTransformer\n",
    "from sklearn.multiclass import OneVsRestClassifier\n",
    "\n",
    "from sklearn.pipeline import Pipeline\n",
    "from sklearn.model_selection import GridSearchCV\n",
    "from sklearn.svm import SVC\n",
    "\n",
    "pipeline_svm = Pipeline([\n",
    "    ('bow', CountVectorizer()),\n",
    "    ('tfidf', TfidfTransformer()),\n",
    "    ('classifier', OneVsRestClassifier(\n",
    "        SVC(probability=True))\n",
    "    ), # Note: Nested estimator\n",
    "     ])\n",
    "\n",
    "# Parameters to tune automatically with a grid search\n",
    "# Note: The nested estimator is accessible via the __estimator identifier\n",
    "param_svm = [\n",
    "  {\n",
    "      'bow__ngram_range': [(1, 1), (1, 2), (1, 3)],\n",
    "      “ 'tfidf__use_idf': (True, False),\n",
    "      'classifier__estimator__C': [1, 10, 100], \n",
    "      'classifier__estimator__kernel': ['linear', 'rbf']},\n",
    "]\n",
    "\n",
    "grid_clf = GridSearchCV(\n",
    "    pipeline_svm,\n",
    "    param_grid=param_svm,\n",
    "    refit=True,\n",
    "    n_jobs=-1, \n",
    "    scoring='roc_auc', # 'roc_auc' gives an error\n",
    "    # cv=StratifiedKFold(label_train, n_folds=5),\n",
    ")\n",
    "\n",
    "grid_clf.fit(X_train, y_train)\n",
    "preds = grid_clf.predict(X_test)\n",
    "preds_prob = grid_clf.predict_proba(X_test)"
   ]
  },
  {
   "cell_type": "code",
   "execution_count": 63,
   "metadata": {},
   "outputs": [
    {
     "name": "stdout",
     "output_type": "stream",
     "text": [
      "Best score: 0.9704081665700268\n",
      "Best params: \n",
      "{'bow__ngram_range': (1, 3), 'classifier__estimator__C': 10, 'classifier__estimator__kernel': 'linear', 'tfidf__use_idf': True}\n"
     ]
    }
   ],
   "source": [
    "cv_results = pd.DataFrame(grid_clf.cv_results_)\n",
    "\n",
    "print(f\"Best score: {grid_clf.best_score_}\")\n",
    "print(f\"Best params: \\n{grid_clf.best_params_}\")"
   ]
  },
  {
   "cell_type": "code",
   "execution_count": 64,
   "metadata": {},
   "outputs": [],
   "source": [
    "from sklearn.multiclass import OneVsRestClassifier\n",
    "from sklearn.svm import SVC\n",
    "from sklearn.decomposition import PCA\n",
    "from sklearn.cross_decomposition import CCA\n",
    "\n",
    "# clf = OneVsRestClassifier(SVC(kernel='linear', random_state=SEED_VALUE), probability=True)\n",
    "# clf.fit(vectors_train, y_train)\n",
    "# preds = clf.predict(vectors_test)\n",
    "# preds_prob = clf.predict_proba(vectors_test)"
   ]
  },
  {
   "cell_type": "code",
   "execution_count": 65,
   "metadata": {},
   "outputs": [
    {
     "data": {
      "text/plain": [
       "array([16, 23, 79])"
      ]
     },
     "execution_count": 65,
     "metadata": {},
     "output_type": "execute_result"
    }
   ],
   "source": [
    "y_test.sum(axis=0)"
   ]
  },
  {
   "cell_type": "code",
   "execution_count": 66,
   "metadata": {},
   "outputs": [
    {
     "name": "stdout",
     "output_type": "stream",
     "text": [
      "              precision    recall  f1-score   support\n",
      "\n",
      "          PR       1.00      0.75      0.86        16\n",
      "          TR       0.93      0.61      0.74        23\n",
      "          OP       0.83      0.99      0.90        79\n",
      "\n",
      "   micro avg       0.86      0.88      0.87       118\n",
      "   macro avg       0.92      0.78      0.83       118\n",
      "weighted avg       0.87      0.88      0.86       118\n",
      " samples avg       0.60      0.60      0.60       118\n",
      "\n"
     ]
    },
    {
     "name": "stderr",
     "output_type": "stream",
     "text": [
      "/Users/david/Projects/fin-disclosures-nlp/envs/lib/python3.8/site-packages/sklearn/metrics/_classification.py:1221: UndefinedMetricWarning: Precision and F-score are ill-defined and being set to 0.0 in samples with no predicted labels. Use `zero_division` parameter to control this behavior.\n",
      "  _warn_prf(average, modifier, msg_start, len(result))\n",
      "/Users/david/Projects/fin-disclosures-nlp/envs/lib/python3.8/site-packages/sklearn/metrics/_classification.py:1221: UndefinedMetricWarning: Recall and F-score are ill-defined and being set to 0.0 in samples with no true labels. Use `zero_division` parameter to control this behavior.\n",
      "  _warn_prf(average, modifier, msg_start, len(result))\n"
     ]
    }
   ],
   "source": [
    "# Run prediction on the test set.\n",
    "threshold = 0.5\n",
    "preds_bool = (preds > threshold)\n",
    "\n",
    "# Use the accuracy and F1 metric to score our classifier's performance on the test set.\n",
    "accuracy = metrics.accuracy_score(y_test, preds)\n",
    "score = metrics.f1_score(y_test, preds, average=AVERAGING_STRATEGY)\n",
    "roc_auc = metrics.roc_auc_score(y_test, preds_prob, average=AVERAGING_STRATEGY)\n",
    "\n",
    "cms = metrics.multilabel_confusion_matrix(y_test, preds_bool)\n",
    "print(metrics.classification_report(y_test, preds_bool, target_names=label_list))"
   ]
  },
  {
   "cell_type": "code",
   "execution_count": 67,
   "metadata": {},
   "outputs": [
    {
     "name": "stdout",
     "output_type": "stream",
     "text": [
      "Accuracy: 0.8411764705882353, F1: 0.8319063554840859, RoC AUC: 0.9789474029390689\n"
     ]
    }
   ],
   "source": [
    "print(f\"Accuracy: {accuracy}, F1: {score}, RoC AUC: {roc_auc}\")"
   ]
  },
  {
   "cell_type": "code",
   "execution_count": 68,
   "metadata": {},
   "outputs": [
    {
     "data": {
      "image/png": "[encoded data removed]",
      "text/plain": [
       "<Figure size 720x504 with 1 Axes>"
      ]
     },
     "metadata": {
      "needs_background": "light"
     },
     "output_type": "display_data"
    }
   ],
   "source": [
    "import matplotlib.pyplot as plt\n",
    "from sklearn.metrics import roc_auc_score\n",
    "from sklearn.metrics import roc_curve, auc\n",
    "from numpy import interp\n",
    "from itertools import cycle\n",
    "\n",
    "n_classes = no_of_categories\n",
    "preds = preds\n",
    "labels = y_test\n",
    "\n",
    "# Compute ROC curve and ROC area for each class\n",
    "fpr = dict()\n",
    "tpr = dict()\n",
    "roc_auc = dict()\n",
    "for i in range(n_classes):\n",
    "    fpr[i], tpr[i], _ = roc_curve(labels[:, i], preds[:, i])\n",
    "    roc_auc[i] = auc(fpr[i], tpr[i])\n",
    "\n",
    "# Compute micro-average ROC curve and ROC area\n",
    "fpr[\"micro\"], tpr[\"micro\"], _ = roc_curve(labels.ravel(), preds.ravel())\n",
    "roc_auc[\"micro\"] = auc(fpr[\"micro\"], tpr[\"micro\"])\n",
    "\n",
    "# First aggregate all false positive rates\n",
    "all_fpr = np.unique(np.concatenate([fpr[i] for i in range(n_classes)]))\n",
    "\n",
    "# Then interpolate all ROC curves at this points\n",
    "mean_tpr = np.zeros_like(all_fpr)\n",
    "for i in range(n_classes):\n",
    "    mean_tpr += interp(all_fpr, fpr[i], tpr[i])\n",
    "\n",
    "# Finally average it and compute AUC\n",
    "mean_tpr /= n_classes\n",
    "\n",
    "fpr[\"macro\"] = all_fpr\n",
    "tpr[\"macro\"] = mean_tpr\n",
    "roc_auc[\"macro\"] = auc(fpr[\"macro\"], tpr[\"macro\"])\n",
    "\n",
    "lw = 2\n",
    "\n",
    "# Plot all ROC curves\n",
    "plt.figure(figsize = (10,7))\n",
    "plt.plot(fpr[\"micro\"], tpr[\"micro\"],\n",
    "         label='micro-average ROC curve (area = {0:0.2f})'\n",
    "               ''.format(roc_auc[\"micro\"]),\n",
    "         color='deeppink', linestyle=':', linewidth=4)\n",
    "\n",
    "plt.plot(fpr[\"macro\"], tpr[\"macro\"],\n",
    "         label='macro-average ROC curve (area = {0:0.2f})'\n",
    "               ''.format(roc_auc[\"macro\"]),\n",
    "         color='navy', linestyle=':', linewidth=4)\n",
    "\n",
    "colors = cycle(['aqua', 'darkorange', 'cornflowerblue', 'green', 'red', 'blue', 'black'])\n",
    "for i, color in zip(range(n_classes), colors):\n",
    "    plt.plot(fpr[i], tpr[i], color=color, lw=lw,\n",
    "             label='ROC curve of {0} (area = {1:0.2f})'\n",
    "             ''.format(label_list[i], roc_auc[i]))\n",
    "\n",
    "plt.plot([0, 1], [0, 1], 'k--', lw=lw)\n",
    "plt.xlim([0.0, 1.0])\n",
    "plt.ylim([0.0, 1.05])\n",
    "plt.xlabel('False Positive (FP) Rate')\n",
    "plt.ylabel('True Positive (TP) Rate')\n",
    "plt.title(f'RoC curves on each {CATEGORY_LEVEL} class')\n",
    "plt.legend(loc=\"lower right\")\n",
    "plt.show()"
   ]
  },
  {
   "cell_type": "code",
   "execution_count": 70,
   "metadata": {},
   "outputs": [],
   "source": [
    "import pickle\n",
    "\n",
    "with open(f\"/Users/david/Nextcloud/Dokumente/Education/Uni Bern/Master Thesis/Analyzing Financial Climate Disclosures with NLP/Models/stoxx_inference/multilabel_svm_{CATEGORY_LEVEL}.pkl\", 'wb') as f:\n",
    "    grid_clf.label_list = label_list\n",
    "    pickle.dump(grid_clf, f, 4)\n"
   ]
  },
  {
   "cell_type": "code",
   "execution_count": null,
   "metadata": {},
   "outputs": [],
   "source": []
  }
 ],
 "metadata": {
  "kernelspec": {
   "display_name": "Python 3",
   "language": "python",
   "name": "python3"
  },
  "language_info": {
   "codemirror_mode": {
    "name": "ipython",
    "version": 3
   },
   "file_extension": ".py",
   "mimetype": "text/x-python",
   "name": "python",
   "nbconvert_exporter": "python",
   "pygments_lexer": "ipython3",
   "version": "3.8.5"
  }
 },
 "nbformat": 4,
 "nbformat_minor": 4
}
