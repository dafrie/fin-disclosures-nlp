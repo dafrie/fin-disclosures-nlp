{
  "nbformat": 4,
  "nbformat_minor": 0,
  "metadata": {
    "colab": {
      "name": "CRO - Multi-Class with Transformers.ipynb",
      "provenance": [],
      "collapsed_sections": [],
      "toc_visible": true,
      "authorship_tag": "ABX9TyOR7+L4DyKpOff73wIYM1jG",
      "include_colab_link": true
    },
    "kernelspec": {
      "name": "python3",
      "display_name": "Python 3"
    },
    "accelerator": "GPU"
  },
  "cells": [
    {
      "cell_type": "markdown",
      "metadata": {
        "id": "view-in-github",
        "colab_type": "text"
      },
      "source": [
        "<a href=\"https://colab.research.google.com/github/dafrie/fin-disclosures-nlp/blob/master/notebooks/CRO_Multi_Class_with_Transformers.ipynb\" target=\"_parent\"><img src=\"https://colab.research.google.com/assets/colab-badge.svg\" alt=\"Open In Colab\"/></a>"
      ]
    },
    {
      "cell_type": "markdown",
      "metadata": {
        "id": "H4bR9kFMZ0ZF"
      },
      "source": [
        "# Multi-Class classification of Climate-related risks and opportunities using Transformers\n",
        "Multi-Class = Each document is assigned one of a set of classes"
      ]
    },
    {
      "cell_type": "markdown",
      "metadata": {
        "id": "vQBJKVg0aPnV"
      },
      "source": [
        "# Setup\n",
        "\n",
        "1. Make sure to enable a GPU in Colab by enabling Hardware accelerator support in \"Runtime / Change runtime type\" and then select \"GPU\"\n"
      ]
    },
    {
      "cell_type": "code",
      "metadata": {
        "id": "P25EXc8YaRYE",
        "outputId": "f575e936-2b34-4614-f392-23f86524ae2c",
        "colab": {
          "base_uri": "https://localhost:8080/"
        }
      },
      "source": [
        "# Install transformers library\n",
        "!pip install transformers\n",
        "\n",
        "import pandas as pd\n",
        "import numpy as np\n",
        "import torch\n",
        "import textwrap\n",
        "import random\n",
        "from sklearn.metrics import accuracy_score, f1_score\n",
        "from transformers import AutoTokenizer\n",
        "\n",
        "\n",
        "############################## CONFIG ##############################\n",
        "# On which CRO categorization level the \n",
        "CATEGORY_LEVEL = 'cro' #@param [\"cro\", \"cro_sub_type_combined\", \"cro_merge\"]\n",
        "\n",
        "# Set to true if fine-tuning should be enabled. Else it loads fine-tuned model\n",
        "ENABLE_FINE_TUNING = False #@param {type:\"boolean\"}\n",
        "\n",
        "# See list here: https://huggingface.co/models\n",
        "TRANSFORMER_MODEL_NAME = 'bert-base-uncased' #@param [\"bert-base-uncased\", \"bert-large-uncased\", \"albert-base-v2\", \"roberta-base\", \"roberta-large\", \"distilbert-base-uncased\"]\n",
        "\n",
        "# The DataLoader needs to know our batch size for training. BERT Authors recommend 16 or 32, however this leads to an error due to not enough GPU memory\n",
        "BATCH_SIZE = 16 #@param [\"8\", \"16\", \"32\"] {type:\"raw\"}\n",
        "MAX_TOKEN_SIZE = 256 #@param [512,256,128] {type:\"raw\"}\n",
        "SHOW_GPU_USAGE = False #@param {type:\"boolean\"}\n",
        "\n",
        "# F1 evaluation metric config. See for context: https://scikit-learn.org/stable/modules/generated/sklearn.metrics.f1_score.html\n",
        "F1_AVERAGING_STRATEGY = 'macro' #@param [\"micro\",  \"macro\", \"weighted\"]\n",
        "\n",
        "# To make the notebook reproducible (not guaranteed for pytorch on different releases/platforms!)\n",
        "SEED_VALUE = 0\n",
        "####################################################################\n",
        "\n",
        "model_id = TRANSFORMER_MODEL_NAME + \"_\" + CATEGORY_LEVEL\n",
        "print(f\"Selected {TRANSFORMER_MODEL_NAME} as transformer model for the task to classification of {CATEGORY_LEVEL}...\")\n",
        "\n",
        "# Initialize text wrapper\n",
        "wrapper = textwrap.TextWrapper(width=80) \n",
        "\n",
        "if torch.cuda.is_available():    \n",
        "\n",
        "    # Tell PyTorch to use the GPU.    \n",
        "    device = torch.device(\"cuda\")\n",
        "\n",
        "    print('There are %d GPU(s) available.' % torch.cuda.device_count())\n",
        "\n",
        "    print('We will use the GPU:', torch.cuda.get_device_name(0))\n",
        "\n",
        "else:\n",
        "    print('No GPU available, using the CPU instead.')\n",
        "    device = torch.device(\"cpu\")\n",
        "\n",
        "# Initialize random state\n",
        "random.seed(SEED_VALUE)\n",
        "np.random.seed(SEED_VALUE)\n",
        "torch.manual_seed(SEED_VALUE)\n",
        "torch.cuda.manual_seed_all(SEED_VALUE)"
      ],
      "execution_count": 39,
      "outputs": [
        {
          "output_type": "stream",
          "text": [
            "Requirement already satisfied: transformers in /usr/local/lib/python3.6/dist-packages (3.5.0)\n",
            "Requirement already satisfied: numpy in /usr/local/lib/python3.6/dist-packages (from transformers) (1.18.5)\n",
            "Requirement already satisfied: regex!=2019.12.17 in /usr/local/lib/python3.6/dist-packages (from transformers) (2019.12.20)\n",
            "Requirement already satisfied: tokenizers==0.9.3 in /usr/local/lib/python3.6/dist-packages (from transformers) (0.9.3)\n",
            "Requirement already satisfied: sentencepiece==0.1.91 in /usr/local/lib/python3.6/dist-packages (from transformers) (0.1.91)\n",
            "Requirement already satisfied: requests in /usr/local/lib/python3.6/dist-packages (from transformers) (2.23.0)\n",
            "Requirement already satisfied: dataclasses; python_version < \"3.7\" in /usr/local/lib/python3.6/dist-packages (from transformers) (0.7)\n",
            "Requirement already satisfied: protobuf in /usr/local/lib/python3.6/dist-packages (from transformers) (3.12.4)\n",
            "Requirement already satisfied: packaging in /usr/local/lib/python3.6/dist-packages (from transformers) (20.4)\n",
            "Requirement already satisfied: tqdm>=4.27 in /usr/local/lib/python3.6/dist-packages (from transformers) (4.41.1)\n",
            "Requirement already satisfied: filelock in /usr/local/lib/python3.6/dist-packages (from transformers) (3.0.12)\n",
            "Requirement already satisfied: sacremoses in /usr/local/lib/python3.6/dist-packages (from transformers) (0.0.43)\n",
            "Requirement already satisfied: chardet<4,>=3.0.2 in /usr/local/lib/python3.6/dist-packages (from requests->transformers) (3.0.4)\n",
            "Requirement already satisfied: urllib3!=1.25.0,!=1.25.1,<1.26,>=1.21.1 in /usr/local/lib/python3.6/dist-packages (from requests->transformers) (1.24.3)\n",
            "Requirement already satisfied: certifi>=2017.4.17 in /usr/local/lib/python3.6/dist-packages (from requests->transformers) (2020.6.20)\n",
            "Requirement already satisfied: idna<3,>=2.5 in /usr/local/lib/python3.6/dist-packages (from requests->transformers) (2.10)\n",
            "Requirement already satisfied: six>=1.9 in /usr/local/lib/python3.6/dist-packages (from protobuf->transformers) (1.15.0)\n",
            "Requirement already satisfied: setuptools in /usr/local/lib/python3.6/dist-packages (from protobuf->transformers) (50.3.2)\n",
            "Requirement already satisfied: pyparsing>=2.0.2 in /usr/local/lib/python3.6/dist-packages (from packaging->transformers) (2.4.7)\n",
            "Requirement already satisfied: click in /usr/local/lib/python3.6/dist-packages (from sacremoses->transformers) (7.1.2)\n",
            "Requirement already satisfied: joblib in /usr/local/lib/python3.6/dist-packages (from sacremoses->transformers) (0.17.0)\n",
            "Selected bert-base-uncased as transformer model for the task to classification of cro...\n",
            "There are 1 GPU(s) available.\n",
            "We will use the GPU: Tesla P100-PCIE-16GB\n"
          ],
          "name": "stdout"
        }
      ]
    },
    {
      "cell_type": "markdown",
      "metadata": {
        "id": "PojOWgDxbCYT"
      },
      "source": [
        "## Data loading + preparation"
      ]
    },
    {
      "cell_type": "code",
      "metadata": {
        "id": "P0p6RB_hbWGg",
        "outputId": "56196f3d-c398-4595-af48-e231f60c2b5d",
        "colab": {
          "base_uri": "https://localhost:8080/"
        }
      },
      "source": [
        "# Load Google drive where the data and models are stored\n",
        "from google.colab import drive\n",
        "drive.mount('/content/drive')\n",
        "\n",
        "# Setup the models path\n",
        "saved_models_path = \"/content/drive/My Drive/fin-disclosures-nlp/models/finetuned_models/\"\n",
        "\n",
        "# Read training data\n",
        "df = pd.read_pickle(\"/content/drive/My Drive/fin-disclosures-nlp/data/labels/Firm_AnnualReport_Labels_100_combined.pkl\")\n",
        "\n",
        "# Drop n/a's:\n",
        "if CATEGORY_LEVEL == 'cro':\n",
        "  df.query('cro == [\"PR\", \"TR\", \"OP\"]', inplace=True)\n",
        "  no_of_categories = len(df.cro.unique())\n",
        "else:\n",
        "  df.query('cro_sub_type_combined.notnull() and cro_sub_type_combined != \"\"', inplace=True, engine='python')\n",
        "  no_of_categories = len(df.cro_sub_type_combined.unique())\n",
        "\n",
        "\n",
        "# Set texts and labels\n",
        "docs = df.text\n",
        "doc_labels = df[CATEGORY_LEVEL].astype('category').cat.codes.to_numpy(copy=True)\n",
        "\n",
        "# TODO: Load test data"
      ],
      "execution_count": 40,
      "outputs": [
        {
          "output_type": "stream",
          "text": [
            "Drive already mounted at /content/drive; to attempt to forcibly remount, call drive.mount(\"/content/drive\", force_remount=True).\n"
          ],
          "name": "stdout"
        }
      ]
    },
    {
      "cell_type": "markdown",
      "metadata": {
        "id": "aIoEbVpngkd6"
      },
      "source": [
        "## Data description"
      ]
    },
    {
      "cell_type": "markdown",
      "metadata": {
        "id": "slNGVmIihT_p"
      },
      "source": [
        "### Class distribution"
      ]
    },
    {
      "cell_type": "code",
      "metadata": {
        "id": "-XAvRbpEgAUk",
        "outputId": "eb60df12-728f-4109-dc50-c5fad3d7dad5",
        "colab": {
          "base_uri": "https://localhost:8080/",
          "height": 427
        }
      },
      "source": [
        "import matplotlib.pyplot as plt\n",
        "import seaborn as sns\n",
        "import numpy as np\n",
        "\n",
        "sns.set(style='darkgrid')\n",
        "\n",
        "# Plot the number of labels of each category.\n",
        "sns.countplot(x=df[CATEGORY_LEVEL])\n",
        "plt.title('Class Distribution')\n",
        "plt.xlabel(f'{CATEGORY_LEVEL} Category')\n",
        "plt.ylabel('# of Samples')"
      ],
      "execution_count": 41,
      "outputs": [
        {
          "output_type": "execute_result",
          "data": {
            "text/plain": [
              "Text(0, 0.5, '# of Samples')"
            ]
          },
          "metadata": {
            "tags": []
          },
          "execution_count": 41
        },
        {
          "output_type": "display_data",
          "data": {
            "image/png": "[encoded data removed]",
            "text/plain": [
              "<Figure size 864x432 with 1 Axes>"
            ]
          },
          "metadata": {
            "tags": []
          }
        }
      ]
    },
    {
      "cell_type": "markdown",
      "metadata": {
        "id": "oteGCQGFhbD0"
      },
      "source": [
        "### Document length\n",
        "\n",
        "Calculates the length of each document in terms of WordPiece tokens"
      ]
    },
    {
      "cell_type": "code",
      "metadata": {
        "id": "Z_BSB7OHlnDI"
      },
      "source": [
        "# Load the tokenizer.\n",
        "expected_model_path = os.path.join(saved_models_path, model_id)\n",
        "has_model_path = os.path.isdir(expected_model_path)\n",
        "transformer_model_name = expected_model_path if has_model_path else TRANSFORMER_MODEL_NAME\n",
        "tokenizer = AutoTokenizer.from_pretrained(transformer_model_name, do_lower_case=True)\n",
        "\n",
        "def tokenize_and_count(row):\n",
        "  tokens = tokenizer.tokenize(row.text)\n",
        "  # Count unknown tokens --> TODO: Do they really exist with WordPiece?\n",
        "  unk_no = sum('[UNK]' in token for token in tokens)\n",
        "  # Count subwords from WordPiece segmentation\n",
        "  subwords_no = sum(token.startswith('##') for token in tokens)\n",
        "  # TODO: What's up with OOV (out of vocabulary?): They can't appear?\n",
        "  return pd.Series([len(tokens), unk_no, subwords_no])\n",
        "\n",
        "df[['token_no', 'unk_no', 'subwords_no' ]] = df.apply(lambda row: tokenize_and_count(row), axis=1)"
      ],
      "execution_count": 42,
      "outputs": []
    },
    {
      "cell_type": "code",
      "metadata": {
        "id": "RN-SIYC4qP-f",
        "outputId": "64651b05-9e9d-4fa3-8f7f-0b26df746c3b",
        "colab": {
          "base_uri": "https://localhost:8080/"
        }
      },
      "source": [
        "print(\"Descriptive stats for number of tokens:\\n\", df.token_no.describe())\n",
        "print(\"==================\")\n",
        "print(\"Descriptive stats for WordPiece subwords (##...):\\n\", df.subwords_no.describe())"
      ],
      "execution_count": 43,
      "outputs": [
        {
          "output_type": "stream",
          "text": [
            "Descriptive stats for number of tokens:\n",
            " count    917.00\n",
            "mean     101.47\n",
            "std       74.73\n",
            "min        5.00\n",
            "25%       53.00\n",
            "50%       87.00\n",
            "75%      127.00\n",
            "max      839.00\n",
            "Name: token_no, dtype: float64\n",
            "==================\n",
            "Descriptive stats for WordPiece subwords (##...):\n",
            " count    917.00\n",
            "mean       6.32\n",
            "std       11.45\n",
            "min        0.00\n",
            "25%        2.00\n",
            "50%        4.00\n",
            "75%        8.00\n",
            "max      207.00\n",
            "Name: subwords_no, dtype: float64\n"
          ],
          "name": "stdout"
        }
      ]
    },
    {
      "cell_type": "code",
      "metadata": {
        "id": "js-hIoBG0jBn",
        "outputId": "4540bf9c-3832-40d5-e6c5-7fb4235b00b5",
        "colab": {
          "base_uri": "https://localhost:8080/",
          "height": 398
        }
      },
      "source": [
        "# Truncate text lengths greater than 512.\n",
        "token_no = [min(l, 512) for l in df.token_no]\n",
        "token_no = df.token_no\n",
        "\n",
        "# Plot the distribution of comment lengths.\n",
        "sns.displot(token_no, kde=False, rug=False)\n",
        "\n",
        "plt.title('Number of WordPiece tokens in Documents')\n",
        "plt.xlabel('WorkPiece Tokens')\n",
        "plt.ylabel('# of Documents')"
      ],
      "execution_count": 44,
      "outputs": [
        {
          "output_type": "execute_result",
          "data": {
            "text/plain": [
              "Text(5.334999999999994, 0.5, '# of Documents')"
            ]
          },
          "metadata": {
            "tags": []
          },
          "execution_count": 44
        },
        {
          "output_type": "display_data",
          "data": {
            "image/png": "[encoded data removed]",
            "text/plain": [
              "<Figure size 360x360 with 1 Axes>"
            ]
          },
          "metadata": {
            "tags": []
          }
        }
      ]
    },
    {
      "cell_type": "markdown",
      "metadata": {
        "id": "VMCl6ez57Hlt"
      },
      "source": [
        "# Training"
      ]
    },
    {
      "cell_type": "markdown",
      "metadata": {
        "id": "-wA0M_b3wCx2"
      },
      "source": [
        "## Preparation"
      ]
    },
    {
      "cell_type": "code",
      "metadata": {
        "id": "Yx7jLyfr6Cr4"
      },
      "source": [
        "import os\n",
        "import csv\n",
        "\n",
        "def check_gpu_mem():\n",
        "    '''\n",
        "    Uses Nvidia's SMI tool to check the current GPU memory usage.\n",
        "    Reported values are in \"MiB\". 1 MiB = 2^20 bytes = 1,048,576 bytes.\n",
        "    '''\n",
        "    \n",
        "    # Run the command line tool and get the results.\n",
        "    buf = os.popen('nvidia-smi --query-gpu=memory.total,memory.used --format=csv')\n",
        "\n",
        "    # Use csv module to read and parse the result.\n",
        "    reader = csv.reader(buf, delimiter=',')\n",
        "\n",
        "    # Use a pandas table just for nice formatting.\n",
        "    df_gpu = pd.DataFrame(reader)\n",
        "\n",
        "    # Use the first row as the column headers.\n",
        "    new_header = df_gpu.iloc[0] #grab the first row for the header\n",
        "    df_gpu = df_gpu[1:] #take the data less the header row\n",
        "    df_gpu.columns = new_header #set the header row as the df header\n",
        "\n",
        "    return df_gpu"
      ],
      "execution_count": 45,
      "outputs": []
    },
    {
      "cell_type": "code",
      "metadata": {
        "id": "FCyx7wR86Z47"
      },
      "source": [
        "import time\n",
        "import datetime\n",
        "\n",
        "def format_time(elapsed):\n",
        "    '''\n",
        "    Takes a time in seconds and returns a string hh:mm:ss\n",
        "    '''\n",
        "    # Round to the nearest second.\n",
        "    elapsed_rounded = int(round((elapsed)))\n",
        "    \n",
        "    # Format as hh:mm:ss\n",
        "    return str(datetime.timedelta(seconds=elapsed_rounded))"
      ],
      "execution_count": 46,
      "outputs": []
    },
    {
      "cell_type": "markdown",
      "metadata": {
        "id": "yxLHL-Ue5vCY"
      },
      "source": [
        "### Tokenization"
      ]
    },
    {
      "cell_type": "code",
      "metadata": {
        "id": "voQxc_Af-Jrc"
      },
      "source": [
        "def multi_class_tokenize(docs, labels, max_len=512):\n",
        "  input_ids = []\n",
        "  attention_masks = []\n",
        "\n",
        "  for doc in docs:\n",
        "        # `encode_plus` will:\n",
        "        #   (1) Tokenize the sentence.\n",
        "        #   (2) Prepend the `[CLS]` token to the start.\n",
        "        #   (3) Append the `[SEP]` token to the end.\n",
        "        #   (4) Map tokens to their IDs.\n",
        "        #   (5) Pad or truncate the sentence to `max_length`\n",
        "        #   (6) Create attention masks for [PAD] tokens.\n",
        "        encoded_dict = tokenizer.encode_plus(\n",
        "                            doc,                        # Doc to encode.\n",
        "                            add_special_tokens = True,  # Add '[CLS]' and '[SEP]'\n",
        "                            truncation = True,          # Activate truncation\n",
        "                            max_length = max_len,       # Truncate to length\n",
        "                            padding='max_length',       # Pad to max length \n",
        "                            return_attention_mask = True,   # Construct attn. masks\n",
        "                            return_tensors = 'pt',      # Return pytorch tensors\n",
        "                    )\n",
        "        input_ids.append(encoded_dict['input_ids'])\n",
        "        attention_masks.append(encoded_dict['attention_mask'])\n",
        "\n",
        "  # Convert the lists into tensors.\n",
        "  input_ids = torch.cat(input_ids, dim=0)\n",
        "  attention_masks = torch.cat(attention_masks, dim=0)\n",
        "\n",
        "  # Convert the labels to a tensor.\n",
        "  torch_labels = torch.tensor(labels).long()\n",
        "  # torch_labels = \n",
        "  \n",
        "  return (input_ids, torch_labels, attention_masks)\n",
        "\n",
        "\n",
        "# Tokenize the entire training dataset\n",
        "(train_input_ids, \n",
        " train_labels, \n",
        " train_attention_masks) = multi_class_tokenize(docs, doc_labels, max_len = MAX_TOKEN_SIZE)"
      ],
      "execution_count": 47,
      "outputs": []
    },
    {
      "cell_type": "markdown",
      "metadata": {
        "id": "fk_NLz1x52dN"
      },
      "source": [
        "### Model initialization"
      ]
    },
    {
      "cell_type": "code",
      "metadata": {
        "id": "_DShtT9s7-rI"
      },
      "source": [
        "from transformers import AutoModelForSequenceClassification, AdamW, get_linear_schedule_with_warmup\n",
        "\n",
        "\n",
        "# Make sure that model dir exists if necessary\n",
        "if not ENABLE_FINE_TUNING:\n",
        "  assert expected_model_path\n",
        "\n",
        "# Load BertForSequenceClassification, the pretrained BERT model with a single \n",
        "# linear classification layer on top. \n",
        "model = AutoModelForSequenceClassification.from_pretrained(\n",
        "    TRANSFORMER_MODEL_NAME if ENABLE_FINE_TUNING else expected_model_path, # Load fresh if fine tuning is enabled\n",
        "    num_labels = no_of_categories, # The number of different categories/labels\n",
        "    output_attentions = False, # Whether the model returns attentions weights.\n",
        "    output_hidden_states = False, # Whether the model returns all hidden-states.\n",
        ")\n",
        "\n",
        "# Tell pytorch to run this model on the GPU.\n",
        "desc = model.cuda()"
      ],
      "execution_count": 48,
      "outputs": []
    },
    {
      "cell_type": "code",
      "metadata": {
        "id": "Pd0-tLiv8IRO",
        "outputId": "1a9b1a36-c1d4-4aa9-83d4-7da76f1a9b61",
        "colab": {
          "base_uri": "https://localhost:8080/"
        }
      },
      "source": [
        "from torch.utils.data import TensorDataset, random_split, DataLoader, RandomSampler, SequentialSampler\n",
        "\n",
        "# Combine the training inputs into a TensorDataset.\n",
        "dataset = TensorDataset(train_input_ids, train_attention_masks, train_labels)\n",
        "\n",
        "# Create a 90-10 train-validation split.\n",
        "\n",
        "# Calculate the number of samples to include in each set.\n",
        "train_size = int(0.9 * len(dataset))\n",
        "val_size = len(dataset) - train_size\n",
        "\n",
        "# Divide the dataset by randomly selecting samples.\n",
        "train_dataset, val_dataset = random_split(dataset, [train_size, val_size])\n",
        "\n",
        "print('{:>5,} training samples'.format(train_size))\n",
        "print('{:>5,} validation samples'.format(val_size))\n",
        "\n",
        "# Create the DataLoaders for our training and validation sets.\n",
        "# We'll take training samples in random order. \n",
        "train_dataloader = DataLoader(\n",
        "            train_dataset,\n",
        "            sampler = RandomSampler(train_dataset),\n",
        "            batch_size = BATCH_SIZE\n",
        "        )\n",
        "\n",
        "# For validation the order doesn't matter, so we'll just read them sequentially.\n",
        "validation_dataloader = DataLoader(\n",
        "            val_dataset,\n",
        "            sampler = SequentialSampler(val_dataset),\n",
        "            batch_size = BATCH_SIZE\n",
        "        )\n"
      ],
      "execution_count": 49,
      "outputs": [
        {
          "output_type": "stream",
          "text": [
            "  825 training samples\n",
            "   92 validation samples\n"
          ],
          "name": "stdout"
        }
      ]
    },
    {
      "cell_type": "markdown",
      "metadata": {
        "id": "f92Heo-R8o-7"
      },
      "source": [
        "## Training loop"
      ]
    },
    {
      "cell_type": "code",
      "metadata": {
        "id": "phtxlas-8mtB"
      },
      "source": [
        "################ Training parameters ################\n",
        "epochs = 4 # Number of training epochs (BERT authors recommend between 2 and 4)\n",
        "lr = 2e-5\n",
        "eps = 1e-8\n",
        "max_grad_norm = 1.0\n",
        "num_warmup_steps = 0 # TODO: Try out 100?\n",
        "#####################################################\n",
        "\n",
        "# Total number of training steps is number of batches * number of epochs.\n",
        "total_steps = len(train_dataloader) * epochs\n",
        "\n",
        "# Initialize optimizer\n",
        "optimizer = AdamW(model.parameters(),lr = lr,eps = eps)\n",
        "\n",
        "# Create the learning rate scheduler.\n",
        "scheduler = get_linear_schedule_with_warmup(\n",
        "      optimizer, \n",
        "      num_warmup_steps = num_warmup_steps, \n",
        "      num_training_steps = total_steps\n",
        "    )\n",
        "\n",
        "\n",
        "# Training stats will be stored here\n",
        "training_stats = []\n",
        "\n",
        "if ENABLE_FINE_TUNING:\n",
        "\n",
        "  # For each epoch...\n",
        "  for epoch_i in range(0, epochs):\n",
        "      \n",
        "      # ========================================\n",
        "      #               Training\n",
        "      # ========================================\n",
        "      \n",
        "      # Perform one full pass over the training set.\n",
        "\n",
        "      print(\"\")\n",
        "      print('======== Epoch {:} / {:} ========'.format(epoch_i + 1, epochs))\n",
        "\n",
        "      # Measure how long the training epoch takes.\n",
        "      t0 = time.time()\n",
        "\n",
        "      # Reset the total loss for this epoch.\n",
        "      total_train_loss = 0\n",
        "\n",
        "      # Put the model into training mode. Don't be mislead--the call to \n",
        "      # `train` just changes the *mode*, it doesn't *perform* the training.\n",
        "      # `dropout` and `batchnorm` layers behave differently during training\n",
        "      # vs. test (source: https://stackoverflow.com/questions/51433378/what-does-model-train-do-in-pytorch)\n",
        "      model.train()\n",
        "\n",
        "      # For each batch of training data...\n",
        "      for step, batch in enumerate(train_dataloader):\n",
        "\n",
        "          # Progress update every 50 batches.\n",
        "          if step % 50 == 0 and not step == 0:\n",
        "              # Calculate elapsed time in minutes.\n",
        "              elapsed = format_time(time.time() - t0)\n",
        "              \n",
        "              # Report progress.\n",
        "              print('  Batch {:>5,}  of  {:>5,}.    Elapsed: {:}.'.format(step, len(train_dataloader), elapsed))\n",
        "\n",
        "          # Unpack this training batch from our dataloader. \n",
        "          #\n",
        "          # As we unpack the batch, we'll also copy each tensor to the GPU using the \n",
        "          # `to` method.\n",
        "          #\n",
        "          # `batch` contains three pytorch tensors:\n",
        "          #   [0]: input ids \n",
        "          #   [1]: attention masks\n",
        "          #   [2]: labels \n",
        "          b_input_ids = batch[0].to(device)\n",
        "          b_input_mask = batch[1].to(device)\n",
        "          b_labels = batch[2].to(device)\n",
        "\n",
        "          # Check GPU memory for the first couple steps.\n",
        "          if SHOW_GPU_USAGE and step < 2:\n",
        "              print('\\n  Step {:} GPU Memory Use:'.format(step))\n",
        "              df = check_gpu_mem()    \n",
        "              print('    Before forward-pass: {:}'.format(df.iloc[0, 1]))\n",
        "\n",
        "          # Always clear any previously calculated gradients before performing a\n",
        "          # backward pass. PyTorch doesn't do this automatically because \n",
        "          # accumulating the gradients is \"convenient while training RNNs\". \n",
        "          # (source: https://stackoverflow.com/questions/48001598/why-do-we-need-to-call-zero-grad-in-pytorch)\n",
        "          model.zero_grad()        \n",
        "\n",
        "          # Perform a forward pass (evaluate the model on this training batch).\n",
        "          # The documentation for this `model` function is here: \n",
        "          # https://huggingface.co/transformers/v2.2.0/model_doc/bert.html#transformers.BertForSequenceClassification\n",
        "          # It returns different numbers of parameters depending on what arguments\n",
        "          # arge given and what flags are set. For our useage here, it returns\n",
        "          # the loss (because we provided labels) and the \"logits\"--the model\n",
        "          # outputs prior to activation.\n",
        "          loss, logits = model(b_input_ids, \n",
        "                              token_type_ids=None, \n",
        "                              attention_mask=b_input_mask, \n",
        "                              labels=b_labels)\n",
        "\n",
        "          # Report GPU memory use for the first couple steps.\n",
        "          if SHOW_GPU_USAGE and  step < 2:\n",
        "              df = check_gpu_mem()    \n",
        "              print('     After forward-pass: {:}'.format(df.iloc[0, 1]))\n",
        "\n",
        "          # Accumulate the training loss over all of the batches so that we can\n",
        "          # calculate the average loss at the end. `loss` is a Tensor containing a\n",
        "          # single value; the `.item()` function just returns the Python value \n",
        "          # from the tensor.\n",
        "          total_train_loss += loss.item()\n",
        "\n",
        "          # Perform a backward pass to calculate the gradients.\n",
        "          loss.backward()\n",
        "\n",
        "          # Report GPU memory use for the first couple steps.\n",
        "          if SHOW_GPU_USAGE and step < 2:\n",
        "              df = check_gpu_mem()    \n",
        "              print('    After gradient calculation: {:}'.format(df.iloc[0, 1]))\n",
        "\n",
        "          # Clip the norm of the gradients to prevent the exploding gradient problem\n",
        "          torch.nn.utils.clip_grad_norm_(model.parameters(), max_grad_norm)\n",
        "\n",
        "          # Update parameters and take a step using the computed gradient.\n",
        "          # The optimizer dictates the \"update rule\"--how the parameters are\n",
        "          # modified based on their gradients, the learning rate, etc.\n",
        "          optimizer.step()\n",
        "\n",
        "          # Update the learning rate.\n",
        "          scheduler.step()\n",
        "\n",
        "      # Calculate the average loss over all of the batches.\n",
        "      avg_train_loss = total_train_loss / len(train_dataloader)            \n",
        "      \n",
        "      # Measure how long this epoch took.\n",
        "      training_time = format_time(time.time() - t0)\n",
        "\n",
        "      print(\"\")\n",
        "      print(\"  Average training loss: {0:.2f}\".format(avg_train_loss))\n",
        "      print(\"  Training epoch took: {:}\".format(training_time))\n",
        "          \n",
        "      # ========================================\n",
        "      #               Validation\n",
        "      # ========================================\n",
        "      # After the completion of each training epoch, measure our performance on\n",
        "      # our validation set.\n",
        "\n",
        "      print(\"\")\n",
        "      print(\"Running Validation...\")\n",
        "\n",
        "      t0 = time.time()\n",
        "\n",
        "      # Put the model in evaluation mode--the dropout layers behave differently\n",
        "      # during evaluation.\n",
        "      model.eval()\n",
        "\n",
        "      # Tracking variables \n",
        "      total_eval_accuracy = 0\n",
        "      total_eval_loss = 0\n",
        "      total_f1_score = 0\n",
        "      nb_eval_steps = 0\n",
        "\n",
        "      # Evaluate data for one epoch\n",
        "      for batch in validation_dataloader:\n",
        "          \n",
        "          # Unpack this training batch from our dataloader. \n",
        "          #\n",
        "          # As we unpack the batch, we'll also copy each tensor to the GPU using \n",
        "          # the `to` method.\n",
        "          #\n",
        "          # `batch` contains three pytorch tensors:\n",
        "          #   [0]: input ids \n",
        "          #   [1]: attention masks\n",
        "          #   [2]: labels \n",
        "          b_input_ids = batch[0].to(device)\n",
        "          b_input_mask = batch[1].to(device)\n",
        "          b_labels = batch[2].to(device)\n",
        "          \n",
        "          # Tell pytorch not to bother with constructing the compute graph during\n",
        "          # the forward pass, since this is only needed for backprop (training).\n",
        "          with torch.no_grad():        \n",
        "\n",
        "              # Forward pass, calculate logit predictions.\n",
        "              # token_type_ids is the same as the \"segment ids\", which \n",
        "              # differentiates sentence 1 and 2 in 2-sentence tasks.\n",
        "              # The documentation for this `model` function is here: \n",
        "              # https://huggingface.co/transformers/v2.2.0/model_doc/bert.html#transformers.BertForSequenceClassification\n",
        "              # Get the \"logits\" output by the model. The \"logits\" are the output\n",
        "              # values prior to applying an activation function like the softmax.\n",
        "              (loss, logits) = model(b_input_ids, \n",
        "                                    token_type_ids=None, \n",
        "                                    attention_mask=b_input_mask,\n",
        "                                    labels=b_labels)\n",
        "              \n",
        "          # Accumulate the validation loss.\n",
        "          total_eval_loss += loss.item()\n",
        "\n",
        "          # Move logits and labels to CPU\n",
        "          logits = logits.detach().cpu().numpy()\n",
        "          label_ids = b_labels.to('cpu').numpy()\n",
        "\n",
        "          preds = np.argmax(logits, axis=1).flatten()\n",
        "          labels = label_ids.flatten()\n",
        "\n",
        "          # Calculate the accuracy for this batch of test sentences, and\n",
        "          # accumulate it over all batches.\n",
        "          total_eval_accuracy += accuracy_score(labels, preds, normalize=True)\n",
        "          total_f1_score += f1_score(labels, preds, average=F1_AVERAGING_STRATEGY)\n",
        "\n",
        "      # Report the final accuracy for this validation run.\n",
        "      avg_val_accuracy = total_eval_accuracy / len(validation_dataloader)\n",
        "      print(\"  Accuracy: {0:.2f}\".format(avg_val_accuracy))\n",
        "\n",
        "      # Report the final F1 score for this validation run.\n",
        "      avg_f1_score =  total_f1_score / len(validation_dataloader)\n",
        "      print(\"  F1-Score: {0:.2f}\".format(avg_f1_score))\n",
        "\n",
        "      # Calculate the average loss over all of the batches.\n",
        "      avg_val_loss = total_eval_loss / len(validation_dataloader)\n",
        "      \n",
        "      validation_time = format_time(time.time() - t0)\n",
        "      print(\"  Validation Loss: {0:.2f}\".format(avg_val_loss))\n",
        "      print(\"  Validation took: {:}\".format(validation_time))\n",
        "\n",
        "      # Record all statistics from this epoch.\n",
        "      training_stats.append(\n",
        "          {\n",
        "              'epoch': epoch_i + 1,\n",
        "              'Training Loss': avg_train_loss,\n",
        "              'Valid. Loss': avg_val_loss,\n",
        "              'Valid. Accur.': avg_val_accuracy,\n",
        "              'Valid. F1': avg_f1_score,\n",
        "              'Training Time': training_time,\n",
        "              'Validation Time': validation_time\n",
        "          }\n",
        "      )\n",
        "\n",
        "  print(\"\")\n",
        "  print(\"Training complete!\")\n",
        "\n",
        "# Else load the model from storage\n",
        "else:\n",
        "  pass\n"
      ],
      "execution_count": 50,
      "outputs": []
    },
    {
      "cell_type": "markdown",
      "metadata": {
        "id": "LsDBME5n8z1y"
      },
      "source": [
        "## Check for overfitting"
      ]
    },
    {
      "cell_type": "code",
      "metadata": {
        "id": "hat-bEmU8yEZ",
        "outputId": "463580b8-e119-4e5d-cde4-48b48c988b25",
        "colab": {
          "base_uri": "https://localhost:8080/",
          "height": 63
        }
      },
      "source": [
        "if ENABLE_FINE_TUNING:\n",
        "  # Create a DataFrame from our training statistics.\n",
        "  df_stats = pd.DataFrame(data=training_stats)\n",
        "\n",
        "  # Use the 'epoch' as the row index.\n",
        "  df_stats = df_stats.set_index('epoch')\n",
        "  pd.set_option('precision', 2)\n",
        "  df_stats"
      ],
      "execution_count": 52,
      "outputs": [
        {
          "output_type": "execute_result",
          "data": {
            "text/html": [
              "<div>\n",
              "<style scoped>\n",
              "    .dataframe tbody tr th:only-of-type {\n",
              "        vertical-align: middle;\n",
              "    }\n",
              "\n",
              "    .dataframe tbody tr th {\n",
              "        vertical-align: top;\n",
              "    }\n",
              "\n",
              "    .dataframe thead th {\n",
              "        text-align: right;\n",
              "    }\n",
              "</style>\n",
              "<table border=\"1\" class=\"dataframe\">\n",
              "  <thead>\n",
              "    <tr style=\"text-align: right;\">\n",
              "      <th></th>\n",
              "    </tr>\n",
              "    <tr>\n",
              "      <th>epoch</th>\n",
              "    </tr>\n",
              "  </thead>\n",
              "  <tbody>\n",
              "  </tbody>\n",
              "</table>\n",
              "</div>"
            ],
            "text/plain": [
              "Empty DataFrame\n",
              "Columns: []\n",
              "Index: []"
            ]
          },
          "metadata": {
            "tags": []
          },
          "execution_count": 52
        }
      ]
    },
    {
      "cell_type": "code",
      "metadata": {
        "id": "-_xtUzAb84T_"
      },
      "source": [
        "import matplotlib.pyplot as plt\n",
        "% matplotlib inline\n",
        "\n",
        "import seaborn as sns\n",
        "\n",
        "\n",
        "if ENABLE_FINE_TUNING:\n",
        "  # Use plot styling from seaborn.\n",
        "  sns.set(style='darkgrid')\n",
        "\n",
        "  # Increase the plot size and font size.\n",
        "  sns.set(font_scale=1.5)\n",
        "  plt.rcParams[\"figure.figsize\"] = (12,6)\n",
        "\n",
        "  # Plot the learning curve.\n",
        "  plt.plot(df_stats['Training Loss'], 'b-o', label=\"Training\")\n",
        "  plt.plot(df_stats['Valid. Loss'], 'g-o', label=\"Validation\")\n",
        "\n",
        "  # Label the plot.\n",
        "  plt.title(\"Training & Validation loss\")\n",
        "  plt.xlabel(\"Epoch\")\n",
        "  plt.ylabel(\"Loss\")\n",
        "  plt.legend()\n",
        "  plt.xticks(range(1,epochs + 1))\n",
        "\n",
        "  plt.show()"
      ],
      "execution_count": 54,
      "outputs": []
    },
    {
      "cell_type": "markdown",
      "metadata": {
        "id": "GQ1nLPQM4EXX"
      },
      "source": [
        "# Evaluation on Test dataset"
      ]
    },
    {
      "cell_type": "code",
      "metadata": {
        "id": "kjp9N4ydu2Fq"
      },
      "source": [
        "# TODO: For now, we use validation. Once test set is ready, switch...\n",
        "\n",
        "# Prepare the test dataset\n",
        "# (test_input_ids, test_labels, test_attention_masks) = multi_class_tokenize(docs_test, doc_test_labels, max_len = MAX_TOKEN_SIZE)\n",
        "test_data = val_dataset # TODO: replace with: TensorDataset(test_input_ids, test_attention_masks, test_labels)\n",
        "test_dataloader = DataLoader(test_data, sampler=SequentialSampler(test_data), batch_size=BATCH_SIZE)\n",
        "\n",
        "# Put model in evaluation mode\n",
        "model.eval()\n",
        "\n",
        "# Tracking variables \n",
        "predictions , true_labels = [], []\n",
        "\n",
        "# Measure elapsed time.\n",
        "t0 = time.time()\n",
        "\n",
        "# Predict \n",
        "for (step, batch) in enumerate(test_dataloader):\n",
        "    \n",
        "    # Add batch to GPU\n",
        "    batch = tuple(t.to(device) for t in batch)\n",
        "  \n",
        "    # Progress update every 50 batches.\n",
        "    if step % 50 == 0 and not step == 0:\n",
        "        # Calculate elapsed time in minutes.\n",
        "        elapsed = format_time(time.time() - t0)\n",
        "        \n",
        "        # Report progress.\n",
        "        print('  Batch {:>5,}  of  {:>5,}.    Elapsed: {:}.'.format(step, len(test_dataloader), elapsed))\n",
        "\n",
        "\n",
        "    # Unpack the inputs from our dataloader\n",
        "    b_input_ids, b_input_mask, b_labels = batch\n",
        "  \n",
        "    # Telling the model not to compute or store the compute graph, saving memory\n",
        "    # and speeding up prediction\n",
        "    with torch.no_grad():\n",
        "        # Forward pass, calculate logit predictions\n",
        "        outputs = model(b_input_ids, token_type_ids=None, \n",
        "                        attention_mask=b_input_mask)\n",
        "\n",
        "    logits = outputs[0]\n",
        "\n",
        "    # Move logits and labels to CPU\n",
        "    logits = logits.detach().cpu().numpy()\n",
        "    label_ids = b_labels.to('cpu').numpy()\n",
        "  \n",
        "    # Store predictions and true labels\n",
        "    predictions.append(logits)\n",
        "    true_labels.append(label_ids)\n",
        "\n",
        "# Combine the results across the batches.\n",
        "predictions = np.concatenate(predictions, axis=0)\n",
        "true_labels = np.concatenate(true_labels, axis=0)\n",
        "\n",
        "# Take the highest scoring output as the predicted label.\n",
        "predicted_labels = np.argmax(predictions, axis=1)"
      ],
      "execution_count": 55,
      "outputs": []
    },
    {
      "cell_type": "code",
      "metadata": {
        "id": "CbyAu0l02mbt",
        "outputId": "c2d63dea-5053-4d8c-8bb5-48a46b4963b5",
        "colab": {
          "base_uri": "https://localhost:8080/"
        }
      },
      "source": [
        "# Calculate evaluation scores\n",
        "accuracy = accuracy_score(true_labels, predicted_labels, normalize=True)\n",
        "score = f1_score(true_labels, predicted_labels, average=F1_AVERAGING_STRATEGY)\n",
        "print('Accuracy: {:.3}'.format(accuracy))\n",
        "print('F1 score: {:.3}'.format(score))"
      ],
      "execution_count": 56,
      "outputs": [
        {
          "output_type": "stream",
          "text": [
            "Accuracy: 0.891\n",
            "F1 score: 0.819\n"
          ],
          "name": "stdout"
        }
      ]
    },
    {
      "cell_type": "code",
      "metadata": {
        "id": "9IMSaown4Ew7",
        "outputId": "a24cd6ff-188b-4835-f94d-1c17dd9503f6",
        "colab": {
          "base_uri": "https://localhost:8080/",
          "height": 479
        }
      },
      "source": [
        "from sklearn.metrics import confusion_matrix\n",
        "\n",
        "import seaborn as sns\n",
        "import pandas as pd\n",
        "import matplotlib.pyplot as plt\n",
        "\n",
        "# Confusion matrix C, where C_{i,j} is equal to the number of observations known to be in group i and predicted to be in group j.\n",
        "# i = \n",
        "# From https://scikit-learn.org/stable/modules/generated/sklearn.metrics.confusion_matrix.html:\n",
        "confusion_m = confusion_matrix(true_labels, predicted_labels)\n",
        "df_cm = pd.DataFrame(confusion_m, index = [c for c in df[CATEGORY_LEVEL].astype('category').cat.categories],\n",
        "                  columns = [c for c in df[CATEGORY_LEVEL].astype('category').cat.categories])\n",
        "plt.figure(figsize = (10,7))\n",
        "ax = sns.heatmap(df_cm, annot=True)\n",
        "ax.set(xlabel=\"Predicted (j)\", ylabel=\"Actual (i)\")\n"
      ],
      "execution_count": 57,
      "outputs": [
        {
          "output_type": "execute_result",
          "data": {
            "text/plain": [
              "[Text(58.5, 0.5, 'Actual (i)'), Text(0.5, 31.5, 'Predicted (j)')]"
            ]
          },
          "metadata": {
            "tags": []
          },
          "execution_count": 57
        },
        {
          "output_type": "display_data",
          "data": {
            "image/png": "[encoded data removed]",
            "text/plain": [
              "<Figure size 720x504 with 2 Axes>"
            ]
          },
          "metadata": {
            "tags": [],
            "needs_background": "light"
          }
        }
      ]
    },
    {
      "cell_type": "markdown",
      "metadata": {
        "id": "zy7nfm3E4FwE"
      },
      "source": [
        "# Cleanup\n",
        "\n"
      ]
    },
    {
      "cell_type": "markdown",
      "metadata": {
        "id": "G1a1FLPZYV9j"
      },
      "source": [
        "## Store results"
      ]
    },
    {
      "cell_type": "code",
      "metadata": {
        "id": "gKt0WBWAYUI_",
        "outputId": "7e64a92c-77c7-4d07-f7b0-d9f8c534730c",
        "colab": {
          "base_uri": "https://localhost:8080/",
          "height": 204
        }
      },
      "source": [
        "COLUMNS = [\"model_id\", \"transformer_model\", \"category_level\", \"accuracy\", \"f1_score\", \"f1_score_avg_strat\", \"confusion_matrix\"]\n",
        "RESULTS_FILE = \"/content/drive/My Drive/fin-disclosures-nlp/data/labels/Firm_AnnualReport_100_results.pkl\"\n",
        "\n",
        "try:\n",
        "  df_results = pd.read_pickle(RESULTS_FILE)\n",
        "except FileNotFoundError:\n",
        "  df_results = pd.DataFrame([], columns=COLUMNS)\n",
        "  df_results = df_results.set_index('model_id')\n",
        "  df_results.to_pickle(RESULTS_FILE)\n",
        "\n",
        "new_result = pd.DataFrame([[model_id, TRANSFORMER_MODEL_NAME, CATEGORY_LEVEL, accuracy, score, F1_AVERAGING_STRATEGY, df_cm]], columns=COLUMNS)\n",
        "new_result = new_result.set_index('model_id')\n",
        "\n",
        "df_results = pd.concat([df_results[~df_results.index.isin(new_result.index)], new_result])\n",
        "df_results.to_pickle(RESULTS_FILE)\n",
        "df_results"
      ],
      "execution_count": 58,
      "outputs": [
        {
          "output_type": "execute_result",
          "data": {
            "text/html": [
              "<div>\n",
              "<style scoped>\n",
              "    .dataframe tbody tr th:only-of-type {\n",
              "        vertical-align: middle;\n",
              "    }\n",
              "\n",
              "    .dataframe tbody tr th {\n",
              "        vertical-align: top;\n",
              "    }\n",
              "\n",
              "    .dataframe thead th {\n",
              "        text-align: right;\n",
              "    }\n",
              "</style>\n",
              "<table border=\"1\" class=\"dataframe\">\n",
              "  <thead>\n",
              "    <tr style=\"text-align: right;\">\n",
              "      <th></th>\n",
              "      <th>accuracy</th>\n",
              "      <th>f1_score</th>\n",
              "      <th>f1_score_avg_strat</th>\n",
              "      <th>confusion_matrix</th>\n",
              "      <th>transformer_model</th>\n",
              "      <th>category_level</th>\n",
              "    </tr>\n",
              "    <tr>\n",
              "      <th>model_id</th>\n",
              "      <th></th>\n",
              "      <th></th>\n",
              "      <th></th>\n",
              "      <th></th>\n",
              "      <th></th>\n",
              "      <th></th>\n",
              "    </tr>\n",
              "  </thead>\n",
              "  <tbody>\n",
              "    <tr>\n",
              "      <th>roberta-large_cro_sub_type_combined</th>\n",
              "      <td>0.90</td>\n",
              "      <td>0.71</td>\n",
              "      <td>macro</td>\n",
              "      <td>ACUTE  CHRON  MARKET  POLICY  PROD...</td>\n",
              "      <td>roberta-large</td>\n",
              "      <td>cro_sub_type_combined</td>\n",
              "    </tr>\n",
              "    <tr>\n",
              "      <th>roberta-large_cro</th>\n",
              "      <td>0.93</td>\n",
              "      <td>0.90</td>\n",
              "      <td>macro</td>\n",
              "      <td>OP  PR  TR\n",
              "OP  62   0   2\n",
              "PR   0  12   1\n",
              "T...</td>\n",
              "      <td>roberta-large</td>\n",
              "      <td>cro</td>\n",
              "    </tr>\n",
              "    <tr>\n",
              "      <th>bert-base-uncased_cro_sub_type_combined</th>\n",
              "      <td>0.77</td>\n",
              "      <td>0.45</td>\n",
              "      <td>macro</td>\n",
              "      <td>ACUTE  CHRON  MARKET  POLICY  PROD...</td>\n",
              "      <td>bert-base-uncased</td>\n",
              "      <td>cro_sub_type_combined</td>\n",
              "    </tr>\n",
              "    <tr>\n",
              "      <th>bert-base-uncased_cro</th>\n",
              "      <td>0.89</td>\n",
              "      <td>0.82</td>\n",
              "      <td>macro</td>\n",
              "      <td>OP  PR  TR\n",
              "OP  61   0   2\n",
              "PR   1  11   1\n",
              "T...</td>\n",
              "      <td>bert-base-uncased</td>\n",
              "      <td>cro</td>\n",
              "    </tr>\n",
              "  </tbody>\n",
              "</table>\n",
              "</div>"
            ],
            "text/plain": [
              "                                         accuracy  ...         category_level\n",
              "model_id                                           ...                       \n",
              "roberta-large_cro_sub_type_combined          0.90  ...  cro_sub_type_combined\n",
              "roberta-large_cro                            0.93  ...                    cro\n",
              "bert-base-uncased_cro_sub_type_combined      0.77  ...  cro_sub_type_combined\n",
              "bert-base-uncased_cro                        0.89  ...                    cro\n",
              "\n",
              "[4 rows x 6 columns]"
            ]
          },
          "metadata": {
            "tags": []
          },
          "execution_count": 58
        }
      ]
    },
    {
      "cell_type": "markdown",
      "metadata": {
        "id": "q78jUFiTPwIB"
      },
      "source": [
        "## Store to drive"
      ]
    },
    {
      "cell_type": "code",
      "metadata": {
        "id": "uRQO0u7OYsw6"
      },
      "source": [
        "if ENABLE_FINE_TUNING:\n",
        "  # Create temporary output dir\n",
        "  output_dir = f'./finetuned_models/{model_id}/'\n",
        "  os.makedirs(output_dir, exist_ok=True)\n",
        "\n",
        "  # Store model and tokenizer\n",
        "  model_to_save = model.module if hasattr(model, 'module') else model  # Take care of distributed/parallel training\n",
        "  model_to_save.save_pretrained(output_dir)\n",
        "  tokenizer.save_pretrained(output_dir)\n",
        "\n",
        "  # Move to Google drive for persistance\n",
        "  os.makedirs(saved_models_path, exist_ok=True)\n",
        "  !cp -r $output_dir \"{drive_output_dir}\"\n"
      ],
      "execution_count": null,
      "outputs": []
    }
  ]
}