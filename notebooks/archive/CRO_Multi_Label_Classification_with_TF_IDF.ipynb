{
 "cells": [
  {
   "cell_type": "markdown",
   "metadata": {},
   "source": [
    "# TF-IDF Multi-label classifier"
   ]
  },
  {
   "cell_type": "code",
   "execution_count": 1,
   "metadata": {},
   "outputs": [],
   "source": [
    "import sys\n",
    "import os\n",
    "sys.path.append('..')\n",
    "\n",
    "import pandas as pd\n",
    "import numpy as np\n",
    "from sklearn import metrics\n",
    "\n",
    "from data import constants\n",
    "\n",
    "############################## CONFIG ##############################\n",
    "CATEGORY_LEVEL = 'cro' #@param [\"cro\", \"cro_sub_type_combined\"]\n",
    "AVERAGING_STRATEGY= 'macro' #@param [\"micro\",  \"macro\", \"weighted\"]\n",
    "####################################################################\n",
    "\n",
    "# To make the notebook reproducible (not guaranteed for pytorch on different releases/platforms!)\n",
    "SEED_VALUE = 2\n"
   ]
  },
  {
   "cell_type": "code",
   "execution_count": 3,
   "metadata": {},
   "outputs": [],
   "source": [
    "df_train = pd.read_pickle(\"/Users/david/Nextcloud/Dokumente/Education/Uni Bern/Master Thesis/Analyzing Financial Climate Disclosures with NLP/Labelling/annual reports/Firm_AnnualReport_Labels_Training.pkl\")\n",
    "df_test = pd.read_pickle(\"/Users/david/Nextcloud/Dokumente/Education/Uni Bern/Master Thesis/Analyzing Financial Climate Disclosures with NLP/Labelling/annual reports/Firm_AnnualReport_Labels_Test.pkl\")\n",
    "id_columns = ['report_id', 'page', 'paragraph_no']\n",
    "df_train[\"id\"] = df_train.apply(lambda row: \"_\".join([str(row[c]) for c in id_columns]), axis=1)\n",
    "df_test[\"id\"] = df_test.apply(lambda row: \"_\".join([str(row[c]) for c in id_columns]), axis=1)\n",
    "\n",
    "# Set params\n",
    "if CATEGORY_LEVEL == 'cro':\n",
    "  category_labels = constants.cro_categories\n",
    "  \n",
    "  # Drop n/a's\n",
    "  # df.query('cro == [\"PR\", \"TR\", \"OP\"]', inplace=True)\n",
    "else:\n",
    "  category_labels = constants.cro_sub_categories\n",
    "\n",
    "  # df.query('cro_sub_type_combined.notnull() and cro_sub_type_combined != \"\"', inplace=True, engine='python')\n",
    "\n",
    "no_of_categories = len(category_labels)\n",
    "label_list = [c[\"label\"] for c in category_labels]\n",
    "label_code_list = [f'{c[\"code\"]}_actual' for c in category_labels]"
   ]
  },
  {
   "cell_type": "code",
   "execution_count": 21,
   "metadata": {},
   "outputs": [],
   "source": [
    "# The comparison hack is to filter NaN's, i.e. all the rows that were not labelled\n",
    "df = df.query(\"labelling_dataset == labelling_dataset\")\n",
    "\n",
    "filter_str = \" or \".join([f'{c} == {c}' for c in label_code_list])\n",
    "# df_training_pos = df.query(f\"labelling_dataset == 'training' & ({filter_str})\")\n",
    "df_pos = df.query(filter_str)\n",
    "\n",
    "filter_str = \" and \".join([f'{c} != {c}' for c in label_code_list])\n",
    "df_neg = df.query(filter_str)"
   ]
  },
  {
   "cell_type": "code",
   "execution_count": 22,
   "metadata": {},
   "outputs": [],
   "source": [
    "docs_train = df_train.text\n",
    "docs_test = df_test.text\n",
    "labels_train = df_train[label_code_list]\n",
    "labels_test = df_test[label_code_list]\n",
    "\n",
    "labels_train = (labels_train > 0) * 1\n",
    "labels_test = (labels_test > 0) * 1"
   ]
  },
  {
   "cell_type": "code",
   "execution_count": 23,
   "metadata": {},
   "outputs": [],
   "source": [
    "# TEMPORARY - Load\n",
    "# Load classifier\n",
    "import pickle\n",
    "\n",
    "with open(os.path.join(\"/Users/david/Nextcloud/Dokumente/Education/Uni Bern/Master Thesis/Analyzing Financial Climate Disclosures with NLP/Models/stoxx_inference\", 'multilabel_svm_cro.pkl'), 'rb') as f:\n",
    "    grid_clf = pickle.load(f)"
   ]
  },
  {
   "cell_type": "code",
   "execution_count": null,
   "metadata": {},
   "outputs": [],
   "source": [
    "from sklearn.feature_extraction.text import CountVectorizer, TfidfTransformer\n",
    "from sklearn.multiclass import OneVsRestClassifier\n",
    "\n",
    "from sklearn.pipeline import Pipeline\n",
    "from sklearn.model_selection import GridSearchCV\n",
    "from sklearn.svm import SVC\n",
    "from sklearn.utils import shuffle\n",
    "\n",
    "docs_train, labels_train = shuffle(docs_train, labels_train, random_state=SEED_VALUE)\n",
    "\n",
    "pipeline_svm = Pipeline([\n",
    "    ('bow', CountVectorizer(strip_accents = 'ascii')),\n",
    "    ('tfidf', TfidfTransformer()),\n",
    "    ('classifier', OneVsRestClassifier(\n",
    "        SVC(probability=True, random_state=SEED_VALUE))\n",
    "    ), # Note: Nested estimator\n",
    "     ])\n",
    "\n",
    "# Parameters to tune automatically with a grid search\n",
    "# Note: The nested estimator is accessible via the __estimator identifier\n",
    "param_svm = [\n",
    "  {\n",
    "      'bow__ngram_range': [(1, 1), (1, 2), (1, 3)],\n",
    "      'bow__max_features': [None, 50, 200],\n",
    "      'bow__stop_words': ['english', None],\n",
    "      'tfidf__use_idf': (True, False),\n",
    "      'classifier__estimator__C': [1, 10, 100], \n",
    "      'classifier__estimator__kernel': ['linear', 'rbf']},\n",
    "]\n",
    "\n",
    "grid_clf = GridSearchCV(\n",
    "    pipeline_svm,\n",
    "    param_grid=param_svm,\n",
    "    refit=True,\n",
    "    n_jobs=-1, \n",
    "    scoring='roc_auc', # 'roc_auc' gives an error\n",
    "    # cv=StratifiedKFold(label_train, n_folds=5),\n",
    ")\n",
    "\n",
    "# Grid search fitting\n",
    "grid_clf.fit(docs_train, labels_train)"
   ]
  },
  {
   "cell_type": "code",
   "execution_count": 24,
   "metadata": {},
   "outputs": [
    {
     "name": "stdout",
     "output_type": "stream",
     "text": [
      "Best score: 0.9704081665700268\n",
      "Best params: \n",
      "{'bow__ngram_range': (1, 3), 'classifier__estimator__C': 10, 'classifier__estimator__kernel': 'linear', 'tfidf__use_idf': True}\n"
     ]
    }
   ],
   "source": [
    "cv_results = pd.DataFrame(grid_clf.cv_results_)\n",
    "\n",
    "print(f\"Best score: {grid_clf.best_score_}\")\n",
    "print(f\"Best params: \\n{grid_clf.best_params_}\")"
   ]
  },
  {
   "cell_type": "code",
   "execution_count": 25,
   "metadata": {},
   "outputs": [],
   "source": [
    "# Predict for test\n",
    "preds = grid_clf.predict(docs_test)\n",
    "preds_prob = grid_clf.predict_proba(docs_test)"
   ]
  },
  {
   "cell_type": "code",
   "execution_count": 22,
   "metadata": {},
   "outputs": [
    {
     "name": "stdout",
     "output_type": "stream",
     "text": [
      "              precision    recall  f1-score   support\n",
      "\n",
      "          PR       0.08      0.77      0.15        26\n",
      "          TR       0.10      0.61      0.17        36\n",
      "          OP       0.00      0.95      0.01        21\n",
      "\n",
      "   micro avg       0.01      0.75      0.03        83\n",
      "   macro avg       0.06      0.78      0.11        83\n",
      "weighted avg       0.07      0.75      0.12        83\n",
      " samples avg       0.00      0.00      0.00        83\n",
      "\n",
      "Accuracy: 0.8367129892229155, F1: 0.1097382599998694, RoC AUC: 0.9731291953289695\n"
     ]
    },
    {
     "name": "stderr",
     "output_type": "stream",
     "text": [
      "/Users/david/Projects/fin-disclosures-nlp/envs/lib/python3.8/site-packages/sklearn/metrics/_classification.py:1221: UndefinedMetricWarning: Precision and F-score are ill-defined and being set to 0.0 in samples with no predicted labels. Use `zero_division` parameter to control this behavior.\n",
      "  _warn_prf(average, modifier, msg_start, len(result))\n",
      "/Users/david/Projects/fin-disclosures-nlp/envs/lib/python3.8/site-packages/sklearn/metrics/_classification.py:1221: UndefinedMetricWarning: Recall and F-score are ill-defined and being set to 0.0 in samples with no true labels. Use `zero_division` parameter to control this behavior.\n",
      "  _warn_prf(average, modifier, msg_start, len(result))\n"
     ]
    }
   ],
   "source": [
    "# Run prediction on the test set.\n",
    "threshold = 0.5\n",
    "preds_bool = (preds > threshold)\n",
    "\n",
    "# Use the accuracy and F1 metric to score our classifier's performance on the test set.\n",
    "accuracy = metrics.accuracy_score(labels_test, preds)\n",
    "score = metrics.f1_score(labels_test, preds, average=AVERAGING_STRATEGY)\n",
    "roc_auc = metrics.roc_auc_score(labels_test, preds_prob, average=AVERAGING_STRATEGY)\n",
    "\n",
    "cms = metrics.multilabel_confusion_matrix(labels_test, preds_bool)\n",
    "print(metrics.classification_report(labels_test, preds_bool, target_names=label_list))\n",
    "\n",
    "print(f\"Accuracy: {accuracy}, F1: {score}, RoC AUC: {roc_auc}\")"
   ]
  },
  {
   "cell_type": "code",
   "execution_count": 9,
   "metadata": {},
   "outputs": [
    {
     "data": {
      "image/png": "[encoded data removed]",
      "text/plain": [
       "<Figure size 720x504 with 1 Axes>"
      ]
     },
     "metadata": {
      "needs_background": "light"
     },
     "output_type": "display_data"
    }
   ],
   "source": [
    "import matplotlib.pyplot as plt\n",
    "from sklearn.metrics import roc_auc_score\n",
    "from sklearn.metrics import roc_curve, auc\n",
    "from numpy import interp\n",
    "from itertools import cycle\n",
    "\n",
    "n_classes = no_of_categories\n",
    "preds = preds\n",
    "labels = labels_test.to_numpy()\n",
    "\n",
    "# Compute ROC curve and ROC area for each class\n",
    "fpr = dict()\n",
    "tpr = dict()\n",
    "roc_auc = dict()\n",
    "for i in range(n_classes):\n",
    "    # roc_auc = metrics.roc_auc_score(labels_test, preds_prob, average=AVERAGING_STRATEGY)\n",
    "    fpr[i], tpr[i], _ = roc_curve(labels[:, i], preds[:, i])\n",
    "    roc_auc[i] = auc(fpr[i], tpr[i])\n",
    "\n",
    "# Compute micro-average ROC curve and ROC area\n",
    "# roc_auc = metrics.roc_auc_score(labels_test, preds_prob, average=AVERAGING_STRATEGY)\n",
    "fpr[\"micro\"], tpr[\"micro\"], _ = roc_curve(labels.ravel(), preds.ravel())\n",
    "roc_auc[\"micro\"] = auc(fpr[\"micro\"], tpr[\"micro\"])\n",
    "\n",
    "# First aggregate all false positive rates\n",
    "all_fpr = np.unique(np.concatenate([fpr[i] for i in range(n_classes)]))\n",
    "\n",
    "# Then interpolate all ROC curves at this points\n",
    "mean_tpr = np.zeros_like(all_fpr)\n",
    "for i in range(n_classes):\n",
    "    mean_tpr += interp(all_fpr, fpr[i], tpr[i])\n",
    "\n",
    "# Finally average it and compute AUC\n",
    "mean_tpr /= n_classes\n",
    "\n",
    "fpr[\"macro\"] = all_fpr\n",
    "tpr[\"macro\"] = mean_tpr\n",
    "roc_auc[\"macro\"] = auc(fpr[\"macro\"], tpr[\"macro\"])\n",
    "\n",
    "lw = 2\n",
    "\n",
    "# Plot all ROC curves\n",
    "plt.figure(figsize = (10,7))\n",
    "plt.plot(fpr[\"micro\"], tpr[\"micro\"],\n",
    "         label='micro-average ROC curve (area = {0:0.2f})'\n",
    "               ''.format(roc_auc[\"micro\"]),\n",
    "         color='deeppink', linestyle=':', linewidth=4)\n",
    "\n",
    "plt.plot(fpr[\"macro\"], tpr[\"macro\"],\n",
    "         label='macro-average ROC curve (area = {0:0.2f})'\n",
    "               ''.format(roc_auc[\"macro\"]),\n",
    "         color='navy', linestyle=':', linewidth=4)\n",
    "\n",
    "colors = cycle(['aqua', 'darkorange', 'cornflowerblue', 'green', 'red', 'blue', 'black'])\n",
    "for i, color in zip(range(n_classes), colors):\n",
    "    plt.plot(fpr[i], tpr[i], color=color, lw=lw,\n",
    "             label='ROC curve of {0} (area = {1:0.2f})'\n",
    "             ''.format(label_list[i], roc_auc[i]))\n",
    "\n",
    "plt.plot([0, 1], [0, 1], 'k--', lw=lw)\n",
    "plt.xlim([0.0, 1.0])\n",
    "plt.ylim([0.0, 1.05])\n",
    "plt.xlabel('False Positive (FP) Rate')\n",
    "plt.ylabel('True Positive (TP) Rate')\n",
    "plt.title(f'RoC curves on each {CATEGORY_LEVEL} class')\n",
    "plt.legend(loc=\"lower right\")\n",
    "plt.show()"
   ]
  },
  {
   "cell_type": "code",
   "execution_count": null,
   "metadata": {},
   "outputs": [],
   "source": [
    "import pickle\n",
    "\n",
    "with open(f\"/Users/david/Nextcloud/Dokumente/Education/Uni Bern/Master Thesis/Analyzing Financial Climate Disclosures with NLP/Models/stoxx_inference/multilabel_svm_{CATEGORY_LEVEL}.pkl\", 'wb') as f:\n",
    "    grid_clf.label_list = label_list\n",
    "    pickle.dump(grid_clf, f, 4)\n"
   ]
  },
  {
   "cell_type": "markdown",
   "metadata": {},
   "source": [
    "##########"
   ]
  },
  {
   "cell_type": "code",
   "execution_count": null,
   "metadata": {},
   "outputs": [],
   "source": [
    "\n",
    "\n",
    "# Set counts to binary 1/0\n",
    "doc_labels = (doc_labels > 0) * 1\n",
    "doc_labels.to_numpy()\n",
    "\n",
    "# Ensure the docs and labels are the same shape\n",
    "assert np.shape(docs)[0] == np.shape(doc_labels)[0]\n",
    "    \n",
    "train_dataset = pd.DataFrame(docs, columns=['text'])\n",
    "train_dataset['labels'] = doc_labels.values.tolist()\n",
    "\n",
    "train_neg_dataset['labels'] = np.zeros((np.shape(train_neg_dataset)[0], no_of_categories), dtype=np.int8).tolist()\n",
    "train_neg_dataset = train_neg_dataset.sample(600, random_state=SEED_VALUE)\n",
    "\n",
    "# Set texts and labels\n",
    "docs = train_dataset.text\n",
    "doc_labels = train_dataset.labels\n",
    "\n",
    "# Add some negative examples\n",
    "docs = pd.concat([docs, train_neg_dataset.text])\n",
    "doc_labels = pd.concat([doc_labels, train_neg_dataset.labels])\n"
   ]
  },
  {
   "cell_type": "code",
   "execution_count": null,
   "metadata": {},
   "outputs": [],
   "source": [
    "# Load data\n",
    "# from google.colab import drive\n",
    "# drive.mount('/content/drive')\n",
    "# df = pd.read_pickle(\"/content/drive/My Drive/fin-disclosures-nlp/data/labels/Firm_AnnualReport_Labels_100_combined.pkl\")\n",
    "df = pd.read_pickle(\"/Users/david/Nextcloud/Dokumente/Education/Uni Bern/Master Thesis/Analyzing Financial Climate Disclosures with NLP/Labelling/annual reports/Firm_AnnualReport_Labels_Training_Positive.pkl\")\n",
    "df_neg = pd.read_pickle(\"/Users/david/Nextcloud/Dokumente/Education/Uni Bern/Master Thesis/Analyzing Financial Climate Disclosures with NLP/Labelling/annual reports/Firm_AnnualReport_Labels_Training_Negative.pkl\")\n",
    "\n",
    "\n",
    "# Set id\n",
    "id_columns = ['report_id', 'page', 'paragraph_no']\n",
    "df[\"id\"] = df.apply(lambda row: \"_\".join([str(row[c]) for c in id_columns]), axis=1)\n",
    "df_neg[\"id\"] = df_neg.apply(lambda row: \"_\".join([str(row[c]) for c in id_columns]), axis=1)\n",
    "\n",
    "# Set params\n",
    "if CATEGORY_LEVEL == 'cro':\n",
    "  category_labels = [{\"code\": \"PR\", \"label\": \"PR\"}, {\"code\": \"TR\", \"label\": \"TR\"}, {\"code\": \"OP\", \"label\": \"OP\"}]\n",
    "  \n",
    "  # Drop n/a's\n",
    "  df.query('cro == [\"PR\", \"TR\", \"OP\"]', inplace=True)\n",
    "  no_of_categories = len(df.cro.unique())\n",
    "else:\n",
    "  category_labels = [{\"code\": \"ACUTE\", \"label\": \"PR - Acute\"}, {\"code\": \"CHRON\", \"label\": \"PR - Chronic\"}, \n",
    "                     {\"code\": \"POLICY\", \"label\": \"TR - Policy\"}, {\"code\": \"MARKET\", \"label\": \"TR - Market & Technology\"}, {\"code\": \"REPUTATION\", \"label\": \"TR - Reputation\"},\n",
    "                     {\"code\": \"PRODUCTS\", \"label\": \"OP - Products, Services & Markets\"}, {\"code\": \"RESILIENCE\", \"label\": \"OP - Resource Efficiency & Resilience\"}]\n",
    "  \n",
    "  df.query('cro_sub_type_combined.notnull() and cro_sub_type_combined != \"\"', inplace=True, engine='python')\n",
    "  no_of_categories = len(df.cro_sub_type_combined.unique())\n",
    "\n",
    "label_list = [c[\"label\"] for c in category_labels]\n",
    "\n",
    "# Verification that there are no unlabelled/unwanted categories\n",
    "assert len(category_labels) == no_of_categories\n",
    "\n",
    "\n",
    "# Prepare negative dataset\n",
    "neg_docs = df_neg.groupby([\"id\"]).first().text\n",
    "assert neg_docs.shape[0] == df_neg.shape[0]\n",
    "train_neg_dataset = pd.DataFrame(neg_docs, columns=['text'])\n",
    "\n",
    "docs = df.groupby([\"id\"]).first().text\n",
    "doc_labels = pd.crosstab(df.id, df[CATEGORY_LEVEL], dropna=False)\n",
    "doc_labels = doc_labels[map(lambda c: c['code'], category_labels)]\n",
    "\n",
    "# Set counts to binary 1/0\n",
    "doc_labels = (doc_labels > 0) * 1\n",
    "doc_labels.to_numpy()\n",
    "\n",
    "# Ensure the docs and labels are the same shape\n",
    "assert np.shape(docs)[0] == np.shape(doc_labels)[0]\n",
    "    \n",
    "train_dataset = pd.DataFrame(docs, columns=['text'])\n",
    "train_dataset['labels'] = doc_labels.values.tolist()\n",
    "\n",
    "train_neg_dataset['labels'] = np.zeros((np.shape(train_neg_dataset)[0], no_of_categories), dtype=np.int8).tolist()\n",
    "train_neg_dataset = train_neg_dataset.sample(600, random_state=SEED_VALUE)\n",
    "\n",
    "# Set texts and labels\n",
    "docs = train_dataset.text\n",
    "doc_labels = train_dataset.labels\n",
    "\n",
    "# Add some negative examples\n",
    "docs = pd.concat([docs, train_neg_dataset.text])\n",
    "doc_labels = pd.concat([doc_labels, train_neg_dataset.labels])\n",
    "\n",
    "doc_labels = np.vstack(doc_labels[:,])"
   ]
  },
  {
   "cell_type": "code",
   "execution_count": null,
   "metadata": {},
   "outputs": [],
   "source": [
    "doc_labels.sum(axis=0)"
   ]
  },
  {
   "cell_type": "code",
   "execution_count": null,
   "metadata": {},
   "outputs": [],
   "source": [
    "from sklearn.model_selection import train_test_split\n",
    "\n",
    "# Split to train/test (temporary)\n",
    "X_train, X_test, y_train, y_test = train_test_split(docs, doc_labels, test_size=0.1, random_state=SEED_VALUE)"
   ]
  },
  {
   "cell_type": "code",
   "execution_count": null,
   "metadata": {},
   "outputs": [],
   "source": [
    "# from sklearn.feature_extraction.text import TfidfVectorizer\n",
    "\n",
    "# Vectorize the 2 datasets using tf-idf.\n",
    "# vectorizer = TfidfVectorizer()\n",
    "# vectors_train = vectorizer.fit_transform(X_train)\n",
    "# vectors_test = vectorizer.transform(X_test)\n"
   ]
  },
  {
   "cell_type": "code",
   "execution_count": null,
   "metadata": {},
   "outputs": [],
   "source": [
    "from sklearn.multiclass import OneVsRestClassifier\n",
    "from sklearn.svm import SVC\n",
    "from sklearn.decomposition import PCA\n",
    "from sklearn.cross_decomposition import CCA\n",
    "\n",
    "# clf = OneVsRestClassifier(SVC(kernel='linear', random_state=SEED_VALUE), probability=True)\n",
    "# clf.fit(vectors_train, y_train)\n",
    "# preds = clf.predict(vectors_test)\n",
    "# preds_prob = clf.predict_proba(vectors_test)"
   ]
  },
  {
   "cell_type": "code",
   "execution_count": null,
   "metadata": {},
   "outputs": [],
   "source": [
    "y_test.sum(axis=0)"
   ]
  },
  {
   "cell_type": "code",
   "execution_count": null,
   "metadata": {},
   "outputs": [],
   "source": [
    "print(f\"Accuracy: {accuracy}, F1: {score}, RoC AUC: {roc_auc}\")"
   ]
  },
  {
   "cell_type": "code",
   "execution_count": 16,
   "metadata": {},
   "outputs": [],
   "source": [
    "df_cleaned = df_cleaned.drop(['firm_name', 'ticker', 'country', 'icb_industry', 'icb_supersector', 'should_infer', 'is_inferred', 'company', 'orig_report_type', 'report_type', 'year', 'input_file', 'output_file', 'company_id'], axis=1)"
   ]
  },
  {
   "cell_type": "code",
   "execution_count": 15,
   "metadata": {},
   "outputs": [
    {
     "data": {
      "text/plain": [
       "Index(['page_no', 'paragraph_no', 'text', 'is_adjunct', 'report_id', 'company',\n",
       "       'orig_report_type', 'report_type', 'year', 'input_file', 'output_file',\n",
       "       'should_infer', 'is_inferred', 'company_id', 'firm_name', 'ticker',\n",
       "       'country', 'icb_industry', 'icb_supersector', 'labelling_dataset', 'id',\n",
       "       'OP_actual', 'PR_actual', 'TR_actual', 'ACUTE_actual', 'CHRON_actual',\n",
       "       'MARKET_actual', 'POLICY_actual', 'PRODUCTS_actual',\n",
       "       'REPUTATION_actual', 'RESILIENCE_actual'],\n",
       "      dtype='object')"
      ]
     },
     "execution_count": 15,
     "metadata": {},
     "output_type": "execute_result"
    }
   ],
   "source": [
    "df_cleaned"
   ]
  },
  {
   "cell_type": "code",
   "execution_count": 17,
   "metadata": {},
   "outputs": [
    {
     "data": {
      "text/plain": [
       "['page_no',\n",
       " 'paragraph_no',\n",
       " 'text',\n",
       " 'is_adjunct',\n",
       " 'report_id',\n",
       " 'labelling_dataset',\n",
       " 'id',\n",
       " 'OP_actual',\n",
       " 'PR_actual',\n",
       " 'TR_actual',\n",
       " 'ACUTE_actual',\n",
       " 'CHRON_actual',\n",
       " 'MARKET_actual',\n",
       " 'POLICY_actual',\n",
       " 'PRODUCTS_actual',\n",
       " 'REPUTATION_actual',\n",
       " 'RESILIENCE_actual']"
      ]
     },
     "execution_count": 17,
     "metadata": {},
     "output_type": "execute_result"
    }
   ],
   "source": [
    "cols = list(df_cleaned.columns.values)\n",
    "cols\n",
    "# df = df[['mean', '0', '1', '2', '3']]"
   ]
  },
  {
   "cell_type": "code",
   "execution_count": 18,
   "metadata": {},
   "outputs": [
    {
     "data": {
      "text/plain": [
       "0         dk_novo_nordisk_b-AR_2016_6_0\n",
       "1         dk_novo_nordisk_b-AR_2016_6_1\n",
       "2         dk_novo_nordisk_b-AR_2016_6_2\n",
       "3         dk_novo_nordisk_b-AR_2016_6_3\n",
       "4         dk_novo_nordisk_b-AR_2016_6_4\n",
       "                      ...              \n",
       "627996       ch_novartis-AR_2018_245_10\n",
       "627997       ch_novartis-AR_2018_245_11\n",
       "627998       ch_novartis-AR_2018_245_12\n",
       "627999       ch_novartis-AR_2018_245_13\n",
       "628000       ch_novartis-AR_2018_245_14\n",
       "Name: id, Length: 628001, dtype: object"
      ]
     },
     "execution_count": 18,
     "metadata": {},
     "output_type": "execute_result"
    }
   ],
   "source": [
    "df_cleaned.id"
   ]
  },
  {
   "cell_type": "code",
   "execution_count": null,
   "metadata": {},
   "outputs": [],
   "source": [
    "df_output = df_cleaned[['id', 'report_id', 'page_no', 'paragraph_no', 'labelling_dataset', 'coder', 'negative_type', 'is_adjunct', 'text', 'PR_actual', 'TR_actual', 'OP_actual', 'ACUTE_actual', 'CHRON_actual', 'REPUTATION_actual', 'MARKET_actual', 'POLICY_actual', 'PRODUCTS_actual', 'RESILIENCE_actual']]"
   ]
  },
  {
   "cell_type": "code",
   "execution_count": null,
   "metadata": {},
   "outputs": [],
   "source": []
  }
 ],
 "metadata": {
  "kernelspec": {
   "display_name": "Python 3",
   "language": "python",
   "name": "python3"
  },
  "language_info": {
   "codemirror_mode": {
    "name": "ipython",
    "version": 3
   },
   "file_extension": ".py",
   "mimetype": "text/x-python",
   "name": "python",
   "nbconvert_exporter": "python",
   "pygments_lexer": "ipython3",
   "version": "3.8.5"
  }
 },
 "nbformat": 4,
 "nbformat_minor": 4
}
