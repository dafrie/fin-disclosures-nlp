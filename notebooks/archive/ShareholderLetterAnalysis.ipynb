{
 "cells": [
  {
   "cell_type": "markdown",
   "metadata": {},
   "source": [
    "# Shareholder letter analysis\n",
    "Attempts to recognize start and end of the Chairman's/CEO letter.\n",
    "Then attempts to find whether climate change plays a role..."
   ]
  },
  {
   "cell_type": "code",
   "execution_count": null,
   "metadata": {},
   "outputs": [],
   "source": [
    "import sys\n",
    "import os\n",
    "from pathlib import Path\n",
    "import yaml\n",
    "import ast\n",
    "sys.path.append('..')\n",
    "\n",
    "import pandas as pd\n",
    "import numpy as np\n",
    "\n",
    "import data.dataframe_preparation as preparation\n",
    "\n",
    "OVERRIDE_RAW_OUTPUT = False\n",
    "path = os.path.abspath(\"../input_files/all_files\")\n",
    "\n",
    "# Create raw file if not exits\n",
    "raw_file = Path(os.path.join(path, 'raw_dataset_toc.pkl'))\n",
    "if raw_file.is_file() and not OVERRIDE_RAW_OUTPUT:\n",
    "    df = pd.read_pickle(raw_file)\n",
    "else:\n",
    "    df = preparation.get_df(input_path=path, report_type_mappings={\"CSR\": \"SR\"}, selected_report_types={\"AR\"}, include_text=False, include_page_no=False, include_toc=True)\n",
    "    df.to_pickle(os.path.join(path, raw_file))\n",
    "\n",
    "print(f\"Percentage of Reports with no TOC from bookmarks/outline: {round(df['toc'].isnull().sum() / len(df) * 100, 2)}% \")"
   ]
  },
  {
   "cell_type": "code",
   "execution_count": null,
   "metadata": {},
   "outputs": [],
   "source": [
    "from __future__ import print_function\n",
    "from ipywidgets import interact, interactive, fixed, interact_manual\n",
    "import ipywidgets as widgets\n",
    "\n",
    "df_toc = df[df['toc'].notna()]\n",
    "df_no_toc = df[df['toc'].isna()]\n",
    "\n",
    "# Note: This requires the widget extension to be installed: https://ipywidgets.readthedocs.io/en/latest/user_install.html#installing-the-jupyterlab-extension\n",
    "@interact(idx=widgets.IntSlider(min=0, max=len(df_toc) -1, step=1, value=0))\n",
    "def g(idx):\n",
    "    return df_toc.iloc[idx], df_toc['toc'].iloc[idx]"
   ]
  },
  {
   "cell_type": "code",
   "execution_count": null,
   "metadata": {},
   "outputs": [],
   "source": [
    "df_no_toc"
   ]
  },
  {
   "cell_type": "markdown",
   "metadata": {},
   "source": [
    "# TODO:\n",
    "\n",
    "- [ ] Create method that computes most likely range of shareholder letters\n",
    "- [ ] Create method that reads pages from reports in specific range\n",
    "- [ ] Create method that computes "
   ]
  },
  {
   "cell_type": "code",
   "execution_count": null,
   "metadata": {},
   "outputs": [],
   "source": []
  }
 ],
 "metadata": {
  "kernelspec": {
   "display_name": "Python 3",
   "language": "python",
   "name": "python3"
  },
  "language_info": {
   "codemirror_mode": {
    "name": "ipython",
    "version": 3
   },
   "file_extension": ".py",
   "mimetype": "text/x-python",
   "name": "python",
   "nbconvert_exporter": "python",
   "pygments_lexer": "ipython3",
   "version": "3.8.2"
  }
 },
 "nbformat": 4,
 "nbformat_minor": 4
}
