{
 "cells": [
  {
   "cell_type": "code",
   "execution_count": null,
   "metadata": {},
   "outputs": [],
   "source": [
    "# Stratified Sampling"
   ]
  },
  {
   "cell_type": "code",
   "execution_count": 48,
   "metadata": {},
   "outputs": [
    {
     "data": {
      "application/vnd.jupyter.widget-view+json": {
       "model_id": "28221a2cb1aa40a6a7c1a34a57ac0f26",
       "version_major": 2,
       "version_minor": 0
      },
      "text/plain": [
       "Output()"
      ]
     },
     "metadata": {},
     "output_type": "display_data"
    },
    {
     "data": {
      "application/vnd.jupyter.widget-view+json": {
       "model_id": "58f87e47107046d6acde9c5990f40691",
       "version_major": 2,
       "version_minor": 0
      },
      "text/plain": [
       "HBox(children=(Button(description='Previous relevant page', style=ButtonStyle()), BoundedIntText(value=1, desc…"
      ]
     },
     "metadata": {},
     "output_type": "display_data"
    },
    {
     "data": {
      "application/vnd.jupyter.widget-view+json": {
       "model_id": "da0fdfdb25404bcebdddc3a6d0ff5fcb",
       "version_major": 2,
       "version_minor": 0
      },
      "text/plain": [
       "Output()"
      ]
     },
     "metadata": {},
     "output_type": "display_data"
    },
    {
     "data": {
      "application/vnd.jupyter.widget-view+json": {
       "model_id": "46bdaa9b41fc4ae0be5f17e91828b3e6",
       "version_major": 2,
       "version_minor": 0
      },
      "text/plain": [
       "Output()"
      ]
     },
     "metadata": {},
     "output_type": "display_data"
    }
   ],
   "source": [
    "import sys\n",
    "import os\n",
    "from pathlib import Path\n",
    "import importlib\n",
    "sys.path.append('..')\n",
    "\n",
    "import pandas as pd\n",
    "\n",
    "import data.dataframe_preparation as preparation\n",
    "from data.custom_widgets import ReportsLabeler\n",
    "import data\n",
    "importlib.reload(data.custom_widgets)\n",
    "\n",
    "############### CONFIG ###############\n",
    "FIRM_METADATA = os.path.abspath(\"../input_files/Firm_Metadata.csv\")\n",
    "DATA_INPUT_PATH = os.path.abspath(\"../input_files/annual_reports/\")\n",
    "MASTER_DATA_PATH = os.path.abspath(\"../input_files/annual_reports/Firm_AnnualReport_DF.csv\")\n",
    "LABEL_OUTPUT_FN = 'Firm_AnnualReport_Labels_DF.pkl'\n",
    "\n",
    "HOLD_OUT_YEAR = 2019\n",
    "HOLD_OUT_COMPANY = 'gb_unilever_plc'\n",
    "\n",
    "SEED = 2\n",
    "######################################\n",
    "\n",
    "# Create master output file if not exits\n",
    "master_file = Path(MASTER_DATA_PATH)\n",
    "if not master_file.is_file():\n",
    "    df = preparation.get_df(input_path=DATA_INPUT_PATH, report_type_mappings={\"20F\": \"AR\"}, selected_report_types={\"AR\"}, include_text=False, include_page_no=False, include_toc=False)\n",
    "    df = df.set_index(\"id\")\n",
    "    # Add additional labelling columns\n",
    "    df['should_label'] = False\n",
    "    df['is_labelled'] = False\n",
    "    \n",
    "    # Load the meta data\n",
    "    df_meta = pd.read_csv(FIRM_METADATA)\n",
    "    df_meta = df_meta.set_index('id')\n",
    "    df['company_id'] = df['country'] + \"_\" + df['company']\n",
    "    df = df.drop(columns=['country'])\n",
    "    df = df.merge(df_meta, left_on='company_id', right_index=True)\n",
    "    \n",
    "    # TODO: Raise/Alert or remove if all outputs are there!\n",
    "    df = df[df['output_file'].notna()]\n",
    "    \n",
    "    # Select all reports from year and company\n",
    "    df_to_label = df[(df.year == HOLD_OUT_YEAR) | (df.company_id == HOLD_OUT_COMPANY)].copy()\n",
    "    df_to_label['should_label'] = True\n",
    "    nr_held_out_reports = len(df_to_label)\n",
    "    df.update(df_to_label)\n",
    "    \n",
    "    # Remaining reports: Take sample with stratification along variables. n = amount of reports in each year AND industry...\n",
    "    df_to_label = df[df.should_label == False] #.sample(TOTAL_SAMPLE_SIZE - nr_held_out_reports, random_state=SEED)\n",
    "    df_to_label = df_to_label.groupby(['year', 'icb_industry']).apply(lambda x: x.sample(n=1, random_state=SEED))\n",
    "    df_to_label = df_to_label.reset_index(2).reset_index(drop=True).set_index(\"id\")\n",
    "    \n",
    "    df_to_label['should_label'] = True\n",
    "    df.update(df_to_label)\n",
    "    df.to_csv(MASTER_DATA_PATH)\n",
    "    "
   ]
  },
  {
   "cell_type": "code",
   "execution_count": null,
   "metadata": {},
   "outputs": [],
   "source": []
  }
 ],
 "metadata": {
  "kernelspec": {
   "display_name": "Python 3",
   "language": "python",
   "name": "python3"
  },
  "language_info": {
   "codemirror_mode": {
    "name": "ipython",
    "version": 3
   },
   "file_extension": ".py",
   "mimetype": "text/x-python",
   "name": "python",
   "nbconvert_exporter": "python",
   "pygments_lexer": "ipython3",
   "version": "3.8.5"
  }
 },
 "nbformat": 4,
 "nbformat_minor": 4
}
