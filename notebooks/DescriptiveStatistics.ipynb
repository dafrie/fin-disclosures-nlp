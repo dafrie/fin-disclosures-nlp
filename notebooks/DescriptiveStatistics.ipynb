{
 "cells": [
  {
   "cell_type": "code",
   "execution_count": 1,
   "metadata": {},
   "outputs": [],
   "source": [
    "%load_ext autoreload\n",
    "%autoreload 2\n",
    "\n",
    "import os\n",
    "import sys\n",
    "import pandas as pd\n",
    "\n",
    "sys.path.append('..')\n",
    "from data.utils import tables\n",
    "from data import cro_dataset"
   ]
  },
  {
   "cell_type": "markdown",
   "metadata": {},
   "source": [
    "# Initial Data descriptive table - All reports"
   ]
  },
  {
   "cell_type": "code",
   "execution_count": 2,
   "metadata": {},
   "outputs": [
    {
     "data": {
      "text/plain": [
       "\"\\\\begin{tabular}{llll}\\n\\\\toprule\\n\\\\bfseries {} & \\\\bfseries  Country & \\\\bfseries                 Industry & \\\\bfseries         Years \\\\\\\\\\n\\\\midrule\\nABB                           &      CH &             Industrials &  2008 - 2019 \\\\\\\\\\nAIR LIQUIDE                   &      FR &         Basic Materials &  2007 - 2019 \\\\\\\\\\nAIRBUS                        &      FR &             Industrials &  2000 - 2019 \\\\\\\\\\nALLIANZ                       &      DE &              Financials &  2001 - 2019 \\\\\\\\\\nANHEUSER-BUSCH INBEV          &      BE &        Consumer Staples &  2004 - 2019 \\\\\\\\\\nASML HLDG                     &      NL &              Technology &  1999 - 2019 \\\\\\\\\\nASTRAZENECA                   &      GB &             Health Care &  2004 - 2019 \\\\\\\\\\nAXA                           &      FR &              Financials &  1999 - 2019 \\\\\\\\\\nBARCLAYS                      &      GB &              Financials &  1999 - 2019 \\\\\\\\\\nBASF                          &      DE &         Basic Materials &  2003 - 2019 \\\\\\\\\\nBAYER                         &      DE &             Health Care &  1999 - 2019 \\\\\\\\\\nBCO BILBAO VIZCAYA ARGENTARIA &      ES &              Financials &  2002 - 2019 \\\\\\\\\\nBCO SANTANDER                 &      ES &              Financials &  2008 - 2019 \\\\\\\\\\nBNP PARIBAS                   &      FR &              Financials &  1999 - 2019 \\\\\\\\\\nBP                            &      GB &                  Energy &  2007 - 2019 \\\\\\\\\\nBRITISH AMERICAN TOBACCO      &      GB &        Consumer Staples &  2007 - 2019 \\\\\\\\\\nDAIMLER                       &      DE &  Consumer Discretionary &  1999 - 2019 \\\\\\\\\\nDEUTSCHE TELEKOM              &      DE &      Telecommunications &  1999 - 2019 \\\\\\\\\\nDIAGEO                        &      GB &        Consumer Staples &  2005 - 2019 \\\\\\\\\\nENI                           &      IT &                  Energy &  2011 - 2019 \\\\\\\\\\nGLAXOSMITHKLINE               &      GB &             Health Care &  2000 - 2019 \\\\\\\\\\nGLENCORE                      &      GB &         Basic Materials &  2011 - 2019 \\\\\\\\\\nHSBC                          &      GB &              Financials &  2004 - 2019 \\\\\\\\\\nIMPERIAL BRANDS               &      GB &        Consumer Staples &  2001 - 2019 \\\\\\\\\\nING GRP                       &      NL &              Financials &  2010 - 2019 \\\\\\\\\\nINTESA SANPAOLO               &      IT &              Financials &  2007 - 2019 \\\\\\\\\\nL'OREAL                       &      FR &  Consumer Discretionary &  2009 - 2019 \\\\\\\\\\nLLOYDS BANKING GRP            &      GB &              Financials &  2000 - 2019 \\\\\\\\\\nLVMH MOET HENNESSY            &      FR &  Consumer Discretionary &  2002 - 2019 \\\\\\\\\\nNATIONAL GRID                 &      GB &               Utilities &  2004 - 2019 \\\\\\\\\\nNESTLE                        &      CH &        Consumer Staples &  2001 - 2019 \\\\\\\\\\nNOVARTIS                      &      CH &             Health Care &  2004 - 2019 \\\\\\\\\\nNOVO NORDISK B                &      DK &             Health Care &  2000 - 2019 \\\\\\\\\\nPRUDENTIAL                    &      GB &              Financials &  1999 - 2019 \\\\\\\\\\nRECKITT BENCKISER GRP         &      GB &        Consumer Staples &  2005 - 2019 \\\\\\\\\\nRIO TINTO                     &      GB &         Basic Materials &  2009 - 2019 \\\\\\\\\\nROCHE                         &      CH &             Health Care &  2009 - 2019 \\\\\\\\\\nROYAL DUTCH SHELL A           &      GB &                  Energy &  2005 - 2019 \\\\\\\\\\nSANOFI                        &      FR &             Health Care &  2007 - 2019 \\\\\\\\\\nSAP                           &      DE &              Technology &  1999 - 2019 \\\\\\\\\\nSCHNEIDER ELECTRIC            &      FR &             Industrials &  2008 - 2019 \\\\\\\\\\nSIEMENS                       &      DE &             Industrials &  2010 - 2019 \\\\\\\\\\nTELEFONICA                    &      ES &      Telecommunications &  1999 - 2019 \\\\\\\\\\nTOTAL                         &      FR &                  Energy &  2003 - 2019 \\\\\\\\\\nUBS GROUP                     &      CH &              Financials &  2005 - 2019 \\\\\\\\\\nUNILEVER PLC                  &      GB &        Consumer Staples &  1999 - 2019 \\\\\\\\\\nVINCI                         &      FR &             Industrials &  1999 - 2019 \\\\\\\\\\nVODAFONE GRP                  &      GB &      Telecommunications &  2008 - 2019 \\\\\\\\\\nZURICH INSURANCE GROUP        &      CH &              Financials &  2004 - 2019 \\\\\\\\\\n\\\\midrule\\n\\\\bfseries Unique firms: 49              & \\\\bfseries        9 & \\\\bfseries                       10 & \\\\bfseries           792 \\\\\\\\\\n\\\\bottomrule\\n\\\\end{tabular}\""
      ]
     },
     "execution_count": 2,
     "metadata": {},
     "output_type": "execute_result"
    }
   ],
   "source": [
    "df_master = pd.read_csv(\"/Users/david/Nextcloud/Dokumente/Education/Uni Bern/Master Thesis/Analyzing Financial Climate Disclosures with NLP/Data/stoxx_inference/Firm_AnnualReport.csv\")\n",
    "# TODO: Detail, but report here the original dataset or the one that could be labelled/inferred? There are 1-2 reports with issues... df_reports_count = df_master.groupby('year')['is_inferred'].sum()\n",
    "\n",
    "no_of_reports = len(df_master)\n",
    "\n",
    "df = df_master.groupby(\"firm_name\").first()\n",
    "df = df[['country','icb_industry']]\n",
    "\n",
    "df['years'] = df_master.groupby('firm_name')['year'].apply(list).apply(lambda l: f\"{min(l)} - {max(l)}\")\n",
    "df['country'] = df['country'].str.upper()\n",
    "df['icb_industry'] = df['icb_industry'].str.slice(start=3)\n",
    "df.rename(columns={\"country\": \"Country\", \"icb_industry\": \"Industry\", \"years\": \"Years\"}, inplace=True)\n",
    "\n",
    "# Add a total column at the end\n",
    "total_row = df.nunique()\n",
    "total_row[\"Years\"] = no_of_reports\n",
    "\n",
    "df.loc[f\"Unique firms: {len(df)}\"] = total_row\n",
    "\n",
    "tables.export_to_latex(df, filename=\"stoxx50_firms.tex\", index_names=False, add_midrule_at=1, make_bold_row_at=[2, -3])"
   ]
  },
  {
   "cell_type": "markdown",
   "metadata": {},
   "source": [
    "# Pages"
   ]
  },
  {
   "cell_type": "code",
   "execution_count": 3,
   "metadata": {},
   "outputs": [],
   "source": [
    "import os\n",
    "import yaml \n",
    "\n",
    "data_dir = \"/Users/david/Projects/fin-disclosures-nlp/input_files/annual_reports\"\n",
    "\n",
    "def get_total_page_no(row):\n",
    "    path = os.path.join(data_dir, f\"{row.country}_{row.company}\", f\"{row.orig_report_type}_{row.year}\", row.output_file)\n",
    "    with open(path, 'r') as stream:\n",
    "        content = yaml.safe_load(stream)\n",
    "        return len(content['pages'])\n",
    "    \n",
    "df_master[\"total_page_no\"] = df_master.apply(lambda x: get_total_page_no(x), axis=1)\n",
    "    "
   ]
  },
  {
   "cell_type": "code",
   "execution_count": 4,
   "metadata": {},
   "outputs": [
    {
     "data": {
      "text/plain": [
       "259.0479797979798"
      ]
     },
     "execution_count": 4,
     "metadata": {},
     "output_type": "execute_result"
    }
   ],
   "source": [
    "df_master[\"total_page_no\"].mean()"
   ]
  },
  {
   "cell_type": "code",
   "execution_count": 5,
   "metadata": {},
   "outputs": [
    {
     "data": {
      "text/html": [
       "<div>\n",
       "<style scoped>\n",
       "    .dataframe tbody tr th:only-of-type {\n",
       "        vertical-align: middle;\n",
       "    }\n",
       "\n",
       "    .dataframe tbody tr th {\n",
       "        vertical-align: top;\n",
       "    }\n",
       "\n",
       "    .dataframe thead th {\n",
       "        text-align: right;\n",
       "    }\n",
       "</style>\n",
       "<table border=\"1\" class=\"dataframe\">\n",
       "  <thead>\n",
       "    <tr style=\"text-align: right;\">\n",
       "      <th></th>\n",
       "      <th>id</th>\n",
       "      <th>company</th>\n",
       "      <th>orig_report_type</th>\n",
       "      <th>report_type</th>\n",
       "      <th>year</th>\n",
       "      <th>input_file</th>\n",
       "      <th>output_file</th>\n",
       "      <th>should_infer</th>\n",
       "      <th>is_inferred</th>\n",
       "      <th>company_id</th>\n",
       "      <th>firm_name</th>\n",
       "      <th>ticker</th>\n",
       "      <th>country</th>\n",
       "      <th>icb_industry</th>\n",
       "      <th>icb_supersector</th>\n",
       "      <th>labelling_dataset</th>\n",
       "      <th>total_page_no</th>\n",
       "    </tr>\n",
       "  </thead>\n",
       "  <tbody>\n",
       "    <tr>\n",
       "      <th>0</th>\n",
       "      <td>dk_novo_nordisk_b-AR_2016</td>\n",
       "      <td>novo_nordisk_b</td>\n",
       "      <td>AR</td>\n",
       "      <td>AR</td>\n",
       "      <td>2016</td>\n",
       "      <td>dk_novo_nordisk_b/AR_2016.pdf</td>\n",
       "      <td>AR_2016.yml</td>\n",
       "      <td>True</td>\n",
       "      <td>True</td>\n",
       "      <td>dk_novo_nordisk_b</td>\n",
       "      <td>NOVO NORDISK B</td>\n",
       "      <td>NaN</td>\n",
       "      <td>dk</td>\n",
       "      <td>20 Health Care</td>\n",
       "      <td>2010 Health Care</td>\n",
       "      <td>NaN</td>\n",
       "      <td>121</td>\n",
       "    </tr>\n",
       "    <tr>\n",
       "      <th>1</th>\n",
       "      <td>dk_novo_nordisk_b-AR_2002</td>\n",
       "      <td>novo_nordisk_b</td>\n",
       "      <td>AR</td>\n",
       "      <td>AR</td>\n",
       "      <td>2002</td>\n",
       "      <td>dk_novo_nordisk_b/AR_2002.pdf</td>\n",
       "      <td>AR_2002.yml</td>\n",
       "      <td>True</td>\n",
       "      <td>True</td>\n",
       "      <td>dk_novo_nordisk_b</td>\n",
       "      <td>NOVO NORDISK B</td>\n",
       "      <td>NaN</td>\n",
       "      <td>dk</td>\n",
       "      <td>20 Health Care</td>\n",
       "      <td>2010 Health Care</td>\n",
       "      <td>NaN</td>\n",
       "      <td>64</td>\n",
       "    </tr>\n",
       "    <tr>\n",
       "      <th>2</th>\n",
       "      <td>dk_novo_nordisk_b-AR_2003</td>\n",
       "      <td>novo_nordisk_b</td>\n",
       "      <td>AR</td>\n",
       "      <td>AR</td>\n",
       "      <td>2003</td>\n",
       "      <td>dk_novo_nordisk_b/AR_2003.pdf</td>\n",
       "      <td>AR_2003.yml</td>\n",
       "      <td>True</td>\n",
       "      <td>True</td>\n",
       "      <td>dk_novo_nordisk_b</td>\n",
       "      <td>NOVO NORDISK B</td>\n",
       "      <td>NaN</td>\n",
       "      <td>dk</td>\n",
       "      <td>20 Health Care</td>\n",
       "      <td>2010 Health Care</td>\n",
       "      <td>NaN</td>\n",
       "      <td>64</td>\n",
       "    </tr>\n",
       "    <tr>\n",
       "      <th>3</th>\n",
       "      <td>dk_novo_nordisk_b-AR_2017</td>\n",
       "      <td>novo_nordisk_b</td>\n",
       "      <td>AR</td>\n",
       "      <td>AR</td>\n",
       "      <td>2017</td>\n",
       "      <td>dk_novo_nordisk_b/AR_2017.pdf</td>\n",
       "      <td>AR_2017.yml</td>\n",
       "      <td>True</td>\n",
       "      <td>True</td>\n",
       "      <td>dk_novo_nordisk_b</td>\n",
       "      <td>NOVO NORDISK B</td>\n",
       "      <td>NaN</td>\n",
       "      <td>dk</td>\n",
       "      <td>20 Health Care</td>\n",
       "      <td>2010 Health Care</td>\n",
       "      <td>NaN</td>\n",
       "      <td>121</td>\n",
       "    </tr>\n",
       "    <tr>\n",
       "      <th>4</th>\n",
       "      <td>dk_novo_nordisk_b-AR_2001</td>\n",
       "      <td>novo_nordisk_b</td>\n",
       "      <td>AR</td>\n",
       "      <td>AR</td>\n",
       "      <td>2001</td>\n",
       "      <td>dk_novo_nordisk_b/AR_2001.pdf</td>\n",
       "      <td>AR_2001.yml</td>\n",
       "      <td>True</td>\n",
       "      <td>True</td>\n",
       "      <td>dk_novo_nordisk_b</td>\n",
       "      <td>NOVO NORDISK B</td>\n",
       "      <td>NaN</td>\n",
       "      <td>dk</td>\n",
       "      <td>20 Health Care</td>\n",
       "      <td>2010 Health Care</td>\n",
       "      <td>NaN</td>\n",
       "      <td>56</td>\n",
       "    </tr>\n",
       "    <tr>\n",
       "      <th>...</th>\n",
       "      <td>...</td>\n",
       "      <td>...</td>\n",
       "      <td>...</td>\n",
       "      <td>...</td>\n",
       "      <td>...</td>\n",
       "      <td>...</td>\n",
       "      <td>...</td>\n",
       "      <td>...</td>\n",
       "      <td>...</td>\n",
       "      <td>...</td>\n",
       "      <td>...</td>\n",
       "      <td>...</td>\n",
       "      <td>...</td>\n",
       "      <td>...</td>\n",
       "      <td>...</td>\n",
       "      <td>...</td>\n",
       "      <td>...</td>\n",
       "    </tr>\n",
       "    <tr>\n",
       "      <th>787</th>\n",
       "      <td>ch_novartis-AR_2012</td>\n",
       "      <td>novartis</td>\n",
       "      <td>AR</td>\n",
       "      <td>AR</td>\n",
       "      <td>2012</td>\n",
       "      <td>ch_novartis/AR_2012.pdf</td>\n",
       "      <td>AR_2012.yml</td>\n",
       "      <td>True</td>\n",
       "      <td>True</td>\n",
       "      <td>ch_novartis</td>\n",
       "      <td>NOVARTIS</td>\n",
       "      <td>NaN</td>\n",
       "      <td>ch</td>\n",
       "      <td>20 Health Care</td>\n",
       "      <td>2010 Health Care</td>\n",
       "      <td>NaN</td>\n",
       "      <td>284</td>\n",
       "    </tr>\n",
       "    <tr>\n",
       "      <th>788</th>\n",
       "      <td>ch_novartis-AR_2008</td>\n",
       "      <td>novartis</td>\n",
       "      <td>AR</td>\n",
       "      <td>AR</td>\n",
       "      <td>2008</td>\n",
       "      <td>ch_novartis/AR_2008.pdf</td>\n",
       "      <td>AR_2008.yml</td>\n",
       "      <td>True</td>\n",
       "      <td>True</td>\n",
       "      <td>ch_novartis</td>\n",
       "      <td>NOVARTIS</td>\n",
       "      <td>NaN</td>\n",
       "      <td>ch</td>\n",
       "      <td>20 Health Care</td>\n",
       "      <td>2010 Health Care</td>\n",
       "      <td>training</td>\n",
       "      <td>260</td>\n",
       "    </tr>\n",
       "    <tr>\n",
       "      <th>789</th>\n",
       "      <td>ch_novartis-AR_2009</td>\n",
       "      <td>novartis</td>\n",
       "      <td>AR</td>\n",
       "      <td>AR</td>\n",
       "      <td>2009</td>\n",
       "      <td>ch_novartis/AR_2009.pdf</td>\n",
       "      <td>AR_2009.yml</td>\n",
       "      <td>True</td>\n",
       "      <td>True</td>\n",
       "      <td>ch_novartis</td>\n",
       "      <td>NOVARTIS</td>\n",
       "      <td>NaN</td>\n",
       "      <td>ch</td>\n",
       "      <td>20 Health Care</td>\n",
       "      <td>2010 Health Care</td>\n",
       "      <td>NaN</td>\n",
       "      <td>268</td>\n",
       "    </tr>\n",
       "    <tr>\n",
       "      <th>790</th>\n",
       "      <td>ch_novartis-AR_2019</td>\n",
       "      <td>novartis</td>\n",
       "      <td>AR</td>\n",
       "      <td>AR</td>\n",
       "      <td>2019</td>\n",
       "      <td>ch_novartis/AR_2019.pdf</td>\n",
       "      <td>AR_2019.yml</td>\n",
       "      <td>True</td>\n",
       "      <td>True</td>\n",
       "      <td>ch_novartis</td>\n",
       "      <td>NOVARTIS</td>\n",
       "      <td>NaN</td>\n",
       "      <td>ch</td>\n",
       "      <td>20 Health Care</td>\n",
       "      <td>2010 Health Care</td>\n",
       "      <td>NaN</td>\n",
       "      <td>343</td>\n",
       "    </tr>\n",
       "    <tr>\n",
       "      <th>791</th>\n",
       "      <td>ch_novartis-AR_2018</td>\n",
       "      <td>novartis</td>\n",
       "      <td>AR</td>\n",
       "      <td>AR</td>\n",
       "      <td>2018</td>\n",
       "      <td>ch_novartis/AR_2018.pdf</td>\n",
       "      <td>AR_2018.yml</td>\n",
       "      <td>True</td>\n",
       "      <td>True</td>\n",
       "      <td>ch_novartis</td>\n",
       "      <td>NOVARTIS</td>\n",
       "      <td>NaN</td>\n",
       "      <td>ch</td>\n",
       "      <td>20 Health Care</td>\n",
       "      <td>2010 Health Care</td>\n",
       "      <td>NaN</td>\n",
       "      <td>337</td>\n",
       "    </tr>\n",
       "  </tbody>\n",
       "</table>\n",
       "<p>792 rows × 17 columns</p>\n",
       "</div>"
      ],
      "text/plain": [
       "                            id         company orig_report_type report_type  \\\n",
       "0    dk_novo_nordisk_b-AR_2016  novo_nordisk_b               AR          AR   \n",
       "1    dk_novo_nordisk_b-AR_2002  novo_nordisk_b               AR          AR   \n",
       "2    dk_novo_nordisk_b-AR_2003  novo_nordisk_b               AR          AR   \n",
       "3    dk_novo_nordisk_b-AR_2017  novo_nordisk_b               AR          AR   \n",
       "4    dk_novo_nordisk_b-AR_2001  novo_nordisk_b               AR          AR   \n",
       "..                         ...             ...              ...         ...   \n",
       "787        ch_novartis-AR_2012        novartis               AR          AR   \n",
       "788        ch_novartis-AR_2008        novartis               AR          AR   \n",
       "789        ch_novartis-AR_2009        novartis               AR          AR   \n",
       "790        ch_novartis-AR_2019        novartis               AR          AR   \n",
       "791        ch_novartis-AR_2018        novartis               AR          AR   \n",
       "\n",
       "     year                     input_file  output_file  should_infer  \\\n",
       "0    2016  dk_novo_nordisk_b/AR_2016.pdf  AR_2016.yml          True   \n",
       "1    2002  dk_novo_nordisk_b/AR_2002.pdf  AR_2002.yml          True   \n",
       "2    2003  dk_novo_nordisk_b/AR_2003.pdf  AR_2003.yml          True   \n",
       "3    2017  dk_novo_nordisk_b/AR_2017.pdf  AR_2017.yml          True   \n",
       "4    2001  dk_novo_nordisk_b/AR_2001.pdf  AR_2001.yml          True   \n",
       "..    ...                            ...          ...           ...   \n",
       "787  2012        ch_novartis/AR_2012.pdf  AR_2012.yml          True   \n",
       "788  2008        ch_novartis/AR_2008.pdf  AR_2008.yml          True   \n",
       "789  2009        ch_novartis/AR_2009.pdf  AR_2009.yml          True   \n",
       "790  2019        ch_novartis/AR_2019.pdf  AR_2019.yml          True   \n",
       "791  2018        ch_novartis/AR_2018.pdf  AR_2018.yml          True   \n",
       "\n",
       "     is_inferred         company_id       firm_name  ticker country  \\\n",
       "0           True  dk_novo_nordisk_b  NOVO NORDISK B     NaN      dk   \n",
       "1           True  dk_novo_nordisk_b  NOVO NORDISK B     NaN      dk   \n",
       "2           True  dk_novo_nordisk_b  NOVO NORDISK B     NaN      dk   \n",
       "3           True  dk_novo_nordisk_b  NOVO NORDISK B     NaN      dk   \n",
       "4           True  dk_novo_nordisk_b  NOVO NORDISK B     NaN      dk   \n",
       "..           ...                ...             ...     ...     ...   \n",
       "787         True        ch_novartis        NOVARTIS     NaN      ch   \n",
       "788         True        ch_novartis        NOVARTIS     NaN      ch   \n",
       "789         True        ch_novartis        NOVARTIS     NaN      ch   \n",
       "790         True        ch_novartis        NOVARTIS     NaN      ch   \n",
       "791         True        ch_novartis        NOVARTIS     NaN      ch   \n",
       "\n",
       "       icb_industry   icb_supersector labelling_dataset  total_page_no  \n",
       "0    20 Health Care  2010 Health Care               NaN            121  \n",
       "1    20 Health Care  2010 Health Care               NaN             64  \n",
       "2    20 Health Care  2010 Health Care               NaN             64  \n",
       "3    20 Health Care  2010 Health Care               NaN            121  \n",
       "4    20 Health Care  2010 Health Care               NaN             56  \n",
       "..              ...               ...               ...            ...  \n",
       "787  20 Health Care  2010 Health Care               NaN            284  \n",
       "788  20 Health Care  2010 Health Care          training            260  \n",
       "789  20 Health Care  2010 Health Care               NaN            268  \n",
       "790  20 Health Care  2010 Health Care               NaN            343  \n",
       "791  20 Health Care  2010 Health Care               NaN            337  \n",
       "\n",
       "[792 rows x 17 columns]"
      ]
     },
     "execution_count": 5,
     "metadata": {},
     "output_type": "execute_result"
    }
   ],
   "source": [
    "df_master"
   ]
  },
  {
   "cell_type": "markdown",
   "metadata": {},
   "source": [
    "# Keyword list"
   ]
  },
  {
   "cell_type": "code",
   "execution_count": 51,
   "metadata": {},
   "outputs": [
    {
     "data": {
      "text/plain": [
       "'\\\\begin{tabular}{lll}\\n\\\\toprule\\n{} &                                                                                                                                                                                       Unigrams &                                                                                                                                                                                                                                                                                                                                                                                                                                                                                                                                                                                                                                                                                                                                                                                                                                                               Bigrams \\\\\\\\\\n\\\\midrule\\n0 &  renewable, carbon, co2, co2e, ghg, greenhouse, ipcc, windstorm, flood, flooding, drought, disaster, storm, hurricane, biodiversity, rainfall, rain, monsoon, battery, photovoltaic, recycling &  climate change, global warming, climate risk, greenhouse effect, sustainable energy, climate mitigation, paris agreement, kyoto protocol, climate adaptation, change climate, emission regulation, emission standard, emission reduction, emission trading, cap and trade, oil price, energy price, fossil fuel, energy legislation, environmental legislation, climate legislation, natural hazard, global temperature, temperature rise, extreme weather, sea level, extreme event, catastrophic event, climate feedback, climate impact, climate variability, carbon capture, carbon sequestration, co2 sequestration, electric mobility, electric vehicle, solar pv, solar energy, solar power, wind energy, wind power, wind turbine, bio fuel, circular economy, environmental impact, water consumption, water usage, decentralized energy, energy efficiency \\\\\\\\\\n\\\\bottomrule\\n\\\\end{tabular}\\n'"
      ]
     },
     "execution_count": 51,
     "metadata": {},
     "output_type": "execute_result"
    }
   ],
   "source": [
    "import pandas as pd\n",
    "from data import dataframe_preparation\n",
    "from data.utils import tables\n",
    "\n",
    "pd.set_option('display.max_colwidth',1000)\n",
    "vocabulary = dataframe_preparation.get_keywords_from_file(\"/Users/david/Projects/fin-disclosures-nlp/data/keyword_vocabulary.txt\")\n",
    "unigrams = [word for word in vocabulary if len(word.split(\" \")) < 2]\n",
    "bigrams = [word for word in vocabulary if len(word.split(\" \")) > 1]\n",
    "\n",
    "df_keyword_a = pd.DataFrame(data={\"Unigrams\": [\", \".join(unigrams)]})\n",
    "df_keyword_b = pd.DataFrame(data={\"Bigrams\": [\", \".join(bigrams)]})\n",
    "df_keyword = pd.concat([df_keyword_a, df_keyword_b], axis=1, sort=False)\n",
    "tables.export_to_latex(df_keyword, filename=\"filter_vocabulary.tex\")"
   ]
  },
  {
   "cell_type": "code",
   "execution_count": 52,
   "metadata": {},
   "outputs": [
    {
     "name": "stdout",
     "output_type": "stream",
     "text": [
      "70\n"
     ]
    }
   ],
   "source": [
    "print(len(unigrams) + len(bigrams))"
   ]
  },
  {
   "cell_type": "markdown",
   "metadata": {},
   "source": [
    "# Labels"
   ]
  },
  {
   "cell_type": "code",
   "execution_count": null,
   "metadata": {},
   "outputs": [],
   "source": []
  },
  {
   "cell_type": "code",
   "execution_count": 10,
   "metadata": {},
   "outputs": [],
   "source": [
    "\n",
    "data_dir = os.path.join(\"/Users/david/Nextcloud/Dokumente/Education/Uni Bern/Master Thesis/Analyzing Financial Climate Disclosures with NLP/Labelling/annual reports/\")\n",
    "df_train = pd.read_pickle(os.path.join(data_dir, 'Firm_AnnualReport_Labels_Training.pkl'))"
   ]
  },
  {
   "cell_type": "code",
   "execution_count": 18,
   "metadata": {},
   "outputs": [
    {
     "data": {
      "text/html": [
       "<div>\n",
       "<style scoped>\n",
       "    .dataframe tbody tr th:only-of-type {\n",
       "        vertical-align: middle;\n",
       "    }\n",
       "\n",
       "    .dataframe tbody tr th {\n",
       "        vertical-align: top;\n",
       "    }\n",
       "\n",
       "    .dataframe thead th {\n",
       "        text-align: right;\n",
       "    }\n",
       "</style>\n",
       "<table border=\"1\" class=\"dataframe\">\n",
       "  <thead>\n",
       "    <tr style=\"text-align: right;\">\n",
       "      <th></th>\n",
       "      <th>report_id</th>\n",
       "      <th>cro</th>\n",
       "      <th>cro_sub_type</th>\n",
       "      <th>page</th>\n",
       "      <th>paragraph_no</th>\n",
       "      <th>label</th>\n",
       "      <th>comment</th>\n",
       "      <th>text</th>\n",
       "      <th>coder</th>\n",
       "      <th>indirect</th>\n",
       "      <th>vague</th>\n",
       "      <th>past</th>\n",
       "      <th>keyword</th>\n",
       "      <th>span_id</th>\n",
       "      <th>neg_type</th>\n",
       "    </tr>\n",
       "    <tr>\n",
       "      <th>cro_sub_type_combined</th>\n",
       "      <th></th>\n",
       "      <th></th>\n",
       "      <th></th>\n",
       "      <th></th>\n",
       "      <th></th>\n",
       "      <th></th>\n",
       "      <th></th>\n",
       "      <th></th>\n",
       "      <th></th>\n",
       "      <th></th>\n",
       "      <th></th>\n",
       "      <th></th>\n",
       "      <th></th>\n",
       "      <th></th>\n",
       "      <th></th>\n",
       "    </tr>\n",
       "  </thead>\n",
       "  <tbody>\n",
       "    <tr>\n",
       "      <th>ACUTE</th>\n",
       "      <td>113</td>\n",
       "      <td>113</td>\n",
       "      <td>113</td>\n",
       "      <td>113</td>\n",
       "      <td>113</td>\n",
       "      <td>110</td>\n",
       "      <td>88</td>\n",
       "      <td>113</td>\n",
       "      <td>113</td>\n",
       "      <td>113</td>\n",
       "      <td>113</td>\n",
       "      <td>113</td>\n",
       "      <td>12</td>\n",
       "      <td>7</td>\n",
       "      <td>0</td>\n",
       "    </tr>\n",
       "    <tr>\n",
       "      <th>CHRON</th>\n",
       "      <td>21</td>\n",
       "      <td>21</td>\n",
       "      <td>21</td>\n",
       "      <td>21</td>\n",
       "      <td>21</td>\n",
       "      <td>21</td>\n",
       "      <td>17</td>\n",
       "      <td>21</td>\n",
       "      <td>21</td>\n",
       "      <td>21</td>\n",
       "      <td>21</td>\n",
       "      <td>21</td>\n",
       "      <td>10</td>\n",
       "      <td>0</td>\n",
       "      <td>0</td>\n",
       "    </tr>\n",
       "    <tr>\n",
       "      <th>MARKET</th>\n",
       "      <td>51</td>\n",
       "      <td>51</td>\n",
       "      <td>51</td>\n",
       "      <td>51</td>\n",
       "      <td>51</td>\n",
       "      <td>46</td>\n",
       "      <td>33</td>\n",
       "      <td>51</td>\n",
       "      <td>51</td>\n",
       "      <td>51</td>\n",
       "      <td>51</td>\n",
       "      <td>51</td>\n",
       "      <td>19</td>\n",
       "      <td>0</td>\n",
       "      <td>0</td>\n",
       "    </tr>\n",
       "    <tr>\n",
       "      <th>POLICY</th>\n",
       "      <td>109</td>\n",
       "      <td>109</td>\n",
       "      <td>109</td>\n",
       "      <td>109</td>\n",
       "      <td>109</td>\n",
       "      <td>99</td>\n",
       "      <td>36</td>\n",
       "      <td>109</td>\n",
       "      <td>109</td>\n",
       "      <td>109</td>\n",
       "      <td>109</td>\n",
       "      <td>109</td>\n",
       "      <td>21</td>\n",
       "      <td>7</td>\n",
       "      <td>0</td>\n",
       "    </tr>\n",
       "    <tr>\n",
       "      <th>REPUTATION</th>\n",
       "      <td>29</td>\n",
       "      <td>29</td>\n",
       "      <td>29</td>\n",
       "      <td>29</td>\n",
       "      <td>29</td>\n",
       "      <td>27</td>\n",
       "      <td>18</td>\n",
       "      <td>29</td>\n",
       "      <td>29</td>\n",
       "      <td>29</td>\n",
       "      <td>29</td>\n",
       "      <td>29</td>\n",
       "      <td>8</td>\n",
       "      <td>3</td>\n",
       "      <td>0</td>\n",
       "    </tr>\n",
       "  </tbody>\n",
       "</table>\n",
       "</div>"
      ],
      "text/plain": [
       "                       report_id  cro  cro_sub_type  page  paragraph_no  \\\n",
       "cro_sub_type_combined                                                     \n",
       "ACUTE                        113  113           113   113           113   \n",
       "CHRON                         21   21            21    21            21   \n",
       "MARKET                        51   51            51    51            51   \n",
       "POLICY                       109  109           109   109           109   \n",
       "REPUTATION                    29   29            29    29            29   \n",
       "\n",
       "                       label  comment  text  coder  indirect  vague  past  \\\n",
       "cro_sub_type_combined                                                       \n",
       "ACUTE                    110       88   113    113       113    113   113   \n",
       "CHRON                     21       17    21     21        21     21    21   \n",
       "MARKET                    46       33    51     51        51     51    51   \n",
       "POLICY                    99       36   109    109       109    109   109   \n",
       "REPUTATION                27       18    29     29        29     29    29   \n",
       "\n",
       "                       keyword  span_id  neg_type  \n",
       "cro_sub_type_combined                              \n",
       "ACUTE                       12        7         0  \n",
       "CHRON                       10        0         0  \n",
       "MARKET                      19        0         0  \n",
       "POLICY                      21        7         0  \n",
       "REPUTATION                   8        3         0  "
      ]
     },
     "execution_count": 18,
     "metadata": {},
     "output_type": "execute_result"
    }
   ],
   "source": [
    "\n",
    "df_train.query(\"cro != 'OP'\").groupby(\"cro_sub_type_combined\").count()"
   ]
  },
  {
   "cell_type": "code",
   "execution_count": 5,
   "metadata": {},
   "outputs": [
    {
     "name": "stdout",
     "output_type": "stream",
     "text": [
      "Loaded dataset. Train: 27811, Test: 28209, Dim: 2\n"
     ]
    }
   ],
   "source": [
    "t_d, t_l, tt_d, tt_l = cro_dataset.prepare_datasets(task=\"multi-label\", cro_category_level=\"cro\", should_filter_op=True, train_neg_sampling_strategy=\"all\", test_neg_sampling_strategy=\"all\")\n"
   ]
  },
  {
   "cell_type": "code",
   "execution_count": 16,
   "metadata": {},
   "outputs": [
    {
     "data": {
      "text/plain": [
       "cro\n",
       "PR    123\n",
       "TR    164\n",
       "dtype: int64"
      ]
     },
     "execution_count": 16,
     "metadata": {},
     "output_type": "execute_result"
    }
   ],
   "source": [
    "t_l.sum()"
   ]
  },
  {
   "cell_type": "code",
   "execution_count": 4,
   "metadata": {},
   "outputs": [
    {
     "data": {
      "text/plain": [
       "cro\n",
       "PR    123\n",
       "TR    164\n",
       "dtype: int64"
      ]
     },
     "execution_count": 4,
     "metadata": {},
     "output_type": "execute_result"
    }
   ],
   "source": [
    "t_l.sum()"
   ]
  },
  {
   "cell_type": "code",
   "execution_count": 102,
   "metadata": {},
   "outputs": [
    {
     "data": {
      "text/plain": [
       "cro\n",
       "PR    123\n",
       "TR    164\n",
       "OP    826\n",
       "dtype: int64"
      ]
     },
     "execution_count": 102,
     "metadata": {},
     "output_type": "execute_result"
    }
   ],
   "source": [
    "t_l.sum()"
   ]
  },
  {
   "cell_type": "markdown",
   "metadata": {},
   "source": [
    "## Status\n",
    "\n",
    "We now have 933 samples with additional samples of about 15/100 reports that will be added as soon as possible, so more than 1000 samples are likely.\n",
    "However, the categories both on main CRO level as well as the sub-categories are unbalanced.\n",
    "In comparison to the other main categories, physical risks (PR) are often **indirect** (about 55%), i.e. there is no explicit mentioning of climate change but rather a consequence. Often, these examples are also labelled as *vague*, i.e. more of the boilerplate type."
   ]
  },
  {
   "cell_type": "code",
   "execution_count": 38,
   "metadata": {},
   "outputs": [
    {
     "data": {
      "text/plain": [
       "<AxesSubplot:xlabel='cro,cro_sub_type_combined'>"
      ]
     },
     "execution_count": 38,
     "metadata": {},
     "output_type": "execute_result"
    },
    {
     "data": {
      "image/png": "[encoded data removed]",
      "text/plain": [
       "<Figure size 432x288 with 2 Axes>"
      ]
     },
     "metadata": {
      "needs_background": "light"
     },
     "output_type": "display_data"
    }
   ],
   "source": [
    "fig, axes = plt.subplots(nrows=1, ncols=2)\n",
    "groups.plot(ax=axes[0], kind='bar')\n",
    "sub_groups.plot(ax=axes[1], kind='bar')"
   ]
  },
  {
   "cell_type": "markdown",
   "metadata": {},
   "source": [
    "## Experimental setup \n",
    "\n",
    "For the high-level experimental setup, there are multiple options:\n",
    "\n",
    "- Step-by-Step: First classifiy if CRO relevant or not, then second step classify the main category. Then the sub-category...\n",
    "- End-To-End: Directly try to infer category\n",
    "\n",
    "--> I would propose for now that we attempt a Step-By-Step approach and actually start with the second task of classifying the main CRO categories to get an idea of how well the different methods perform. A benefit would this also have that getting the negative samples ise relatively straight-forward, i.e. just the opposite classes.\n",
    "\n",
    "As document inputs, I would propose that we use paragraphs for now but having a sentence approach then as comparison. *Challenge: How would the labels be assigned for sentences?*\n",
    "\n",
    "As evaluation metrics, F1-Scores (and Accuracy) are probably most useful.\n",
    "\n",
    "### Preprocessing\n",
    "\n",
    "Depending on the downstream classification approach, preprocessing such as stop-words removal, stemming/lemmatization is required. *Challenge: How can we make sure that the tense of a sentense is not removed in this step?*\n",
    "\n",
    "### Approaches\n",
    "\n",
    "A set of approaches is selected to compare performance and whether the \"heavy-weights\" are actually necessary. \n",
    "\n",
    "Embedding options:\n",
    "    \n",
    "    - BoW\n",
    "    - TF-IDF\n",
    "    - Word2Vec\n",
    "    - Doc2Vec\n",
    "    - Contextualized Word Embeddings (from BERT for example, i.e. only use the word embeddings from these models) without transfer learning, i.e. then select a classifier from below\n",
    "\n",
    "Classifiers:\n",
    "    \n",
    "    - Logistic regression\n",
    "    - SVM\n",
    "    - Random Forest\n",
    "    - XGBoost\n",
    "    - Neural Net\n",
    "\n",
    "And then the state of the art NLU models such as BERT/Roberta/...\n"
   ]
  },
  {
   "cell_type": "code",
   "execution_count": 2,
   "metadata": {},
   "outputs": [],
   "source": [
    "import sys\n",
    "import pandas as pd\n",
    "import numpy as np\n",
    "import matplotlib.pyplot as plt\n",
    "\n",
    "sys.path.append('..')\n",
    "import data\n",
    "from data.labels_postprocessing import process"
   ]
  },
  {
   "cell_type": "code",
   "execution_count": 14,
   "metadata": {},
   "outputs": [],
   "source": [
    "df = pd.read_pickle(\"/Users/david/Nextcloud/Dokumente/Education/Uni Bern/Master Thesis/Analyzing Financial Climate Disclosures with NLP/Labelling/annual reports/Firm_AnnualReport_Labels_100_combined.pkl\")"
   ]
  },
  {
   "cell_type": "code",
   "execution_count": 19,
   "metadata": {},
   "outputs": [],
   "source": [
    "df = process(df)"
   ]
  },
  {
   "cell_type": "code",
   "execution_count": 15,
   "metadata": {},
   "outputs": [
    {
     "name": "stdout",
     "output_type": "stream",
     "text": [
      "cro\n",
      "        1\n",
      "OP    661\n",
      "PR    115\n",
      "TR    141\n",
      "dtype: int64\n"
     ]
    },
    {
     "data": {
      "text/plain": [
       "<AxesSubplot:ylabel='cro'>"
      ]
     },
     "execution_count": 15,
     "metadata": {},
     "output_type": "execute_result"
    },
    {
     "data": {
      "image/png": "[encoded data removed]",
      "text/plain": [
       "<Figure size 432x288 with 1 Axes>"
      ]
     },
     "metadata": {
      "needs_background": "light"
     },
     "output_type": "display_data"
    }
   ],
   "source": [
    "groups = df.groupby(['cro']).size()\n",
    "print(groups)\n",
    "groups.plot(kind='barh')"
   ]
  },
  {
   "cell_type": "code",
   "execution_count": 7,
   "metadata": {},
   "outputs": [
    {
     "name": "stdout",
     "output_type": "stream",
     "text": [
      "cro  cro_sub_type_combined\n",
      "OP   PRODUCTS                 309\n",
      "     RESILIENCE               349\n",
      "PR                              1\n",
      "     ACUTE                     91\n",
      "     CHRON                     18\n",
      "TR   MARKET                    42\n",
      "     POLICY                    77\n",
      "     REPUTATION                21\n",
      "dtype: int64\n"
     ]
    },
    {
     "data": {
      "text/plain": [
       "<AxesSubplot:ylabel='cro,cro_sub_type_combined'>"
      ]
     },
     "execution_count": 7,
     "metadata": {},
     "output_type": "execute_result"
    },
    {
     "data": {
      "image/png": "[encoded data removed]",
      "text/plain": [
       "<Figure size 432x288 with 1 Axes>"
      ]
     },
     "metadata": {
      "needs_background": "light"
     },
     "output_type": "display_data"
    }
   ],
   "source": [
    "sub_groups = df.groupby(['cro','cro_sub_type_combined']).size()\n",
    "print(sub_groups)\n",
    "sub_groups.plot(kind='barh')"
   ]
  },
  {
   "cell_type": "code",
   "execution_count": 7,
   "metadata": {},
   "outputs": [
    {
     "name": "stdout",
     "output_type": "stream",
     "text": [
      "cro  indirect\n",
      "     False         1\n",
      "OP   False       629\n",
      "     True         32\n",
      "PR   False        51\n",
      "     True         64\n",
      "TR   False       128\n",
      "     True         13\n",
      "dtype: int64\n"
     ]
    },
    {
     "data": {
      "text/plain": [
       "<AxesSubplot:ylabel='cro,indirect'>"
      ]
     },
     "execution_count": 7,
     "metadata": {},
     "output_type": "execute_result"
    },
    {
     "data": {
      "image/png": "[encoded data removed]",
      "text/plain": [
       "<Figure size 432x288 with 1 Axes>"
      ]
     },
     "metadata": {
      "needs_background": "light"
     },
     "output_type": "display_data"
    }
   ],
   "source": [
    "indirects = df.groupby(['cro','indirect']).size()\n",
    "print(indirects)\n",
    "indirects.plot(kind='barh')"
   ]
  },
  {
   "cell_type": "code",
   "execution_count": 15,
   "metadata": {},
   "outputs": [
    {
     "name": "stdout",
     "output_type": "stream",
     "text": [
      "cro  vague\n",
      "     False      1\n",
      "OP   False    601\n",
      "     True      60\n",
      "PR   False     68\n",
      "     True      47\n",
      "TR   False    134\n",
      "     True       7\n",
      "dtype: int64\n"
     ]
    },
    {
     "data": {
      "text/plain": [
       "<AxesSubplot:ylabel='cro,vague'>"
      ]
     },
     "execution_count": 15,
     "metadata": {},
     "output_type": "execute_result"
    },
    {
     "data": {
      "image/png": "[encoded data removed]",
      "text/plain": [
       "<Figure size 432x288 with 1 Axes>"
      ]
     },
     "metadata": {
      "needs_background": "light"
     },
     "output_type": "display_data"
    }
   ],
   "source": [
    "vague = df.groupby(['cro','vague']).size()\n",
    "print(vague)\n",
    "vague.plot(kind='barh')"
   ]
  },
  {
   "cell_type": "code",
   "execution_count": 9,
   "metadata": {},
   "outputs": [
    {
     "name": "stdout",
     "output_type": "stream",
     "text": [
      "cro  past \n",
      "     False      1\n",
      "OP   False    639\n",
      "     True      22\n",
      "PR   False    115\n",
      "TR   False    140\n",
      "     True       1\n",
      "dtype: int64\n"
     ]
    },
    {
     "data": {
      "text/plain": [
       "<AxesSubplot:ylabel='cro,past'>"
      ]
     },
     "execution_count": 9,
     "metadata": {},
     "output_type": "execute_result"
    },
    {
     "data": {
      "image/png": "[encoded data removed]",
      "text/plain": [
       "<Figure size 432x288 with 1 Axes>"
      ]
     },
     "metadata": {
      "needs_background": "light"
     },
     "output_type": "display_data"
    }
   ],
   "source": [
    "past = df.groupby(['cro','past']).size()\n",
    "print(past)\n",
    "past.plot(kind='barh')"
   ]
  },
  {
   "cell_type": "code",
   "execution_count": 11,
   "metadata": {},
   "outputs": [
    {
     "data": {
      "text/plain": [
       "31"
      ]
     },
     "execution_count": 11,
     "metadata": {},
     "output_type": "execute_result"
    }
   ],
   "source": [
    "len(df.span_id.unique())\n",
    "# spans = df[df.duplicated(subset=['report_id','span_id'], keep=False)]\n",
    "# spans"
   ]
  },
  {
   "cell_type": "code",
   "execution_count": 16,
   "metadata": {},
   "outputs": [
    {
     "data": {
      "text/plain": [
       "72"
      ]
     },
     "execution_count": 16,
     "metadata": {},
     "output_type": "execute_result"
    }
   ],
   "source": [
    "df.keyword.count()"
   ]
  },
  {
   "cell_type": "code",
   "execution_count": null,
   "metadata": {},
   "outputs": [],
   "source": []
  }
 ],
 "metadata": {
  "kernelspec": {
   "display_name": "Python 3",
   "language": "python",
   "name": "python3"
  },
  "language_info": {
   "codemirror_mode": {
    "name": "ipython",
    "version": 3
   },
   "file_extension": ".py",
   "mimetype": "text/x-python",
   "name": "python",
   "nbconvert_exporter": "python",
   "pygments_lexer": "ipython3",
   "version": "3.8.5"
  }
 },
 "nbformat": 4,
 "nbformat_minor": 4
}
