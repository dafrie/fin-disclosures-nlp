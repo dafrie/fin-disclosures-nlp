{
 "cells": [
  {
   "cell_type": "markdown",
   "metadata": {
    "colab_type": "text",
    "id": "view-in-github"
   },
   "source": [
    "<a href=\"https://colab.research.google.com/github/dafrie/fin-disclosures-nlp/blob/master/notebooks/CRO_Classification_Baseline.ipynb\" target=\"_parent\"><img src=\"https://colab.research.google.com/assets/colab-badge.svg\" alt=\"Open In Colab\"/></a>"
   ]
  },
  {
   "cell_type": "markdown",
   "metadata": {
    "id": "Bs0erh0Fhkas"
   },
   "source": [
    "# Baseline models for CRO Classification"
   ]
  },
  {
   "cell_type": "markdown",
   "metadata": {
    "id": "QBQYJovOhphA"
   },
   "source": [
    "## Setup"
   ]
  },
  {
   "cell_type": "code",
   "execution_count": null,
   "metadata": {
    "colab": {
     "base_uri": "https://localhost:8080/"
    },
    "id": "lodc5k4Qhq_A",
    "outputId": "6debe614-3b6f-451c-890e-6d2f998b8560"
   },
   "outputs": [
    {
     "name": "stdout",
     "output_type": "stream",
     "text": [
      "Drive already mounted at /content/drive; to attempt to forcibly remount, call drive.mount(\"/content/drive\", force_remount=True).\n"
     ]
    }
   ],
   "source": [
    "try:\n",
    "  import google.colab\n",
    "  is_running_in_colab = True\n",
    "except:\n",
    "  is_running_in_colab = False\n",
    "\n",
    "if is_running_in_colab:\n",
    "  # Load Google drive where the data and models are stored\n",
    "  from google.colab import drive\n",
    "  drive.mount('/content/drive')"
   ]
  },
  {
   "cell_type": "code",
   "execution_count": null,
   "metadata": {
    "id": "lOuFBCshh0cJ"
   },
   "outputs": [],
   "source": [
    "############################## CONFIG ##############################\n",
    "# Task config\n",
    "TASK = \"multi-label\" #@param [\"multi-label\", \"binary\"]\n",
    "CATEGORY_LEVEL = 'cro' #@param [\"cro\", \"cro_sub_type_combined\"]\n",
    "MODEL_TYPE = \"baseline\" #@param [\"baseline\", \"transformer\"]\n",
    "MODEL_NAME = \"svm\"\n",
    "\n",
    "# Dataset config\n",
    "FILTER_OP = True #@param { type: \"boolean\"}\n",
    "SCENARIO = \"realistic\" #@param [ \"optimistic\", \"efficient-realistic\", \"realistic\"]\n",
    "\n",
    "# Evaluation metric config. See for context: https://scikit-learn.org/stable/modules/generated/sklearn.metrics.f1_score.html\n",
    "AVERAGING_STRATEGY = 'macro' #@param [\"micro\",  \"macro\", \"weighted\"]\n",
    "\n",
    "RESULTS_FILE_NAME = f\"{CATEGORY_LEVEL}_{TASK}_results.csv\"\n",
    "\n",
    "# To make the notebook reproducible (not guaranteed for pytorch on different releases/platforms!)\n",
    "SEED_VALUE = 42\n",
    "\n",
    "##################\n",
    "\n",
    "# AP is equal to Precision/Recall AUC! See for discussion: https://github.com/scikit-learn/scikit-learn/issues/5992\n",
    "SCORING_METRIC = 'average_precision' #@param [\"average_precision\",  \"roc_auc\"]\n",
    "\n",
    "####################################################################\n",
    "LOCAL_DIR = \"/Users/david/Nextcloud/Dokumente/Education/Uni Bern/Master Thesis/Analyzing Financial Climate Disclosures with NLP/Methodology/\"\n",
    "COLAB_DIR = \"/content/drive/MyDrive/fin-disclosures-nlp\"\n",
    "\n",
    "if SCENARIO == \"optimistic\":\n",
    "  TRAIN_NEG_SAMPLING_STRATEGY = \"None\"\n",
    "  TEST_NEG_SAMPLING_STRATEGY = \"None\"\n",
    "\n",
    "elif SCENARIO == \"efficient-realistic\":\n",
    "  TRAIN_NEG_SAMPLING_STRATEGY = \"only_OP\"\n",
    "  TEST_NEG_SAMPLING_STRATEGY = \"all\"\n",
    "\n",
    "elif SCENARIO == \"realistic\":\n",
    "  TRAIN_NEG_SAMPLING_STRATEGY = \"all\"\n",
    "  TEST_NEG_SAMPLING_STRATEGY = \"all\"\n",
    "\n",
    "\n",
    "parameters = {\n",
    "    \"task\": TASK,\n",
    "    \"category_level\": CATEGORY_LEVEL,\n",
    "    \"model_type\": MODEL_TYPE,\n",
    "    \"model_name\": MODEL_NAME,\n",
    "    \"scenario\": SCENARIO,\n",
    "    \"seed_value\": SEED_VALUE,\n",
    "}"
   ]
  },
  {
   "cell_type": "code",
   "execution_count": null,
   "metadata": {
    "colab": {
     "base_uri": "https://localhost:8080/"
    },
    "id": "MZNaOP8Bh5Ss",
    "outputId": "9e4a7022-dbcb-4f9a-ad79-234eab3881d7"
   },
   "outputs": [
    {
     "name": "stdout",
     "output_type": "stream",
     "text": [
      "Requirement already satisfied: en_core_web_md==2.2.5 from https://github.com/explosion/spacy-models/releases/download/en_core_web_md-2.2.5/en_core_web_md-2.2.5.tar.gz#egg=en_core_web_md==2.2.5 in /usr/local/lib/python3.6/dist-packages (2.2.5)\n",
      "Requirement already satisfied: spacy>=2.2.2 in /usr/local/lib/python3.6/dist-packages (from en_core_web_md==2.2.5) (2.2.4)\n",
      "Requirement already satisfied: setuptools in /usr/local/lib/python3.6/dist-packages (from spacy>=2.2.2->en_core_web_md==2.2.5) (50.3.2)\n",
      "Requirement already satisfied: requests<3.0.0,>=2.13.0 in /usr/local/lib/python3.6/dist-packages (from spacy>=2.2.2->en_core_web_md==2.2.5) (2.23.0)\n",
      "Requirement already satisfied: cymem<2.1.0,>=2.0.2 in /usr/local/lib/python3.6/dist-packages (from spacy>=2.2.2->en_core_web_md==2.2.5) (2.0.5)\n",
      "Requirement already satisfied: thinc==7.4.0 in /usr/local/lib/python3.6/dist-packages (from spacy>=2.2.2->en_core_web_md==2.2.5) (7.4.0)\n",
      "Requirement already satisfied: murmurhash<1.1.0,>=0.28.0 in /usr/local/lib/python3.6/dist-packages (from spacy>=2.2.2->en_core_web_md==2.2.5) (1.0.5)\n",
      "Requirement already satisfied: numpy>=1.15.0 in /usr/local/lib/python3.6/dist-packages (from spacy>=2.2.2->en_core_web_md==2.2.5) (1.18.5)\n",
      "Requirement already satisfied: tqdm<5.0.0,>=4.38.0 in /usr/local/lib/python3.6/dist-packages (from spacy>=2.2.2->en_core_web_md==2.2.5) (4.41.1)\n",
      "Requirement already satisfied: wasabi<1.1.0,>=0.4.0 in /usr/local/lib/python3.6/dist-packages (from spacy>=2.2.2->en_core_web_md==2.2.5) (0.8.0)\n",
      "Requirement already satisfied: preshed<3.1.0,>=3.0.2 in /usr/local/lib/python3.6/dist-packages (from spacy>=2.2.2->en_core_web_md==2.2.5) (3.0.5)\n",
      "Requirement already satisfied: blis<0.5.0,>=0.4.0 in /usr/local/lib/python3.6/dist-packages (from spacy>=2.2.2->en_core_web_md==2.2.5) (0.4.1)\n",
      "Requirement already satisfied: plac<1.2.0,>=0.9.6 in /usr/local/lib/python3.6/dist-packages (from spacy>=2.2.2->en_core_web_md==2.2.5) (1.1.3)\n",
      "Requirement already satisfied: catalogue<1.1.0,>=0.0.7 in /usr/local/lib/python3.6/dist-packages (from spacy>=2.2.2->en_core_web_md==2.2.5) (1.0.0)\n",
      "Requirement already satisfied: srsly<1.1.0,>=1.0.2 in /usr/local/lib/python3.6/dist-packages (from spacy>=2.2.2->en_core_web_md==2.2.5) (1.0.5)\n",
      "Requirement already satisfied: chardet<4,>=3.0.2 in /usr/local/lib/python3.6/dist-packages (from requests<3.0.0,>=2.13.0->spacy>=2.2.2->en_core_web_md==2.2.5) (3.0.4)\n",
      "Requirement already satisfied: certifi>=2017.4.17 in /usr/local/lib/python3.6/dist-packages (from requests<3.0.0,>=2.13.0->spacy>=2.2.2->en_core_web_md==2.2.5) (2020.12.5)\n",
      "Requirement already satisfied: idna<3,>=2.5 in /usr/local/lib/python3.6/dist-packages (from requests<3.0.0,>=2.13.0->spacy>=2.2.2->en_core_web_md==2.2.5) (2.10)\n",
      "Requirement already satisfied: urllib3!=1.25.0,!=1.25.1,<1.26,>=1.21.1 in /usr/local/lib/python3.6/dist-packages (from requests<3.0.0,>=2.13.0->spacy>=2.2.2->en_core_web_md==2.2.5) (1.24.3)\n",
      "Requirement already satisfied: importlib-metadata>=0.20; python_version < \"3.8\" in /usr/local/lib/python3.6/dist-packages (from catalogue<1.1.0,>=0.0.7->spacy>=2.2.2->en_core_web_md==2.2.5) (3.1.1)\n",
      "Requirement already satisfied: zipp>=0.5 in /usr/local/lib/python3.6/dist-packages (from importlib-metadata>=0.20; python_version < \"3.8\"->catalogue<1.1.0,>=0.0.7->spacy>=2.2.2->en_core_web_md==2.2.5) (3.4.0)\n",
      "\u001b[38;5;2m✔ Download and installation successful\u001b[0m\n",
      "You can now load the model via spacy.load('en_core_web_md')\n",
      "texlive-latex-recommended is already the newest version (2017.20180305-1).\n",
      "0 upgraded, 0 newly installed, 0 to remove and 14 not upgraded.\n",
      "texlive-latex-extra is already the newest version (2017.20180305-2).\n",
      "0 upgraded, 0 newly installed, 0 to remove and 14 not upgraded.\n",
      "dvipng is already the newest version (1.15-1).\n",
      "0 upgraded, 0 newly installed, 0 to remove and 14 not upgraded.\n",
      "cm-super is already the newest version (0.3.4-11).\n",
      "0 upgraded, 0 newly installed, 0 to remove and 14 not upgraded.\n",
      "fatal: destination path 'fin-disclosures-nlp' already exists and is not an empty directory.\n",
      "/content/fin-disclosures-nlp\n",
      "remote: Enumerating objects: 7, done.\u001b[K\n",
      "remote: Counting objects: 100% (7/7), done.\u001b[K\n",
      "remote: Compressing objects: 100% (1/1), done.\u001b[K\n",
      "remote: Total 4 (delta 3), reused 4 (delta 3), pack-reused 0\u001b[K\n",
      "Unpacking objects: 100% (4/4), done.\n",
      "From https://github.com/dafrie/fin-disclosures-nlp\n",
      "   dd3909c..b4d530c  master     -> origin/master\n",
      "Updating dd3909c..b4d530c\n",
      "Fast-forward\n",
      " data/evaluation.py | 13 \u001b[32m++++++++++\u001b[m\u001b[31m---\u001b[m\n",
      " 1 file changed, 10 insertions(+), 3 deletions(-)\n",
      "The autoreload extension is already loaded. To reload it, use:\n",
      "  %reload_ext autoreload\n"
     ]
    }
   ],
   "source": [
    "if is_running_in_colab:\n",
    "  # Install transformers library + datasets helper\n",
    "  !pip install transformers --quiet\n",
    "  !pip install datasets --quiet\n",
    "  !pip install optuna --quiet\n",
    "  !python -m spacy download en_core_web_md\n",
    "\n",
    "  # Latex for output\n",
    "  ! apt install texlive-latex-recommended -qq\n",
    "  ! apt install texlive-latex-extra -qq\n",
    "  ! apt install dvipng -qq\n",
    "  ! apt install cm-super -qq\n",
    "\n",
    "  # Load repository\n",
    "\n",
    "  !git clone https://github.com/dafrie/fin-disclosures-nlp.git    \n",
    "  %cd /content/fin-disclosures-nlp\n",
    "  !git pull\n",
    "\n",
    "\n",
    "%load_ext autoreload\n",
    "%autoreload 2\n",
    "\n",
    "import sys\n",
    "import os\n",
    "import numpy as np\n",
    "import pandas as pd\n",
    "sys.path.append('..')\n",
    "\n",
    "if is_running_in_colab:\n",
    "  sys.path.append('.')\n",
    "\n",
    "from data import constants\n",
    "from data import cro_dataset\n",
    "# This module depends on spacy's language models, need to restart the runtime to reload once downloaded.\n",
    "try:\n",
    "  from data import dataframe_preparation\n",
    "except OSError:\n",
    "  exit()\n",
    "from data import dataframe_preparation\n",
    "from data import evaluation\n",
    "\n",
    "DIR = COLAB_DIR if is_running_in_colab else LOCAL_DIR\n",
    "DATA_DIR = os.path.join(DIR, \"data\", \"labels\")\n",
    "MODELS_DIR = os.path.join(DIR, \"models\", MODEL_TYPE)\n",
    "RESULTS_DIR = os.path.join(DIR, 'results')\n",
    "RESULTS_FILE_PATH = os.path.join(RESULTS_DIR, RESULTS_FILE_NAME)"
   ]
  },
  {
   "cell_type": "code",
   "execution_count": null,
   "metadata": {
    "id": "yCNnpmqbh74I"
   },
   "outputs": [],
   "source": [
    "# Load/Initialize results file\n",
    "results = evaluation.Results(RESULTS_FILE_PATH, parameters)"
   ]
  },
  {
   "cell_type": "code",
   "execution_count": null,
   "metadata": {
    "colab": {
     "base_uri": "https://localhost:8080/"
    },
    "id": "v1Wi6Gw6iSin",
    "outputId": "25017e4a-e088-4a83-8308-951c37a5bc68"
   },
   "outputs": [
    {
     "name": "stdout",
     "output_type": "stream",
     "text": [
      "Loaded dataset. Train: 27811, Test: 28209, Dim: 2\n"
     ]
    }
   ],
   "source": [
    "train_docs, train_doc_labels, test_docs, test_doc_labels = cro_dataset.prepare_datasets(\n",
    "    data_dir=DATA_DIR,\n",
    "    task=TASK, \n",
    "    cro_category_level=CATEGORY_LEVEL, \n",
    "    should_filter_op=FILTER_OP, \n",
    "    train_neg_sampling_strategy=TRAIN_NEG_SAMPLING_STRATEGY, \n",
    "    test_neg_sampling_strategy=TEST_NEG_SAMPLING_STRATEGY, \n",
    "    seed_value=SEED_VALUE\n",
    ")"
   ]
  },
  {
   "cell_type": "code",
   "execution_count": null,
   "metadata": {
    "colab": {
     "background_save": true,
     "base_uri": "https://localhost:8080/"
    },
    "id": "jUKLUrrdifvb",
    "outputId": "cdd30667-c755-41e1-bf7f-dc512975fe1c"
   },
   "outputs": [
    {
     "name": "stderr",
     "output_type": "stream",
     "text": [
      "/usr/local/lib/python3.6/dist-packages/sklearn/feature_extraction/text.py:385: UserWarning: Your stop_words may be inconsistent with your preprocessing. Tokenizing the stop words generated tokens ['whereaft'] not in stop_words.\n",
      "  'stop_words.' % sorted(inconsistent))\n"
     ]
    },
    {
     "data": {
      "text/plain": [
       "GridSearchCV(cv=None, error_score=nan,\n",
       "             estimator=Pipeline(memory=None,\n",
       "                                steps=[('bow',\n",
       "                                        CountVectorizer(analyzer='word',\n",
       "                                                        binary=False,\n",
       "                                                        decode_error='strict',\n",
       "                                                        dtype=<class 'numpy.int64'>,\n",
       "                                                        encoding='utf-8',\n",
       "                                                        input='content',\n",
       "                                                        lowercase=True,\n",
       "                                                        max_df=1.0,\n",
       "                                                        max_features=None,\n",
       "                                                        min_df=1,\n",
       "                                                        ngram_range=(1, 1),\n",
       "                                                        preprocessor=None,\n",
       "                                                        stop_words=None,\n",
       "                                                        strip_accents='ascii',\n",
       "                                                        token_pattern=...\n",
       "                          'bow__ngram_range': [(1, 1), (1, 2)],\n",
       "                          'bow__stop_words': ['english'],\n",
       "                          'bow__tokenizer': [<function spacy_tokenizer at 0x7ffa61384158>],\n",
       "                          'classifier__estimator__C': [1, 10, 100],\n",
       "                          'classifier__estimator__kernel': ['linear', 'rbf'],\n",
       "                          'tfidf__use_idf': [True]}],\n",
       "             pre_dispatch='2*n_jobs', refit=True, return_train_score=False,\n",
       "             scoring=make_scorer(average_precision_score, average=macro),\n",
       "             verbose=0)"
      ]
     },
     "execution_count": 0,
     "metadata": {
      "tags": []
     },
     "output_type": "execute_result"
    }
   ],
   "source": [
    "from sklearn.feature_extraction.text import CountVectorizer, TfidfTransformer\n",
    "from sklearn.multiclass import OneVsRestClassifier\n",
    "\n",
    "from sklearn.pipeline import Pipeline\n",
    "from sklearn.model_selection import GridSearchCV\n",
    "from sklearn.svm import SVC\n",
    "from sklearn.metrics import make_scorer, average_precision_score, roc_auc_score\n",
    "\n",
    "# Custom scorer so we can pass in the averaging strategy\n",
    "avg_scorer = make_scorer(average_precision_score if SCORING_METRIC == 'average_precision' else roc_auc_score, average=AVERAGING_STRATEGY)\n",
    "\n",
    "svc_clf = SVC(probability=True, random_state=SEED_VALUE, class_weight=\"balanced\") # Balanced: n_samples / (n_classes * np.bincount(y)). Since we are doing OneVsRest, this should be giving correct weights!\n",
    "# Wrap with OvR in case of multi-label\n",
    "multi_label_clf = OneVsRestClassifier(svc_clf)\n",
    "\n",
    "pipeline_svm = Pipeline([\n",
    "    ('bow', CountVectorizer(strip_accents = 'ascii')),\n",
    "    ('tfidf', TfidfTransformer()),\n",
    "    ('classifier', multi_label_clf if TASK == \"multi-label\" else svc_clf),\n",
    "     ])\n",
    "\n",
    "# Parameters to tune automatically with a grid search\n",
    "# Note: The nested estimator is accessible via the __estimator identifier\n",
    "param_svm = [\n",
    "  {\n",
    "      'bow__tokenizer': [dataframe_preparation.spacy_tokenizer],\n",
    "      'bow__stop_words': ['english'],\n",
    "      'bow__ngram_range': [(1, 1), (1, 2)],\n",
    "      'bow__max_features': [50, 500],\n",
    "      'tfidf__use_idf': [True], \n",
    "      'classifier__estimator__C' if TASK == \"multi-label\" else 'classifier__C': [1, 10, 100], \n",
    "      'classifier__estimator__kernel' if TASK == \"multi-label\" else 'classifier__kernel': ['linear', 'rbf']},\n",
    "]\n",
    "\n",
    "grid_clf = GridSearchCV(\n",
    "    pipeline_svm,\n",
    "    param_grid=param_svm,\n",
    "    refit=True,\n",
    "    n_jobs=-1, \n",
    "    scoring=avg_scorer,\n",
    ")\n",
    "\n",
    "# Grid search fitting\n",
    "grid_clf.fit(train_docs, train_doc_labels)"
   ]
  },
  {
   "cell_type": "code",
   "execution_count": null,
   "metadata": {
    "colab": {
     "background_save": true,
     "base_uri": "https://localhost:8080/"
    },
    "id": "X9fU9PWsii03",
    "outputId": "8c7ac69e-82d4-4fce-a7e3-8d472c4b2b42"
   },
   "outputs": [
    {
     "name": "stdout",
     "output_type": "stream",
     "text": [
      "Best average_precision score: 0.3719413984856332\n",
      "Best params: \n",
      "{'bow__max_features': 500, 'bow__ngram_range': (1, 1), 'bow__stop_words': 'english', 'bow__tokenizer': <function spacy_tokenizer at 0x7ffa61384158>, 'classifier__estimator__C': 1, 'classifier__estimator__kernel': 'rbf', 'tfidf__use_idf': True}\n"
     ]
    }
   ],
   "source": [
    "cv_results = pd.DataFrame(grid_clf.cv_results_)\n",
    "\n",
    "print(f\"Best {SCORING_METRIC} score: {grid_clf.best_score_}\")\n",
    "print(f\"Best params: \\n{grid_clf.best_params_}\")"
   ]
  },
  {
   "cell_type": "code",
   "execution_count": null,
   "metadata": {
    "colab": {
     "background_save": true
    },
    "id": "v730WuEBik9n"
   },
   "outputs": [],
   "source": [
    "# train_preds = grid_clf.predict(train_docs)\n",
    "train_preds_prob = grid_clf.predict_proba(train_docs)"
   ]
  },
  {
   "cell_type": "code",
   "execution_count": null,
   "metadata": {
    "colab": {
     "base_uri": "https://localhost:8080/",
     "height": 462
    },
    "id": "jdmCrftMindM",
    "outputId": "543efe0b-0e35-4d52-f968-83713b19853e"
   },
   "outputs": [
    {
     "data": {
      "text/html": [
       "<div>\n",
       "<style scoped>\n",
       "    .dataframe tbody tr th:only-of-type {\n",
       "        vertical-align: middle;\n",
       "    }\n",
       "\n",
       "    .dataframe tbody tr th {\n",
       "        vertical-align: top;\n",
       "    }\n",
       "\n",
       "    .dataframe thead th {\n",
       "        text-align: right;\n",
       "    }\n",
       "</style>\n",
       "<table border=\"1\" class=\"dataframe\">\n",
       "  <thead>\n",
       "    <tr style=\"text-align: right;\">\n",
       "      <th></th>\n",
       "      <th>ROC AuC</th>\n",
       "      <th>PR AuC</th>\n",
       "    </tr>\n",
       "  </thead>\n",
       "  <tbody>\n",
       "    <tr>\n",
       "      <th>0</th>\n",
       "      <td>0.99962</td>\n",
       "      <td>0.971653</td>\n",
       "    </tr>\n",
       "  </tbody>\n",
       "</table>\n",
       "</div>"
      ],
      "text/plain": [
       "   ROC AuC    PR AuC\n",
       "0  0.99962  0.971653"
      ]
     },
     "execution_count": 34,
     "metadata": {
      "tags": []
     },
     "output_type": "execute_result"
    },
    {
     "data": {
      "image/png": "[encoded data removed]",
      "text/plain": [
       "<Figure size 864x432 with 2 Axes>"
      ]
     },
     "metadata": {
      "tags": []
     },
     "output_type": "display_data"
    }
   ],
   "source": [
    "train_threshold_moving_report = os.path.join(RESULTS_DIR, \"figures\", f\"{CATEGORY_LEVEL}_{TASK}_{SCENARIO}_{MODEL_NAME}_train_threshold.pdf\")\n",
    "train_eval_scores, best_roc_threshold, best_pr_threshold = evaluation.threshold_moving_report(train_doc_labels, train_preds_prob, export_path=train_threshold_moving_report)\n",
    "results.log_experiment(train_eval_scores, prefix=\"train\")\n",
    "results.log_experiment({ \"best_pr_threshold\": best_pr_threshold.values(), \"best_roc_threshold\": best_roc_threshold.values()}, prefix=\"train\")\n",
    "train_eval_scores"
   ]
  },
  {
   "cell_type": "markdown",
   "metadata": {
    "id": "M9P14YLfir8o"
   },
   "source": [
    "# Evaluation on Test"
   ]
  },
  {
   "cell_type": "code",
   "execution_count": null,
   "metadata": {
    "id": "1UW3lr5xipnB"
   },
   "outputs": [],
   "source": [
    "# Predict for test\n",
    "test_preds_prob = grid_clf.predict_proba(test_docs)"
   ]
  },
  {
   "cell_type": "code",
   "execution_count": null,
   "metadata": {
    "colab": {
     "base_uri": "https://localhost:8080/",
     "height": 629
    },
    "id": "nfnf8iO8ivcO",
    "outputId": "333169b5-4f0a-451a-b072-4c5cb29269fe"
   },
   "outputs": [
    {
     "name": "stdout",
     "output_type": "stream",
     "text": [
      "Using threshold values dict_values([0.9928000524087701, 0.996889304427884])\n",
      "              precision    recall  f1-score   support\n",
      "\n",
      "          PR       0.71      0.19      0.30        26\n",
      "          TR       0.44      0.11      0.17        37\n",
      "\n",
      "   micro avg       0.56      0.14      0.23        63\n",
      "   macro avg       0.58      0.15      0.24        63\n",
      "weighted avg       0.56      0.14      0.23        63\n",
      " samples avg       0.00      0.00      0.00        63\n",
      "\n"
     ]
    },
    {
     "name": "stderr",
     "output_type": "stream",
     "text": [
      "/usr/local/lib/python3.6/dist-packages/sklearn/metrics/_classification.py:1272: UndefinedMetricWarning: Precision and F-score are ill-defined and being set to 0.0 in samples with no predicted labels. Use `zero_division` parameter to control this behavior.\n",
      "  _warn_prf(average, modifier, msg_start, len(result))\n",
      "/usr/local/lib/python3.6/dist-packages/sklearn/metrics/_classification.py:1272: UndefinedMetricWarning: Recall and F-score are ill-defined and being set to 0.0 in samples with no true labels. Use `zero_division` parameter to control this behavior.\n",
      "  _warn_prf(average, modifier, msg_start, len(result))\n"
     ]
    },
    {
     "data": {
      "image/png": "[encoded data removed]",
      "text/plain": [
       "<Figure size 432x288 with 2 Axes>"
      ]
     },
     "metadata": {
      "tags": []
     },
     "output_type": "display_data"
    },
    {
     "data": {
      "text/html": [
       "<div>\n",
       "<style scoped>\n",
       "    .dataframe tbody tr th:only-of-type {\n",
       "        vertical-align: middle;\n",
       "    }\n",
       "\n",
       "    .dataframe tbody tr th {\n",
       "        vertical-align: top;\n",
       "    }\n",
       "\n",
       "    .dataframe thead th {\n",
       "        text-align: right;\n",
       "    }\n",
       "</style>\n",
       "<table border=\"1\" class=\"dataframe\">\n",
       "  <thead>\n",
       "    <tr style=\"text-align: right;\">\n",
       "      <th></th>\n",
       "      <th>ROC AuC</th>\n",
       "      <th>PR AuC</th>\n",
       "      <th>F1</th>\n",
       "      <th>Report</th>\n",
       "      <th>CMS</th>\n",
       "    </tr>\n",
       "  </thead>\n",
       "  <tbody>\n",
       "    <tr>\n",
       "      <th>0</th>\n",
       "      <td>0.981598</td>\n",
       "      <td>0.330988</td>\n",
       "      <td>0.238472</td>\n",
       "      <td>{\"PR\": {\"precision\": 0.7142857142857143, \"reca...</td>\n",
       "      <td>[[[5, 2], [21, 28181]], [[4, 5], [33, 28167]]]</td>\n",
       "    </tr>\n",
       "  </tbody>\n",
       "</table>\n",
       "</div>"
      ],
      "text/plain": [
       "    ROC AuC  ...                                             CMS\n",
       "0  0.981598  ...  [[[5, 2], [21, 28181]], [[4, 5], [33, 28167]]]\n",
       "\n",
       "[1 rows x 5 columns]"
      ]
     },
     "execution_count": 33,
     "metadata": {
      "tags": []
     },
     "output_type": "execute_result"
    }
   ],
   "source": [
    "test_eval_report = os.path.join(RESULTS_DIR, 'figures', f\"{CATEGORY_LEVEL}_{TASK}_{SCENARIO}_{MODEL_NAME}_test_report.pdf\")\n",
    "test_eval_scores = evaluation.test_evaluation_report(test_doc_labels, test_preds_prob, best_pr_threshold.values(), averaging=AVERAGING_STRATEGY, export_path=test_eval_report)\n",
    "results.log_experiment(test_eval_scores, prefix=\"test\")\n",
    "test_eval_scores"
   ]
  },
  {
   "cell_type": "code",
   "execution_count": null,
   "metadata": {
    "id": "Kr0dVEENiyAj"
   },
   "outputs": [],
   "source": [
    "import pickle\n",
    "\n",
    "SAVE_MODEL = False\n",
    "\n",
    "if SAVE_MODEL:\n",
    "    with open(os.path.join(MODELS_DIR), f\" {TASK}_svm_{CATEGORY_LEVEL}.pkl\", 'wb') as f:\n",
    "        grid_clf.label_list = label_list\n",
    "        pickle.dump(grid_clf, f, 4)"
   ]
  }
 ],
 "metadata": {
  "colab": {
   "authorship_tag": "ABX9TyP3tMfR8EgclFW7wUqmZefQ",
   "collapsed_sections": [],
   "include_colab_link": true,
   "name": "CRO Classification Baseline.ipynb",
   "provenance": [],
   "toc_visible": true
  },
  "kernelspec": {
   "display_name": "Python 3",
   "language": "python",
   "name": "python3"
  },
  "language_info": {
   "codemirror_mode": {
    "name": "ipython",
    "version": 3
   },
   "file_extension": ".py",
   "mimetype": "text/x-python",
   "name": "python",
   "nbconvert_exporter": "python",
   "pygments_lexer": "ipython3",
   "version": "3.8.5"
  }
 },
 "nbformat": 4,
 "nbformat_minor": 4
}
