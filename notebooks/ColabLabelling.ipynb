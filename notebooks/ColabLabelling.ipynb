{
 "cells": [
  {
   "cell_type": "markdown",
   "metadata": {},
   "source": [
    "# Labelling using Colab [![Open In Colab](https://colab.research.google.com/assets/colab-badge.svg)](https://github.com/dafrie/fin-disclosures-nlp/blob/master/notebooks/ColabLabelling.ipynb)\n",
    "\n",
    "- Uses custom widgets for labelling\n",
    "- Loads and stores the data in a google storage bucket\n",
    "\n"
   ]
  },
  {
   "cell_type": "markdown",
   "metadata": {},
   "source": []
  }
 ],
 "metadata": {
  "kernelspec": {
   "display_name": "Python 3",
   "language": "python",
   "name": "python3"
  },
  "language_info": {
   "codemirror_mode": {
    "name": "ipython",
    "version": 3
   },
   "file_extension": ".py",
   "mimetype": "text/x-python",
   "name": "python",
   "nbconvert_exporter": "python",
   "pygments_lexer": "ipython3",
   "version": "3.8.5"
  }
 },
 "nbformat": 4,
 "nbformat_minor": 4
}
