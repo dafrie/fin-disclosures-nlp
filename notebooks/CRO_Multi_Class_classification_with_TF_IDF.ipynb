{
  "nbformat": 4,
  "nbformat_minor": 0,
  "metadata": {
    "colab": {
      "name": "CRO - Multi-Class classification with TF-IDF.ipynb",
      "provenance": [],
      "collapsed_sections": [],
      "toc_visible": true,
      "authorship_tag": "ABX9TyMwlR4iO+n+1ialpkkjA79q",
      "include_colab_link": true
    },
    "kernelspec": {
      "name": "python3",
      "display_name": "Python 3"
    }
  },
  "cells": [
    {
      "cell_type": "markdown",
      "metadata": {
        "id": "view-in-github",
        "colab_type": "text"
      },
      "source": [
        "<a href=\"https://colab.research.google.com/github/dafrie/fin-disclosures-nlp/blob/master/notebooks/CRO_Multi_Class_classification_with_TF_IDF.ipynb\" target=\"_parent\"><img src=\"https://colab.research.google.com/assets/colab-badge.svg\" alt=\"Open In Colab\"/></a>"
      ]
    },
    {
      "cell_type": "markdown",
      "metadata": {
        "id": "Vo2Zej1Tftc_"
      },
      "source": [
        "# Benchmarks\n",
        "\n",
        "Ressources: \n",
        "https://scikit-learn.org/stable/tutorial/text_analytics/working_with_text_data.html"
      ]
    },
    {
      "cell_type": "markdown",
      "metadata": {
        "id": "YNYElYD1UrN8"
      },
      "source": [
        "## Config / Initialization"
      ]
    },
    {
      "cell_type": "code",
      "metadata": {
        "id": "PbLH3Gmaiqpo"
      },
      "source": [
        "import pandas as pd\n",
        "import numpy as np\n",
        "from sklearn import metrics\n",
        "\n",
        "############################## CONFIG ##############################\n",
        "CATEGORY_LEVEL = 'cro' #@param [\"cro\", \"cro_sub_type_combined\"]\n",
        "F1_AVERAGING_STRATEGY = 'macro' #@param [\"micro\",  \"macro\", \"weighted\"]\n",
        "####################################################################\n",
        "\n",
        "# To make the notebook reproducible (not guaranteed for pytorch on different releases/platforms!)\n",
        "SEED_VALUE = 0\n",
        "\n",
        "# Results file\n",
        "RESULT_COLUMNS = [\"model_id\", \"transformer_model\", \"category_level\", \"accuracy\", \"f1_score\", \"f1_score_avg_strat\", \"confusion_matrix\"]\n",
        "RESULTS_FILE = \"/content/drive/My Drive/fin-disclosures-nlp/data/labels/Firm_AnnualReport_100_results_baseline.pkl\"\n"
      ],
      "execution_count": 17,
      "outputs": []
    },
    {
      "cell_type": "code",
      "metadata": {
        "id": "yUDAP1ROjxm8",
        "outputId": "ad2f69f9-ad1a-4f69-bdb2-68f49059799b",
        "colab": {
          "base_uri": "https://localhost:8080/"
        }
      },
      "source": [
        "# Load data\n",
        "from google.colab import drive\n",
        "drive.mount('/content/drive')\n",
        "df = pd.read_pickle(\"/content/drive/My Drive/fin-disclosures-nlp/data/labels/Firm_AnnualReport_Labels_100_combined.pkl\")\n",
        "\n",
        "# Drop n/a's:\n",
        "if CATEGORY_LEVEL == 'cro':\n",
        "  df.query('cro == [\"PR\", \"TR\", \"OP\"]', inplace=True)\n",
        "  no_of_categories = len(df.cro.unique())\n",
        "else:\n",
        "  df.query('cro_sub_type_combined.notnull() and cro_sub_type_combined != \"\"', inplace=True, engine='python')\n",
        "  no_of_categories = len(df.cro_sub_type_combined.unique())\n",
        "\n",
        "\n",
        "# Set texts and labels\n",
        "docs = df.text\n",
        "doc_labels = df[CATEGORY_LEVEL].astype('category').cat.codes.to_numpy(copy=True)\n",
        "\n",
        "# TODO: Load test data"
      ],
      "execution_count": 18,
      "outputs": [
        {
          "output_type": "stream",
          "text": [
            "Drive already mounted at /content/drive; to attempt to forcibly remount, call drive.mount(\"/content/drive\", force_remount=True).\n"
          ],
          "name": "stdout"
        }
      ]
    },
    {
      "cell_type": "code",
      "metadata": {
        "id": "cpv4AvgokC6i"
      },
      "source": [
        "from sklearn.model_selection import train_test_split\n",
        "\n",
        "# Split to train/test (temporary)\n",
        "X_train, X_test, y_train, y_test = train_test_split(docs, doc_labels, test_size=0.1, random_state=SEED_VALUE)"
      ],
      "execution_count": 19,
      "outputs": []
    },
    {
      "cell_type": "code",
      "metadata": {
        "id": "co0CqeITVdpB",
        "outputId": "e6275bdb-8a66-44d6-b900-48f089c18cd7",
        "colab": {
          "base_uri": "https://localhost:8080/"
        }
      },
      "source": [
        "from sklearn.feature_extraction.text import TfidfVectorizer\n",
        "\n",
        "# Vectorize the 2 datasets using tf-idf.\n",
        "vectorizer = TfidfVectorizer()\n",
        "vectors_train = vectorizer.fit_transform(X_train)\n",
        "vectors_test = vectorizer.transform(X_test)\n",
        "\n",
        "print('{:>6,} train samples with {:<7,} features.'.format(vectors_train.shape[0], vectors_train.shape[1]))\n",
        "print('{:>6,}  test samples with {:<7,} features.'.format(vectors_test.shape[0], vectors_test.shape[1]))"
      ],
      "execution_count": 20,
      "outputs": [
        {
          "output_type": "stream",
          "text": [
            "   825 train samples with 5,633   features.\n",
            "    92  test samples with 5,633   features.\n"
          ],
          "name": "stdout"
        }
      ]
    },
    {
      "cell_type": "markdown",
      "metadata": {
        "id": "cl4Fq6b_U4XG"
      },
      "source": [
        "## Multinomial Naive Bayes classifier\n",
        "\n",
        "Ressource: https://scikit-learn.org/stable/modules/naive_bayes.html#naive-bayes"
      ]
    },
    {
      "cell_type": "code",
      "metadata": {
        "id": "686t9lPsjPqG",
        "outputId": "b667f16e-e86b-4055-a0f3-bd08d1f1a836",
        "colab": {
          "base_uri": "https://localhost:8080/"
        }
      },
      "source": [
        "from sklearn.naive_bayes import MultinomialNB\n",
        "\n",
        "clf = MultinomialNB(alpha=.01)\n",
        "\n",
        "# Train the classifier on the training set.\n",
        "clf.fit(vectors_train, y_train)\n",
        "\n",
        "# Run prediction on the test set.\n",
        "pred = clf.predict(vectors_test)\n",
        "\n",
        "# Use the accuracy and F1 metric to score our classifier's performance on the test set.\n",
        "accuracy = metrics.accuracy_score(y_test, pred)\n",
        "score = metrics.f1_score(y_test, pred, average=F1_AVERAGING_STRATEGY)\n",
        "\n",
        "# Report the scores\n",
        "print('Accuracy: {:.3}'.format(accuracy))\n",
        "print('F1 score: {:.3}'.format(score))"
      ],
      "execution_count": 21,
      "outputs": [
        {
          "output_type": "stream",
          "text": [
            "Accuracy: 0.967\n",
            "F1 score: 0.928\n"
          ],
          "name": "stdout"
        }
      ]
    },
    {
      "cell_type": "code",
      "metadata": {
        "id": "wqAqiCsTlNCp",
        "outputId": "4c6c9e7b-a31e-454b-873c-52e48b74ec11",
        "colab": {
          "base_uri": "https://localhost:8080/",
          "height": 446
        }
      },
      "source": [
        "import seaborn as sn\n",
        "import pandas as pd\n",
        "import matplotlib.pyplot as plt\n",
        "\n",
        "confusion_m = metrics.confusion_matrix(y_test, pred)\n",
        "df_cm = pd.DataFrame(confusion_m, index = [c for c in df[CATEGORY_LEVEL].astype('category').cat.categories],\n",
        "                  columns = [c for c in df[CATEGORY_LEVEL].astype('category').cat.categories])\n",
        "plt.figure(figsize = (10,7))\n",
        "ax = sn.heatmap(df_cm, annot=True)\n",
        "ax.set(xlabel=\"Predicted (j)\", ylabel=\"Actual (i)\")\n",
        "\n",
        "bayes_result = pd.DataFrame([[f\"bayes_{CATEGORY_LEVEL}\", 'bayes', CATEGORY_LEVEL, accuracy, score, F1_AVERAGING_STRATEGY, df_cm]], columns=RESULT_COLUMNS)\n",
        "bayes_result = bayes_result.set_index('model_id')"
      ],
      "execution_count": 22,
      "outputs": [
        {
          "output_type": "display_data",
          "data": {
            "image/png": "[encoded data removed]",
            "text/plain": [
              "<Figure size 720x504 with 2 Axes>"
            ]
          },
          "metadata": {
            "tags": [],
            "needs_background": "light"
          }
        }
      ]
    },
    {
      "cell_type": "markdown",
      "metadata": {
        "id": "nDohiPX6V82Y"
      },
      "source": [
        "## Support Vector Machine (SVM)"
      ]
    },
    {
      "cell_type": "code",
      "metadata": {
        "id": "JgudUwuQdWQy",
        "outputId": "a06474e8-b3cc-44f7-d7ac-e6e9d82e133c",
        "colab": {
          "base_uri": "https://localhost:8080/"
        }
      },
      "source": [
        "from sklearn.linear_model import SGDClassifier\n",
        "\n",
        "clf = SGDClassifier(loss='hinge', penalty='l2', alpha=1e-3, random_state=42, max_iter=5, tol=None)\n",
        "\n",
        "# Train the classifier on the training set.\n",
        "clf.fit(vectors_train, y_train)\n",
        "\n",
        "# Run prediction on the test set.\n",
        "pred = clf.predict(vectors_test)\n",
        "\n",
        "# Use the accuracy and F1 metric to score our classifier's performance on the test set.\n",
        "accuracy = metrics.accuracy_score(y_test, pred)\n",
        "score = metrics.f1_score(y_test, pred, average=F1_AVERAGING_STRATEGY)\n",
        "\n",
        "# Report the scores\n",
        "print('Accuracy: {:.3}'.format(accuracy))\n",
        "print('F1 score: {:.3}'.format(score))"
      ],
      "execution_count": 23,
      "outputs": [
        {
          "output_type": "stream",
          "text": [
            "Accuracy: 0.978\n",
            "F1 score: 0.946\n"
          ],
          "name": "stdout"
        }
      ]
    },
    {
      "cell_type": "code",
      "metadata": {
        "id": "GBHECNK8dwTD",
        "outputId": "ead9b3c7-5f6f-4a89-de2e-7f624adf4ae4",
        "colab": {
          "base_uri": "https://localhost:8080/",
          "height": 442
        }
      },
      "source": [
        "import seaborn as sn\n",
        "import pandas as pd\n",
        "import matplotlib.pyplot as plt\n",
        "\n",
        "confusion_m = metrics.confusion_matrix(y_test, pred)\n",
        "df_cm = pd.DataFrame(confusion_m, index = [c for c in df[CATEGORY_LEVEL].astype('category').cat.categories],\n",
        "                  columns = [c for c in df[CATEGORY_LEVEL].astype('category').cat.categories])\n",
        "plt.figure(figsize = (10,7))\n",
        "ax = sn.heatmap(df_cm, annot=True)\n",
        "ax.set(xlabel=\"Predicted (j)\", ylabel=\"Actual (i)\")\n",
        "\n",
        "svm_result = pd.DataFrame([[f\"svm_{CATEGORY_LEVEL}\", 'svm', CATEGORY_LEVEL, accuracy, score, F1_AVERAGING_STRATEGY, df_cm]], columns=RESULT_COLUMNS)\n",
        "svm_result = svm_result.set_index('model_id')"
      ],
      "execution_count": 24,
      "outputs": [
        {
          "output_type": "display_data",
          "data": {
            "image/png": "[encoded data removed]",
            "text/plain": [
              "<Figure size 720x504 with 2 Axes>"
            ]
          },
          "metadata": {
            "tags": [],
            "needs_background": "light"
          }
        }
      ]
    },
    {
      "cell_type": "markdown",
      "metadata": {
        "id": "oFfYUP3Lj5V_"
      },
      "source": [
        "# Store results"
      ]
    },
    {
      "cell_type": "code",
      "metadata": {
        "id": "5UaCEnbUj1i8",
        "outputId": "1b0c4c74-d98c-4538-b806-4fc8ff1e1687",
        "colab": {
          "base_uri": "https://localhost:8080/",
          "height": 204
        }
      },
      "source": [
        "try:\n",
        "  df_results = pd.read_pickle(RESULTS_FILE)\n",
        "except FileNotFoundError:\n",
        "  df_results = pd.DataFrame([], columns=RESULT_COLUMNS)\n",
        "  df_results = df_results.set_index('model_id')\n",
        "  df_results.to_pickle(RESULTS_FILE)\n",
        "\n",
        "# Upsert values\n",
        "df_results = pd.concat([df_results[~df_results.index.isin(bayes_result.index)], bayes_result])\n",
        "df_results = pd.concat([df_results[~df_results.index.isin(svm_result.index)], svm_result])\n",
        "df_results.to_pickle(RESULTS_FILE)\n",
        "df_results"
      ],
      "execution_count": 25,
      "outputs": [
        {
          "output_type": "execute_result",
          "data": {
            "text/html": [
              "<div>\n",
              "<style scoped>\n",
              "    .dataframe tbody tr th:only-of-type {\n",
              "        vertical-align: middle;\n",
              "    }\n",
              "\n",
              "    .dataframe tbody tr th {\n",
              "        vertical-align: top;\n",
              "    }\n",
              "\n",
              "    .dataframe thead th {\n",
              "        text-align: right;\n",
              "    }\n",
              "</style>\n",
              "<table border=\"1\" class=\"dataframe\">\n",
              "  <thead>\n",
              "    <tr style=\"text-align: right;\">\n",
              "      <th></th>\n",
              "      <th>transformer_model</th>\n",
              "      <th>category_level</th>\n",
              "      <th>accuracy</th>\n",
              "      <th>f1_score</th>\n",
              "      <th>f1_score_avg_strat</th>\n",
              "      <th>confusion_matrix</th>\n",
              "    </tr>\n",
              "    <tr>\n",
              "      <th>model_id</th>\n",
              "      <th></th>\n",
              "      <th></th>\n",
              "      <th></th>\n",
              "      <th></th>\n",
              "      <th></th>\n",
              "      <th></th>\n",
              "    </tr>\n",
              "  </thead>\n",
              "  <tbody>\n",
              "    <tr>\n",
              "      <th>bayes_cro_sub_type_combined</th>\n",
              "      <td>bayes</td>\n",
              "      <td>cro_sub_type_combined</td>\n",
              "      <td>0.824176</td>\n",
              "      <td>0.528352</td>\n",
              "      <td>macro</td>\n",
              "      <td>ACUTE  CHRON  MARKET  POLICY  PROD...</td>\n",
              "    </tr>\n",
              "    <tr>\n",
              "      <th>svm_cro_sub_type_combined</th>\n",
              "      <td>svm</td>\n",
              "      <td>cro_sub_type_combined</td>\n",
              "      <td>0.780220</td>\n",
              "      <td>0.478488</td>\n",
              "      <td>macro</td>\n",
              "      <td>ACUTE  CHRON  MARKET  POLICY  PROD...</td>\n",
              "    </tr>\n",
              "    <tr>\n",
              "      <th>bayes_cro</th>\n",
              "      <td>bayes</td>\n",
              "      <td>cro</td>\n",
              "      <td>0.967391</td>\n",
              "      <td>0.928181</td>\n",
              "      <td>macro</td>\n",
              "      <td>OP  PR  TR\n",
              "OP  70   0   1\n",
              "PR   0  11   0\n",
              "T...</td>\n",
              "    </tr>\n",
              "    <tr>\n",
              "      <th>svm_cro</th>\n",
              "      <td>svm</td>\n",
              "      <td>cro</td>\n",
              "      <td>0.978261</td>\n",
              "      <td>0.946139</td>\n",
              "      <td>macro</td>\n",
              "      <td>OP  PR  TR\n",
              "OP  71   0   0\n",
              "PR   0  11   0\n",
              "T...</td>\n",
              "    </tr>\n",
              "  </tbody>\n",
              "</table>\n",
              "</div>"
            ],
            "text/plain": [
              "                            transformer_model  ...                                   confusion_matrix\n",
              "model_id                                       ...                                                   \n",
              "bayes_cro_sub_type_combined             bayes  ...              ACUTE  CHRON  MARKET  POLICY  PROD...\n",
              "svm_cro_sub_type_combined                 svm  ...              ACUTE  CHRON  MARKET  POLICY  PROD...\n",
              "bayes_cro                               bayes  ...      OP  PR  TR\n",
              "OP  70   0   1\n",
              "PR   0  11   0\n",
              "T...\n",
              "svm_cro                                   svm  ...      OP  PR  TR\n",
              "OP  71   0   0\n",
              "PR   0  11   0\n",
              "T...\n",
              "\n",
              "[4 rows x 6 columns]"
            ]
          },
          "metadata": {
            "tags": []
          },
          "execution_count": 25
        }
      ]
    },
    {
      "cell_type": "markdown",
      "metadata": {
        "id": "VK8pYrj1Unpp"
      },
      "source": [
        "# Grid Search\n",
        "\n",
        "TODO: https://scikit-learn.org/stable/tutorial/text_analytics/working_with_text_data.html#parameter-tuning-using-grid-search"
      ]
    },
    {
      "cell_type": "code",
      "metadata": {
        "id": "qxuSmmOqJ2PL"
      },
      "source": [
        "from sklearn.model_selection import GridSearchCV\n",
        "\n",
        "parameters = {\n",
        "     'vect__ngram_range': [(1, 1), (1, 2)],\n",
        "     'tfidf__use_idf': (True, False),\n",
        "     'clf__alpha': (1e-2, 1e-3),\n",
        " }"
      ],
      "execution_count": 26,
      "outputs": []
    }
  ]
}