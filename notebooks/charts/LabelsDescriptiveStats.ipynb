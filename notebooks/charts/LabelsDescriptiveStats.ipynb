{
 "cells": [
  {
   "cell_type": "markdown",
   "metadata": {},
   "source": [
    "# Labels: Descriptive stats"
   ]
  },
  {
   "cell_type": "code",
   "execution_count": 1,
   "metadata": {},
   "outputs": [],
   "source": [
    "import sys\n",
    "\n",
    "import pandas as pd\n",
    "import numpy as np\n",
    "\n",
    "sys.path.append('../..')\n",
    "from data import constants\n",
    "\n",
    "# Read training and test data\n",
    "df_train = pd.read_pickle(\"/Users/david/Nextcloud/Dokumente/Education/Uni Bern/Master Thesis/Analyzing Financial Climate Disclosures with NLP/Labelling/annual reports/Firm_AnnualReport_Labels_Training.pkl\")\n",
    "df_test = pd.read_pickle(\"/Users/david/Nextcloud/Dokumente/Education/Uni Bern/Master Thesis/Analyzing Financial Climate Disclosures with NLP/Labelling/annual reports/Firm_AnnualReport_Labels_Test.pkl\")"
   ]
  },
  {
   "cell_type": "code",
   "execution_count": 2,
   "metadata": {},
   "outputs": [
    {
     "data": {
      "text/html": [
       "<div>\n",
       "<style scoped>\n",
       "    .dataframe tbody tr th:only-of-type {\n",
       "        vertical-align: middle;\n",
       "    }\n",
       "\n",
       "    .dataframe tbody tr th {\n",
       "        vertical-align: top;\n",
       "    }\n",
       "\n",
       "    .dataframe thead th {\n",
       "        text-align: right;\n",
       "    }\n",
       "</style>\n",
       "<table border=\"1\" class=\"dataframe\">\n",
       "  <thead>\n",
       "    <tr style=\"text-align: right;\">\n",
       "      <th></th>\n",
       "      <th></th>\n",
       "      <th>Train</th>\n",
       "    </tr>\n",
       "    <tr>\n",
       "      <th>cro</th>\n",
       "      <th>cro_sub_type_combined</th>\n",
       "      <th></th>\n",
       "    </tr>\n",
       "  </thead>\n",
       "  <tbody>\n",
       "    <tr>\n",
       "      <th rowspan=\"2\" valign=\"top\">OP</th>\n",
       "      <th>PRODUCTS</th>\n",
       "      <td>423</td>\n",
       "    </tr>\n",
       "    <tr>\n",
       "      <th>RESILIENCE</th>\n",
       "      <td>423</td>\n",
       "    </tr>\n",
       "    <tr>\n",
       "      <th rowspan=\"2\" valign=\"top\">PR</th>\n",
       "      <th>ACUTE</th>\n",
       "      <td>113</td>\n",
       "    </tr>\n",
       "    <tr>\n",
       "      <th>CHRON</th>\n",
       "      <td>21</td>\n",
       "    </tr>\n",
       "    <tr>\n",
       "      <th rowspan=\"3\" valign=\"top\">TR</th>\n",
       "      <th>MARKET</th>\n",
       "      <td>51</td>\n",
       "    </tr>\n",
       "    <tr>\n",
       "      <th>POLICY</th>\n",
       "      <td>109</td>\n",
       "    </tr>\n",
       "    <tr>\n",
       "      <th>REPUTATION</th>\n",
       "      <td>29</td>\n",
       "    </tr>\n",
       "  </tbody>\n",
       "</table>\n",
       "</div>"
      ],
      "text/plain": [
       "                           Train\n",
       "cro cro_sub_type_combined       \n",
       "OP  PRODUCTS                 423\n",
       "    RESILIENCE               423\n",
       "PR  ACUTE                    113\n",
       "    CHRON                     21\n",
       "TR  MARKET                    51\n",
       "    POLICY                   109\n",
       "    REPUTATION                29"
      ]
     },
     "execution_count": 2,
     "metadata": {},
     "output_type": "execute_result"
    }
   ],
   "source": [
    "df_train.groupby(['cro', 'cro_sub_type_combined']).size().to_frame('Train')"
   ]
  },
  {
   "cell_type": "code",
   "execution_count": 6,
   "metadata": {},
   "outputs": [
    {
     "data": {
      "text/plain": [
       "26708"
      ]
     },
     "execution_count": 6,
     "metadata": {},
     "output_type": "execute_result"
    }
   ],
   "source": [
    "len(df_train.query('cro != cro'))"
   ]
  },
  {
   "cell_type": "code",
   "execution_count": 9,
   "metadata": {},
   "outputs": [
    {
     "data": {
      "text/html": [
       "<div>\n",
       "<style scoped>\n",
       "    .dataframe tbody tr th:only-of-type {\n",
       "        vertical-align: middle;\n",
       "    }\n",
       "\n",
       "    .dataframe tbody tr th {\n",
       "        vertical-align: top;\n",
       "    }\n",
       "\n",
       "    .dataframe thead th {\n",
       "        text-align: right;\n",
       "    }\n",
       "</style>\n",
       "<table border=\"1\" class=\"dataframe\">\n",
       "  <thead>\n",
       "    <tr style=\"text-align: right;\">\n",
       "      <th></th>\n",
       "      <th></th>\n",
       "      <th>Training</th>\n",
       "      <th>Test</th>\n",
       "    </tr>\n",
       "    <tr>\n",
       "      <th></th>\n",
       "      <th></th>\n",
       "      <th></th>\n",
       "      <th></th>\n",
       "    </tr>\n",
       "  </thead>\n",
       "  <tbody>\n",
       "    <tr>\n",
       "      <th rowspan=\"2\" valign=\"top\">Physical risk</th>\n",
       "      <th>Acute</th>\n",
       "      <td>113.0</td>\n",
       "      <td>21.0</td>\n",
       "    </tr>\n",
       "    <tr>\n",
       "      <th>Chronic</th>\n",
       "      <td>21.0</td>\n",
       "      <td>7.0</td>\n",
       "    </tr>\n",
       "    <tr>\n",
       "      <th rowspan=\"3\" valign=\"top\">Transition risk</th>\n",
       "      <th>Policy &amp; Legal</th>\n",
       "      <td>109.0</td>\n",
       "      <td>20.0</td>\n",
       "    </tr>\n",
       "    <tr>\n",
       "      <th>Market &amp; Technology</th>\n",
       "      <td>51.0</td>\n",
       "      <td>12.0</td>\n",
       "    </tr>\n",
       "    <tr>\n",
       "      <th>Reputation</th>\n",
       "      <td>29.0</td>\n",
       "      <td>7.0</td>\n",
       "    </tr>\n",
       "    <tr>\n",
       "      <th rowspan=\"2\" valign=\"top\">Opportunity</th>\n",
       "      <th>Products, Services &amp; Markets</th>\n",
       "      <td>423.0</td>\n",
       "      <td>18.0</td>\n",
       "    </tr>\n",
       "    <tr>\n",
       "      <th>Resource Efficiency &amp; Resilience</th>\n",
       "      <td>423.0</td>\n",
       "      <td>4.0</td>\n",
       "    </tr>\n",
       "    <tr>\n",
       "      <th>Positive paragraphs</th>\n",
       "      <th></th>\n",
       "      <td>1169.0</td>\n",
       "      <td>89.0</td>\n",
       "    </tr>\n",
       "    <tr>\n",
       "      <th>Negative paragraphs</th>\n",
       "      <th></th>\n",
       "      <td>26708.0</td>\n",
       "      <td>28132.0</td>\n",
       "    </tr>\n",
       "  </tbody>\n",
       "</table>\n",
       "</div>"
      ],
      "text/plain": [
       "                                                      Training     Test\n",
       "                                                                       \n",
       "Physical risk       Acute                                113.0     21.0\n",
       "                    Chronic                               21.0      7.0\n",
       "Transition risk     Policy & Legal                       109.0     20.0\n",
       "                    Market & Technology                   51.0     12.0\n",
       "                    Reputation                            29.0      7.0\n",
       "Opportunity         Products, Services & Markets         423.0     18.0\n",
       "                    Resource Efficiency & Resilience     423.0      4.0\n",
       "Positive paragraphs                                     1169.0     89.0\n",
       "Negative paragraphs                                    26708.0  28132.0"
      ]
     },
     "execution_count": 9,
     "metadata": {},
     "output_type": "execute_result"
    }
   ],
   "source": [
    "df_train_sum = df_train.groupby(['cro', 'cro_sub_type_combined']).size().to_frame('Training')\n",
    "df_test_sum = df_test.groupby(['cro', 'cro_sub_type_combined']).size().to_frame('Test')\n",
    "\n",
    "data = pd.concat([df_train_sum, df_test_sum], axis=1)  # pd.DataFrame.concat([df_train_sum, df_test_sum])\n",
    "data.rename(index=constants.map_to_label(), inplace=True)\n",
    "data = data.reindex(constants.cro_category_labels2, level=0, copy=False)\n",
    "data = data.reindex(constants.cro_sub_category_labels2, level=1, copy=False)\n",
    "data.index = data.index.rename([' ', ' '])\n",
    "data.loc['Positive paragraphs', :] = data.sum().values\n",
    "data.loc['Negative paragraphs', :] = [len(df_train.query('cro != cro')), len(df_test.query('cro != cro'))]\n",
    "data"
   ]
  },
  {
   "cell_type": "code",
   "execution_count": 10,
   "metadata": {},
   "outputs": [
    {
     "name": "stdout",
     "output_type": "stream",
     "text": [
      "\\begin{tabular}{llrr}\n",
      "\\toprule\n",
      "                    &                                  &  Training &  Test \\\\\n",
      "  &   &           &       \\\\\n",
      "\\midrule\n",
      "Physical risk & Acute &       113 &    21 \\\\\n",
      "                    & Chronic &        21 &     7 \\\\\n",
      "Transition risk & Policy \\& Legal &       109 &    20 \\\\\n",
      "                    & Market \\& Technology &        51 &    12 \\\\\n",
      "                    & Reputation &        29 &     7 \\\\\n",
      "Opportunity & Products, Services \\& Markets &       423 &    18 \\\\\n",
      "                    & Resource Efficiency \\& Resilience &       423 &     4 \\\\\n",
      "\\midrule\n",
      "Positive paragraphs &                                  &      1169 &    89 \\\\\n",
      "Negative paragraphs &                                  &     26708 & 28132 \\\\\n",
      "\\bottomrule\n",
      "\\end{tabular}\n"
     ]
    }
   ],
   "source": [
    "\n",
    "\n",
    "def add_hline(latex: str, index: int) -> str:\n",
    "    \"\"\"\n",
    "    Adds a horizontal `index` lines before the last line of the table\n",
    "\n",
    "    Args:\n",
    "        latex: latex table\n",
    "        index: index of horizontal line insertion (in lines)\n",
    "    \"\"\"\n",
    "    lines = latex.splitlines()\n",
    "    lines.insert(len(lines) - index - 2, r'\\midrule')\n",
    "    return '\\n'.join(lines).replace('NaN', '')\n",
    "\n",
    "latex_str = data.to_latex(float_format=\"%.0f\")\n",
    "latex_str = add_hline(latex_str, 2)\n",
    "print(latex_str)\n",
    "with open('/Users/david/Nextcloud/Dokumente/Education/Uni Bern/Master Thesis/Analyzing Financial Climate Disclosures with NLP/Thesis/tables/cro_label_count.tex', 'w') as tf:\n",
    "     tf.write(latex_str)"
   ]
  },
  {
   "cell_type": "code",
   "execution_count": null,
   "metadata": {},
   "outputs": [],
   "source": [
    "from datetime import datetime\n",
    "import pandas as pd\n",
    "import matplotlib.pyplot as plt\n",
    "import seaborn as sns\n",
    "\n",
    "data = df_train.groupby(['cro', 'cro_sub_type_combined']).count()\n",
    "\n",
    "g = sns.catplot(x=\"cro_sub_type_combined\", col=\"cro\", col_wrap=4,\n",
    "                data=df_train,\n",
    "                kind=\"count\", height=2.5, aspect=.8)"
   ]
  },
  {
   "cell_type": "code",
   "execution_count": null,
   "metadata": {},
   "outputs": [],
   "source": [
    "from datetime import datetime\n",
    "import pandas as pd\n",
    "import matplotlib.pyplot as plt\n",
    "import seaborn as sns\n",
    "\n",
    "# Setup seaborn\n",
    "sns.set_theme(style=\"ticks\", rc={'text.usetex' : True})\n",
    "sns.set_context(\"paper\")"
   ]
  },
  {
   "cell_type": "code",
   "execution_count": null,
   "metadata": {},
   "outputs": [],
   "source": [
    "fig, axes = plt.subplots(nrows=1, ncols=2)\n",
    "groups.plot(ax=axes[0], kind='bar')\n",
    "sub_groups.plot(ax=axes[1], kind='bar')"
   ]
  }
 ],
 "metadata": {
  "kernelspec": {
   "display_name": "Python 3",
   "language": "python",
   "name": "python3"
  },
  "language_info": {
   "codemirror_mode": {
    "name": "ipython",
    "version": 3
   },
   "file_extension": ".py",
   "mimetype": "text/x-python",
   "name": "python",
   "nbconvert_exporter": "python",
   "pygments_lexer": "ipython3",
   "version": "3.8.5"
  }
 },
 "nbformat": 4,
 "nbformat_minor": 4
}
