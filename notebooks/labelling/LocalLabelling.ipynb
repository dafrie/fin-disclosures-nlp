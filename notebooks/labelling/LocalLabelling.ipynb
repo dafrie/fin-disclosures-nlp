{
 "cells": [
  {
   "cell_type": "markdown",
   "metadata": {},
   "source": [
    "# Local labelling"
   ]
  },
  {
   "cell_type": "code",
   "execution_count": 3,
   "metadata": {},
   "outputs": [
    {
     "data": {
      "application/vnd.jupyter.widget-view+json": {
       "model_id": "1a9e3fe5f5f84a34a7a82af7f3308419",
       "version_major": 2,
       "version_minor": 0
      },
      "text/plain": [
       "Output()"
      ]
     },
     "metadata": {},
     "output_type": "display_data"
    },
    {
     "data": {
      "application/vnd.jupyter.widget-view+json": {
       "model_id": "83e10a1231d94bd7ba1f8afaeb22ffc1",
       "version_major": 2,
       "version_minor": 0
      },
      "text/plain": [
       "Output()"
      ]
     },
     "metadata": {},
     "output_type": "display_data"
    },
    {
     "data": {
      "application/vnd.jupyter.widget-view+json": {
       "model_id": "0b44010eb3184b68bca36f6fb4b33ee7",
       "version_major": 2,
       "version_minor": 0
      },
      "text/plain": [
       "HBox(children=(Button(description='Previous relevant page', style=ButtonStyle()), BoundedIntText(value=1, desc…"
      ]
     },
     "metadata": {},
     "output_type": "display_data"
    },
    {
     "data": {
      "application/vnd.jupyter.widget-view+json": {
       "model_id": "019abbf0179c44d9b65daa4ef6457b83",
       "version_major": 2,
       "version_minor": 0
      },
      "text/plain": [
       "Output()"
      ]
     },
     "metadata": {},
     "output_type": "display_data"
    }
   ],
   "source": [
    "import os\n",
    "import importlib\n",
    "import sys\n",
    "\n",
    "\n",
    "import pandas as pd\n",
    "\n",
    "sys.path.append('../..')\n",
    "import data\n",
    "from data.custom_widgets import ReportsLabeler\n",
    "importlib.reload(data.custom_widgets)\n",
    "\n",
    "############## CONFIG ##############\n",
    "DATA_INPUT_PATH = os.path.abspath(\"../input_files/annual_reports\")\n",
    "MASTER_DATA_PATH = os.path.abspath('/Users/david/Nextcloud/Dokumente/Education/Uni Bern/Master Thesis/Analyzing Financial Climate Disclosures with NLP/Labelling/annual reports/Firm_AnnualReport_Test_DF.csv')\n",
    "LABEL_OUTPUT_FN = 'Firm_AnnualReport_Labels_Test_DF.pkl'\n",
    "####################################\n",
    "\n",
    "labeler = ReportsLabeler(files_input_dir=DATA_INPUT_PATH, master_input_path=MASTER_DATA_PATH, label_output_fn=LABEL_OUTPUT_FN, add_adjunct_pages=False)"
   ]
  },
  {
   "cell_type": "code",
   "execution_count": 5,
   "metadata": {},
   "outputs": [],
   "source": [
    "from data.dataframe_preparation import get_keywords_from_file\n",
    "\n",
    "vocab = get_keywords_from_file(\"../../data/keyword_vocabulary.txt\")"
   ]
  },
  {
   "cell_type": "code",
   "execution_count": 8,
   "metadata": {},
   "outputs": [
    {
     "data": {
      "text/plain": [
       "['climate change',\n",
       " 'global warming',\n",
       " 'climate risk',\n",
       " 'greenhouse effect',\n",
       " 'sustainable energy',\n",
       " 'renewable',\n",
       " 'carbon',\n",
       " 'co2',\n",
       " 'co2e',\n",
       " 'ghg',\n",
       " 'greenhouse',\n",
       " 'climate mitigation',\n",
       " 'paris agreement',\n",
       " 'kyoto protocol',\n",
       " 'ipcc',\n",
       " 'climate adaptation',\n",
       " 'change climate',\n",
       " 'emission regulation',\n",
       " 'emission standard',\n",
       " 'emission reduction',\n",
       " 'emission trading',\n",
       " 'cap and trade',\n",
       " 'oil price',\n",
       " 'energy price',\n",
       " 'fossil fuel',\n",
       " 'energy legislation',\n",
       " 'environmental legislation',\n",
       " 'climate legislation',\n",
       " 'natural hazard',\n",
       " 'windstorm',\n",
       " 'flood',\n",
       " 'flooding',\n",
       " 'drought',\n",
       " 'global temperature',\n",
       " 'temperature rise',\n",
       " 'extreme weather',\n",
       " 'sea level',\n",
       " 'disaster',\n",
       " 'extreme event',\n",
       " 'storm',\n",
       " 'hurricane',\n",
       " 'biodiversity',\n",
       " 'rainfall',\n",
       " 'rain',\n",
       " 'monsoon',\n",
       " 'catastrophic event',\n",
       " 'climate feedback',\n",
       " 'climate impact',\n",
       " 'climate variability',\n",
       " 'carbon capture',\n",
       " 'carbon sequestration',\n",
       " 'co2 sequestration',\n",
       " 'electric mobility',\n",
       " 'electric vehicle',\n",
       " 'battery',\n",
       " 'solar pv',\n",
       " 'photovoltaic',\n",
       " 'solar energy',\n",
       " 'solar power',\n",
       " 'wind energy',\n",
       " 'wind power',\n",
       " 'wind turbine',\n",
       " 'bio fuel',\n",
       " 'circular economy',\n",
       " 'environmental impact',\n",
       " 'water consumption',\n",
       " 'water usage',\n",
       " 'recycling',\n",
       " 'decentralized energy',\n",
       " 'energy efficiency']"
      ]
     },
     "execution_count": 8,
     "metadata": {},
     "output_type": "execute_result"
    }
   ],
   "source": [
    "vocab"
   ]
  },
  {
   "cell_type": "code",
   "execution_count": null,
   "metadata": {},
   "outputs": [],
   "source": []
  }
 ],
 "metadata": {
  "kernelspec": {
   "display_name": "Python 3",
   "language": "python",
   "name": "python3"
  },
  "language_info": {
   "codemirror_mode": {
    "name": "ipython",
    "version": 3
   },
   "file_extension": ".py",
   "mimetype": "text/x-python",
   "name": "python",
   "nbconvert_exporter": "python",
   "pygments_lexer": "ipython3",
   "version": "3.8.5"
  }
 },
 "nbformat": 4,
 "nbformat_minor": 4
}
