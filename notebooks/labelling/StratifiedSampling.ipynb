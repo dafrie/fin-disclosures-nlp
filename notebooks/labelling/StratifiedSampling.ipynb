{
 "cells": [
  {
   "cell_type": "code",
   "execution_count": null,
   "metadata": {},
   "outputs": [],
   "source": [
    "# Stratified Sampling"
   ]
  },
  {
   "cell_type": "code",
   "execution_count": 1,
   "metadata": {},
   "outputs": [
    {
     "data": {
      "application/vnd.jupyter.widget-view+json": {
       "model_id": "6c23b549e0094f4ea3064b989bf75ce5",
       "version_major": 2,
       "version_minor": 0
      },
      "text/plain": [
       "HBox(children=(FloatProgress(value=0.0, max=49.0), HTML(value='')))"
      ]
     },
     "metadata": {},
     "output_type": "display_data"
    },
    {
     "data": {
      "application/vnd.jupyter.widget-view+json": {
       "model_id": "",
       "version_major": 2,
       "version_minor": 0
      },
      "text/plain": [
       "HBox(children=(FloatProgress(value=0.0, max=20.0), HTML(value='')))"
      ]
     },
     "metadata": {},
     "output_type": "display_data"
    },
    {
     "data": {
      "application/vnd.jupyter.widget-view+json": {
       "model_id": "",
       "version_major": 2,
       "version_minor": 0
      },
      "text/plain": [
       "HBox(children=(FloatProgress(value=0.0, max=20.0), HTML(value='')))"
      ]
     },
     "metadata": {},
     "output_type": "display_data"
    },
    {
     "data": {
      "application/vnd.jupyter.widget-view+json": {
       "model_id": "",
       "version_major": 2,
       "version_minor": 0
      },
      "text/plain": [
       "HBox(children=(FloatProgress(value=0.0, max=21.0), HTML(value='')))"
      ]
     },
     "metadata": {},
     "output_type": "display_data"
    },
    {
     "data": {
      "application/vnd.jupyter.widget-view+json": {
       "model_id": "",
       "version_major": 2,
       "version_minor": 0
      },
      "text/plain": [
       "HBox(children=(FloatProgress(value=0.0, max=13.0), HTML(value='')))"
      ]
     },
     "metadata": {},
     "output_type": "display_data"
    },
    {
     "data": {
      "application/vnd.jupyter.widget-view+json": {
       "model_id": "",
       "version_major": 2,
       "version_minor": 0
      },
      "text/plain": [
       "HBox(children=(FloatProgress(value=0.0, max=16.0), HTML(value='')))"
      ]
     },
     "metadata": {},
     "output_type": "display_data"
    },
    {
     "data": {
      "application/vnd.jupyter.widget-view+json": {
       "model_id": "",
       "version_major": 2,
       "version_minor": 0
      },
      "text/plain": [
       "HBox(children=(FloatProgress(value=0.0, max=15.0), HTML(value='')))"
      ]
     },
     "metadata": {},
     "output_type": "display_data"
    },
    {
     "data": {
      "application/vnd.jupyter.widget-view+json": {
       "model_id": "",
       "version_major": 2,
       "version_minor": 0
      },
      "text/plain": [
       "HBox(children=(FloatProgress(value=0.0, max=21.0), HTML(value='')))"
      ]
     },
     "metadata": {},
     "output_type": "display_data"
    },
    {
     "data": {
      "application/vnd.jupyter.widget-view+json": {
       "model_id": "",
       "version_major": 2,
       "version_minor": 0
      },
      "text/plain": [
       "HBox(children=(FloatProgress(value=0.0, max=21.0), HTML(value='')))"
      ]
     },
     "metadata": {},
     "output_type": "display_data"
    },
    {
     "data": {
      "application/vnd.jupyter.widget-view+json": {
       "model_id": "",
       "version_major": 2,
       "version_minor": 0
      },
      "text/plain": [
       "HBox(children=(FloatProgress(value=0.0, max=16.0), HTML(value='')))"
      ]
     },
     "metadata": {},
     "output_type": "display_data"
    },
    {
     "data": {
      "application/vnd.jupyter.widget-view+json": {
       "model_id": "",
       "version_major": 2,
       "version_minor": 0
      },
      "text/plain": [
       "HBox(children=(FloatProgress(value=0.0, max=18.0), HTML(value='')))"
      ]
     },
     "metadata": {},
     "output_type": "display_data"
    },
    {
     "data": {
      "application/vnd.jupyter.widget-view+json": {
       "model_id": "",
       "version_major": 2,
       "version_minor": 0
      },
      "text/plain": [
       "HBox(children=(FloatProgress(value=0.0, max=15.0), HTML(value='')))"
      ]
     },
     "metadata": {},
     "output_type": "display_data"
    },
    {
     "data": {
      "application/vnd.jupyter.widget-view+json": {
       "model_id": "",
       "version_major": 2,
       "version_minor": 0
      },
      "text/plain": [
       "HBox(children=(FloatProgress(value=0.0, max=13.0), HTML(value='')))"
      ]
     },
     "metadata": {},
     "output_type": "display_data"
    },
    {
     "data": {
      "application/vnd.jupyter.widget-view+json": {
       "model_id": "",
       "version_major": 2,
       "version_minor": 0
      },
      "text/plain": [
       "HBox(children=(FloatProgress(value=0.0, max=20.0), HTML(value='')))"
      ]
     },
     "metadata": {},
     "output_type": "display_data"
    },
    {
     "data": {
      "application/vnd.jupyter.widget-view+json": {
       "model_id": "",
       "version_major": 2,
       "version_minor": 0
      },
      "text/plain": [
       "HBox(children=(FloatProgress(value=0.0, max=19.0), HTML(value='')))"
      ]
     },
     "metadata": {},
     "output_type": "display_data"
    },
    {
     "data": {
      "application/vnd.jupyter.widget-view+json": {
       "model_id": "",
       "version_major": 2,
       "version_minor": 0
      },
      "text/plain": [
       "HBox(children=(FloatProgress(value=0.0, max=9.0), HTML(value='')))"
      ]
     },
     "metadata": {},
     "output_type": "display_data"
    },
    {
     "data": {
      "application/vnd.jupyter.widget-view+json": {
       "model_id": "",
       "version_major": 2,
       "version_minor": 0
      },
      "text/plain": [
       "HBox(children=(FloatProgress(value=0.0, max=16.0), HTML(value='')))"
      ]
     },
     "metadata": {},
     "output_type": "display_data"
    },
    {
     "data": {
      "application/vnd.jupyter.widget-view+json": {
       "model_id": "",
       "version_major": 2,
       "version_minor": 0
      },
      "text/plain": [
       "HBox(children=(FloatProgress(value=0.0, max=20.0), HTML(value='')))"
      ]
     },
     "metadata": {},
     "output_type": "display_data"
    },
    {
     "data": {
      "application/vnd.jupyter.widget-view+json": {
       "model_id": "",
       "version_major": 2,
       "version_minor": 0
      },
      "text/plain": [
       "HBox(children=(FloatProgress(value=0.0, max=16.0), HTML(value='')))"
      ]
     },
     "metadata": {},
     "output_type": "display_data"
    },
    {
     "data": {
      "application/vnd.jupyter.widget-view+json": {
       "model_id": "",
       "version_major": 2,
       "version_minor": 0
      },
      "text/plain": [
       "HBox(children=(FloatProgress(value=0.0, max=11.0), HTML(value='')))"
      ]
     },
     "metadata": {},
     "output_type": "display_data"
    },
    {
     "data": {
      "application/vnd.jupyter.widget-view+json": {
       "model_id": "",
       "version_major": 2,
       "version_minor": 0
      },
      "text/plain": [
       "HBox(children=(FloatProgress(value=0.0, max=21.0), HTML(value='')))"
      ]
     },
     "metadata": {},
     "output_type": "display_data"
    },
    {
     "data": {
      "application/vnd.jupyter.widget-view+json": {
       "model_id": "",
       "version_major": 2,
       "version_minor": 0
      },
      "text/plain": [
       "HBox(children=(FloatProgress(value=0.0, max=16.0), HTML(value='')))"
      ]
     },
     "metadata": {},
     "output_type": "display_data"
    },
    {
     "data": {
      "application/vnd.jupyter.widget-view+json": {
       "model_id": "",
       "version_major": 2,
       "version_minor": 0
      },
      "text/plain": [
       "HBox(children=(FloatProgress(value=0.0, max=12.0), HTML(value='')))"
      ]
     },
     "metadata": {},
     "output_type": "display_data"
    },
    {
     "data": {
      "application/vnd.jupyter.widget-view+json": {
       "model_id": "",
       "version_major": 2,
       "version_minor": 0
      },
      "text/plain": [
       "HBox(children=(FloatProgress(value=0.0, max=17.0), HTML(value='')))"
      ]
     },
     "metadata": {},
     "output_type": "display_data"
    },
    {
     "data": {
      "application/vnd.jupyter.widget-view+json": {
       "model_id": "",
       "version_major": 2,
       "version_minor": 0
      },
      "text/plain": [
       "HBox(children=(FloatProgress(value=0.0, max=21.0), HTML(value='')))"
      ]
     },
     "metadata": {},
     "output_type": "display_data"
    },
    {
     "data": {
      "application/vnd.jupyter.widget-view+json": {
       "model_id": "",
       "version_major": 2,
       "version_minor": 0
      },
      "text/plain": [
       "HBox(children=(FloatProgress(value=0.0, max=13.0), HTML(value='')))"
      ]
     },
     "metadata": {},
     "output_type": "display_data"
    },
    {
     "data": {
      "application/vnd.jupyter.widget-view+json": {
       "model_id": "",
       "version_major": 2,
       "version_minor": 0
      },
      "text/plain": [
       "HBox(children=(FloatProgress(value=0.0, max=11.0), HTML(value='')))"
      ]
     },
     "metadata": {},
     "output_type": "display_data"
    },
    {
     "data": {
      "application/vnd.jupyter.widget-view+json": {
       "model_id": "",
       "version_major": 2,
       "version_minor": 0
      },
      "text/plain": [
       "HBox(children=(FloatProgress(value=0.0, max=13.0), HTML(value='')))"
      ]
     },
     "metadata": {},
     "output_type": "display_data"
    },
    {
     "data": {
      "application/vnd.jupyter.widget-view+json": {
       "model_id": "",
       "version_major": 2,
       "version_minor": 0
      },
      "text/plain": [
       "HBox(children=(FloatProgress(value=0.0, max=21.0), HTML(value='')))"
      ]
     },
     "metadata": {},
     "output_type": "display_data"
    },
    {
     "data": {
      "application/vnd.jupyter.widget-view+json": {
       "model_id": "",
       "version_major": 2,
       "version_minor": 0
      },
      "text/plain": [
       "HBox(children=(FloatProgress(value=0.0, max=21.0), HTML(value='')))"
      ]
     },
     "metadata": {},
     "output_type": "display_data"
    },
    {
     "data": {
      "application/vnd.jupyter.widget-view+json": {
       "model_id": "",
       "version_major": 2,
       "version_minor": 0
      },
      "text/plain": [
       "HBox(children=(FloatProgress(value=0.0, max=19.0), HTML(value='')))"
      ]
     },
     "metadata": {},
     "output_type": "display_data"
    },
    {
     "data": {
      "application/vnd.jupyter.widget-view+json": {
       "model_id": "",
       "version_major": 2,
       "version_minor": 0
      },
      "text/plain": [
       "HBox(children=(FloatProgress(value=0.0, max=16.0), HTML(value='')))"
      ]
     },
     "metadata": {},
     "output_type": "display_data"
    },
    {
     "data": {
      "application/vnd.jupyter.widget-view+json": {
       "model_id": "",
       "version_major": 2,
       "version_minor": 0
      },
      "text/plain": [
       "HBox(children=(FloatProgress(value=0.0, max=12.0), HTML(value='')))"
      ]
     },
     "metadata": {},
     "output_type": "display_data"
    },
    {
     "data": {
      "application/vnd.jupyter.widget-view+json": {
       "model_id": "",
       "version_major": 2,
       "version_minor": 0
      },
      "text/plain": [
       "HBox(children=(FloatProgress(value=0.0, max=15.0), HTML(value='')))"
      ]
     },
     "metadata": {},
     "output_type": "display_data"
    },
    {
     "data": {
      "application/vnd.jupyter.widget-view+json": {
       "model_id": "",
       "version_major": 2,
       "version_minor": 0
      },
      "text/plain": [
       "HBox(children=(FloatProgress(value=0.0, max=13.0), HTML(value='')))"
      ]
     },
     "metadata": {},
     "output_type": "display_data"
    },
    {
     "data": {
      "application/vnd.jupyter.widget-view+json": {
       "model_id": "",
       "version_major": 2,
       "version_minor": 0
      },
      "text/plain": [
       "HBox(children=(FloatProgress(value=0.0, max=21.0), HTML(value='')))"
      ]
     },
     "metadata": {},
     "output_type": "display_data"
    },
    {
     "data": {
      "application/vnd.jupyter.widget-view+json": {
       "model_id": "",
       "version_major": 2,
       "version_minor": 0
      },
      "text/plain": [
       "HBox(children=(FloatProgress(value=0.0, max=10.0), HTML(value='')))"
      ]
     },
     "metadata": {},
     "output_type": "display_data"
    },
    {
     "data": {
      "application/vnd.jupyter.widget-view+json": {
       "model_id": "",
       "version_major": 2,
       "version_minor": 0
      },
      "text/plain": [
       "HBox(children=(FloatProgress(value=0.0, max=12.0), HTML(value='')))"
      ]
     },
     "metadata": {},
     "output_type": "display_data"
    },
    {
     "data": {
      "application/vnd.jupyter.widget-view+json": {
       "model_id": "",
       "version_major": 2,
       "version_minor": 0
      },
      "text/plain": [
       "HBox(children=(FloatProgress(value=0.0, max=12.0), HTML(value='')))"
      ]
     },
     "metadata": {},
     "output_type": "display_data"
    },
    {
     "data": {
      "application/vnd.jupyter.widget-view+json": {
       "model_id": "",
       "version_major": 2,
       "version_minor": 0
      },
      "text/plain": [
       "HBox(children=(FloatProgress(value=0.0, max=17.0), HTML(value='')))"
      ]
     },
     "metadata": {},
     "output_type": "display_data"
    },
    {
     "data": {
      "application/vnd.jupyter.widget-view+json": {
       "model_id": "",
       "version_major": 2,
       "version_minor": 0
      },
      "text/plain": [
       "HBox(children=(FloatProgress(value=0.0, max=10.0), HTML(value='')))"
      ]
     },
     "metadata": {},
     "output_type": "display_data"
    },
    {
     "data": {
      "application/vnd.jupyter.widget-view+json": {
       "model_id": "",
       "version_major": 2,
       "version_minor": 0
      },
      "text/plain": [
       "HBox(children=(FloatProgress(value=0.0, max=19.0), HTML(value='')))"
      ]
     },
     "metadata": {},
     "output_type": "display_data"
    },
    {
     "data": {
      "application/vnd.jupyter.widget-view+json": {
       "model_id": "",
       "version_major": 2,
       "version_minor": 0
      },
      "text/plain": [
       "HBox(children=(FloatProgress(value=0.0, max=21.0), HTML(value='')))"
      ]
     },
     "metadata": {},
     "output_type": "display_data"
    },
    {
     "data": {
      "application/vnd.jupyter.widget-view+json": {
       "model_id": "",
       "version_major": 2,
       "version_minor": 0
      },
      "text/plain": [
       "HBox(children=(FloatProgress(value=0.0, max=20.0), HTML(value='')))"
      ]
     },
     "metadata": {},
     "output_type": "display_data"
    },
    {
     "data": {
      "application/vnd.jupyter.widget-view+json": {
       "model_id": "",
       "version_major": 2,
       "version_minor": 0
      },
      "text/plain": [
       "HBox(children=(FloatProgress(value=0.0, max=18.0), HTML(value='')))"
      ]
     },
     "metadata": {},
     "output_type": "display_data"
    },
    {
     "data": {
      "application/vnd.jupyter.widget-view+json": {
       "model_id": "",
       "version_major": 2,
       "version_minor": 0
      },
      "text/plain": [
       "HBox(children=(FloatProgress(value=0.0, max=11.0), HTML(value='')))"
      ]
     },
     "metadata": {},
     "output_type": "display_data"
    },
    {
     "data": {
      "application/vnd.jupyter.widget-view+json": {
       "model_id": "",
       "version_major": 2,
       "version_minor": 0
      },
      "text/plain": [
       "HBox(children=(FloatProgress(value=0.0, max=15.0), HTML(value='')))"
      ]
     },
     "metadata": {},
     "output_type": "display_data"
    },
    {
     "data": {
      "application/vnd.jupyter.widget-view+json": {
       "model_id": "",
       "version_major": 2,
       "version_minor": 0
      },
      "text/plain": [
       "HBox(children=(FloatProgress(value=0.0, max=20.0), HTML(value='')))"
      ]
     },
     "metadata": {},
     "output_type": "display_data"
    },
    {
     "data": {
      "application/vnd.jupyter.widget-view+json": {
       "model_id": "",
       "version_major": 2,
       "version_minor": 0
      },
      "text/plain": [
       "HBox(children=(FloatProgress(value=0.0, max=9.0), HTML(value='')))"
      ]
     },
     "metadata": {},
     "output_type": "display_data"
    },
    {
     "data": {
      "application/vnd.jupyter.widget-view+json": {
       "model_id": "",
       "version_major": 2,
       "version_minor": 0
      },
      "text/plain": [
       "HBox(children=(FloatProgress(value=0.0, max=16.0), HTML(value='')))"
      ]
     },
     "metadata": {},
     "output_type": "display_data"
    },
    {
     "name": "stdout",
     "output_type": "stream",
     "text": [
      "\n"
     ]
    },
    {
     "data": {
      "text/html": [
       "<div>\n",
       "<style scoped>\n",
       "    .dataframe tbody tr th:only-of-type {\n",
       "        vertical-align: middle;\n",
       "    }\n",
       "\n",
       "    .dataframe tbody tr th {\n",
       "        vertical-align: top;\n",
       "    }\n",
       "\n",
       "    .dataframe thead th {\n",
       "        text-align: right;\n",
       "    }\n",
       "</style>\n",
       "<table border=\"1\" class=\"dataframe\">\n",
       "  <thead>\n",
       "    <tr style=\"text-align: right;\">\n",
       "      <th></th>\n",
       "      <th>id</th>\n",
       "      <th>company</th>\n",
       "      <th>orig_report_type</th>\n",
       "      <th>report_type</th>\n",
       "      <th>year</th>\n",
       "      <th>input_file</th>\n",
       "      <th>output_file</th>\n",
       "      <th>should_label</th>\n",
       "      <th>is_labelled</th>\n",
       "      <th>company_id</th>\n",
       "      <th>firm_name</th>\n",
       "      <th>ticker</th>\n",
       "      <th>country</th>\n",
       "      <th>icb_industry</th>\n",
       "      <th>icb_supersector</th>\n",
       "    </tr>\n",
       "  </thead>\n",
       "  <tbody>\n",
       "    <tr>\n",
       "      <th>0</th>\n",
       "      <td>gb_glencore_plc-AR_2017</td>\n",
       "      <td>glencore_plc</td>\n",
       "      <td>AR</td>\n",
       "      <td>AR</td>\n",
       "      <td>2017.0</td>\n",
       "      <td>gb_glencore_plc/AR_2017.pdf</td>\n",
       "      <td>AR_2017.yml</td>\n",
       "      <td>True</td>\n",
       "      <td>False</td>\n",
       "      <td>gb_glencore_plc</td>\n",
       "      <td>GLENCORE</td>\n",
       "      <td>NaN</td>\n",
       "      <td>gb</td>\n",
       "      <td>55 Basic Materials</td>\n",
       "      <td>5510 Basic Resources</td>\n",
       "    </tr>\n",
       "    <tr>\n",
       "      <th>1</th>\n",
       "      <td>gb_glaxosmithkline-AR_2004</td>\n",
       "      <td>glaxosmithkline</td>\n",
       "      <td>AR</td>\n",
       "      <td>AR</td>\n",
       "      <td>2004.0</td>\n",
       "      <td>gb_glaxosmithkline/AR_2004.pdf</td>\n",
       "      <td>AR_2004.yml</td>\n",
       "      <td>True</td>\n",
       "      <td>False</td>\n",
       "      <td>gb_glaxosmithkline</td>\n",
       "      <td>GLAXOSMITHKLINE</td>\n",
       "      <td>NaN</td>\n",
       "      <td>gb</td>\n",
       "      <td>20 Health Care</td>\n",
       "      <td>2010 Health Care</td>\n",
       "    </tr>\n",
       "    <tr>\n",
       "      <th>2</th>\n",
       "      <td>gb_rio_tinto-AR_2011</td>\n",
       "      <td>rio_tinto</td>\n",
       "      <td>AR</td>\n",
       "      <td>AR</td>\n",
       "      <td>2011.0</td>\n",
       "      <td>gb_rio_tinto/AR_2011.pdf</td>\n",
       "      <td>AR_2011.yml</td>\n",
       "      <td>True</td>\n",
       "      <td>False</td>\n",
       "      <td>gb_rio_tinto</td>\n",
       "      <td>RIO TINTO</td>\n",
       "      <td>NaN</td>\n",
       "      <td>gb</td>\n",
       "      <td>55 Basic Materials</td>\n",
       "      <td>5510 Basic Resources</td>\n",
       "    </tr>\n",
       "    <tr>\n",
       "      <th>3</th>\n",
       "      <td>dk_novo_nordisk_b-AR_2009</td>\n",
       "      <td>novo_nordisk_b</td>\n",
       "      <td>AR</td>\n",
       "      <td>AR</td>\n",
       "      <td>2009.0</td>\n",
       "      <td>dk_novo_nordisk_b/AR_2009.pdf</td>\n",
       "      <td>AR_2009.yml</td>\n",
       "      <td>False</td>\n",
       "      <td>False</td>\n",
       "      <td>dk_novo_nordisk_b</td>\n",
       "      <td>NOVO NORDISK B</td>\n",
       "      <td>NaN</td>\n",
       "      <td>dk</td>\n",
       "      <td>20 Health Care</td>\n",
       "      <td>2010 Health Care</td>\n",
       "    </tr>\n",
       "    <tr>\n",
       "      <th>4</th>\n",
       "      <td>es_bco_santander-AR_2019</td>\n",
       "      <td>bco_santander</td>\n",
       "      <td>AR</td>\n",
       "      <td>AR</td>\n",
       "      <td>2019.0</td>\n",
       "      <td>es_bco_santander/AR_2019.pdf</td>\n",
       "      <td>AR_2019.yml</td>\n",
       "      <td>True</td>\n",
       "      <td>False</td>\n",
       "      <td>es_bco_santander</td>\n",
       "      <td>BCO SANTANDER</td>\n",
       "      <td>NaN</td>\n",
       "      <td>es</td>\n",
       "      <td>30 Financials</td>\n",
       "      <td>3010 Banks</td>\n",
       "    </tr>\n",
       "    <tr>\n",
       "      <th>...</th>\n",
       "      <td>...</td>\n",
       "      <td>...</td>\n",
       "      <td>...</td>\n",
       "      <td>...</td>\n",
       "      <td>...</td>\n",
       "      <td>...</td>\n",
       "      <td>...</td>\n",
       "      <td>...</td>\n",
       "      <td>...</td>\n",
       "      <td>...</td>\n",
       "      <td>...</td>\n",
       "      <td>...</td>\n",
       "      <td>...</td>\n",
       "      <td>...</td>\n",
       "      <td>...</td>\n",
       "    </tr>\n",
       "    <tr>\n",
       "      <th>787</th>\n",
       "      <td>es_bco_bilbao_vizcaya_argentaria-AR_2013</td>\n",
       "      <td>bco_bilbao_vizcaya_argentaria</td>\n",
       "      <td>AR</td>\n",
       "      <td>AR</td>\n",
       "      <td>2013.0</td>\n",
       "      <td>es_bco_bilbao_vizcaya_argentaria/AR_2013.pdf</td>\n",
       "      <td>AR_2013.yml</td>\n",
       "      <td>True</td>\n",
       "      <td>False</td>\n",
       "      <td>es_bco_bilbao_vizcaya_argentaria</td>\n",
       "      <td>BCO BILBAO VIZCAYA ARGENTARIA</td>\n",
       "      <td>NaN</td>\n",
       "      <td>es</td>\n",
       "      <td>30 Financials</td>\n",
       "      <td>3010 Banks</td>\n",
       "    </tr>\n",
       "    <tr>\n",
       "      <th>788</th>\n",
       "      <td>fr_lvmh_moet_hennessy-AR_2014</td>\n",
       "      <td>lvmh_moet_hennessy</td>\n",
       "      <td>AR</td>\n",
       "      <td>AR</td>\n",
       "      <td>2014.0</td>\n",
       "      <td>fr_lvmh_moet_hennessy/AR_2014.pdf</td>\n",
       "      <td>AR_2014.yml</td>\n",
       "      <td>False</td>\n",
       "      <td>False</td>\n",
       "      <td>fr_lvmh_moet_hennessy</td>\n",
       "      <td>LVMH MOET HENNESSY</td>\n",
       "      <td>NaN</td>\n",
       "      <td>fr</td>\n",
       "      <td>40 Consumer Discretionary</td>\n",
       "      <td>4020 Consumer Products and Services</td>\n",
       "    </tr>\n",
       "    <tr>\n",
       "      <th>789</th>\n",
       "      <td>ch_ubs_group-AR_2010</td>\n",
       "      <td>ubs_group</td>\n",
       "      <td>AR</td>\n",
       "      <td>AR</td>\n",
       "      <td>2010.0</td>\n",
       "      <td>ch_ubs_group/AR_2010.pdf</td>\n",
       "      <td>AR_2010.yml</td>\n",
       "      <td>False</td>\n",
       "      <td>False</td>\n",
       "      <td>ch_ubs_group</td>\n",
       "      <td>UBS GROUP</td>\n",
       "      <td>NaN</td>\n",
       "      <td>ch</td>\n",
       "      <td>30 Financials</td>\n",
       "      <td>3010 Banks</td>\n",
       "    </tr>\n",
       "    <tr>\n",
       "      <th>790</th>\n",
       "      <td>es_telefonica-AR_1999</td>\n",
       "      <td>telefonica</td>\n",
       "      <td>AR</td>\n",
       "      <td>AR</td>\n",
       "      <td>1999.0</td>\n",
       "      <td>es_telefonica/AR_1999.pdf</td>\n",
       "      <td>AR_1999.yml</td>\n",
       "      <td>True</td>\n",
       "      <td>False</td>\n",
       "      <td>es_telefonica</td>\n",
       "      <td>TELEFONICA</td>\n",
       "      <td>NaN</td>\n",
       "      <td>es</td>\n",
       "      <td>15 Telecommunications</td>\n",
       "      <td>1510 Telecommunications</td>\n",
       "    </tr>\n",
       "    <tr>\n",
       "      <th>791</th>\n",
       "      <td>nl_ing_grp-AR_2019</td>\n",
       "      <td>ing_grp</td>\n",
       "      <td>AR</td>\n",
       "      <td>AR</td>\n",
       "      <td>2019.0</td>\n",
       "      <td>nl_ing_grp/AR_2019.pdf</td>\n",
       "      <td>AR_2019.yml</td>\n",
       "      <td>True</td>\n",
       "      <td>False</td>\n",
       "      <td>nl_ing_grp</td>\n",
       "      <td>ING GRP</td>\n",
       "      <td>NaN</td>\n",
       "      <td>nl</td>\n",
       "      <td>30 Financials</td>\n",
       "      <td>3010 Banks</td>\n",
       "    </tr>\n",
       "  </tbody>\n",
       "</table>\n",
       "<p>792 rows × 15 columns</p>\n",
       "</div>"
      ],
      "text/plain": [
       "                                           id                        company  \\\n",
       "0                     gb_glencore_plc-AR_2017                   glencore_plc   \n",
       "1                  gb_glaxosmithkline-AR_2004                glaxosmithkline   \n",
       "2                        gb_rio_tinto-AR_2011                      rio_tinto   \n",
       "3                   dk_novo_nordisk_b-AR_2009                 novo_nordisk_b   \n",
       "4                    es_bco_santander-AR_2019                  bco_santander   \n",
       "..                                        ...                            ...   \n",
       "787  es_bco_bilbao_vizcaya_argentaria-AR_2013  bco_bilbao_vizcaya_argentaria   \n",
       "788             fr_lvmh_moet_hennessy-AR_2014             lvmh_moet_hennessy   \n",
       "789                      ch_ubs_group-AR_2010                      ubs_group   \n",
       "790                     es_telefonica-AR_1999                     telefonica   \n",
       "791                        nl_ing_grp-AR_2019                        ing_grp   \n",
       "\n",
       "    orig_report_type report_type    year  \\\n",
       "0                 AR          AR  2017.0   \n",
       "1                 AR          AR  2004.0   \n",
       "2                 AR          AR  2011.0   \n",
       "3                 AR          AR  2009.0   \n",
       "4                 AR          AR  2019.0   \n",
       "..               ...         ...     ...   \n",
       "787               AR          AR  2013.0   \n",
       "788               AR          AR  2014.0   \n",
       "789               AR          AR  2010.0   \n",
       "790               AR          AR  1999.0   \n",
       "791               AR          AR  2019.0   \n",
       "\n",
       "                                       input_file  output_file should_label  \\\n",
       "0                     gb_glencore_plc/AR_2017.pdf  AR_2017.yml         True   \n",
       "1                  gb_glaxosmithkline/AR_2004.pdf  AR_2004.yml         True   \n",
       "2                        gb_rio_tinto/AR_2011.pdf  AR_2011.yml         True   \n",
       "3                   dk_novo_nordisk_b/AR_2009.pdf  AR_2009.yml        False   \n",
       "4                    es_bco_santander/AR_2019.pdf  AR_2019.yml         True   \n",
       "..                                            ...          ...          ...   \n",
       "787  es_bco_bilbao_vizcaya_argentaria/AR_2013.pdf  AR_2013.yml         True   \n",
       "788             fr_lvmh_moet_hennessy/AR_2014.pdf  AR_2014.yml        False   \n",
       "789                      ch_ubs_group/AR_2010.pdf  AR_2010.yml        False   \n",
       "790                     es_telefonica/AR_1999.pdf  AR_1999.yml         True   \n",
       "791                        nl_ing_grp/AR_2019.pdf  AR_2019.yml         True   \n",
       "\n",
       "    is_labelled                        company_id  \\\n",
       "0         False                   gb_glencore_plc   \n",
       "1         False                gb_glaxosmithkline   \n",
       "2         False                      gb_rio_tinto   \n",
       "3         False                 dk_novo_nordisk_b   \n",
       "4         False                  es_bco_santander   \n",
       "..          ...                               ...   \n",
       "787       False  es_bco_bilbao_vizcaya_argentaria   \n",
       "788       False             fr_lvmh_moet_hennessy   \n",
       "789       False                      ch_ubs_group   \n",
       "790       False                     es_telefonica   \n",
       "791       False                        nl_ing_grp   \n",
       "\n",
       "                         firm_name  ticker country               icb_industry  \\\n",
       "0                         GLENCORE     NaN      gb         55 Basic Materials   \n",
       "1                  GLAXOSMITHKLINE     NaN      gb             20 Health Care   \n",
       "2                        RIO TINTO     NaN      gb         55 Basic Materials   \n",
       "3                   NOVO NORDISK B     NaN      dk             20 Health Care   \n",
       "4                    BCO SANTANDER     NaN      es              30 Financials   \n",
       "..                             ...     ...     ...                        ...   \n",
       "787  BCO BILBAO VIZCAYA ARGENTARIA     NaN      es              30 Financials   \n",
       "788             LVMH MOET HENNESSY     NaN      fr  40 Consumer Discretionary   \n",
       "789                      UBS GROUP     NaN      ch              30 Financials   \n",
       "790                     TELEFONICA     NaN      es      15 Telecommunications   \n",
       "791                        ING GRP     NaN      nl              30 Financials   \n",
       "\n",
       "                         icb_supersector  \n",
       "0                   5510 Basic Resources  \n",
       "1                       2010 Health Care  \n",
       "2                   5510 Basic Resources  \n",
       "3                       2010 Health Care  \n",
       "4                             3010 Banks  \n",
       "..                                   ...  \n",
       "787                           3010 Banks  \n",
       "788  4020 Consumer Products and Services  \n",
       "789                           3010 Banks  \n",
       "790              1510 Telecommunications  \n",
       "791                           3010 Banks  \n",
       "\n",
       "[792 rows x 15 columns]"
      ]
     },
     "execution_count": 1,
     "metadata": {},
     "output_type": "execute_result"
    }
   ],
   "source": [
    "import sys\n",
    "import os\n",
    "from pathlib import Path\n",
    "import importlib\n",
    "sys.path.append('..')\n",
    "\n",
    "import pandas as pd\n",
    "\n",
    "import data.dataframe_preparation as preparation\n",
    "from data.custom_widgets import ReportsLabeler\n",
    "import data\n",
    "importlib.reload(data.custom_widgets)\n",
    "importlib.reload(data.dataframe_preparation)\n",
    "\n",
    "############### CONFIG ###############\n",
    "FIRM_METADATA = os.path.abspath(\"../input_files/Firm_Metadata.csv\")\n",
    "DATA_INPUT_PATH = os.path.abspath(\"../input_files/annual_reports/\")\n",
    "MASTER_DATA_PATH = os.path.abspath(\"../input_files/annual_reports/Firm_AnnualReport_DF.csv\")\n",
    "LABEL_OUTPUT_FN = 'Firm_AnnualReport_Labels_DF.pkl'\n",
    "\n",
    "HOLD_OUT_YEAR = 2019\n",
    "HOLD_OUT_COMPANY = 'gb_unilever_plc'\n",
    "\n",
    "SEED = 99\n",
    "OVERRIDE_FILE = False\n",
    "######################################\n",
    "\n",
    "# Create master output file if not exits\n",
    "master_file = Path(MASTER_DATA_PATH)\n",
    "if not master_file.is_file() or OVERRIDE_FILE:\n",
    "    df = preparation.get_df(input_path=DATA_INPUT_PATH, report_type_mappings={\"20F\": \"AR\"}, selected_report_types={\"AR\"}, include_text=False, include_page_no=False, include_toc=False)\n",
    "    df = df.set_index(\"id\")\n",
    "    # Add additional labelling columns\n",
    "    df['should_label'] = False\n",
    "    df['is_labelled'] = False\n",
    "    \n",
    "    # Load the meta data\n",
    "    df_meta = pd.read_csv(FIRM_METADATA)\n",
    "    df_meta = df_meta.set_index('id')\n",
    "    df['company_id'] = df['country'] + \"_\" + df['company']\n",
    "    df = df.drop(columns=['country'])\n",
    "    df = df.merge(df_meta, left_on='company_id', right_index=True)\n",
    "    \n",
    "    # TODO: Raise/Alert or remove if all outputs are there!\n",
    "    df = df[df['output_file'].notna()]\n",
    "    \n",
    "    # Select all reports from year and company\n",
    "    df_to_label = df[(df.year == HOLD_OUT_YEAR) | (df.company_id == HOLD_OUT_COMPANY)].copy()\n",
    "    df_to_label['should_label'] = True\n",
    "    nr_held_out_reports = len(df_to_label)\n",
    "    df.update(df_to_label)\n",
    "    \n",
    "    # Remaining reports: Take sample with stratification along variables. n = amount of reports in each year AND industry...\n",
    "    df_to_label = df[df.should_label == False]\n",
    "    # Note: Do not use apply here, as otherwise the random state is equal for each group, possibly leading to non-random sampling!\n",
    "    df_to_label = df_to_label.groupby(['year', 'icb_industry']).sample(n=1, random_state=SEED)\n",
    "\n",
    "    df_to_label['should_label'] = True\n",
    "    df.update(df_to_label)\n",
    "    # Shuffle the dataset\n",
    "    df = df.reset_index()\n",
    "    df = df.sample(frac=1, random_state=SEED).reset_index(drop=True)\n",
    "    df.to_csv(MASTER_DATA_PATH)\n",
    "    df"
   ]
  },
  {
   "cell_type": "code",
   "execution_count": null,
   "metadata": {},
   "outputs": [],
   "source": []
  },
  {
   "cell_type": "code",
   "execution_count": 3,
   "metadata": {},
   "outputs": [
    {
     "data": {
      "text/plain": [
       "185"
      ]
     },
     "execution_count": 3,
     "metadata": {},
     "output_type": "execute_result"
    }
   ],
   "source": [
    "len(df_to_label)"
   ]
  },
  {
   "cell_type": "code",
   "execution_count": 133,
   "metadata": {},
   "outputs": [
    {
     "data": {
      "text/html": [
       "<div>\n",
       "<style scoped>\n",
       "    .dataframe tbody tr th:only-of-type {\n",
       "        vertical-align: middle;\n",
       "    }\n",
       "\n",
       "    .dataframe tbody tr th {\n",
       "        vertical-align: top;\n",
       "    }\n",
       "\n",
       "    .dataframe thead th {\n",
       "        text-align: right;\n",
       "    }\n",
       "</style>\n",
       "<table border=\"1\" class=\"dataframe\">\n",
       "  <thead>\n",
       "    <tr style=\"text-align: right;\">\n",
       "      <th></th>\n",
       "      <th>company</th>\n",
       "      <th>orig_report_type</th>\n",
       "      <th>report_type</th>\n",
       "      <th>year</th>\n",
       "      <th>input_file</th>\n",
       "      <th>output_file</th>\n",
       "      <th>should_label</th>\n",
       "      <th>is_labelled</th>\n",
       "      <th>company_id</th>\n",
       "      <th>firm_name</th>\n",
       "      <th>ticker</th>\n",
       "      <th>country</th>\n",
       "      <th>icb_supersector</th>\n",
       "    </tr>\n",
       "    <tr>\n",
       "      <th>icb_industry</th>\n",
       "      <th></th>\n",
       "      <th></th>\n",
       "      <th></th>\n",
       "      <th></th>\n",
       "      <th></th>\n",
       "      <th></th>\n",
       "      <th></th>\n",
       "      <th></th>\n",
       "      <th></th>\n",
       "      <th></th>\n",
       "      <th></th>\n",
       "      <th></th>\n",
       "      <th></th>\n",
       "    </tr>\n",
       "  </thead>\n",
       "  <tbody>\n",
       "    <tr>\n",
       "      <th>10 Technology</th>\n",
       "      <td>20</td>\n",
       "      <td>20</td>\n",
       "      <td>20</td>\n",
       "      <td>20</td>\n",
       "      <td>20</td>\n",
       "      <td>20</td>\n",
       "      <td>20</td>\n",
       "      <td>20</td>\n",
       "      <td>20</td>\n",
       "      <td>20</td>\n",
       "      <td>0</td>\n",
       "      <td>20</td>\n",
       "      <td>20</td>\n",
       "    </tr>\n",
       "    <tr>\n",
       "      <th>15 Telecommunications</th>\n",
       "      <td>20</td>\n",
       "      <td>20</td>\n",
       "      <td>20</td>\n",
       "      <td>20</td>\n",
       "      <td>20</td>\n",
       "      <td>20</td>\n",
       "      <td>20</td>\n",
       "      <td>20</td>\n",
       "      <td>20</td>\n",
       "      <td>20</td>\n",
       "      <td>0</td>\n",
       "      <td>20</td>\n",
       "      <td>20</td>\n",
       "    </tr>\n",
       "    <tr>\n",
       "      <th>20 Health Care</th>\n",
       "      <td>20</td>\n",
       "      <td>20</td>\n",
       "      <td>20</td>\n",
       "      <td>20</td>\n",
       "      <td>20</td>\n",
       "      <td>20</td>\n",
       "      <td>20</td>\n",
       "      <td>20</td>\n",
       "      <td>20</td>\n",
       "      <td>20</td>\n",
       "      <td>0</td>\n",
       "      <td>20</td>\n",
       "      <td>20</td>\n",
       "    </tr>\n",
       "    <tr>\n",
       "      <th>30 Financials</th>\n",
       "      <td>20</td>\n",
       "      <td>20</td>\n",
       "      <td>20</td>\n",
       "      <td>20</td>\n",
       "      <td>20</td>\n",
       "      <td>20</td>\n",
       "      <td>20</td>\n",
       "      <td>20</td>\n",
       "      <td>20</td>\n",
       "      <td>20</td>\n",
       "      <td>0</td>\n",
       "      <td>20</td>\n",
       "      <td>20</td>\n",
       "    </tr>\n",
       "    <tr>\n",
       "      <th>40 Consumer Discretionary</th>\n",
       "      <td>20</td>\n",
       "      <td>20</td>\n",
       "      <td>20</td>\n",
       "      <td>20</td>\n",
       "      <td>20</td>\n",
       "      <td>20</td>\n",
       "      <td>20</td>\n",
       "      <td>20</td>\n",
       "      <td>20</td>\n",
       "      <td>20</td>\n",
       "      <td>0</td>\n",
       "      <td>20</td>\n",
       "      <td>20</td>\n",
       "    </tr>\n",
       "    <tr>\n",
       "      <th>45 Consumer Staples</th>\n",
       "      <td>18</td>\n",
       "      <td>18</td>\n",
       "      <td>18</td>\n",
       "      <td>18</td>\n",
       "      <td>18</td>\n",
       "      <td>18</td>\n",
       "      <td>18</td>\n",
       "      <td>18</td>\n",
       "      <td>18</td>\n",
       "      <td>18</td>\n",
       "      <td>0</td>\n",
       "      <td>18</td>\n",
       "      <td>18</td>\n",
       "    </tr>\n",
       "    <tr>\n",
       "      <th>50 Industrials</th>\n",
       "      <td>20</td>\n",
       "      <td>20</td>\n",
       "      <td>20</td>\n",
       "      <td>20</td>\n",
       "      <td>20</td>\n",
       "      <td>20</td>\n",
       "      <td>20</td>\n",
       "      <td>20</td>\n",
       "      <td>20</td>\n",
       "      <td>20</td>\n",
       "      <td>0</td>\n",
       "      <td>20</td>\n",
       "      <td>20</td>\n",
       "    </tr>\n",
       "    <tr>\n",
       "      <th>55 Basic Materials</th>\n",
       "      <td>16</td>\n",
       "      <td>16</td>\n",
       "      <td>16</td>\n",
       "      <td>16</td>\n",
       "      <td>16</td>\n",
       "      <td>16</td>\n",
       "      <td>16</td>\n",
       "      <td>16</td>\n",
       "      <td>16</td>\n",
       "      <td>16</td>\n",
       "      <td>0</td>\n",
       "      <td>16</td>\n",
       "      <td>16</td>\n",
       "    </tr>\n",
       "    <tr>\n",
       "      <th>60 Energy</th>\n",
       "      <td>16</td>\n",
       "      <td>16</td>\n",
       "      <td>16</td>\n",
       "      <td>16</td>\n",
       "      <td>16</td>\n",
       "      <td>16</td>\n",
       "      <td>16</td>\n",
       "      <td>16</td>\n",
       "      <td>16</td>\n",
       "      <td>16</td>\n",
       "      <td>0</td>\n",
       "      <td>16</td>\n",
       "      <td>16</td>\n",
       "    </tr>\n",
       "    <tr>\n",
       "      <th>65 Utilities</th>\n",
       "      <td>15</td>\n",
       "      <td>15</td>\n",
       "      <td>15</td>\n",
       "      <td>15</td>\n",
       "      <td>15</td>\n",
       "      <td>15</td>\n",
       "      <td>15</td>\n",
       "      <td>15</td>\n",
       "      <td>15</td>\n",
       "      <td>15</td>\n",
       "      <td>0</td>\n",
       "      <td>15</td>\n",
       "      <td>15</td>\n",
       "    </tr>\n",
       "  </tbody>\n",
       "</table>\n",
       "</div>"
      ],
      "text/plain": [
       "                           company  orig_report_type  report_type  year  \\\n",
       "icb_industry                                                              \n",
       "10 Technology                   20                20           20    20   \n",
       "15 Telecommunications           20                20           20    20   \n",
       "20 Health Care                  20                20           20    20   \n",
       "30 Financials                   20                20           20    20   \n",
       "40 Consumer Discretionary       20                20           20    20   \n",
       "45 Consumer Staples             18                18           18    18   \n",
       "50 Industrials                  20                20           20    20   \n",
       "55 Basic Materials              16                16           16    16   \n",
       "60 Energy                       16                16           16    16   \n",
       "65 Utilities                    15                15           15    15   \n",
       "\n",
       "                           input_file  output_file  should_label  is_labelled  \\\n",
       "icb_industry                                                                    \n",
       "10 Technology                      20           20            20           20   \n",
       "15 Telecommunications              20           20            20           20   \n",
       "20 Health Care                     20           20            20           20   \n",
       "30 Financials                      20           20            20           20   \n",
       "40 Consumer Discretionary          20           20            20           20   \n",
       "45 Consumer Staples                18           18            18           18   \n",
       "50 Industrials                     20           20            20           20   \n",
       "55 Basic Materials                 16           16            16           16   \n",
       "60 Energy                          16           16            16           16   \n",
       "65 Utilities                       15           15            15           15   \n",
       "\n",
       "                           company_id  firm_name  ticker  country  \\\n",
       "icb_industry                                                        \n",
       "10 Technology                      20         20       0       20   \n",
       "15 Telecommunications              20         20       0       20   \n",
       "20 Health Care                     20         20       0       20   \n",
       "30 Financials                      20         20       0       20   \n",
       "40 Consumer Discretionary          20         20       0       20   \n",
       "45 Consumer Staples                18         18       0       18   \n",
       "50 Industrials                     20         20       0       20   \n",
       "55 Basic Materials                 16         16       0       16   \n",
       "60 Energy                          16         16       0       16   \n",
       "65 Utilities                       15         15       0       15   \n",
       "\n",
       "                           icb_supersector  \n",
       "icb_industry                                \n",
       "10 Technology                           20  \n",
       "15 Telecommunications                   20  \n",
       "20 Health Care                          20  \n",
       "30 Financials                           20  \n",
       "40 Consumer Discretionary               20  \n",
       "45 Consumer Staples                     18  \n",
       "50 Industrials                          20  \n",
       "55 Basic Materials                      16  \n",
       "60 Energy                               16  \n",
       "65 Utilities                            15  "
      ]
     },
     "execution_count": 133,
     "metadata": {},
     "output_type": "execute_result"
    }
   ],
   "source": [
    "df_to_label.groupby(['icb_industry']).count()"
   ]
  },
  {
   "cell_type": "code",
   "execution_count": 134,
   "metadata": {},
   "outputs": [
    {
     "data": {
      "text/html": [
       "<div>\n",
       "<style scoped>\n",
       "    .dataframe tbody tr th:only-of-type {\n",
       "        vertical-align: middle;\n",
       "    }\n",
       "\n",
       "    .dataframe tbody tr th {\n",
       "        vertical-align: top;\n",
       "    }\n",
       "\n",
       "    .dataframe thead th {\n",
       "        text-align: right;\n",
       "    }\n",
       "</style>\n",
       "<table border=\"1\" class=\"dataframe\">\n",
       "  <thead>\n",
       "    <tr style=\"text-align: right;\">\n",
       "      <th></th>\n",
       "      <th>company</th>\n",
       "      <th>orig_report_type</th>\n",
       "      <th>report_type</th>\n",
       "      <th>input_file</th>\n",
       "      <th>output_file</th>\n",
       "      <th>should_label</th>\n",
       "      <th>is_labelled</th>\n",
       "      <th>company_id</th>\n",
       "      <th>firm_name</th>\n",
       "      <th>ticker</th>\n",
       "      <th>country</th>\n",
       "      <th>icb_industry</th>\n",
       "      <th>icb_supersector</th>\n",
       "    </tr>\n",
       "    <tr>\n",
       "      <th>year</th>\n",
       "      <th></th>\n",
       "      <th></th>\n",
       "      <th></th>\n",
       "      <th></th>\n",
       "      <th></th>\n",
       "      <th></th>\n",
       "      <th></th>\n",
       "      <th></th>\n",
       "      <th></th>\n",
       "      <th></th>\n",
       "      <th></th>\n",
       "      <th></th>\n",
       "      <th></th>\n",
       "    </tr>\n",
       "  </thead>\n",
       "  <tbody>\n",
       "    <tr>\n",
       "      <th>1999.0</th>\n",
       "      <td>6</td>\n",
       "      <td>6</td>\n",
       "      <td>6</td>\n",
       "      <td>6</td>\n",
       "      <td>6</td>\n",
       "      <td>6</td>\n",
       "      <td>6</td>\n",
       "      <td>6</td>\n",
       "      <td>6</td>\n",
       "      <td>0</td>\n",
       "      <td>6</td>\n",
       "      <td>6</td>\n",
       "      <td>6</td>\n",
       "    </tr>\n",
       "    <tr>\n",
       "      <th>2000.0</th>\n",
       "      <td>6</td>\n",
       "      <td>6</td>\n",
       "      <td>6</td>\n",
       "      <td>6</td>\n",
       "      <td>6</td>\n",
       "      <td>6</td>\n",
       "      <td>6</td>\n",
       "      <td>6</td>\n",
       "      <td>6</td>\n",
       "      <td>0</td>\n",
       "      <td>6</td>\n",
       "      <td>6</td>\n",
       "      <td>6</td>\n",
       "    </tr>\n",
       "    <tr>\n",
       "      <th>2001.0</th>\n",
       "      <td>7</td>\n",
       "      <td>7</td>\n",
       "      <td>7</td>\n",
       "      <td>7</td>\n",
       "      <td>7</td>\n",
       "      <td>7</td>\n",
       "      <td>7</td>\n",
       "      <td>7</td>\n",
       "      <td>7</td>\n",
       "      <td>0</td>\n",
       "      <td>7</td>\n",
       "      <td>7</td>\n",
       "      <td>7</td>\n",
       "    </tr>\n",
       "    <tr>\n",
       "      <th>2002.0</th>\n",
       "      <td>7</td>\n",
       "      <td>7</td>\n",
       "      <td>7</td>\n",
       "      <td>7</td>\n",
       "      <td>7</td>\n",
       "      <td>7</td>\n",
       "      <td>7</td>\n",
       "      <td>7</td>\n",
       "      <td>7</td>\n",
       "      <td>0</td>\n",
       "      <td>7</td>\n",
       "      <td>7</td>\n",
       "      <td>7</td>\n",
       "    </tr>\n",
       "    <tr>\n",
       "      <th>2003.0</th>\n",
       "      <td>9</td>\n",
       "      <td>9</td>\n",
       "      <td>9</td>\n",
       "      <td>9</td>\n",
       "      <td>9</td>\n",
       "      <td>9</td>\n",
       "      <td>9</td>\n",
       "      <td>9</td>\n",
       "      <td>9</td>\n",
       "      <td>0</td>\n",
       "      <td>9</td>\n",
       "      <td>9</td>\n",
       "      <td>9</td>\n",
       "    </tr>\n",
       "    <tr>\n",
       "      <th>2004.0</th>\n",
       "      <td>10</td>\n",
       "      <td>10</td>\n",
       "      <td>10</td>\n",
       "      <td>10</td>\n",
       "      <td>10</td>\n",
       "      <td>10</td>\n",
       "      <td>10</td>\n",
       "      <td>10</td>\n",
       "      <td>10</td>\n",
       "      <td>0</td>\n",
       "      <td>10</td>\n",
       "      <td>10</td>\n",
       "      <td>10</td>\n",
       "    </tr>\n",
       "    <tr>\n",
       "      <th>2005.0</th>\n",
       "      <td>10</td>\n",
       "      <td>10</td>\n",
       "      <td>10</td>\n",
       "      <td>10</td>\n",
       "      <td>10</td>\n",
       "      <td>10</td>\n",
       "      <td>10</td>\n",
       "      <td>10</td>\n",
       "      <td>10</td>\n",
       "      <td>0</td>\n",
       "      <td>10</td>\n",
       "      <td>10</td>\n",
       "      <td>10</td>\n",
       "    </tr>\n",
       "    <tr>\n",
       "      <th>2006.0</th>\n",
       "      <td>10</td>\n",
       "      <td>10</td>\n",
       "      <td>10</td>\n",
       "      <td>10</td>\n",
       "      <td>10</td>\n",
       "      <td>10</td>\n",
       "      <td>10</td>\n",
       "      <td>10</td>\n",
       "      <td>10</td>\n",
       "      <td>0</td>\n",
       "      <td>10</td>\n",
       "      <td>10</td>\n",
       "      <td>10</td>\n",
       "    </tr>\n",
       "    <tr>\n",
       "      <th>2007.0</th>\n",
       "      <td>10</td>\n",
       "      <td>10</td>\n",
       "      <td>10</td>\n",
       "      <td>10</td>\n",
       "      <td>10</td>\n",
       "      <td>10</td>\n",
       "      <td>10</td>\n",
       "      <td>10</td>\n",
       "      <td>10</td>\n",
       "      <td>0</td>\n",
       "      <td>10</td>\n",
       "      <td>10</td>\n",
       "      <td>10</td>\n",
       "    </tr>\n",
       "    <tr>\n",
       "      <th>2008.0</th>\n",
       "      <td>10</td>\n",
       "      <td>10</td>\n",
       "      <td>10</td>\n",
       "      <td>10</td>\n",
       "      <td>10</td>\n",
       "      <td>10</td>\n",
       "      <td>10</td>\n",
       "      <td>10</td>\n",
       "      <td>10</td>\n",
       "      <td>0</td>\n",
       "      <td>10</td>\n",
       "      <td>10</td>\n",
       "      <td>10</td>\n",
       "    </tr>\n",
       "    <tr>\n",
       "      <th>2009.0</th>\n",
       "      <td>10</td>\n",
       "      <td>10</td>\n",
       "      <td>10</td>\n",
       "      <td>10</td>\n",
       "      <td>10</td>\n",
       "      <td>10</td>\n",
       "      <td>10</td>\n",
       "      <td>10</td>\n",
       "      <td>10</td>\n",
       "      <td>0</td>\n",
       "      <td>10</td>\n",
       "      <td>10</td>\n",
       "      <td>10</td>\n",
       "    </tr>\n",
       "    <tr>\n",
       "      <th>2010.0</th>\n",
       "      <td>10</td>\n",
       "      <td>10</td>\n",
       "      <td>10</td>\n",
       "      <td>10</td>\n",
       "      <td>10</td>\n",
       "      <td>10</td>\n",
       "      <td>10</td>\n",
       "      <td>10</td>\n",
       "      <td>10</td>\n",
       "      <td>0</td>\n",
       "      <td>10</td>\n",
       "      <td>10</td>\n",
       "      <td>10</td>\n",
       "    </tr>\n",
       "    <tr>\n",
       "      <th>2011.0</th>\n",
       "      <td>10</td>\n",
       "      <td>10</td>\n",
       "      <td>10</td>\n",
       "      <td>10</td>\n",
       "      <td>10</td>\n",
       "      <td>10</td>\n",
       "      <td>10</td>\n",
       "      <td>10</td>\n",
       "      <td>10</td>\n",
       "      <td>0</td>\n",
       "      <td>10</td>\n",
       "      <td>10</td>\n",
       "      <td>10</td>\n",
       "    </tr>\n",
       "    <tr>\n",
       "      <th>2012.0</th>\n",
       "      <td>10</td>\n",
       "      <td>10</td>\n",
       "      <td>10</td>\n",
       "      <td>10</td>\n",
       "      <td>10</td>\n",
       "      <td>10</td>\n",
       "      <td>10</td>\n",
       "      <td>10</td>\n",
       "      <td>10</td>\n",
       "      <td>0</td>\n",
       "      <td>10</td>\n",
       "      <td>10</td>\n",
       "      <td>10</td>\n",
       "    </tr>\n",
       "    <tr>\n",
       "      <th>2013.0</th>\n",
       "      <td>10</td>\n",
       "      <td>10</td>\n",
       "      <td>10</td>\n",
       "      <td>10</td>\n",
       "      <td>10</td>\n",
       "      <td>10</td>\n",
       "      <td>10</td>\n",
       "      <td>10</td>\n",
       "      <td>10</td>\n",
       "      <td>0</td>\n",
       "      <td>10</td>\n",
       "      <td>10</td>\n",
       "      <td>10</td>\n",
       "    </tr>\n",
       "    <tr>\n",
       "      <th>2014.0</th>\n",
       "      <td>10</td>\n",
       "      <td>10</td>\n",
       "      <td>10</td>\n",
       "      <td>10</td>\n",
       "      <td>10</td>\n",
       "      <td>10</td>\n",
       "      <td>10</td>\n",
       "      <td>10</td>\n",
       "      <td>10</td>\n",
       "      <td>0</td>\n",
       "      <td>10</td>\n",
       "      <td>10</td>\n",
       "      <td>10</td>\n",
       "    </tr>\n",
       "    <tr>\n",
       "      <th>2015.0</th>\n",
       "      <td>10</td>\n",
       "      <td>10</td>\n",
       "      <td>10</td>\n",
       "      <td>10</td>\n",
       "      <td>10</td>\n",
       "      <td>10</td>\n",
       "      <td>10</td>\n",
       "      <td>10</td>\n",
       "      <td>10</td>\n",
       "      <td>0</td>\n",
       "      <td>10</td>\n",
       "      <td>10</td>\n",
       "      <td>10</td>\n",
       "    </tr>\n",
       "    <tr>\n",
       "      <th>2016.0</th>\n",
       "      <td>10</td>\n",
       "      <td>10</td>\n",
       "      <td>10</td>\n",
       "      <td>10</td>\n",
       "      <td>10</td>\n",
       "      <td>10</td>\n",
       "      <td>10</td>\n",
       "      <td>10</td>\n",
       "      <td>10</td>\n",
       "      <td>0</td>\n",
       "      <td>10</td>\n",
       "      <td>10</td>\n",
       "      <td>10</td>\n",
       "    </tr>\n",
       "    <tr>\n",
       "      <th>2017.0</th>\n",
       "      <td>10</td>\n",
       "      <td>10</td>\n",
       "      <td>10</td>\n",
       "      <td>10</td>\n",
       "      <td>10</td>\n",
       "      <td>10</td>\n",
       "      <td>10</td>\n",
       "      <td>10</td>\n",
       "      <td>10</td>\n",
       "      <td>0</td>\n",
       "      <td>10</td>\n",
       "      <td>10</td>\n",
       "      <td>10</td>\n",
       "    </tr>\n",
       "    <tr>\n",
       "      <th>2018.0</th>\n",
       "      <td>10</td>\n",
       "      <td>10</td>\n",
       "      <td>10</td>\n",
       "      <td>10</td>\n",
       "      <td>10</td>\n",
       "      <td>10</td>\n",
       "      <td>10</td>\n",
       "      <td>10</td>\n",
       "      <td>10</td>\n",
       "      <td>0</td>\n",
       "      <td>10</td>\n",
       "      <td>10</td>\n",
       "      <td>10</td>\n",
       "    </tr>\n",
       "  </tbody>\n",
       "</table>\n",
       "</div>"
      ],
      "text/plain": [
       "        company  orig_report_type  report_type  input_file  output_file  \\\n",
       "year                                                                      \n",
       "1999.0        6                 6            6           6            6   \n",
       "2000.0        6                 6            6           6            6   \n",
       "2001.0        7                 7            7           7            7   \n",
       "2002.0        7                 7            7           7            7   \n",
       "2003.0        9                 9            9           9            9   \n",
       "2004.0       10                10           10          10           10   \n",
       "2005.0       10                10           10          10           10   \n",
       "2006.0       10                10           10          10           10   \n",
       "2007.0       10                10           10          10           10   \n",
       "2008.0       10                10           10          10           10   \n",
       "2009.0       10                10           10          10           10   \n",
       "2010.0       10                10           10          10           10   \n",
       "2011.0       10                10           10          10           10   \n",
       "2012.0       10                10           10          10           10   \n",
       "2013.0       10                10           10          10           10   \n",
       "2014.0       10                10           10          10           10   \n",
       "2015.0       10                10           10          10           10   \n",
       "2016.0       10                10           10          10           10   \n",
       "2017.0       10                10           10          10           10   \n",
       "2018.0       10                10           10          10           10   \n",
       "\n",
       "        should_label  is_labelled  company_id  firm_name  ticker  country  \\\n",
       "year                                                                        \n",
       "1999.0             6            6           6          6       0        6   \n",
       "2000.0             6            6           6          6       0        6   \n",
       "2001.0             7            7           7          7       0        7   \n",
       "2002.0             7            7           7          7       0        7   \n",
       "2003.0             9            9           9          9       0        9   \n",
       "2004.0            10           10          10         10       0       10   \n",
       "2005.0            10           10          10         10       0       10   \n",
       "2006.0            10           10          10         10       0       10   \n",
       "2007.0            10           10          10         10       0       10   \n",
       "2008.0            10           10          10         10       0       10   \n",
       "2009.0            10           10          10         10       0       10   \n",
       "2010.0            10           10          10         10       0       10   \n",
       "2011.0            10           10          10         10       0       10   \n",
       "2012.0            10           10          10         10       0       10   \n",
       "2013.0            10           10          10         10       0       10   \n",
       "2014.0            10           10          10         10       0       10   \n",
       "2015.0            10           10          10         10       0       10   \n",
       "2016.0            10           10          10         10       0       10   \n",
       "2017.0            10           10          10         10       0       10   \n",
       "2018.0            10           10          10         10       0       10   \n",
       "\n",
       "        icb_industry  icb_supersector  \n",
       "year                                   \n",
       "1999.0             6                6  \n",
       "2000.0             6                6  \n",
       "2001.0             7                7  \n",
       "2002.0             7                7  \n",
       "2003.0             9                9  \n",
       "2004.0            10               10  \n",
       "2005.0            10               10  \n",
       "2006.0            10               10  \n",
       "2007.0            10               10  \n",
       "2008.0            10               10  \n",
       "2009.0            10               10  \n",
       "2010.0            10               10  \n",
       "2011.0            10               10  \n",
       "2012.0            10               10  \n",
       "2013.0            10               10  \n",
       "2014.0            10               10  \n",
       "2015.0            10               10  \n",
       "2016.0            10               10  \n",
       "2017.0            10               10  \n",
       "2018.0            10               10  "
      ]
     },
     "execution_count": 134,
     "metadata": {},
     "output_type": "execute_result"
    }
   ],
   "source": [
    "df_to_label.groupby(['year']).count()"
   ]
  },
  {
   "cell_type": "code",
   "execution_count": 37,
   "metadata": {},
   "outputs": [],
   "source": [
    "df_to_label = df[(df.year != HOLD_OUT_YEAR) & (df.company_id != HOLD_OUT_COMPANY)].copy()\n",
    "df_to_label = df_to_label[df_to_label.should_label]\n",
    "\n",
    "df_to_label = df_to_label.groupby('icb_industry').sample(10, random_state=SEED)\n",
    "df_to_label.to_csv('/Users/david/Desktop/Firm_AnnualReport_100.csv')\n",
    "#test.groupby('year').count()\n",
    "# sampledf = df_to_label.sample(100, weights = df_to_label.groupby(['year', 'icb_industry']).transform('count'))\n",
    "# sampledf.groupby('year').count()"
   ]
  },
  {
   "cell_type": "code",
   "execution_count": 4,
   "metadata": {},
   "outputs": [],
   "source": [
    "import pandas as pd\n",
    "df_to_label = pd.read_csv('/Users/david/Desktop/Firm_AnnualReport_100.csv')"
   ]
  },
  {
   "cell_type": "code",
   "execution_count": 9,
   "metadata": {},
   "outputs": [
    {
     "data": {
      "text/html": [
       "<div>\n",
       "<style scoped>\n",
       "    .dataframe tbody tr th:only-of-type {\n",
       "        vertical-align: middle;\n",
       "    }\n",
       "\n",
       "    .dataframe tbody tr th {\n",
       "        vertical-align: top;\n",
       "    }\n",
       "\n",
       "    .dataframe thead th {\n",
       "        text-align: right;\n",
       "    }\n",
       "</style>\n",
       "<table border=\"1\" class=\"dataframe\">\n",
       "  <thead>\n",
       "    <tr style=\"text-align: right;\">\n",
       "      <th></th>\n",
       "      <th>Unnamed: 0</th>\n",
       "      <th>id</th>\n",
       "      <th>company</th>\n",
       "      <th>orig_report_type</th>\n",
       "      <th>report_type</th>\n",
       "      <th>input_file</th>\n",
       "      <th>output_file</th>\n",
       "      <th>should_label</th>\n",
       "      <th>is_labelled</th>\n",
       "      <th>company_id</th>\n",
       "      <th>firm_name</th>\n",
       "      <th>ticker</th>\n",
       "      <th>country</th>\n",
       "      <th>icb_industry</th>\n",
       "      <th>icb_supersector</th>\n",
       "    </tr>\n",
       "    <tr>\n",
       "      <th>year</th>\n",
       "      <th></th>\n",
       "      <th></th>\n",
       "      <th></th>\n",
       "      <th></th>\n",
       "      <th></th>\n",
       "      <th></th>\n",
       "      <th></th>\n",
       "      <th></th>\n",
       "      <th></th>\n",
       "      <th></th>\n",
       "      <th></th>\n",
       "      <th></th>\n",
       "      <th></th>\n",
       "      <th></th>\n",
       "      <th></th>\n",
       "    </tr>\n",
       "  </thead>\n",
       "  <tbody>\n",
       "    <tr>\n",
       "      <th>1999.0</th>\n",
       "      <td>4</td>\n",
       "      <td>4</td>\n",
       "      <td>4</td>\n",
       "      <td>4</td>\n",
       "      <td>4</td>\n",
       "      <td>4</td>\n",
       "      <td>4</td>\n",
       "      <td>4</td>\n",
       "      <td>4</td>\n",
       "      <td>4</td>\n",
       "      <td>4</td>\n",
       "      <td>0</td>\n",
       "      <td>4</td>\n",
       "      <td>4</td>\n",
       "      <td>4</td>\n",
       "    </tr>\n",
       "    <tr>\n",
       "      <th>2000.0</th>\n",
       "      <td>3</td>\n",
       "      <td>3</td>\n",
       "      <td>3</td>\n",
       "      <td>3</td>\n",
       "      <td>3</td>\n",
       "      <td>3</td>\n",
       "      <td>3</td>\n",
       "      <td>3</td>\n",
       "      <td>3</td>\n",
       "      <td>3</td>\n",
       "      <td>3</td>\n",
       "      <td>0</td>\n",
       "      <td>3</td>\n",
       "      <td>3</td>\n",
       "      <td>3</td>\n",
       "    </tr>\n",
       "    <tr>\n",
       "      <th>2001.0</th>\n",
       "      <td>6</td>\n",
       "      <td>6</td>\n",
       "      <td>6</td>\n",
       "      <td>6</td>\n",
       "      <td>6</td>\n",
       "      <td>6</td>\n",
       "      <td>6</td>\n",
       "      <td>6</td>\n",
       "      <td>6</td>\n",
       "      <td>6</td>\n",
       "      <td>6</td>\n",
       "      <td>0</td>\n",
       "      <td>6</td>\n",
       "      <td>6</td>\n",
       "      <td>6</td>\n",
       "    </tr>\n",
       "    <tr>\n",
       "      <th>2002.0</th>\n",
       "      <td>4</td>\n",
       "      <td>4</td>\n",
       "      <td>4</td>\n",
       "      <td>4</td>\n",
       "      <td>4</td>\n",
       "      <td>4</td>\n",
       "      <td>4</td>\n",
       "      <td>4</td>\n",
       "      <td>4</td>\n",
       "      <td>4</td>\n",
       "      <td>4</td>\n",
       "      <td>0</td>\n",
       "      <td>4</td>\n",
       "      <td>4</td>\n",
       "      <td>4</td>\n",
       "    </tr>\n",
       "    <tr>\n",
       "      <th>2003.0</th>\n",
       "      <td>3</td>\n",
       "      <td>3</td>\n",
       "      <td>3</td>\n",
       "      <td>3</td>\n",
       "      <td>3</td>\n",
       "      <td>3</td>\n",
       "      <td>3</td>\n",
       "      <td>3</td>\n",
       "      <td>3</td>\n",
       "      <td>3</td>\n",
       "      <td>3</td>\n",
       "      <td>0</td>\n",
       "      <td>3</td>\n",
       "      <td>3</td>\n",
       "      <td>3</td>\n",
       "    </tr>\n",
       "    <tr>\n",
       "      <th>2004.0</th>\n",
       "      <td>3</td>\n",
       "      <td>3</td>\n",
       "      <td>3</td>\n",
       "      <td>3</td>\n",
       "      <td>3</td>\n",
       "      <td>3</td>\n",
       "      <td>3</td>\n",
       "      <td>3</td>\n",
       "      <td>3</td>\n",
       "      <td>3</td>\n",
       "      <td>3</td>\n",
       "      <td>0</td>\n",
       "      <td>3</td>\n",
       "      <td>3</td>\n",
       "      <td>3</td>\n",
       "    </tr>\n",
       "    <tr>\n",
       "      <th>2005.0</th>\n",
       "      <td>3</td>\n",
       "      <td>3</td>\n",
       "      <td>3</td>\n",
       "      <td>3</td>\n",
       "      <td>3</td>\n",
       "      <td>3</td>\n",
       "      <td>3</td>\n",
       "      <td>3</td>\n",
       "      <td>3</td>\n",
       "      <td>3</td>\n",
       "      <td>3</td>\n",
       "      <td>0</td>\n",
       "      <td>3</td>\n",
       "      <td>3</td>\n",
       "      <td>3</td>\n",
       "    </tr>\n",
       "    <tr>\n",
       "      <th>2006.0</th>\n",
       "      <td>6</td>\n",
       "      <td>6</td>\n",
       "      <td>6</td>\n",
       "      <td>6</td>\n",
       "      <td>6</td>\n",
       "      <td>6</td>\n",
       "      <td>6</td>\n",
       "      <td>6</td>\n",
       "      <td>6</td>\n",
       "      <td>6</td>\n",
       "      <td>6</td>\n",
       "      <td>0</td>\n",
       "      <td>6</td>\n",
       "      <td>6</td>\n",
       "      <td>6</td>\n",
       "    </tr>\n",
       "    <tr>\n",
       "      <th>2007.0</th>\n",
       "      <td>4</td>\n",
       "      <td>4</td>\n",
       "      <td>4</td>\n",
       "      <td>4</td>\n",
       "      <td>4</td>\n",
       "      <td>4</td>\n",
       "      <td>4</td>\n",
       "      <td>4</td>\n",
       "      <td>4</td>\n",
       "      <td>4</td>\n",
       "      <td>4</td>\n",
       "      <td>0</td>\n",
       "      <td>4</td>\n",
       "      <td>4</td>\n",
       "      <td>4</td>\n",
       "    </tr>\n",
       "    <tr>\n",
       "      <th>2008.0</th>\n",
       "      <td>4</td>\n",
       "      <td>4</td>\n",
       "      <td>4</td>\n",
       "      <td>4</td>\n",
       "      <td>4</td>\n",
       "      <td>4</td>\n",
       "      <td>4</td>\n",
       "      <td>4</td>\n",
       "      <td>4</td>\n",
       "      <td>4</td>\n",
       "      <td>4</td>\n",
       "      <td>0</td>\n",
       "      <td>4</td>\n",
       "      <td>4</td>\n",
       "      <td>4</td>\n",
       "    </tr>\n",
       "    <tr>\n",
       "      <th>2009.0</th>\n",
       "      <td>6</td>\n",
       "      <td>6</td>\n",
       "      <td>6</td>\n",
       "      <td>6</td>\n",
       "      <td>6</td>\n",
       "      <td>6</td>\n",
       "      <td>6</td>\n",
       "      <td>6</td>\n",
       "      <td>6</td>\n",
       "      <td>6</td>\n",
       "      <td>6</td>\n",
       "      <td>0</td>\n",
       "      <td>6</td>\n",
       "      <td>6</td>\n",
       "      <td>6</td>\n",
       "    </tr>\n",
       "    <tr>\n",
       "      <th>2010.0</th>\n",
       "      <td>7</td>\n",
       "      <td>7</td>\n",
       "      <td>7</td>\n",
       "      <td>7</td>\n",
       "      <td>7</td>\n",
       "      <td>7</td>\n",
       "      <td>7</td>\n",
       "      <td>7</td>\n",
       "      <td>7</td>\n",
       "      <td>7</td>\n",
       "      <td>7</td>\n",
       "      <td>0</td>\n",
       "      <td>7</td>\n",
       "      <td>7</td>\n",
       "      <td>7</td>\n",
       "    </tr>\n",
       "    <tr>\n",
       "      <th>2011.0</th>\n",
       "      <td>7</td>\n",
       "      <td>7</td>\n",
       "      <td>7</td>\n",
       "      <td>7</td>\n",
       "      <td>7</td>\n",
       "      <td>7</td>\n",
       "      <td>7</td>\n",
       "      <td>7</td>\n",
       "      <td>7</td>\n",
       "      <td>7</td>\n",
       "      <td>7</td>\n",
       "      <td>0</td>\n",
       "      <td>7</td>\n",
       "      <td>7</td>\n",
       "      <td>7</td>\n",
       "    </tr>\n",
       "    <tr>\n",
       "      <th>2012.0</th>\n",
       "      <td>8</td>\n",
       "      <td>8</td>\n",
       "      <td>8</td>\n",
       "      <td>8</td>\n",
       "      <td>8</td>\n",
       "      <td>8</td>\n",
       "      <td>8</td>\n",
       "      <td>8</td>\n",
       "      <td>8</td>\n",
       "      <td>8</td>\n",
       "      <td>8</td>\n",
       "      <td>0</td>\n",
       "      <td>8</td>\n",
       "      <td>8</td>\n",
       "      <td>8</td>\n",
       "    </tr>\n",
       "    <tr>\n",
       "      <th>2013.0</th>\n",
       "      <td>7</td>\n",
       "      <td>7</td>\n",
       "      <td>7</td>\n",
       "      <td>7</td>\n",
       "      <td>7</td>\n",
       "      <td>7</td>\n",
       "      <td>7</td>\n",
       "      <td>7</td>\n",
       "      <td>7</td>\n",
       "      <td>7</td>\n",
       "      <td>7</td>\n",
       "      <td>0</td>\n",
       "      <td>7</td>\n",
       "      <td>7</td>\n",
       "      <td>7</td>\n",
       "    </tr>\n",
       "    <tr>\n",
       "      <th>2014.0</th>\n",
       "      <td>5</td>\n",
       "      <td>5</td>\n",
       "      <td>5</td>\n",
       "      <td>5</td>\n",
       "      <td>5</td>\n",
       "      <td>5</td>\n",
       "      <td>5</td>\n",
       "      <td>5</td>\n",
       "      <td>5</td>\n",
       "      <td>5</td>\n",
       "      <td>5</td>\n",
       "      <td>0</td>\n",
       "      <td>5</td>\n",
       "      <td>5</td>\n",
       "      <td>5</td>\n",
       "    </tr>\n",
       "    <tr>\n",
       "      <th>2015.0</th>\n",
       "      <td>4</td>\n",
       "      <td>4</td>\n",
       "      <td>4</td>\n",
       "      <td>4</td>\n",
       "      <td>4</td>\n",
       "      <td>4</td>\n",
       "      <td>4</td>\n",
       "      <td>4</td>\n",
       "      <td>4</td>\n",
       "      <td>4</td>\n",
       "      <td>4</td>\n",
       "      <td>0</td>\n",
       "      <td>4</td>\n",
       "      <td>4</td>\n",
       "      <td>4</td>\n",
       "    </tr>\n",
       "    <tr>\n",
       "      <th>2016.0</th>\n",
       "      <td>6</td>\n",
       "      <td>6</td>\n",
       "      <td>6</td>\n",
       "      <td>6</td>\n",
       "      <td>6</td>\n",
       "      <td>6</td>\n",
       "      <td>6</td>\n",
       "      <td>6</td>\n",
       "      <td>6</td>\n",
       "      <td>6</td>\n",
       "      <td>6</td>\n",
       "      <td>0</td>\n",
       "      <td>6</td>\n",
       "      <td>6</td>\n",
       "      <td>6</td>\n",
       "    </tr>\n",
       "    <tr>\n",
       "      <th>2017.0</th>\n",
       "      <td>4</td>\n",
       "      <td>4</td>\n",
       "      <td>4</td>\n",
       "      <td>4</td>\n",
       "      <td>4</td>\n",
       "      <td>4</td>\n",
       "      <td>4</td>\n",
       "      <td>4</td>\n",
       "      <td>4</td>\n",
       "      <td>4</td>\n",
       "      <td>4</td>\n",
       "      <td>0</td>\n",
       "      <td>4</td>\n",
       "      <td>4</td>\n",
       "      <td>4</td>\n",
       "    </tr>\n",
       "    <tr>\n",
       "      <th>2018.0</th>\n",
       "      <td>6</td>\n",
       "      <td>6</td>\n",
       "      <td>6</td>\n",
       "      <td>6</td>\n",
       "      <td>6</td>\n",
       "      <td>6</td>\n",
       "      <td>6</td>\n",
       "      <td>6</td>\n",
       "      <td>6</td>\n",
       "      <td>6</td>\n",
       "      <td>6</td>\n",
       "      <td>0</td>\n",
       "      <td>6</td>\n",
       "      <td>6</td>\n",
       "      <td>6</td>\n",
       "    </tr>\n",
       "  </tbody>\n",
       "</table>\n",
       "</div>"
      ],
      "text/plain": [
       "        Unnamed: 0  id  company  orig_report_type  report_type  input_file  \\\n",
       "year                                                                         \n",
       "1999.0           4   4        4                 4            4           4   \n",
       "2000.0           3   3        3                 3            3           3   \n",
       "2001.0           6   6        6                 6            6           6   \n",
       "2002.0           4   4        4                 4            4           4   \n",
       "2003.0           3   3        3                 3            3           3   \n",
       "2004.0           3   3        3                 3            3           3   \n",
       "2005.0           3   3        3                 3            3           3   \n",
       "2006.0           6   6        6                 6            6           6   \n",
       "2007.0           4   4        4                 4            4           4   \n",
       "2008.0           4   4        4                 4            4           4   \n",
       "2009.0           6   6        6                 6            6           6   \n",
       "2010.0           7   7        7                 7            7           7   \n",
       "2011.0           7   7        7                 7            7           7   \n",
       "2012.0           8   8        8                 8            8           8   \n",
       "2013.0           7   7        7                 7            7           7   \n",
       "2014.0           5   5        5                 5            5           5   \n",
       "2015.0           4   4        4                 4            4           4   \n",
       "2016.0           6   6        6                 6            6           6   \n",
       "2017.0           4   4        4                 4            4           4   \n",
       "2018.0           6   6        6                 6            6           6   \n",
       "\n",
       "        output_file  should_label  is_labelled  company_id  firm_name  ticker  \\\n",
       "year                                                                            \n",
       "1999.0            4             4            4           4          4       0   \n",
       "2000.0            3             3            3           3          3       0   \n",
       "2001.0            6             6            6           6          6       0   \n",
       "2002.0            4             4            4           4          4       0   \n",
       "2003.0            3             3            3           3          3       0   \n",
       "2004.0            3             3            3           3          3       0   \n",
       "2005.0            3             3            3           3          3       0   \n",
       "2006.0            6             6            6           6          6       0   \n",
       "2007.0            4             4            4           4          4       0   \n",
       "2008.0            4             4            4           4          4       0   \n",
       "2009.0            6             6            6           6          6       0   \n",
       "2010.0            7             7            7           7          7       0   \n",
       "2011.0            7             7            7           7          7       0   \n",
       "2012.0            8             8            8           8          8       0   \n",
       "2013.0            7             7            7           7          7       0   \n",
       "2014.0            5             5            5           5          5       0   \n",
       "2015.0            4             4            4           4          4       0   \n",
       "2016.0            6             6            6           6          6       0   \n",
       "2017.0            4             4            4           4          4       0   \n",
       "2018.0            6             6            6           6          6       0   \n",
       "\n",
       "        country  icb_industry  icb_supersector  \n",
       "year                                            \n",
       "1999.0        4             4                4  \n",
       "2000.0        3             3                3  \n",
       "2001.0        6             6                6  \n",
       "2002.0        4             4                4  \n",
       "2003.0        3             3                3  \n",
       "2004.0        3             3                3  \n",
       "2005.0        3             3                3  \n",
       "2006.0        6             6                6  \n",
       "2007.0        4             4                4  \n",
       "2008.0        4             4                4  \n",
       "2009.0        6             6                6  \n",
       "2010.0        7             7                7  \n",
       "2011.0        7             7                7  \n",
       "2012.0        8             8                8  \n",
       "2013.0        7             7                7  \n",
       "2014.0        5             5                5  \n",
       "2015.0        4             4                4  \n",
       "2016.0        6             6                6  \n",
       "2017.0        4             4                4  \n",
       "2018.0        6             6                6  "
      ]
     },
     "execution_count": 9,
     "metadata": {},
     "output_type": "execute_result"
    }
   ],
   "source": [
    "df_to_label.groupby('year').count()"
   ]
  },
  {
   "cell_type": "code",
   "execution_count": 12,
   "metadata": {},
   "outputs": [
    {
     "data": {
      "text/plain": [
       "<AxesSubplot:>"
      ]
     },
     "execution_count": 12,
     "metadata": {},
     "output_type": "execute_result"
    },
    {
     "data": {
      "image/png": "[encoded data removed]",
      "text/plain": [
       "<Figure size 432x288 with 1 Axes>"
      ]
     },
     "metadata": {
      "needs_background": "light"
     },
     "output_type": "display_data"
    }
   ],
   "source": [
    "df_to_label['year'].hist(bins=20)"
   ]
  },
  {
   "cell_type": "code",
   "execution_count": null,
   "metadata": {},
   "outputs": [],
   "source": []
  }
 ],
 "metadata": {
  "kernelspec": {
   "display_name": "Python 3",
   "language": "python",
   "name": "python3"
  },
  "language_info": {
   "codemirror_mode": {
    "name": "ipython",
    "version": 3
   },
   "file_extension": ".py",
   "mimetype": "text/x-python",
   "name": "python",
   "nbconvert_exporter": "python",
   "pygments_lexer": "ipython3",
   "version": "3.8.5"
  }
 },
 "nbformat": 4,
 "nbformat_minor": 4
}
