{
 "cells": [
  {
   "cell_type": "markdown",
   "metadata": {},
   "source": [
    "# Local labelling"
   ]
  },
  {
   "cell_type": "code",
   "execution_count": 9,
   "metadata": {},
   "outputs": [
    {
     "data": {
      "application/vnd.jupyter.widget-view+json": {
       "model_id": "a595d4fef9ce40d1a40133696a08ba4a",
       "version_major": 2,
       "version_minor": 0
      },
      "text/plain": [
       "Output()"
      ]
     },
     "metadata": {},
     "output_type": "display_data"
    },
    {
     "data": {
      "application/vnd.jupyter.widget-view+json": {
       "model_id": "6606c5c5785e4bf9bc5ffd65420b5413",
       "version_major": 2,
       "version_minor": 0
      },
      "text/plain": [
       "Output()"
      ]
     },
     "metadata": {},
     "output_type": "display_data"
    },
    {
     "data": {
      "application/vnd.jupyter.widget-view+json": {
       "model_id": "3630df76cc45479e8d6cbb7a8207a095",
       "version_major": 2,
       "version_minor": 0
      },
      "text/plain": [
       "HBox(children=(Button(description='Previous relevant page', style=ButtonStyle()), BoundedIntText(value=1, desc…"
      ]
     },
     "metadata": {},
     "output_type": "display_data"
    },
    {
     "data": {
      "application/vnd.jupyter.widget-view+json": {
       "model_id": "6718de6e275c4d1db3617c8620117696",
       "version_major": 2,
       "version_minor": 0
      },
      "text/plain": [
       "Output()"
      ]
     },
     "metadata": {},
     "output_type": "display_data"
    }
   ],
   "source": [
    "import os\n",
    "import importlib\n",
    "import sys\n",
    "\n",
    "\n",
    "import pandas as pd\n",
    "\n",
    "sys.path.append('..')\n",
    "import data\n",
    "importlib.reload(data.custom_widgets)\n",
    "from data.custom_widgets import ReportsLabeler\n",
    "\n",
    "\n",
    "############## CONFIG ##############\n",
    "DATA_INPUT_PATH = os.path.abspath(\"../input_files/annual_reports\")\n",
    "MASTER_DATA_PATH = os.path.abspath('../input_files/annual_reports/Firm_AnnualReport_DF.csv')\n",
    "LABEL_OUTPUT_FN = 'Firm_AnnualReport_Labels_DF.pkl'\n",
    "####################################\n",
    "\n",
    "labeler = ReportsLabeler(files_input_dir=DATA_INPUT_PATH, master_input_path=MASTER_DATA_PATH, label_output_fn=LABEL_OUTPUT_FN)"
   ]
  },
  {
   "cell_type": "code",
   "execution_count": null,
   "metadata": {},
   "outputs": [],
   "source": []
  }
 ],
 "metadata": {
  "kernelspec": {
   "display_name": "Python 3",
   "language": "python",
   "name": "python3"
  },
  "language_info": {
   "codemirror_mode": {
    "name": "ipython",
    "version": 3
   },
   "file_extension": ".py",
   "mimetype": "text/x-python",
   "name": "python",
   "nbconvert_exporter": "python",
   "pygments_lexer": "ipython3",
   "version": "3.8.5"
  }
 },
 "nbformat": 4,
 "nbformat_minor": 4
}
