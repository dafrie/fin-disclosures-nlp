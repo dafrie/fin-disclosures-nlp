{
 "cells": [
  {
   "cell_type": "markdown",
   "metadata": {},
   "source": [
    "# Label Dataset Generation\n",
    "\n",
    "Uses the files generated in the Test- and TrainingDataPreparation notebooks and adds all \"unlabelled\" paragraphs from the other reports\n",
    "to come up with one dataset containing all data."
   ]
  },
  {
   "cell_type": "code",
   "execution_count": 3,
   "metadata": {},
   "outputs": [],
   "source": [
    "import pandas as pd\n",
    "import numpy as np\n",
    "\n",
    "df_inference = pd.read_pickle(\"/Users/david/Nextcloud/Dokumente/Education/Uni Bern/Master Thesis/Analyzing Financial Climate Disclosures with NLP/Data/stoxx_inference/Firm_AnnualReport_Paragraphs_with_actual.pkl\")\n",
    "df_labelling_train_pos = pd.read_pickle(\"/Users/david/Nextcloud/Dokumente/Education/Uni Bern/Master Thesis/Analyzing Financial Climate Disclosures with NLP/Labelling/annual reports/Firm_AnnualReport_Labels_Training_Positive.pkl\")\n",
    "df_labelling_train_neg = pd.read_pickle(\"/Users/david/Nextcloud/Dokumente/Education/Uni Bern/Master Thesis/Analyzing Financial Climate Disclosures with NLP/Labelling/annual reports/Firm_AnnualReport_Labels_Training_Negative.pkl\")"
   ]
  },
  {
   "cell_type": "code",
   "execution_count": 7,
   "metadata": {},
   "outputs": [],
   "source": [
    "id_columns = ['report_id', 'page', 'paragraph_no']\n",
    "df_labelling_train_pos[\"id\"] = df_labelling_train_pos.apply(lambda row: \"_\".join([str(row[c]) for c in id_columns]), axis=1)\n",
    "df_labelling_train_neg[\"id\"] = df_labelling_train_neg.apply(lambda row: \"_\".join([str(row[c]) for c in id_columns]), axis=1)"
   ]
  },
  {
   "cell_type": "code",
   "execution_count": 11,
   "metadata": {},
   "outputs": [
    {
     "data": {
      "text/plain": [
       "{'gb_bp-AR_2017_58_1'}"
      ]
     },
     "execution_count": 11,
     "metadata": {},
     "output_type": "execute_result"
    }
   ],
   "source": [
    "set(df_labelling_train_neg.id) - set(df_inference.id)"
   ]
  },
  {
   "cell_type": "code",
   "execution_count": 15,
   "metadata": {},
   "outputs": [
    {
     "data": {
      "text/html": [
       "<div>\n",
       "<style scoped>\n",
       "    .dataframe tbody tr th:only-of-type {\n",
       "        vertical-align: middle;\n",
       "    }\n",
       "\n",
       "    .dataframe tbody tr th {\n",
       "        vertical-align: top;\n",
       "    }\n",
       "\n",
       "    .dataframe thead th {\n",
       "        text-align: right;\n",
       "    }\n",
       "</style>\n",
       "<table border=\"1\" class=\"dataframe\">\n",
       "  <thead>\n",
       "    <tr style=\"text-align: right;\">\n",
       "      <th></th>\n",
       "      <th>page_no</th>\n",
       "      <th>paragraph_no</th>\n",
       "      <th>text</th>\n",
       "      <th>is_adjunct</th>\n",
       "      <th>preds_svm_cro</th>\n",
       "      <th>preds_prob_svm_cro</th>\n",
       "      <th>report_id</th>\n",
       "      <th>PR_predicted</th>\n",
       "      <th>TR_predicted</th>\n",
       "      <th>OP_predicted</th>\n",
       "      <th>...</th>\n",
       "      <th>OP_actual</th>\n",
       "      <th>PR_actual</th>\n",
       "      <th>TR_actual</th>\n",
       "      <th>ACUTE_actual</th>\n",
       "      <th>CHRON_actual</th>\n",
       "      <th>MARKET_actual</th>\n",
       "      <th>POLICY_actual</th>\n",
       "      <th>PRODUCTS_actual</th>\n",
       "      <th>REPUTATION_actual</th>\n",
       "      <th>RESILIENCE_actual</th>\n",
       "    </tr>\n",
       "  </thead>\n",
       "  <tbody>\n",
       "  </tbody>\n",
       "</table>\n",
       "<p>0 rows × 39 columns</p>\n",
       "</div>"
      ],
      "text/plain": [
       "Empty DataFrame\n",
       "Columns: [page_no, paragraph_no, text, is_adjunct, preds_svm_cro, preds_prob_svm_cro, report_id, PR_predicted, TR_predicted, OP_predicted, PR_prob, TR_prob, OP_prob, company, orig_report_type, report_type, year, input_file, output_file, should_infer, is_inferred, company_id, firm_name, ticker, country, icb_industry, icb_supersector, labelling_dataset, id, OP_actual, PR_actual, TR_actual, ACUTE_actual, CHRON_actual, MARKET_actual, POLICY_actual, PRODUCTS_actual, REPUTATION_actual, RESILIENCE_actual]\n",
       "Index: []\n",
       "\n",
       "[0 rows x 39 columns]"
      ]
     },
     "execution_count": 15,
     "metadata": {},
     "output_type": "execute_result"
    }
   ],
   "source": [
    "df_labelling_train_neg()"
   ]
  },
  {
   "cell_type": "code",
   "execution_count": null,
   "metadata": {},
   "outputs": [],
   "source": [
    "## Generate "
   ]
  },
  {
   "cell_type": "code",
   "execution_count": null,
   "metadata": {},
   "outputs": [],
   "source": [
    "df= df[['id', 'report_id', 'page_no', 'paragraph_no', 'labelling_dataset', 'coder', 'negative_type', 'is_adjunct', 'text', 'PR_actual', 'TR_actual', 'OP_actual', 'ACUTE_actual', 'CHRON_actual', 'REPUTATION_actual', 'MARKET_actual', 'POLICY_actual', 'PRODUCTS_actual', 'RESILIENCE_actual']]"
   ]
  }
 ],
 "metadata": {
  "kernelspec": {
   "display_name": "Python 3",
   "language": "python",
   "name": "python3"
  },
  "language_info": {
   "codemirror_mode": {
    "name": "ipython",
    "version": 3
   },
   "file_extension": ".py",
   "mimetype": "text/x-python",
   "name": "python",
   "nbconvert_exporter": "python",
   "pygments_lexer": "ipython3",
   "version": "3.8.5"
  }
 },
 "nbformat": 4,
 "nbformat_minor": 4
}
