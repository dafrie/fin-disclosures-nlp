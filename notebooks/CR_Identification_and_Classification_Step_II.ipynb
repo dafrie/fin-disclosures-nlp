{
  "nbformat": 4,
  "nbformat_minor": 0,
  "metadata": {
    "colab": {
      "name": "CR_Identification_and_Classification_Step_II.ipynb",
      "provenance": [],
      "collapsed_sections": [],
      "toc_visible": true,
      "authorship_tag": "ABX9TyN0b5qH3N5F0DMsPWYsr0oy",
      "include_colab_link": true
    },
    "kernelspec": {
      "display_name": "Python 3",
      "name": "python3"
    },
    "widgets": {
      "application/vnd.jupyter.widget-state+json": {
        "0b8cec36821b43ddb3ee9449d17c1c76": {
          "model_module": "@jupyter-widgets/controls",
          "model_name": "HBoxModel",
          "state": {
            "_view_name": "HBoxView",
            "_dom_classes": [],
            "_model_name": "HBoxModel",
            "_view_module": "@jupyter-widgets/controls",
            "_model_module_version": "1.5.0",
            "_view_count": null,
            "_view_module_version": "1.5.0",
            "box_style": "",
            "layout": "IPY_MODEL_f5f40c386aae419795e902ec667cc60a",
            "_model_module": "@jupyter-widgets/controls",
            "children": [
              "IPY_MODEL_c9947ace2a5442f28cf27844901b058a",
              "IPY_MODEL_ad80a7b6a12a4154a9ba5a881548c58d"
            ]
          }
        },
        "f5f40c386aae419795e902ec667cc60a": {
          "model_module": "@jupyter-widgets/base",
          "model_name": "LayoutModel",
          "state": {
            "_view_name": "LayoutView",
            "grid_template_rows": null,
            "right": null,
            "justify_content": null,
            "_view_module": "@jupyter-widgets/base",
            "overflow": null,
            "_model_module_version": "1.2.0",
            "_view_count": null,
            "flex_flow": null,
            "width": null,
            "min_width": null,
            "border": null,
            "align_items": null,
            "bottom": null,
            "_model_module": "@jupyter-widgets/base",
            "top": null,
            "grid_column": null,
            "overflow_y": null,
            "overflow_x": null,
            "grid_auto_flow": null,
            "grid_area": null,
            "grid_template_columns": null,
            "flex": null,
            "_model_name": "LayoutModel",
            "justify_items": null,
            "grid_row": null,
            "max_height": null,
            "align_content": null,
            "visibility": null,
            "align_self": null,
            "height": null,
            "min_height": null,
            "padding": null,
            "grid_auto_rows": null,
            "grid_gap": null,
            "max_width": null,
            "order": null,
            "_view_module_version": "1.2.0",
            "grid_template_areas": null,
            "object_position": null,
            "object_fit": null,
            "grid_auto_columns": null,
            "margin": null,
            "display": null,
            "left": null
          }
        },
        "c9947ace2a5442f28cf27844901b058a": {
          "model_module": "@jupyter-widgets/controls",
          "model_name": "FloatProgressModel",
          "state": {
            "_view_name": "ProgressView",
            "style": "IPY_MODEL_2d895d715c6f4981a8f83e1bfd3e994c",
            "_dom_classes": [],
            "description": "100%",
            "_model_name": "FloatProgressModel",
            "bar_style": "success",
            "max": 29,
            "_view_module": "@jupyter-widgets/controls",
            "_model_module_version": "1.5.0",
            "value": 29,
            "_view_count": null,
            "_view_module_version": "1.5.0",
            "orientation": "horizontal",
            "min": 0,
            "description_tooltip": null,
            "_model_module": "@jupyter-widgets/controls",
            "layout": "IPY_MODEL_4db5d1161f0045679f0bc52569880982"
          }
        },
        "ad80a7b6a12a4154a9ba5a881548c58d": {
          "model_module": "@jupyter-widgets/controls",
          "model_name": "HTMLModel",
          "state": {
            "_view_name": "HTMLView",
            "style": "IPY_MODEL_4258680a4e0d4c158caa72fb2fcb189c",
            "_dom_classes": [],
            "description": "",
            "_model_name": "HTMLModel",
            "placeholder": "​",
            "_view_module": "@jupyter-widgets/controls",
            "_model_module_version": "1.5.0",
            "value": " 29/29 [00:10&lt;00:00,  2.73ba/s]",
            "_view_count": null,
            "_view_module_version": "1.5.0",
            "description_tooltip": null,
            "_model_module": "@jupyter-widgets/controls",
            "layout": "IPY_MODEL_6f28a658c94747758e571b596ff400ec"
          }
        },
        "2d895d715c6f4981a8f83e1bfd3e994c": {
          "model_module": "@jupyter-widgets/controls",
          "model_name": "ProgressStyleModel",
          "state": {
            "_view_name": "StyleView",
            "_model_name": "ProgressStyleModel",
            "description_width": "initial",
            "_view_module": "@jupyter-widgets/base",
            "_model_module_version": "1.5.0",
            "_view_count": null,
            "_view_module_version": "1.2.0",
            "bar_color": null,
            "_model_module": "@jupyter-widgets/controls"
          }
        },
        "4db5d1161f0045679f0bc52569880982": {
          "model_module": "@jupyter-widgets/base",
          "model_name": "LayoutModel",
          "state": {
            "_view_name": "LayoutView",
            "grid_template_rows": null,
            "right": null,
            "justify_content": null,
            "_view_module": "@jupyter-widgets/base",
            "overflow": null,
            "_model_module_version": "1.2.0",
            "_view_count": null,
            "flex_flow": null,
            "width": null,
            "min_width": null,
            "border": null,
            "align_items": null,
            "bottom": null,
            "_model_module": "@jupyter-widgets/base",
            "top": null,
            "grid_column": null,
            "overflow_y": null,
            "overflow_x": null,
            "grid_auto_flow": null,
            "grid_area": null,
            "grid_template_columns": null,
            "flex": null,
            "_model_name": "LayoutModel",
            "justify_items": null,
            "grid_row": null,
            "max_height": null,
            "align_content": null,
            "visibility": null,
            "align_self": null,
            "height": null,
            "min_height": null,
            "padding": null,
            "grid_auto_rows": null,
            "grid_gap": null,
            "max_width": null,
            "order": null,
            "_view_module_version": "1.2.0",
            "grid_template_areas": null,
            "object_position": null,
            "object_fit": null,
            "grid_auto_columns": null,
            "margin": null,
            "display": null,
            "left": null
          }
        },
        "4258680a4e0d4c158caa72fb2fcb189c": {
          "model_module": "@jupyter-widgets/controls",
          "model_name": "DescriptionStyleModel",
          "state": {
            "_view_name": "StyleView",
            "_model_name": "DescriptionStyleModel",
            "description_width": "",
            "_view_module": "@jupyter-widgets/base",
            "_model_module_version": "1.5.0",
            "_view_count": null,
            "_view_module_version": "1.2.0",
            "_model_module": "@jupyter-widgets/controls"
          }
        },
        "6f28a658c94747758e571b596ff400ec": {
          "model_module": "@jupyter-widgets/base",
          "model_name": "LayoutModel",
          "state": {
            "_view_name": "LayoutView",
            "grid_template_rows": null,
            "right": null,
            "justify_content": null,
            "_view_module": "@jupyter-widgets/base",
            "overflow": null,
            "_model_module_version": "1.2.0",
            "_view_count": null,
            "flex_flow": null,
            "width": null,
            "min_width": null,
            "border": null,
            "align_items": null,
            "bottom": null,
            "_model_module": "@jupyter-widgets/base",
            "top": null,
            "grid_column": null,
            "overflow_y": null,
            "overflow_x": null,
            "grid_auto_flow": null,
            "grid_area": null,
            "grid_template_columns": null,
            "flex": null,
            "_model_name": "LayoutModel",
            "justify_items": null,
            "grid_row": null,
            "max_height": null,
            "align_content": null,
            "visibility": null,
            "align_self": null,
            "height": null,
            "min_height": null,
            "padding": null,
            "grid_auto_rows": null,
            "grid_gap": null,
            "max_width": null,
            "order": null,
            "_view_module_version": "1.2.0",
            "grid_template_areas": null,
            "object_position": null,
            "object_fit": null,
            "grid_auto_columns": null,
            "margin": null,
            "display": null,
            "left": null
          }
        },
        "3e751003d80a4accb8139be63a338a0e": {
          "model_module": "@jupyter-widgets/controls",
          "model_name": "HBoxModel",
          "state": {
            "_view_name": "HBoxView",
            "_dom_classes": [],
            "_model_name": "HBoxModel",
            "_view_module": "@jupyter-widgets/controls",
            "_model_module_version": "1.5.0",
            "_view_count": null,
            "_view_module_version": "1.5.0",
            "box_style": "",
            "layout": "IPY_MODEL_e1f755a7dab243f5bc29fb1f4a729a3a",
            "_model_module": "@jupyter-widgets/controls",
            "children": [
              "IPY_MODEL_a55815543a2e473c9efd787e7828972b",
              "IPY_MODEL_1024ed4ce8954c4b96635ac44f5e2e00"
            ]
          }
        },
        "e1f755a7dab243f5bc29fb1f4a729a3a": {
          "model_module": "@jupyter-widgets/base",
          "model_name": "LayoutModel",
          "state": {
            "_view_name": "LayoutView",
            "grid_template_rows": null,
            "right": null,
            "justify_content": null,
            "_view_module": "@jupyter-widgets/base",
            "overflow": null,
            "_model_module_version": "1.2.0",
            "_view_count": null,
            "flex_flow": null,
            "width": null,
            "min_width": null,
            "border": null,
            "align_items": null,
            "bottom": null,
            "_model_module": "@jupyter-widgets/base",
            "top": null,
            "grid_column": null,
            "overflow_y": null,
            "overflow_x": null,
            "grid_auto_flow": null,
            "grid_area": null,
            "grid_template_columns": null,
            "flex": null,
            "_model_name": "LayoutModel",
            "justify_items": null,
            "grid_row": null,
            "max_height": null,
            "align_content": null,
            "visibility": null,
            "align_self": null,
            "height": null,
            "min_height": null,
            "padding": null,
            "grid_auto_rows": null,
            "grid_gap": null,
            "max_width": null,
            "order": null,
            "_view_module_version": "1.2.0",
            "grid_template_areas": null,
            "object_position": null,
            "object_fit": null,
            "grid_auto_columns": null,
            "margin": null,
            "display": null,
            "left": null
          }
        },
        "a55815543a2e473c9efd787e7828972b": {
          "model_module": "@jupyter-widgets/controls",
          "model_name": "FloatProgressModel",
          "state": {
            "_view_name": "ProgressView",
            "style": "IPY_MODEL_9d270c43d56741f2a7004539ecfc1c52",
            "_dom_classes": [],
            "description": "100%",
            "_model_name": "FloatProgressModel",
            "bar_style": "success",
            "max": 29,
            "_view_module": "@jupyter-widgets/controls",
            "_model_module_version": "1.5.0",
            "value": 29,
            "_view_count": null,
            "_view_module_version": "1.5.0",
            "orientation": "horizontal",
            "min": 0,
            "description_tooltip": null,
            "_model_module": "@jupyter-widgets/controls",
            "layout": "IPY_MODEL_494bf7143ffd4154a932310f2347cd11"
          }
        },
        "1024ed4ce8954c4b96635ac44f5e2e00": {
          "model_module": "@jupyter-widgets/controls",
          "model_name": "HTMLModel",
          "state": {
            "_view_name": "HTMLView",
            "style": "IPY_MODEL_313a261a96cb4172ba7812c3f886dee4",
            "_dom_classes": [],
            "description": "",
            "_model_name": "HTMLModel",
            "placeholder": "​",
            "_view_module": "@jupyter-widgets/controls",
            "_model_module_version": "1.5.0",
            "value": " 29/29 [00:05&lt;00:00,  5.17ba/s]",
            "_view_count": null,
            "_view_module_version": "1.5.0",
            "description_tooltip": null,
            "_model_module": "@jupyter-widgets/controls",
            "layout": "IPY_MODEL_0f97d55b62f54e2f943b9f88c2ef631b"
          }
        },
        "9d270c43d56741f2a7004539ecfc1c52": {
          "model_module": "@jupyter-widgets/controls",
          "model_name": "ProgressStyleModel",
          "state": {
            "_view_name": "StyleView",
            "_model_name": "ProgressStyleModel",
            "description_width": "initial",
            "_view_module": "@jupyter-widgets/base",
            "_model_module_version": "1.5.0",
            "_view_count": null,
            "_view_module_version": "1.2.0",
            "bar_color": null,
            "_model_module": "@jupyter-widgets/controls"
          }
        },
        "494bf7143ffd4154a932310f2347cd11": {
          "model_module": "@jupyter-widgets/base",
          "model_name": "LayoutModel",
          "state": {
            "_view_name": "LayoutView",
            "grid_template_rows": null,
            "right": null,
            "justify_content": null,
            "_view_module": "@jupyter-widgets/base",
            "overflow": null,
            "_model_module_version": "1.2.0",
            "_view_count": null,
            "flex_flow": null,
            "width": null,
            "min_width": null,
            "border": null,
            "align_items": null,
            "bottom": null,
            "_model_module": "@jupyter-widgets/base",
            "top": null,
            "grid_column": null,
            "overflow_y": null,
            "overflow_x": null,
            "grid_auto_flow": null,
            "grid_area": null,
            "grid_template_columns": null,
            "flex": null,
            "_model_name": "LayoutModel",
            "justify_items": null,
            "grid_row": null,
            "max_height": null,
            "align_content": null,
            "visibility": null,
            "align_self": null,
            "height": null,
            "min_height": null,
            "padding": null,
            "grid_auto_rows": null,
            "grid_gap": null,
            "max_width": null,
            "order": null,
            "_view_module_version": "1.2.0",
            "grid_template_areas": null,
            "object_position": null,
            "object_fit": null,
            "grid_auto_columns": null,
            "margin": null,
            "display": null,
            "left": null
          }
        },
        "313a261a96cb4172ba7812c3f886dee4": {
          "model_module": "@jupyter-widgets/controls",
          "model_name": "DescriptionStyleModel",
          "state": {
            "_view_name": "StyleView",
            "_model_name": "DescriptionStyleModel",
            "description_width": "",
            "_view_module": "@jupyter-widgets/base",
            "_model_module_version": "1.5.0",
            "_view_count": null,
            "_view_module_version": "1.2.0",
            "_model_module": "@jupyter-widgets/controls"
          }
        },
        "0f97d55b62f54e2f943b9f88c2ef631b": {
          "model_module": "@jupyter-widgets/base",
          "model_name": "LayoutModel",
          "state": {
            "_view_name": "LayoutView",
            "grid_template_rows": null,
            "right": null,
            "justify_content": null,
            "_view_module": "@jupyter-widgets/base",
            "overflow": null,
            "_model_module_version": "1.2.0",
            "_view_count": null,
            "flex_flow": null,
            "width": null,
            "min_width": null,
            "border": null,
            "align_items": null,
            "bottom": null,
            "_model_module": "@jupyter-widgets/base",
            "top": null,
            "grid_column": null,
            "overflow_y": null,
            "overflow_x": null,
            "grid_auto_flow": null,
            "grid_area": null,
            "grid_template_columns": null,
            "flex": null,
            "_model_name": "LayoutModel",
            "justify_items": null,
            "grid_row": null,
            "max_height": null,
            "align_content": null,
            "visibility": null,
            "align_self": null,
            "height": null,
            "min_height": null,
            "padding": null,
            "grid_auto_rows": null,
            "grid_gap": null,
            "max_width": null,
            "order": null,
            "_view_module_version": "1.2.0",
            "grid_template_areas": null,
            "object_position": null,
            "object_fit": null,
            "grid_auto_columns": null,
            "margin": null,
            "display": null,
            "left": null
          }
        },
        "da6fb9761cb04e2eaee56fd971947a1b": {
          "model_module": "@jupyter-widgets/controls",
          "model_name": "HBoxModel",
          "state": {
            "_view_name": "HBoxView",
            "_dom_classes": [],
            "_model_name": "HBoxModel",
            "_view_module": "@jupyter-widgets/controls",
            "_model_module_version": "1.5.0",
            "_view_count": null,
            "_view_module_version": "1.5.0",
            "box_style": "",
            "layout": "IPY_MODEL_3315a3e6417f4a7ba3827bee6f5c1365",
            "_model_module": "@jupyter-widgets/controls",
            "children": [
              "IPY_MODEL_da0d2c37c8354006b5cb42c41c184adb",
              "IPY_MODEL_513e89119c2644d99527babd2de2cd6d"
            ]
          }
        },
        "3315a3e6417f4a7ba3827bee6f5c1365": {
          "model_module": "@jupyter-widgets/base",
          "model_name": "LayoutModel",
          "state": {
            "_view_name": "LayoutView",
            "grid_template_rows": null,
            "right": null,
            "justify_content": null,
            "_view_module": "@jupyter-widgets/base",
            "overflow": null,
            "_model_module_version": "1.2.0",
            "_view_count": null,
            "flex_flow": null,
            "width": null,
            "min_width": null,
            "border": null,
            "align_items": null,
            "bottom": null,
            "_model_module": "@jupyter-widgets/base",
            "top": null,
            "grid_column": null,
            "overflow_y": null,
            "overflow_x": null,
            "grid_auto_flow": null,
            "grid_area": null,
            "grid_template_columns": null,
            "flex": null,
            "_model_name": "LayoutModel",
            "justify_items": null,
            "grid_row": null,
            "max_height": null,
            "align_content": null,
            "visibility": null,
            "align_self": null,
            "height": null,
            "min_height": null,
            "padding": null,
            "grid_auto_rows": null,
            "grid_gap": null,
            "max_width": null,
            "order": null,
            "_view_module_version": "1.2.0",
            "grid_template_areas": null,
            "object_position": null,
            "object_fit": null,
            "grid_auto_columns": null,
            "margin": null,
            "display": null,
            "left": null
          }
        },
        "da0d2c37c8354006b5cb42c41c184adb": {
          "model_module": "@jupyter-widgets/controls",
          "model_name": "FloatProgressModel",
          "state": {
            "_view_name": "ProgressView",
            "style": "IPY_MODEL_18bed39b60604912a2c041242483e49b",
            "_dom_classes": [],
            "description": "100%",
            "_model_name": "FloatProgressModel",
            "bar_style": "success",
            "max": 29,
            "_view_module": "@jupyter-widgets/controls",
            "_model_module_version": "1.5.0",
            "value": 29,
            "_view_count": null,
            "_view_module_version": "1.5.0",
            "orientation": "horizontal",
            "min": 0,
            "description_tooltip": null,
            "_model_module": "@jupyter-widgets/controls",
            "layout": "IPY_MODEL_d2130f52b5a0472a9d17c71d4a17e431"
          }
        },
        "513e89119c2644d99527babd2de2cd6d": {
          "model_module": "@jupyter-widgets/controls",
          "model_name": "HTMLModel",
          "state": {
            "_view_name": "HTMLView",
            "style": "IPY_MODEL_45c0c8dff76047399863915628e20977",
            "_dom_classes": [],
            "description": "",
            "_model_name": "HTMLModel",
            "placeholder": "​",
            "_view_module": "@jupyter-widgets/controls",
            "_model_module_version": "1.5.0",
            "value": " 29/29 [04:19&lt;00:00,  8.96s/it]",
            "_view_count": null,
            "_view_module_version": "1.5.0",
            "description_tooltip": null,
            "_model_module": "@jupyter-widgets/controls",
            "layout": "IPY_MODEL_45fb296e6d8f40de806203d02a1323db"
          }
        },
        "18bed39b60604912a2c041242483e49b": {
          "model_module": "@jupyter-widgets/controls",
          "model_name": "ProgressStyleModel",
          "state": {
            "_view_name": "StyleView",
            "_model_name": "ProgressStyleModel",
            "description_width": "initial",
            "_view_module": "@jupyter-widgets/base",
            "_model_module_version": "1.5.0",
            "_view_count": null,
            "_view_module_version": "1.2.0",
            "bar_color": null,
            "_model_module": "@jupyter-widgets/controls"
          }
        },
        "d2130f52b5a0472a9d17c71d4a17e431": {
          "model_module": "@jupyter-widgets/base",
          "model_name": "LayoutModel",
          "state": {
            "_view_name": "LayoutView",
            "grid_template_rows": null,
            "right": null,
            "justify_content": null,
            "_view_module": "@jupyter-widgets/base",
            "overflow": null,
            "_model_module_version": "1.2.0",
            "_view_count": null,
            "flex_flow": null,
            "width": null,
            "min_width": null,
            "border": null,
            "align_items": null,
            "bottom": null,
            "_model_module": "@jupyter-widgets/base",
            "top": null,
            "grid_column": null,
            "overflow_y": null,
            "overflow_x": null,
            "grid_auto_flow": null,
            "grid_area": null,
            "grid_template_columns": null,
            "flex": null,
            "_model_name": "LayoutModel",
            "justify_items": null,
            "grid_row": null,
            "max_height": null,
            "align_content": null,
            "visibility": null,
            "align_self": null,
            "height": null,
            "min_height": null,
            "padding": null,
            "grid_auto_rows": null,
            "grid_gap": null,
            "max_width": null,
            "order": null,
            "_view_module_version": "1.2.0",
            "grid_template_areas": null,
            "object_position": null,
            "object_fit": null,
            "grid_auto_columns": null,
            "margin": null,
            "display": null,
            "left": null
          }
        },
        "45c0c8dff76047399863915628e20977": {
          "model_module": "@jupyter-widgets/controls",
          "model_name": "DescriptionStyleModel",
          "state": {
            "_view_name": "StyleView",
            "_model_name": "DescriptionStyleModel",
            "description_width": "",
            "_view_module": "@jupyter-widgets/base",
            "_model_module_version": "1.5.0",
            "_view_count": null,
            "_view_module_version": "1.2.0",
            "_model_module": "@jupyter-widgets/controls"
          }
        },
        "45fb296e6d8f40de806203d02a1323db": {
          "model_module": "@jupyter-widgets/base",
          "model_name": "LayoutModel",
          "state": {
            "_view_name": "LayoutView",
            "grid_template_rows": null,
            "right": null,
            "justify_content": null,
            "_view_module": "@jupyter-widgets/base",
            "overflow": null,
            "_model_module_version": "1.2.0",
            "_view_count": null,
            "flex_flow": null,
            "width": null,
            "min_width": null,
            "border": null,
            "align_items": null,
            "bottom": null,
            "_model_module": "@jupyter-widgets/base",
            "top": null,
            "grid_column": null,
            "overflow_y": null,
            "overflow_x": null,
            "grid_auto_flow": null,
            "grid_area": null,
            "grid_template_columns": null,
            "flex": null,
            "_model_name": "LayoutModel",
            "justify_items": null,
            "grid_row": null,
            "max_height": null,
            "align_content": null,
            "visibility": null,
            "align_self": null,
            "height": null,
            "min_height": null,
            "padding": null,
            "grid_auto_rows": null,
            "grid_gap": null,
            "max_width": null,
            "order": null,
            "_view_module_version": "1.2.0",
            "grid_template_areas": null,
            "object_position": null,
            "object_fit": null,
            "grid_auto_columns": null,
            "margin": null,
            "display": null,
            "left": null
          }
        },
        "f8fdeded7ec6415fa2ec90e35667920a": {
          "model_module": "@jupyter-widgets/controls",
          "model_name": "HBoxModel",
          "state": {
            "_view_name": "HBoxView",
            "_dom_classes": [],
            "_model_name": "HBoxModel",
            "_view_module": "@jupyter-widgets/controls",
            "_model_module_version": "1.5.0",
            "_view_count": null,
            "_view_module_version": "1.5.0",
            "box_style": "",
            "layout": "IPY_MODEL_6d8bfba9f5164e5ab8d932b60dfc6d41",
            "_model_module": "@jupyter-widgets/controls",
            "children": [
              "IPY_MODEL_56c0abe3f9f4489ba90d8349a3f909df",
              "IPY_MODEL_258ed0c087a9479e91f6fddbef4be3b2"
            ]
          }
        },
        "6d8bfba9f5164e5ab8d932b60dfc6d41": {
          "model_module": "@jupyter-widgets/base",
          "model_name": "LayoutModel",
          "state": {
            "_view_name": "LayoutView",
            "grid_template_rows": null,
            "right": null,
            "justify_content": null,
            "_view_module": "@jupyter-widgets/base",
            "overflow": null,
            "_model_module_version": "1.2.0",
            "_view_count": null,
            "flex_flow": null,
            "width": null,
            "min_width": null,
            "border": null,
            "align_items": null,
            "bottom": null,
            "_model_module": "@jupyter-widgets/base",
            "top": null,
            "grid_column": null,
            "overflow_y": null,
            "overflow_x": null,
            "grid_auto_flow": null,
            "grid_area": null,
            "grid_template_columns": null,
            "flex": null,
            "_model_name": "LayoutModel",
            "justify_items": null,
            "grid_row": null,
            "max_height": null,
            "align_content": null,
            "visibility": null,
            "align_self": null,
            "height": null,
            "min_height": null,
            "padding": null,
            "grid_auto_rows": null,
            "grid_gap": null,
            "max_width": null,
            "order": null,
            "_view_module_version": "1.2.0",
            "grid_template_areas": null,
            "object_position": null,
            "object_fit": null,
            "grid_auto_columns": null,
            "margin": null,
            "display": null,
            "left": null
          }
        },
        "56c0abe3f9f4489ba90d8349a3f909df": {
          "model_module": "@jupyter-widgets/controls",
          "model_name": "FloatProgressModel",
          "state": {
            "_view_name": "ProgressView",
            "style": "IPY_MODEL_a294ba768b864f1e9f7945072ef86882",
            "_dom_classes": [],
            "description": "100%",
            "_model_name": "FloatProgressModel",
            "bar_style": "success",
            "max": 29,
            "_view_module": "@jupyter-widgets/controls",
            "_model_module_version": "1.5.0",
            "value": 29,
            "_view_count": null,
            "_view_module_version": "1.5.0",
            "orientation": "horizontal",
            "min": 0,
            "description_tooltip": null,
            "_model_module": "@jupyter-widgets/controls",
            "layout": "IPY_MODEL_994951e78a0a48a6a6961488f4d78544"
          }
        },
        "258ed0c087a9479e91f6fddbef4be3b2": {
          "model_module": "@jupyter-widgets/controls",
          "model_name": "HTMLModel",
          "state": {
            "_view_name": "HTMLView",
            "style": "IPY_MODEL_c224b72f651440b09403b409d08cef3f",
            "_dom_classes": [],
            "description": "",
            "_model_name": "HTMLModel",
            "placeholder": "​",
            "_view_module": "@jupyter-widgets/controls",
            "_model_module_version": "1.5.0",
            "value": " 29/29 [01:08&lt;00:00,  2.36s/it]",
            "_view_count": null,
            "_view_module_version": "1.5.0",
            "description_tooltip": null,
            "_model_module": "@jupyter-widgets/controls",
            "layout": "IPY_MODEL_439d7c158f9e4e76b3242ead11898c31"
          }
        },
        "a294ba768b864f1e9f7945072ef86882": {
          "model_module": "@jupyter-widgets/controls",
          "model_name": "ProgressStyleModel",
          "state": {
            "_view_name": "StyleView",
            "_model_name": "ProgressStyleModel",
            "description_width": "initial",
            "_view_module": "@jupyter-widgets/base",
            "_model_module_version": "1.5.0",
            "_view_count": null,
            "_view_module_version": "1.2.0",
            "bar_color": null,
            "_model_module": "@jupyter-widgets/controls"
          }
        },
        "994951e78a0a48a6a6961488f4d78544": {
          "model_module": "@jupyter-widgets/base",
          "model_name": "LayoutModel",
          "state": {
            "_view_name": "LayoutView",
            "grid_template_rows": null,
            "right": null,
            "justify_content": null,
            "_view_module": "@jupyter-widgets/base",
            "overflow": null,
            "_model_module_version": "1.2.0",
            "_view_count": null,
            "flex_flow": null,
            "width": null,
            "min_width": null,
            "border": null,
            "align_items": null,
            "bottom": null,
            "_model_module": "@jupyter-widgets/base",
            "top": null,
            "grid_column": null,
            "overflow_y": null,
            "overflow_x": null,
            "grid_auto_flow": null,
            "grid_area": null,
            "grid_template_columns": null,
            "flex": null,
            "_model_name": "LayoutModel",
            "justify_items": null,
            "grid_row": null,
            "max_height": null,
            "align_content": null,
            "visibility": null,
            "align_self": null,
            "height": null,
            "min_height": null,
            "padding": null,
            "grid_auto_rows": null,
            "grid_gap": null,
            "max_width": null,
            "order": null,
            "_view_module_version": "1.2.0",
            "grid_template_areas": null,
            "object_position": null,
            "object_fit": null,
            "grid_auto_columns": null,
            "margin": null,
            "display": null,
            "left": null
          }
        },
        "c224b72f651440b09403b409d08cef3f": {
          "model_module": "@jupyter-widgets/controls",
          "model_name": "DescriptionStyleModel",
          "state": {
            "_view_name": "StyleView",
            "_model_name": "DescriptionStyleModel",
            "description_width": "",
            "_view_module": "@jupyter-widgets/base",
            "_model_module_version": "1.5.0",
            "_view_count": null,
            "_view_module_version": "1.2.0",
            "_model_module": "@jupyter-widgets/controls"
          }
        },
        "439d7c158f9e4e76b3242ead11898c31": {
          "model_module": "@jupyter-widgets/base",
          "model_name": "LayoutModel",
          "state": {
            "_view_name": "LayoutView",
            "grid_template_rows": null,
            "right": null,
            "justify_content": null,
            "_view_module": "@jupyter-widgets/base",
            "overflow": null,
            "_model_module_version": "1.2.0",
            "_view_count": null,
            "flex_flow": null,
            "width": null,
            "min_width": null,
            "border": null,
            "align_items": null,
            "bottom": null,
            "_model_module": "@jupyter-widgets/base",
            "top": null,
            "grid_column": null,
            "overflow_y": null,
            "overflow_x": null,
            "grid_auto_flow": null,
            "grid_area": null,
            "grid_template_columns": null,
            "flex": null,
            "_model_name": "LayoutModel",
            "justify_items": null,
            "grid_row": null,
            "max_height": null,
            "align_content": null,
            "visibility": null,
            "align_self": null,
            "height": null,
            "min_height": null,
            "padding": null,
            "grid_auto_rows": null,
            "grid_gap": null,
            "max_width": null,
            "order": null,
            "_view_module_version": "1.2.0",
            "grid_template_areas": null,
            "object_position": null,
            "object_fit": null,
            "grid_auto_columns": null,
            "margin": null,
            "display": null,
            "left": null
          }
        },
        "64aaa0d727474bc28d6438b727b5a51f": {
          "model_module": "@jupyter-widgets/controls",
          "model_name": "HBoxModel",
          "state": {
            "_view_name": "HBoxView",
            "_dom_classes": [],
            "_model_name": "HBoxModel",
            "_view_module": "@jupyter-widgets/controls",
            "_model_module_version": "1.5.0",
            "_view_count": null,
            "_view_module_version": "1.5.0",
            "box_style": "",
            "layout": "IPY_MODEL_cf66e519651f4063a090143da91320d4",
            "_model_module": "@jupyter-widgets/controls",
            "children": [
              "IPY_MODEL_b35fdb52852941ada68a82b7ddf8f407",
              "IPY_MODEL_cc67ebba8c1141dc99972262d1d8c070"
            ]
          }
        },
        "cf66e519651f4063a090143da91320d4": {
          "model_module": "@jupyter-widgets/base",
          "model_name": "LayoutModel",
          "state": {
            "_view_name": "LayoutView",
            "grid_template_rows": null,
            "right": null,
            "justify_content": null,
            "_view_module": "@jupyter-widgets/base",
            "overflow": null,
            "_model_module_version": "1.2.0",
            "_view_count": null,
            "flex_flow": null,
            "width": null,
            "min_width": null,
            "border": null,
            "align_items": null,
            "bottom": null,
            "_model_module": "@jupyter-widgets/base",
            "top": null,
            "grid_column": null,
            "overflow_y": null,
            "overflow_x": null,
            "grid_auto_flow": null,
            "grid_area": null,
            "grid_template_columns": null,
            "flex": null,
            "_model_name": "LayoutModel",
            "justify_items": null,
            "grid_row": null,
            "max_height": null,
            "align_content": null,
            "visibility": null,
            "align_self": null,
            "height": null,
            "min_height": null,
            "padding": null,
            "grid_auto_rows": null,
            "grid_gap": null,
            "max_width": null,
            "order": null,
            "_view_module_version": "1.2.0",
            "grid_template_areas": null,
            "object_position": null,
            "object_fit": null,
            "grid_auto_columns": null,
            "margin": null,
            "display": null,
            "left": null
          }
        },
        "b35fdb52852941ada68a82b7ddf8f407": {
          "model_module": "@jupyter-widgets/controls",
          "model_name": "FloatProgressModel",
          "state": {
            "_view_name": "ProgressView",
            "style": "IPY_MODEL_b0517c8a3dbe493795d79bf0cfb23729",
            "_dom_classes": [],
            "description": "100%",
            "_model_name": "FloatProgressModel",
            "bar_style": "success",
            "max": 1,
            "_view_module": "@jupyter-widgets/controls",
            "_model_module_version": "1.5.0",
            "value": 1,
            "_view_count": null,
            "_view_module_version": "1.5.0",
            "orientation": "horizontal",
            "min": 0,
            "description_tooltip": null,
            "_model_module": "@jupyter-widgets/controls",
            "layout": "IPY_MODEL_61d032504d524fc9b57f2ccc6083ca37"
          }
        },
        "cc67ebba8c1141dc99972262d1d8c070": {
          "model_module": "@jupyter-widgets/controls",
          "model_name": "HTMLModel",
          "state": {
            "_view_name": "HTMLView",
            "style": "IPY_MODEL_bafcc53c32204ac8b9ae3402debedd74",
            "_dom_classes": [],
            "description": "",
            "_model_name": "HTMLModel",
            "placeholder": "​",
            "_view_module": "@jupyter-widgets/controls",
            "_model_module_version": "1.5.0",
            "value": " 1/1 [02:04&lt;00:00, 124.18s/ba]",
            "_view_count": null,
            "_view_module_version": "1.5.0",
            "description_tooltip": null,
            "_model_module": "@jupyter-widgets/controls",
            "layout": "IPY_MODEL_41cda5be58b649558bb923ea6c74c437"
          }
        },
        "b0517c8a3dbe493795d79bf0cfb23729": {
          "model_module": "@jupyter-widgets/controls",
          "model_name": "ProgressStyleModel",
          "state": {
            "_view_name": "StyleView",
            "_model_name": "ProgressStyleModel",
            "description_width": "initial",
            "_view_module": "@jupyter-widgets/base",
            "_model_module_version": "1.5.0",
            "_view_count": null,
            "_view_module_version": "1.2.0",
            "bar_color": null,
            "_model_module": "@jupyter-widgets/controls"
          }
        },
        "61d032504d524fc9b57f2ccc6083ca37": {
          "model_module": "@jupyter-widgets/base",
          "model_name": "LayoutModel",
          "state": {
            "_view_name": "LayoutView",
            "grid_template_rows": null,
            "right": null,
            "justify_content": null,
            "_view_module": "@jupyter-widgets/base",
            "overflow": null,
            "_model_module_version": "1.2.0",
            "_view_count": null,
            "flex_flow": null,
            "width": null,
            "min_width": null,
            "border": null,
            "align_items": null,
            "bottom": null,
            "_model_module": "@jupyter-widgets/base",
            "top": null,
            "grid_column": null,
            "overflow_y": null,
            "overflow_x": null,
            "grid_auto_flow": null,
            "grid_area": null,
            "grid_template_columns": null,
            "flex": null,
            "_model_name": "LayoutModel",
            "justify_items": null,
            "grid_row": null,
            "max_height": null,
            "align_content": null,
            "visibility": null,
            "align_self": null,
            "height": null,
            "min_height": null,
            "padding": null,
            "grid_auto_rows": null,
            "grid_gap": null,
            "max_width": null,
            "order": null,
            "_view_module_version": "1.2.0",
            "grid_template_areas": null,
            "object_position": null,
            "object_fit": null,
            "grid_auto_columns": null,
            "margin": null,
            "display": null,
            "left": null
          }
        },
        "bafcc53c32204ac8b9ae3402debedd74": {
          "model_module": "@jupyter-widgets/controls",
          "model_name": "DescriptionStyleModel",
          "state": {
            "_view_name": "StyleView",
            "_model_name": "DescriptionStyleModel",
            "description_width": "",
            "_view_module": "@jupyter-widgets/base",
            "_model_module_version": "1.5.0",
            "_view_count": null,
            "_view_module_version": "1.2.0",
            "_model_module": "@jupyter-widgets/controls"
          }
        },
        "41cda5be58b649558bb923ea6c74c437": {
          "model_module": "@jupyter-widgets/base",
          "model_name": "LayoutModel",
          "state": {
            "_view_name": "LayoutView",
            "grid_template_rows": null,
            "right": null,
            "justify_content": null,
            "_view_module": "@jupyter-widgets/base",
            "overflow": null,
            "_model_module_version": "1.2.0",
            "_view_count": null,
            "flex_flow": null,
            "width": null,
            "min_width": null,
            "border": null,
            "align_items": null,
            "bottom": null,
            "_model_module": "@jupyter-widgets/base",
            "top": null,
            "grid_column": null,
            "overflow_y": null,
            "overflow_x": null,
            "grid_auto_flow": null,
            "grid_area": null,
            "grid_template_columns": null,
            "flex": null,
            "_model_name": "LayoutModel",
            "justify_items": null,
            "grid_row": null,
            "max_height": null,
            "align_content": null,
            "visibility": null,
            "align_self": null,
            "height": null,
            "min_height": null,
            "padding": null,
            "grid_auto_rows": null,
            "grid_gap": null,
            "max_width": null,
            "order": null,
            "_view_module_version": "1.2.0",
            "grid_template_areas": null,
            "object_position": null,
            "object_fit": null,
            "grid_auto_columns": null,
            "margin": null,
            "display": null,
            "left": null
          }
        }
      }
    }
  },
  "cells": [
    {
      "cell_type": "markdown",
      "metadata": {
        "id": "view-in-github",
        "colab_type": "text"
      },
      "source": [
        "<a href=\"https://colab.research.google.com/github/dafrie/fin-disclosures-nlp/blob/master/notebooks/CR_Identification_and_Classification_Step_II.ipynb\" target=\"_parent\"><img src=\"https://colab.research.google.com/assets/colab-badge.svg\" alt=\"Open In Colab\"/></a>"
      ]
    },
    {
      "cell_type": "markdown",
      "metadata": {
        "id": "qLzGRgl2ZGX9"
      },
      "source": [
        "# CRO Classification with Transformers\n",
        "\n",
        "  1. Load best binary/multi-label classifier\n",
        "  2. Load best multi-label sub type classifier\n",
        "  3. Load test data\n",
        "  4. Predict with binary classifier\n",
        "  5. Predict with multi-label classifier\n",
        "  6. Set labels to 0 for all those paragraphs not classified as positive in 3.\n",
        "  7. Calculate evaluation metrics"
      ]
    },
    {
      "cell_type": "markdown",
      "metadata": {
        "id": "hKA2THqJYP69"
      },
      "source": [
        "# Setup"
      ]
    },
    {
      "cell_type": "code",
      "metadata": {
        "colab": {
          "base_uri": "https://localhost:8080/"
        },
        "id": "76RRFHgzsi-C",
        "outputId": "92a74bb1-dd7f-4ad0-a63b-405ac52de806"
      },
      "source": [
        "try:\n",
        "  import google.colab\n",
        "  is_running_in_colab = True\n",
        "except:\n",
        "  is_running_in_colab = False\n",
        "\n",
        "if is_running_in_colab:\n",
        "  # Load Google drive where the data and models are stored\n",
        "  from google.colab import drive\n",
        "  drive.mount('/content/drive')"
      ],
      "execution_count": null,
      "outputs": [
        {
          "output_type": "stream",
          "text": [
            "Mounted at /content/drive\n"
          ],
          "name": "stdout"
        }
      ]
    },
    {
      "cell_type": "markdown",
      "metadata": {
        "id": "BZDfYgTMZ1yp"
      },
      "source": [
        "### Overall config"
      ]
    },
    {
      "cell_type": "code",
      "metadata": {
        "id": "DQlrficmZ0Tm"
      },
      "source": [
        "############################## CONFIG ##############################\n",
        "# Dataset config\n",
        "SCENARIO = \"2step\"\n",
        "TASK = \"multi-label\"\n",
        "CATEGORY_LEVEL = \"cro_sub_type_combined\"\n",
        "FILTER_OP = True #@param { type: \"boolean\"}\n",
        "\n",
        "# TODO: Change to best identifier!\n",
        "BEST_IDENTIFIER = \"transformer/binary/realistic_distilbert-base-uncased_cro_sub_type_combined/checkpoint-6258\"\n",
        "BEST_CLASSIFIER = \"transformer/multi-label/efficient-realistic_distilbert-base-uncased_cro_sub_type_combined\"\n",
        "\n",
        "# Evaluation metric config. See for context: https://scikit-learn.org/stable/modules/generated/sklearn.metrics.f1_score.html\n",
        "AVERAGING_STRATEGY = 'macro' #@param [\"micro\",  \"macro\", \"weighted\"]\n",
        "\n",
        "RESULTS_FILE_NAME = f\"{CATEGORY_LEVEL}_{SCENARIO}_results.csv\"\n",
        "\n",
        "# To make the notebook reproducible (not guaranteed for pytorch on different releases/platforms!)\n",
        "SEED_VALUE = 42\n",
        "\n",
        "###########################\n",
        "\n",
        "# Set to true if fine-tuning should be enabled. Else it loads fine-tuned model\n",
        "ENABLE_FINE_TUNING = True #@param {type:\"boolean\"}\n",
        "\n",
        "\n",
        "# See list here: https://huggingface.co/models\n",
        "MODEL_NAME = 'albert-large-v2' #@param [\"bert-base-uncased\", \"bert-large-uncased\", \"albert-base-v2\", \"albert-large-v2\", \"albert-xlarge-v2\", \"albert-xxlarge-v2\", \"roberta-base\", \"roberta-large\", \"distilbert-base-uncased\", \"distilbert-base-cased\", \"xlnet-base-cased\", \"xlnet-large-cased\"]\n",
        "\n",
        "# The DataLoader needs to know our batch size for training. BERT Authors recommend 16 or 32, however this leads to an error due to not enough GPU memory\n",
        "BATCH_SIZE = 16 #@param [\"8\", \"16\", \"32\"] {type:\"raw\"}\n",
        "MAX_TOKEN_SIZE = 256 #@param [512,256,128] {type:\"raw\"}\n",
        "EPOCHS = 3 # @param [1,2,3,4] {type:\"raw\"}\n",
        "LEARNING_RATE = 2e-5\n",
        "WEIGHT_DECAY = 0\n",
        "\n",
        "# Enable comet-ml logging\n",
        "DISABLE_COMET_ML = True #@param {type:\"boolean\"}\n",
        "SHOULD_HYPERPARAMETER_SEARCH = False #@param {type:\"boolean\"}\n",
        "####################################################################\n",
        "LOCAL_DIR = \"/Users/david/Nextcloud/Dokumente/Education/Uni Bern/Master Thesis/Analyzing Financial Climate Disclosures with NLP/Methodology/\"\n",
        "COLAB_DIR = \"/content/drive/MyDrive/fin-disclosures-nlp\"\n",
        "\n",
        "parameters = {\n",
        "    \"task\": TASK,\n",
        "    \"category_level\": CATEGORY_LEVEL,\n",
        "    \"scenario\": SCENARIO,\n",
        "    \"enable_fine_tuning\": ENABLE_FINE_TUNING,\n",
        "    \"model_type\": \"transformer\",\n",
        "    \"model_name\": MODEL_NAME,\n",
        "    \"batch_size\": BATCH_SIZE,\n",
        "    \"max_token_size\": MAX_TOKEN_SIZE,\n",
        "    \"epochs\": EPOCHS,\n",
        "    \"learning_rate\": LEARNING_RATE,\n",
        "    \"weight_decay\": WEIGHT_DECAY,\n",
        "    \"seed_value\": SEED_VALUE,\n",
        "}"
      ],
      "execution_count": null,
      "outputs": []
    },
    {
      "cell_type": "code",
      "metadata": {
        "colab": {
          "base_uri": "https://localhost:8080/"
        },
        "id": "mKmHvi74YtCN",
        "outputId": "c3c6459a-fc72-448e-9c86-59c89d143651"
      },
      "source": [
        "if is_running_in_colab:\n",
        "  # Install transformers library + datasets helper\n",
        "  !pip install transformers --quiet &> /dev/null\n",
        "  !pip install datasets --quiet &> /dev/null\n",
        "  !pip install optuna --quiet &> /dev/null\n",
        "\n",
        "  # Latex for output\n",
        "  ! apt install texlive-latex-recommended -qq &> /dev/null\n",
        "  ! apt install texlive-latex-extra -qq &> /dev/null\n",
        "  ! apt install dvipng -qq &> /dev/null\n",
        "  ! apt install cm-super -qq &> /dev/null\n",
        "\n",
        "  # Load repository\n",
        "\n",
        "  !git clone https://github.com/dafrie/fin-disclosures-nlp.git    \n",
        "  %cd /content/fin-disclosures-nlp\n",
        "  !git pull\n",
        "\n",
        "%load_ext autoreload\n",
        "%autoreload 2\n",
        "\n",
        "# Load repository utils\n",
        "import sys\n",
        "import os\n",
        "sys.path.append('..')\n",
        "\n",
        "from data import constants\n",
        "from data import cro_dataset\n",
        "from data import evaluation\n",
        "from data import cro_transformer_models\n",
        "\n",
        "DIR = COLAB_DIR if is_running_in_colab else LOCAL_DIR\n",
        "DATA_DIR = os.path.join(DIR, \"data\", \"labels\")\n",
        "MODELS_DIR = os.path.join(DIR, \"models\")\n",
        "RESULTS_DIR = os.path.join(DIR, 'results')\n",
        "RESULTS_FILE_PATH = os.path.join(RESULTS_DIR, RESULTS_FILE_NAME)"
      ],
      "execution_count": null,
      "outputs": [
        {
          "output_type": "stream",
          "text": [
            "fatal: destination path 'fin-disclosures-nlp' already exists and is not an empty directory.\n",
            "/content/fin-disclosures-nlp\n",
            "Already up to date.\n"
          ],
          "name": "stdout"
        }
      ]
    },
    {
      "cell_type": "markdown",
      "metadata": {
        "id": "BkTp049mYIpU"
      },
      "source": [
        "## Load best models"
      ]
    },
    {
      "cell_type": "markdown",
      "metadata": {
        "id": "mbz4KJq8JEat"
      },
      "source": [
        "### Identication model"
      ]
    },
    {
      "cell_type": "code",
      "metadata": {
        "id": "yuSKBFcUYCVL",
        "colab": {
          "base_uri": "https://localhost:8080/"
        },
        "outputId": "8379dacf-af2c-46a7-f2d1-b928a834b93c"
      },
      "source": [
        "from transformers import Trainer, AutoModelForSequenceClassification, AutoTokenizer\n",
        "\n",
        "# Get path of the best finetuned identifier \n",
        "identifier_checkpoint_path = os.path.join(MODELS_DIR, BEST_IDENTIFIER)\n",
        "print(f\"Loading identifier model (First Step) from {identifier_checkpoint_path}\")\n",
        "\n",
        "def init_identifier_model(): return AutoModelForSequenceClassification.from_pretrained(identifier_checkpoint_path, num_labels=2, local_files_only=True)\n",
        "identifier_model = Trainer(model_init=init_identifier_model)\n",
        "identifier_tokenizer = AutoTokenizer.from_pretrained(identifier_checkpoint_path, local_files_only=True)"
      ],
      "execution_count": null,
      "outputs": [
        {
          "output_type": "stream",
          "text": [
            "Loading identifier model (First Step) from /content/drive/MyDrive/fin-disclosures-nlp/models/transformer/binary/realistic_distilbert-base-uncased_cro_sub_type_combined/checkpoint-6258\n"
          ],
          "name": "stdout"
        }
      ]
    },
    {
      "cell_type": "markdown",
      "metadata": {
        "id": "7yNXS51gJGvK"
      },
      "source": [
        "### Classification model"
      ]
    },
    {
      "cell_type": "code",
      "metadata": {
        "colab": {
          "base_uri": "https://localhost:8080/"
        },
        "id": "K-5UhhpaJDcG",
        "outputId": "faa05c18-3542-4e03-bcb6-db03864c92b7"
      },
      "source": [
        "# Get path of the best finetuned classifier \n",
        "classifier_checkpoint_path = os.path.join(MODELS_DIR, BEST_CLASSIFIER)\n",
        "print(f\"Loading classifier model (Second Step) from {classifier_checkpoint_path}\")\n",
        "\n",
        "def init_classifier_model(): return AutoModelForSequenceClassification.from_pretrained(classifier_checkpoint_path, num_labels=5, local_files_only=True)\n",
        "classifier_model = Trainer(model_init=init_classifier_model)\n",
        "classifier_tokenizer = AutoTokenizer.from_pretrained(classifier_checkpoint_path, local_files_only=True)"
      ],
      "execution_count": null,
      "outputs": [
        {
          "output_type": "stream",
          "text": [
            "Loading classifier model (Second Step) from /content/drive/MyDrive/fin-disclosures-nlp/models/transformer/multi-label/efficient-realistic_distilbert-base-uncased_cro_sub_type_combined\n"
          ],
          "name": "stdout"
        }
      ]
    },
    {
      "cell_type": "markdown",
      "metadata": {
        "id": "9i7U1ChhSrDd"
      },
      "source": [
        "## Load data"
      ]
    },
    {
      "cell_type": "code",
      "metadata": {
        "colab": {
          "base_uri": "https://localhost:8080/",
          "height": 591,
          "referenced_widgets": [
            "0b8cec36821b43ddb3ee9449d17c1c76",
            "f5f40c386aae419795e902ec667cc60a",
            "c9947ace2a5442f28cf27844901b058a",
            "ad80a7b6a12a4154a9ba5a881548c58d",
            "2d895d715c6f4981a8f83e1bfd3e994c",
            "4db5d1161f0045679f0bc52569880982",
            "4258680a4e0d4c158caa72fb2fcb189c",
            "6f28a658c94747758e571b596ff400ec",
            "3e751003d80a4accb8139be63a338a0e",
            "e1f755a7dab243f5bc29fb1f4a729a3a",
            "a55815543a2e473c9efd787e7828972b",
            "1024ed4ce8954c4b96635ac44f5e2e00",
            "9d270c43d56741f2a7004539ecfc1c52",
            "494bf7143ffd4154a932310f2347cd11",
            "313a261a96cb4172ba7812c3f886dee4",
            "0f97d55b62f54e2f943b9f88c2ef631b"
          ]
        },
        "id": "E1Pm58XMIC8I",
        "outputId": "6ba41160-1a3e-46e1-c5ef-d0b77ec75fa7"
      },
      "source": [
        "# Load only test data\n",
        "first_dataset = cro_dataset.prepare_datasets(\n",
        "    data_dir=DATA_DIR,\n",
        "    task=\"binary\", \n",
        "    cro_category_level=\"cro_sub_type_combined\",\n",
        "    should_filter_op=FILTER_OP,\n",
        "    validation_split=0.1,\n",
        "    train_neg_sampling_strategy=None,\n",
        "    test_neg_sampling_strategy=\"all\",\n",
        "    seed_value=SEED_VALUE,\n",
        "    as_huggingface_ds=True,\n",
        ")\n",
        "\n",
        "# Load only test data\n",
        "second_dataset = cro_dataset.prepare_datasets(\n",
        "    data_dir=DATA_DIR,\n",
        "    task=\"multi-label\", \n",
        "    cro_category_level=\"cro_sub_type_combined\",\n",
        "    should_filter_op=FILTER_OP,\n",
        "    validation_split=0.1,\n",
        "    train_neg_sampling_strategy=None,\n",
        "    test_neg_sampling_strategy=\"all\",\n",
        "    seed_value=SEED_VALUE,\n",
        "    as_huggingface_ds=True,\n",
        ")\n",
        "\n",
        "first_dataset = first_dataset['test']\n",
        "second_dataset = second_dataset['test']\n",
        "\n",
        "\n",
        "# Need to tokenize with both model's tokenizer, as they could be different\n",
        "first_step_dataset = first_dataset.map(lambda ds: identifier_tokenizer(\n",
        "            ds[\"text\"], truncation=True, padding='max_length', max_length=MAX_TOKEN_SIZE), batched=True)\n",
        "second_step_dataset = second_dataset.map(lambda ds: classifier_tokenizer(\n",
        "            ds[\"text\"], truncation=True, padding='max_length', max_length=MAX_TOKEN_SIZE), batched=True)"
      ],
      "execution_count": null,
      "outputs": [
        {
          "output_type": "stream",
          "text": [
            "DatasetDict({\n",
            "    train: Dataset({\n",
            "        features: ['text', 'labels'],\n",
            "        num_rows: 251\n",
            "    })\n",
            "    test: Dataset({\n",
            "        features: ['text', 'labels'],\n",
            "        num_rows: 28209\n",
            "    })\n",
            "    valid: Dataset({\n",
            "        features: ['text', 'labels'],\n",
            "        num_rows: 28\n",
            "    })\n",
            "})\n",
            "DatasetDict({\n",
            "    train: Dataset({\n",
            "        features: ['text', 'labels'],\n",
            "        num_rows: 251\n",
            "    })\n",
            "    test: Dataset({\n",
            "        features: ['text', 'labels'],\n",
            "        num_rows: 28209\n",
            "    })\n",
            "    valid: Dataset({\n",
            "        features: ['text', 'labels'],\n",
            "        num_rows: 28\n",
            "    })\n",
            "})\n"
          ],
          "name": "stdout"
        },
        {
          "output_type": "display_data",
          "data": {
            "application/vnd.jupyter.widget-view+json": {
              "model_id": "0b8cec36821b43ddb3ee9449d17c1c76",
              "version_minor": 0,
              "version_major": 2
            },
            "text/plain": [
              "HBox(children=(FloatProgress(value=0.0, max=29.0), HTML(value='')))"
            ]
          },
          "metadata": {
            "tags": []
          }
        },
        {
          "output_type": "stream",
          "text": [
            "\n"
          ],
          "name": "stdout"
        },
        {
          "output_type": "display_data",
          "data": {
            "application/vnd.jupyter.widget-view+json": {
              "model_id": "3e751003d80a4accb8139be63a338a0e",
              "version_minor": 0,
              "version_major": 2
            },
            "text/plain": [
              "HBox(children=(FloatProgress(value=0.0, max=29.0), HTML(value='')))"
            ]
          },
          "metadata": {
            "tags": []
          }
        },
        {
          "output_type": "stream",
          "text": [
            "\n"
          ],
          "name": "stdout"
        }
      ]
    },
    {
      "cell_type": "code",
      "metadata": {
        "colab": {
          "base_uri": "https://localhost:8080/",
          "height": 37
        },
        "id": "FMW3waeE6jDI",
        "outputId": "28d36aac-abc8-4f7b-84f7-4e8063b4c1be"
      },
      "source": [
        "preds = identifier_model.predict(first_step_dataset)"
      ],
      "execution_count": null,
      "outputs": [
        {
          "output_type": "display_data",
          "data": {
            "text/html": [
              "\n",
              "    <div>\n",
              "        <style>\n",
              "            /* Turns off some styling */\n",
              "            progress {\n",
              "                /* gets rid of default border in Firefox and Opera. */\n",
              "                border: none;\n",
              "                /* Needs to be in here for Safari polyfill so background images work as expected. */\n",
              "                background-size: auto;\n",
              "            }\n",
              "        </style>\n",
              "      \n",
              "      <progress value='7067' max='122' style='width:300px; height:20px; vertical-align: middle;'></progress>\n",
              "      [122/122 06:02]\n",
              "    </div>\n",
              "    "
            ],
            "text/plain": [
              "<IPython.core.display.HTML object>"
            ]
          },
          "metadata": {
            "tags": []
          }
        }
      ]
    },
    {
      "cell_type": "markdown",
      "metadata": {
        "id": "pKabYickyg_4"
      },
      "source": [
        "## Predict (identification) the test set"
      ]
    },
    {
      "cell_type": "code",
      "metadata": {
        "id": "w4fqlSHVUbKG"
      },
      "source": [
        "import numpy as np\n",
        "import math\n",
        "from tqdm.notebook import trange, tqdm\n",
        "\n",
        "def do_predict(model, dataset, batch_size=1000):\n",
        "  # Tracking variable for the output predictions\n",
        "  predictions = None\n",
        "\n",
        "  # Shard the dataset\n",
        "  no_of_shards = math.ceil(dataset.num_rows / batch_size)\n",
        "  # Do prediction for each shard\n",
        "  for i in trange(no_of_shards):\n",
        "    shard = dataset.shard(no_of_shards, i)\n",
        "    shard_output = model.predict(shard)\n",
        "    if predictions is None:\n",
        "      predictions = shard_output.predictions\n",
        "    else:\n",
        "      predictions = np.concatenate((predictions, shard_output.predictions), axis=0)\n",
        "  return predictions"
      ],
      "execution_count": null,
      "outputs": []
    },
    {
      "cell_type": "code",
      "metadata": {
        "colab": {
          "base_uri": "https://localhost:8080/",
          "height": 86,
          "referenced_widgets": [
            "da6fb9761cb04e2eaee56fd971947a1b",
            "3315a3e6417f4a7ba3827bee6f5c1365",
            "da0d2c37c8354006b5cb42c41c184adb",
            "513e89119c2644d99527babd2de2cd6d",
            "18bed39b60604912a2c041242483e49b",
            "d2130f52b5a0472a9d17c71d4a17e431",
            "45c0c8dff76047399863915628e20977",
            "45fb296e6d8f40de806203d02a1323db"
          ]
        },
        "id": "EL65nlU0NhXb",
        "outputId": "13bf0b34-b9b8-49e1-dd6b-c1ee79164a98"
      },
      "source": [
        "test_labels = first_step_dataset['labels']\n",
        "first_step_dataset.remove_columns_(\"labels\")\n",
        "first_dataset_predictions = do_predict(identifier_model, first_step_dataset)"
      ],
      "execution_count": null,
      "outputs": [
        {
          "output_type": "display_data",
          "data": {
            "application/vnd.jupyter.widget-view+json": {
              "model_id": "da6fb9761cb04e2eaee56fd971947a1b",
              "version_minor": 0,
              "version_major": 2
            },
            "text/plain": [
              "HBox(children=(FloatProgress(value=0.0, max=29.0), HTML(value='')))"
            ]
          },
          "metadata": {
            "tags": []
          }
        },
        {
          "output_type": "display_data",
          "data": {
            "text/html": [
              "\n",
              "    <div>\n",
              "        <style>\n",
              "            /* Turns off some styling */\n",
              "            progress {\n",
              "                /* gets rid of default border in Firefox and Opera. */\n",
              "                border: none;\n",
              "                /* Needs to be in here for Safari polyfill so background images work as expected. */\n",
              "                background-size: auto;\n",
              "            }\n",
              "        </style>\n",
              "      \n",
              "      <progress value='3538' max='122' style='width:300px; height:20px; vertical-align: middle;'></progress>\n",
              "      [122/122 01:07]\n",
              "    </div>\n",
              "    "
            ],
            "text/plain": [
              "<IPython.core.display.HTML object>"
            ]
          },
          "metadata": {
            "tags": []
          }
        },
        {
          "output_type": "stream",
          "text": [
            "\n"
          ],
          "name": "stdout"
        }
      ]
    },
    {
      "cell_type": "code",
      "metadata": {
        "colab": {
          "base_uri": "https://localhost:8080/",
          "height": 86,
          "referenced_widgets": [
            "f8fdeded7ec6415fa2ec90e35667920a",
            "6d8bfba9f5164e5ab8d932b60dfc6d41",
            "56c0abe3f9f4489ba90d8349a3f909df",
            "258ed0c087a9479e91f6fddbef4be3b2",
            "a294ba768b864f1e9f7945072ef86882",
            "994951e78a0a48a6a6961488f4d78544",
            "c224b72f651440b09403b409d08cef3f",
            "439d7c158f9e4e76b3242ead11898c31"
          ]
        },
        "id": "jA_CcJgkXvRe",
        "outputId": "10e53dd3-0154-48f8-f83f-8ff7dabad8e4"
      },
      "source": [
        "second_step_dataset.remove_columns_(\"labels\")\n",
        "second_dataset_predictions = do_predict(classifier_model, second_step_dataset)"
      ],
      "execution_count": null,
      "outputs": [
        {
          "output_type": "display_data",
          "data": {
            "application/vnd.jupyter.widget-view+json": {
              "model_id": "f8fdeded7ec6415fa2ec90e35667920a",
              "version_minor": 0,
              "version_major": 2
            },
            "text/plain": [
              "HBox(children=(FloatProgress(value=0.0, max=29.0), HTML(value='')))"
            ]
          },
          "metadata": {
            "tags": []
          }
        },
        {
          "output_type": "display_data",
          "data": {
            "text/html": [
              "\n",
              "    <div>\n",
              "        <style>\n",
              "            /* Turns off some styling */\n",
              "            progress {\n",
              "                /* gets rid of default border in Firefox and Opera. */\n",
              "                border: none;\n",
              "                /* Needs to be in here for Safari polyfill so background images work as expected. */\n",
              "                background-size: auto;\n",
              "            }\n",
              "        </style>\n",
              "      \n",
              "      <progress value='3538' max='122' style='width:300px; height:20px; vertical-align: middle;'></progress>\n",
              "      [122/122 01:07]\n",
              "    </div>\n",
              "    "
            ],
            "text/plain": [
              "<IPython.core.display.HTML object>"
            ]
          },
          "metadata": {
            "tags": []
          }
        },
        {
          "output_type": "stream",
          "text": [
            "\n"
          ],
          "name": "stdout"
        }
      ]
    },
    {
      "cell_type": "code",
      "metadata": {
        "colab": {
          "base_uri": "https://localhost:8080/"
        },
        "id": "p5WeGQusabtC",
        "outputId": "4f792f3d-ed2b-44aa-d842-03fe03e34c7a"
      },
      "source": [
        "from scipy.special import expit \n",
        "\n",
        "# Convert to probabilities\n",
        "first_dataset_probs = expit(first_dataset_predictions)\n",
        "second_dataset_probs = expit(second_dataset_predictions)\n",
        "\n",
        "# TODO: Load best thresholds of this model (copy paste for now)\n",
        "identifier_best_thresholds = [8]   # [0.45253575]\n",
        "classifier_best_thresholds = [0.8539462, 0.52350485, 0.73815167, 0.6694577, 0.59423065]\n",
        "\n",
        "# Only consider the positive column\n",
        "first_dataset_probs = first_dataset_probs[:,1]\n",
        "# first_dataset_probs = (first_dataset_probs > identifier_best_thresholds[0]) * 1\n",
        "\n",
        "assert len(first_dataset_predictions) == (len(second_dataset_probs))\n",
        "\n",
        "# Multiply the indicator vector of (0, 1, ..., n) with the probabilities array so we set to 0 all rows that would have been filtered in the previous step\n",
        "first_dataset_probs = first_dataset_probs.reshape(-1, 1)\n",
        "filtered_probs = first_dataset_probs * second_dataset_probs\n",
        "\n",
        "filtered_probs.sum(axis=0)\n",
        "first_dataset_probs.sum()"
      ],
      "execution_count": null,
      "outputs": [
        {
          "output_type": "execute_result",
          "data": {
            "text/plain": [
              "7250.3223"
            ]
          },
          "metadata": {
            "tags": []
          },
          "execution_count": 17
        }
      ]
    },
    {
      "cell_type": "code",
      "metadata": {
        "colab": {
          "base_uri": "https://localhost:8080/"
        },
        "id": "SEMI9H7sytYq",
        "outputId": "15369bd9-26ac-445d-94e6-a23fa9e656a2"
      },
      "source": [
        "from sklearn.metrics import confusion_matrix, roc_auc_score, average_precision_score, roc_curve, precision_recall_curve, classification_report, multilabel_confusion_matrix\n",
        "\n",
        "preds_probs = first_dataset_probs\n",
        "roc_auc = roc_auc_score(test_labels, preds_probs, average=\"macro\")\n",
        "pr_auc = average_precision_score(test_labels, preds_probs, average=\"macro\")\n",
        "print(roc_auc, pr_auc)"
      ],
      "execution_count": null,
      "outputs": [
        {
          "output_type": "stream",
          "text": [
            "0.4358175970323014 0.00163162649149815\n"
          ],
          "name": "stdout"
        }
      ]
    },
    {
      "cell_type": "code",
      "metadata": {
        "colab": {
          "base_uri": "https://localhost:8080/"
        },
        "id": "Ykxywx0oiodL",
        "outputId": "330cfb58-d5ab-4f55-e6a7-e78348701a0c"
      },
      "source": [
        "first_dataset_probs"
      ],
      "execution_count": null,
      "outputs": [
        {
          "output_type": "execute_result",
          "data": {
            "text/plain": [
              "array([[0.31515253],\n",
              "       [0.05226306],\n",
              "       [0.08898468],\n",
              "       ...,\n",
              "       [0.18585016],\n",
              "       [0.03461825],\n",
              "       [0.08023971]], dtype=float32)"
            ]
          },
          "metadata": {
            "tags": []
          },
          "execution_count": 12
        }
      ]
    },
    {
      "cell_type": "code",
      "metadata": {
        "colab": {
          "base_uri": "https://localhost:8080/"
        },
        "id": "4ubzL8XNhXmd",
        "outputId": "0c8068b4-7815-45e5-8124-75755abb639c"
      },
      "source": [
        "first_dataset_probs.sum()"
      ],
      "execution_count": null,
      "outputs": [
        {
          "output_type": "execute_result",
          "data": {
            "text/plain": [
              "7250.3223"
            ]
          },
          "metadata": {
            "tags": []
          },
          "execution_count": 13
        }
      ]
    },
    {
      "cell_type": "markdown",
      "metadata": {
        "id": "APqwY3u3aXMm"
      },
      "source": [
        "# Compare results"
      ]
    },
    {
      "cell_type": "code",
      "metadata": {
        "colab": {
          "base_uri": "https://localhost:8080/"
        },
        "id": "0_0EfkrFaPqz",
        "outputId": "8ca7a06b-7379-48fd-a207-08322d06d83e"
      },
      "source": [
        "second_dataset_predictions"
      ],
      "execution_count": null,
      "outputs": [
        {
          "output_type": "execute_result",
          "data": {
            "text/plain": [
              "array([[-0.48558527, -0.6597072 , -0.06553887, -0.42671126, -0.535562  ],\n",
              "       [ 0.19544666, -0.68530756,  0.51019925, -0.003137  , -0.38136312],\n",
              "       [-0.8579987 , -0.84948504, -0.07705627, -0.622136  , -0.7075825 ],\n",
              "       ...,\n",
              "       [-0.6445179 , -0.77097297, -0.12218759, -0.52835494, -0.5942524 ],\n",
              "       [-0.39127487, -0.9740663 ,  0.08745108, -0.52693313, -0.96705264],\n",
              "       [-0.36492407, -0.86849505, -0.08511597, -0.37672988, -0.6840325 ]],\n",
              "      dtype=float32)"
            ]
          },
          "metadata": {
            "tags": []
          },
          "execution_count": 14
        }
      ]
    },
    {
      "cell_type": "markdown",
      "metadata": {
        "id": "Ea7hwAdf0VPY"
      },
      "source": [
        "## Load second dataset for training & validation"
      ]
    },
    {
      "cell_type": "markdown",
      "metadata": {
        "id": "GPRjsaI9Dhi1"
      },
      "source": [
        "## Training of the sub type classifier"
      ]
    },
    {
      "cell_type": "markdown",
      "metadata": {
        "id": "CUjyg_R7zZSZ"
      },
      "source": [
        "## Inference"
      ]
    },
    {
      "cell_type": "code",
      "metadata": {
        "id": "jaeam3JICJOT",
        "colab": {
          "base_uri": "https://localhost:8080/",
          "height": 273,
          "referenced_widgets": [
            "64aaa0d727474bc28d6438b727b5a51f",
            "cf66e519651f4063a090143da91320d4",
            "b35fdb52852941ada68a82b7ddf8f407",
            "cc67ebba8c1141dc99972262d1d8c070",
            "b0517c8a3dbe493795d79bf0cfb23729",
            "61d032504d524fc9b57f2ccc6083ca37",
            "bafcc53c32204ac8b9ae3402debedd74",
            "41cda5be58b649558bb923ea6c74c437"
          ]
        },
        "outputId": "b1d75817-1cd1-42c8-8cd2-7d2f50c40a30"
      },
      "source": [
        "from scipy.special import expit \n",
        "import pandas as pd\n",
        "from datasets import DatasetDict, Dataset, load_dataset, Sequence, ClassLabel, Features, Value, concatenate_datasets\n",
        "\n",
        "inference_df = pd.DataFrame([\n",
        "                             \"\"\"\n",
        "                             The Company’s operations result in the generation of Scope 1 emissions. The Company’s emissions are primarily generated by its processing facilities as well by transportation of goods. \n",
        "                             Our processing facilities account for approximately 62% of our total Scope 1 emissions. Currently, none of our emissions are subject to a carbon- pricing regulation. \n",
        "                             We do not anticipate any such risks to emerge in the short-term; however, we continue to monitor emerging regulatory developments, including Nationally Determined Contributions per the \n",
        "                             Paris Agreement, and are assessing and utilizing these contributions to guide our medium- and long-term strategy to mitigate policy and legal risk. \n",
        "                             Our transportation infrastructure, including a company-owned fleet of marine, road, and rail vehicles, account for approximately 35% of our total Scope 1 emissions. \n",
        "                             Currently, none of our transportation-related emissions are subject to a carbon-pricing regulation. We are in the process of retiring old vehicles in favor of newer, more fuel-efficient \n",
        "                             vehicles based on normal attrition. However, in the medium to long term we anticipate the early retirement of some vehicles before the end of their useful life as part of our \n",
        "                             emissions-reduction strategy, discussed in the section below. \n",
        "                             \"\"\",\n",
        "                             \"\"\"\n",
        "                             We anticipate that carbon-pricing regulations may emerge over the medium- to long-term timeframe, and such regulations may result in a significant financial impact to the company’s \n",
        "                             operations, including an increase in operating costs as well as potential capital expenditures to reduce emissions. 12 To mitigate this risk, the Company established a strategy to \n",
        "                             both reduce overall energy consumption by 20%, generate half of our energy from company- owned renewable sources, and achieve a 40% reduction in GHG emissions by 2035. \n",
        "                             \"\"\",\n",
        "                             \"\"\"The Company has suppliers located in areas that are subject to acute physical climate risks. \n",
        "                             The Company has evaluated risks to key products and has developed associated strategies to mitigate such risks, as noted below.  \n",
        "                             The Company faces potential disruption to its ability to process peanuts into peanut oil as a result of increasing storm frequency and severity in \n",
        "                             the Gulf Coast, USA region. Such disruption could result in an adverse impact to the Company’s revenues. \n",
        "                             \"\"\",\n",
        "                             \"\"\"\n",
        "                             EPA has authority under the Clean Air Act to monitor and regulate greenhouse gas emissions.\n",
        "                             \"\"\",\n",
        "                             \"\"\"Energy saving solutions like ours will help the world in combating climate change and it will increase our expected yearly income in the future. \"\"\",\n",
        "                             \"\"\"The physical consequences of climate change, such as anticipated increasing storm activity over the carribean will most likely affect the quality and value of our production in the next few decades.\"\"\",\n",
        "                             \"\"\"We will increase our target of carbon emission reductions to 50% in comparison to 1990 for the next decade.\"\"\",\n",
        "                             \"\"\"The Company’s manufacturing facilities are located in regions that may be impacted by severe weather events, including potential damage to physical assets as well as disruptions to manufacturing activities.\"\"\",\n",
        "                             \"\"\"Hello world! How are you today?\"\"\",\n",
        "                             \"\"\"The physical consequences of climate change are the biggest risk to the world and may also affect our financial results in the near future.\"\"\",\n",
        "                             \"\"\"Customers may not view our response to climate change as sufficient, affecting our reputation and thus affecting our financial results.\"\"\"\n",
        "], columns=[\"text\"])\n",
        "\n",
        "inference_ds = Dataset.from_pandas(inference_df)\n",
        "\n",
        "inference_ds = inference_ds.map(lambda ds: identifier_tokenizer(\n",
        "            ds[\"text\"], truncation=True, padding='max_length', max_length=256), batched=True)\n",
        "\n",
        "\n",
        "inference_result = identifier_model.predict(inference_ds)\n",
        "preds = inference_result.predictions\n",
        "preds_prob = expit(preds)\n",
        "preds_prob"
      ],
      "execution_count": null,
      "outputs": [
        {
          "output_type": "display_data",
          "data": {
            "application/vnd.jupyter.widget-view+json": {
              "model_id": "64aaa0d727474bc28d6438b727b5a51f",
              "version_minor": 0,
              "version_major": 2
            },
            "text/plain": [
              "HBox(children=(FloatProgress(value=0.0, max=1.0), HTML(value='')))"
            ]
          },
          "metadata": {
            "tags": []
          }
        },
        {
          "output_type": "stream",
          "text": [
            "\n"
          ],
          "name": "stdout"
        },
        {
          "output_type": "display_data",
          "data": {
            "text/html": [
              "\n",
              "    <div>\n",
              "        <style>\n",
              "            /* Turns off some styling */\n",
              "            progress {\n",
              "                /* gets rid of default border in Firefox and Opera. */\n",
              "                border: none;\n",
              "                /* Needs to be in here for Safari polyfill so background images work as expected. */\n",
              "                background-size: auto;\n",
              "            }\n",
              "        </style>\n",
              "      \n",
              "      <progress value='3540' max='122' style='width:300px; height:20px; vertical-align: middle;'></progress>\n",
              "      [122/122 02:15]\n",
              "    </div>\n",
              "    "
            ],
            "text/plain": [
              "<IPython.core.display.HTML object>"
            ]
          },
          "metadata": {
            "tags": []
          }
        },
        {
          "output_type": "execute_result",
          "data": {
            "text/plain": [
              "array([[0.03751682, 0.9096143 ],\n",
              "       [0.02312849, 0.9407649 ],\n",
              "       [0.02844577, 0.93055284],\n",
              "       [0.13002154, 0.7899205 ],\n",
              "       [0.04880824, 0.88986737],\n",
              "       [0.03595606, 0.9212987 ],\n",
              "       [0.10802615, 0.8122958 ],\n",
              "       [0.05026895, 0.8973977 ],\n",
              "       [0.5209146 , 0.44052956],\n",
              "       [0.03670503, 0.9144431 ],\n",
              "       [0.03286976, 0.9234117 ]], dtype=float32)"
            ]
          },
          "metadata": {
            "tags": []
          },
          "execution_count": 15
        }
      ]
    }
  ]
}