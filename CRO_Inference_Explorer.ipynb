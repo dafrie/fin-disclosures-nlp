{
  "nbformat": 4,
  "nbformat_minor": 0,
  "metadata": {
    "colab": {
      "name": "CRO_Inference_Explorer.ipynb",
      "provenance": [],
      "toc_visible": true,
      "authorship_tag": "ABX9TyOczQqlYcD6FGM8Wk11UDBt",
      "include_colab_link": true
    },
    "kernelspec": {
      "name": "python3",
      "display_name": "Python 3"
    },
    "widgets": {
      "application/vnd.jupyter.widget-state+json": {
        "dfc0479568604a21937ae39eb5728c40": {
          "model_module": "@jupyter-widgets/output",
          "model_name": "OutputModel",
          "state": {
            "_view_name": "OutputView",
            "msg_id": "",
            "_dom_classes": [],
            "_model_name": "OutputModel",
            "outputs": [
              {
                "output_type": "display_data",
                "metadata": {
                  "tags": []
                },
                "application/vnd.jupyter.widget-view+json": {
                  "model_id": "6b6100275f174e8a8a13c17a0b7ef28f",
                  "version_minor": 0,
                  "version_major": 2
                },
                "text/plain": "VBox(children=(HBox(children=(SelectMultiple(description='Categories', options=('PR', 'TR', 'OP', '-'), value=…"
              }
            ],
            "_view_module": "@jupyter-widgets/output",
            "_model_module_version": "1.0.0",
            "_view_count": null,
            "_view_module_version": "1.0.0",
            "layout": "IPY_MODEL_e6a5147926ae4a5094c911bb4ddf48cd",
            "_model_module": "@jupyter-widgets/output"
          }
        },
        "6b6100275f174e8a8a13c17a0b7ef28f": {
          "model_module": "@jupyter-widgets/controls",
          "model_name": "VBoxModel",
          "state": {
            "_view_name": "VBoxView",
            "_dom_classes": [],
            "_model_name": "VBoxModel",
            "_view_module": "@jupyter-widgets/controls",
            "_model_module_version": "1.5.0",
            "_view_count": null,
            "_view_module_version": "1.5.0",
            "box_style": "",
            "layout": "IPY_MODEL_e811b3c88c084a68a8a48ccf73b84f33",
            "_model_module": "@jupyter-widgets/controls",
            "children": [
              "IPY_MODEL_e6455210c88247f592137622d4c821c8"
            ]
          }
        },
        "e6a5147926ae4a5094c911bb4ddf48cd": {
          "model_module": "@jupyter-widgets/base",
          "model_name": "LayoutModel",
          "state": {
            "_view_name": "LayoutView",
            "grid_template_rows": null,
            "right": null,
            "justify_content": null,
            "_view_module": "@jupyter-widgets/base",
            "overflow": null,
            "_model_module_version": "1.2.0",
            "_view_count": null,
            "flex_flow": null,
            "width": null,
            "min_width": null,
            "border": null,
            "align_items": null,
            "bottom": null,
            "_model_module": "@jupyter-widgets/base",
            "top": null,
            "grid_column": null,
            "overflow_y": null,
            "overflow_x": null,
            "grid_auto_flow": null,
            "grid_area": null,
            "grid_template_columns": null,
            "flex": null,
            "_model_name": "LayoutModel",
            "justify_items": null,
            "grid_row": null,
            "max_height": null,
            "align_content": null,
            "visibility": null,
            "align_self": null,
            "height": null,
            "min_height": null,
            "padding": null,
            "grid_auto_rows": null,
            "grid_gap": null,
            "max_width": null,
            "order": null,
            "_view_module_version": "1.2.0",
            "grid_template_areas": null,
            "object_position": null,
            "object_fit": null,
            "grid_auto_columns": null,
            "margin": null,
            "display": null,
            "left": null
          }
        },
        "8d0e78b70a604bc48cb4579d05ad811c": {
          "model_module": "@jupyter-widgets/output",
          "model_name": "OutputModel",
          "state": {
            "_view_name": "OutputView",
            "msg_id": "",
            "_dom_classes": [],
            "_model_name": "OutputModel",
            "outputs": [
              {
                "output_type": "display_data",
                "metadata": {
                  "tags": []
                },
                "application/vnd.jupyter.widget-view+json": {
                  "model_id": "423a7614a4374cacab4e9aaf0c03ebf5",
                  "version_minor": 0,
                  "version_major": 2
                },
                "text/plain": "HBox(children=(BoundedIntText(value=0, description='Index:', max=628001), IntSlider(value=0, max=628001, reado…"
              },
              {
                "output_type": "stream",
                "metadata": {
                  "tags": []
                },
                "text": "\n------------------dk_novo_nordisk_b-AR_2016 | p.6 ---------------------------\n\nNOVO NORDISK\nAT A GLANCE\nNovo Nordisk is a global healthcare company, headquartered in Denmark, with more \nthan 90 years of innovation and leadership in diabetes care. This heritage has given \nus experience and capabilities that also enable us to help people defeat other serious \nchronic conditions: haemophilia, growth disorders and obesity. \n\n--------------------------------------------------------------------------\n\n",
                "stream": "stdout"
              },
              {
                "output_type": "display_data",
                "metadata": {
                  "tags": []
                },
                "text/html": "<style  type=\"text/css\" >\n#T_1fe359fc_2f71_11eb_8d71_0242ac1c0002row0_col2{\n            background-color:  lightblue;\n        }</style><table id=\"T_1fe359fc_2f71_11eb_8d71_0242ac1c0002\" ><thead>    <tr>        <th class=\"blank level0\" ></th>        <th class=\"col_heading level0 col0\" >PR</th>        <th class=\"col_heading level0 col1\" >TR</th>        <th class=\"col_heading level0 col2\" >OP</th>    </tr></thead><tbody>\n                <tr>\n                        <th id=\"T_1fe359fc_2f71_11eb_8d71_0242ac1c0002level0_row0\" class=\"row_heading level0 row0\" >Predictions</th>\n                        <td id=\"T_1fe359fc_2f71_11eb_8d71_0242ac1c0002row0_col0\" class=\"data row0 col0\" >0.000000</td>\n                        <td id=\"T_1fe359fc_2f71_11eb_8d71_0242ac1c0002row0_col1\" class=\"data row0 col1\" >0.000000</td>\n                        <td id=\"T_1fe359fc_2f71_11eb_8d71_0242ac1c0002row0_col2\" class=\"data row0 col2\" >1.000000</td>\n            </tr>\n            <tr>\n                        <th id=\"T_1fe359fc_2f71_11eb_8d71_0242ac1c0002level0_row1\" class=\"row_heading level0 row1\" >Probability</th>\n                        <td id=\"T_1fe359fc_2f71_11eb_8d71_0242ac1c0002row1_col0\" class=\"data row1 col0\" >0.069609</td>\n                        <td id=\"T_1fe359fc_2f71_11eb_8d71_0242ac1c0002row1_col1\" class=\"data row1 col1\" >0.003012</td>\n                        <td id=\"T_1fe359fc_2f71_11eb_8d71_0242ac1c0002row1_col2\" class=\"data row1 col2\" >0.549745</td>\n            </tr>\n            <tr>\n                        <th id=\"T_1fe359fc_2f71_11eb_8d71_0242ac1c0002level0_row2\" class=\"row_heading level0 row2\" >Actual</th>\n                        <td id=\"T_1fe359fc_2f71_11eb_8d71_0242ac1c0002row2_col0\" class=\"data row2 col0\" >nan</td>\n                        <td id=\"T_1fe359fc_2f71_11eb_8d71_0242ac1c0002row2_col1\" class=\"data row2 col1\" >nan</td>\n                        <td id=\"T_1fe359fc_2f71_11eb_8d71_0242ac1c0002row2_col2\" class=\"data row2 col2\" >nan</td>\n            </tr>\n    </tbody></table>",
                "text/plain": "<pandas.io.formats.style.Styler at 0x7f29005d2c50>"
              }
            ],
            "_view_module": "@jupyter-widgets/output",
            "_model_module_version": "1.0.0",
            "_view_count": null,
            "_view_module_version": "1.0.0",
            "layout": "IPY_MODEL_cfff7655c24f49efa178b30218da1136",
            "_model_module": "@jupyter-widgets/output"
          }
        },
        "e811b3c88c084a68a8a48ccf73b84f33": {
          "model_module": "@jupyter-widgets/base",
          "model_name": "LayoutModel",
          "state": {
            "_view_name": "LayoutView",
            "grid_template_rows": null,
            "right": null,
            "justify_content": null,
            "_view_module": "@jupyter-widgets/base",
            "overflow": null,
            "_model_module_version": "1.2.0",
            "_view_count": null,
            "flex_flow": null,
            "width": null,
            "min_width": null,
            "border": null,
            "align_items": null,
            "bottom": null,
            "_model_module": "@jupyter-widgets/base",
            "top": null,
            "grid_column": null,
            "overflow_y": null,
            "overflow_x": null,
            "grid_auto_flow": null,
            "grid_area": null,
            "grid_template_columns": null,
            "flex": null,
            "_model_name": "LayoutModel",
            "justify_items": null,
            "grid_row": null,
            "max_height": null,
            "align_content": null,
            "visibility": null,
            "align_self": null,
            "height": null,
            "min_height": null,
            "padding": null,
            "grid_auto_rows": null,
            "grid_gap": null,
            "max_width": null,
            "order": null,
            "_view_module_version": "1.2.0",
            "grid_template_areas": null,
            "object_position": null,
            "object_fit": null,
            "grid_auto_columns": null,
            "margin": null,
            "display": null,
            "left": null
          }
        },
        "e6455210c88247f592137622d4c821c8": {
          "model_module": "@jupyter-widgets/controls",
          "model_name": "HBoxModel",
          "state": {
            "_view_name": "HBoxView",
            "_dom_classes": [],
            "_model_name": "HBoxModel",
            "_view_module": "@jupyter-widgets/controls",
            "_model_module_version": "1.5.0",
            "_view_count": null,
            "_view_module_version": "1.5.0",
            "box_style": "",
            "layout": "IPY_MODEL_d809936083564a61a7f143abd27ab062",
            "_model_module": "@jupyter-widgets/controls",
            "children": [
              "IPY_MODEL_9b7527cff4b74341aa7a29ae4f1f937c",
              "IPY_MODEL_b85bb443652c4ea994da22e97b6b17b4",
              "IPY_MODEL_caa52556d3f346f198698cac3364782c",
              "IPY_MODEL_ad9c347bbc95458aa7450f6c324b1817"
            ]
          }
        },
        "423a7614a4374cacab4e9aaf0c03ebf5": {
          "model_module": "@jupyter-widgets/controls",
          "model_name": "HBoxModel",
          "state": {
            "_view_name": "HBoxView",
            "_dom_classes": [],
            "_model_name": "HBoxModel",
            "_view_module": "@jupyter-widgets/controls",
            "_model_module_version": "1.5.0",
            "_view_count": null,
            "_view_module_version": "1.5.0",
            "box_style": "",
            "layout": "IPY_MODEL_ad9e581079af41ddb52ec7be62458c20",
            "_model_module": "@jupyter-widgets/controls",
            "children": [
              "IPY_MODEL_aa8631a103f34131a8be6e9e87e72b7e",
              "IPY_MODEL_be5dd1fa277f4d55b4453561ff9392a5",
              "IPY_MODEL_2d6982eee71242cb9fd37f5d8dcda52a"
            ]
          }
        },
        "cfff7655c24f49efa178b30218da1136": {
          "model_module": "@jupyter-widgets/base",
          "model_name": "LayoutModel",
          "state": {
            "_view_name": "LayoutView",
            "grid_template_rows": null,
            "right": null,
            "justify_content": null,
            "_view_module": "@jupyter-widgets/base",
            "overflow": null,
            "_model_module_version": "1.2.0",
            "_view_count": null,
            "flex_flow": null,
            "width": null,
            "min_width": null,
            "border": null,
            "align_items": null,
            "bottom": null,
            "_model_module": "@jupyter-widgets/base",
            "top": null,
            "grid_column": null,
            "overflow_y": null,
            "overflow_x": null,
            "grid_auto_flow": null,
            "grid_area": null,
            "grid_template_columns": null,
            "flex": null,
            "_model_name": "LayoutModel",
            "justify_items": null,
            "grid_row": null,
            "max_height": null,
            "align_content": null,
            "visibility": null,
            "align_self": null,
            "height": null,
            "min_height": null,
            "padding": null,
            "grid_auto_rows": null,
            "grid_gap": null,
            "max_width": null,
            "order": null,
            "_view_module_version": "1.2.0",
            "grid_template_areas": null,
            "object_position": null,
            "object_fit": null,
            "grid_auto_columns": null,
            "margin": null,
            "display": null,
            "left": null
          }
        },
        "d809936083564a61a7f143abd27ab062": {
          "model_module": "@jupyter-widgets/base",
          "model_name": "LayoutModel",
          "state": {
            "_view_name": "LayoutView",
            "grid_template_rows": null,
            "right": null,
            "justify_content": null,
            "_view_module": "@jupyter-widgets/base",
            "overflow": null,
            "_model_module_version": "1.2.0",
            "_view_count": null,
            "flex_flow": null,
            "width": null,
            "min_width": null,
            "border": null,
            "align_items": null,
            "bottom": null,
            "_model_module": "@jupyter-widgets/base",
            "top": null,
            "grid_column": null,
            "overflow_y": null,
            "overflow_x": null,
            "grid_auto_flow": null,
            "grid_area": null,
            "grid_template_columns": null,
            "flex": null,
            "_model_name": "LayoutModel",
            "justify_items": null,
            "grid_row": null,
            "max_height": null,
            "align_content": null,
            "visibility": null,
            "align_self": null,
            "height": null,
            "min_height": null,
            "padding": null,
            "grid_auto_rows": null,
            "grid_gap": null,
            "max_width": null,
            "order": null,
            "_view_module_version": "1.2.0",
            "grid_template_areas": null,
            "object_position": null,
            "object_fit": null,
            "grid_auto_columns": null,
            "margin": null,
            "display": null,
            "left": null
          }
        },
        "9b7527cff4b74341aa7a29ae4f1f937c": {
          "model_module": "@jupyter-widgets/controls",
          "model_name": "SelectMultipleModel",
          "state": {
            "_options_labels": [
              "PR",
              "TR",
              "OP",
              "-"
            ],
            "_view_name": "SelectMultipleView",
            "style": "IPY_MODEL_3b504399807a4087a5f29b23cc7f25fb",
            "rows": 5,
            "_dom_classes": [],
            "description": "Categories",
            "_model_name": "SelectMultipleModel",
            "index": [],
            "_view_module": "@jupyter-widgets/controls",
            "_model_module_version": "1.5.0",
            "_view_count": null,
            "disabled": false,
            "_view_module_version": "1.5.0",
            "description_tooltip": null,
            "_model_module": "@jupyter-widgets/controls",
            "layout": "IPY_MODEL_c5257302144944ecae0478cd98bc8bb2"
          }
        },
        "b85bb443652c4ea994da22e97b6b17b4": {
          "model_module": "@jupyter-widgets/controls",
          "model_name": "SelectMultipleModel",
          "state": {
            "_options_labels": [
              "10 Technology",
              "15 Telecommunications",
              "20 Health Care",
              "30 Financials",
              "40 Consumer Discretionary",
              "45 Consumer Staples",
              "50 Industrials",
              "55 Basic Materials",
              "60 Energy",
              "65 Utilities"
            ],
            "_view_name": "SelectMultipleView",
            "style": "IPY_MODEL_e4b8c6ef12124e4f9ba18a4544181c14",
            "rows": 5,
            "_dom_classes": [],
            "description": "Industries",
            "_model_name": "SelectMultipleModel",
            "index": [],
            "_view_module": "@jupyter-widgets/controls",
            "_model_module_version": "1.5.0",
            "_view_count": null,
            "disabled": false,
            "_view_module_version": "1.5.0",
            "description_tooltip": null,
            "_model_module": "@jupyter-widgets/controls",
            "layout": "IPY_MODEL_aa85c2fcfbbe46e58dc564d841bb36d8"
          }
        },
        "caa52556d3f346f198698cac3364782c": {
          "model_module": "@jupyter-widgets/controls",
          "model_name": "SelectMultipleModel",
          "state": {
            "_options_labels": [
              "be",
              "ch",
              "de",
              "dk",
              "es",
              "fr",
              "gb",
              "it",
              "nl"
            ],
            "_view_name": "SelectMultipleView",
            "style": "IPY_MODEL_f2eb3d2f69bf48a7967316103b570c5b",
            "rows": 5,
            "_dom_classes": [],
            "description": "Countries",
            "_model_name": "SelectMultipleModel",
            "index": [],
            "_view_module": "@jupyter-widgets/controls",
            "_model_module_version": "1.5.0",
            "_view_count": null,
            "disabled": false,
            "_view_module_version": "1.5.0",
            "description_tooltip": null,
            "_model_module": "@jupyter-widgets/controls",
            "layout": "IPY_MODEL_331ad6a9e3234c80a862da6fcdfa167c"
          }
        },
        "ad9c347bbc95458aa7450f6c324b1817": {
          "model_module": "@jupyter-widgets/controls",
          "model_name": "SelectMultipleModel",
          "state": {
            "_options_labels": [
              "1999",
              "2000",
              "2001",
              "2002",
              "2003",
              "2004",
              "2005",
              "2006",
              "2007",
              "2008",
              "2009",
              "2010",
              "2011",
              "2012",
              "2013",
              "2014",
              "2015",
              "2016",
              "2017",
              "2018",
              "2019"
            ],
            "_view_name": "SelectMultipleView",
            "style": "IPY_MODEL_6c4a1d9d99d84c968e2fd8138c32f1e8",
            "rows": 5,
            "_dom_classes": [],
            "description": "Years",
            "_model_name": "SelectMultipleModel",
            "index": [],
            "_view_module": "@jupyter-widgets/controls",
            "_model_module_version": "1.5.0",
            "_view_count": null,
            "disabled": false,
            "_view_module_version": "1.5.0",
            "description_tooltip": null,
            "_model_module": "@jupyter-widgets/controls",
            "layout": "IPY_MODEL_cc8f8a97a95d4f36ab6c547f4368993f"
          }
        },
        "ad9e581079af41ddb52ec7be62458c20": {
          "model_module": "@jupyter-widgets/base",
          "model_name": "LayoutModel",
          "state": {
            "_view_name": "LayoutView",
            "grid_template_rows": null,
            "right": null,
            "justify_content": null,
            "_view_module": "@jupyter-widgets/base",
            "overflow": null,
            "_model_module_version": "1.2.0",
            "_view_count": null,
            "flex_flow": null,
            "width": null,
            "min_width": null,
            "border": null,
            "align_items": null,
            "bottom": null,
            "_model_module": "@jupyter-widgets/base",
            "top": null,
            "grid_column": null,
            "overflow_y": null,
            "overflow_x": null,
            "grid_auto_flow": null,
            "grid_area": null,
            "grid_template_columns": null,
            "flex": null,
            "_model_name": "LayoutModel",
            "justify_items": null,
            "grid_row": null,
            "max_height": null,
            "align_content": null,
            "visibility": null,
            "align_self": null,
            "height": null,
            "min_height": null,
            "padding": null,
            "grid_auto_rows": null,
            "grid_gap": null,
            "max_width": null,
            "order": null,
            "_view_module_version": "1.2.0",
            "grid_template_areas": null,
            "object_position": null,
            "object_fit": null,
            "grid_auto_columns": null,
            "margin": null,
            "display": null,
            "left": null
          }
        },
        "aa8631a103f34131a8be6e9e87e72b7e": {
          "model_module": "@jupyter-widgets/controls",
          "model_name": "BoundedIntTextModel",
          "state": {
            "_view_name": "IntTextView",
            "style": "IPY_MODEL_4c018ad49cb641f081cb8f314a4601b7",
            "_dom_classes": [],
            "description": "Index:",
            "_model_name": "BoundedIntTextModel",
            "max": 628001,
            "_view_module": "@jupyter-widgets/controls",
            "_model_module_version": "1.5.0",
            "value": 0,
            "_view_count": null,
            "disabled": false,
            "_view_module_version": "1.5.0",
            "min": 0,
            "continuous_update": false,
            "step": 1,
            "description_tooltip": null,
            "_model_module": "@jupyter-widgets/controls",
            "layout": "IPY_MODEL_431a85e831e340f5b055b054246539fa"
          }
        },
        "be5dd1fa277f4d55b4453561ff9392a5": {
          "model_module": "@jupyter-widgets/controls",
          "model_name": "IntSliderModel",
          "state": {
            "_view_name": "IntSliderView",
            "style": "IPY_MODEL_8cf5502be01e4e5b916f9c561b14f93b",
            "_dom_classes": [],
            "description": "",
            "step": 1,
            "_model_name": "IntSliderModel",
            "orientation": "horizontal",
            "max": 628001,
            "_view_module": "@jupyter-widgets/controls",
            "_model_module_version": "1.5.0",
            "value": 0,
            "_view_count": null,
            "disabled": false,
            "_view_module_version": "1.5.0",
            "min": 0,
            "continuous_update": true,
            "readout_format": "d",
            "description_tooltip": null,
            "readout": false,
            "_model_module": "@jupyter-widgets/controls",
            "layout": "IPY_MODEL_8e7f87ad3f0a41a1abf155e769fe78ed"
          }
        },
        "2d6982eee71242cb9fd37f5d8dcda52a": {
          "model_module": "@jupyter-widgets/controls",
          "model_name": "LabelModel",
          "state": {
            "_view_name": "LabelView",
            "style": "IPY_MODEL_5c032e428ba645dbb24d564222863910",
            "_dom_classes": [],
            "description": "",
            "_model_name": "LabelModel",
            "placeholder": "​",
            "_view_module": "@jupyter-widgets/controls",
            "_model_module_version": "1.5.0",
            "value": "Max: 628001",
            "_view_count": null,
            "_view_module_version": "1.5.0",
            "description_tooltip": null,
            "_model_module": "@jupyter-widgets/controls",
            "layout": "IPY_MODEL_dabf430e0d84405b9ccbbee790786f5c"
          }
        },
        "3b504399807a4087a5f29b23cc7f25fb": {
          "model_module": "@jupyter-widgets/controls",
          "model_name": "DescriptionStyleModel",
          "state": {
            "_view_name": "StyleView",
            "_model_name": "DescriptionStyleModel",
            "description_width": "",
            "_view_module": "@jupyter-widgets/base",
            "_model_module_version": "1.5.0",
            "_view_count": null,
            "_view_module_version": "1.2.0",
            "_model_module": "@jupyter-widgets/controls"
          }
        },
        "c5257302144944ecae0478cd98bc8bb2": {
          "model_module": "@jupyter-widgets/base",
          "model_name": "LayoutModel",
          "state": {
            "_view_name": "LayoutView",
            "grid_template_rows": null,
            "right": null,
            "justify_content": null,
            "_view_module": "@jupyter-widgets/base",
            "overflow": null,
            "_model_module_version": "1.2.0",
            "_view_count": null,
            "flex_flow": null,
            "width": null,
            "min_width": null,
            "border": null,
            "align_items": null,
            "bottom": null,
            "_model_module": "@jupyter-widgets/base",
            "top": null,
            "grid_column": null,
            "overflow_y": null,
            "overflow_x": null,
            "grid_auto_flow": null,
            "grid_area": null,
            "grid_template_columns": null,
            "flex": null,
            "_model_name": "LayoutModel",
            "justify_items": null,
            "grid_row": null,
            "max_height": null,
            "align_content": null,
            "visibility": null,
            "align_self": null,
            "height": null,
            "min_height": null,
            "padding": null,
            "grid_auto_rows": null,
            "grid_gap": null,
            "max_width": null,
            "order": null,
            "_view_module_version": "1.2.0",
            "grid_template_areas": null,
            "object_position": null,
            "object_fit": null,
            "grid_auto_columns": null,
            "margin": null,
            "display": null,
            "left": null
          }
        },
        "e4b8c6ef12124e4f9ba18a4544181c14": {
          "model_module": "@jupyter-widgets/controls",
          "model_name": "DescriptionStyleModel",
          "state": {
            "_view_name": "StyleView",
            "_model_name": "DescriptionStyleModel",
            "description_width": "",
            "_view_module": "@jupyter-widgets/base",
            "_model_module_version": "1.5.0",
            "_view_count": null,
            "_view_module_version": "1.2.0",
            "_model_module": "@jupyter-widgets/controls"
          }
        },
        "aa85c2fcfbbe46e58dc564d841bb36d8": {
          "model_module": "@jupyter-widgets/base",
          "model_name": "LayoutModel",
          "state": {
            "_view_name": "LayoutView",
            "grid_template_rows": null,
            "right": null,
            "justify_content": null,
            "_view_module": "@jupyter-widgets/base",
            "overflow": null,
            "_model_module_version": "1.2.0",
            "_view_count": null,
            "flex_flow": null,
            "width": null,
            "min_width": null,
            "border": null,
            "align_items": null,
            "bottom": null,
            "_model_module": "@jupyter-widgets/base",
            "top": null,
            "grid_column": null,
            "overflow_y": null,
            "overflow_x": null,
            "grid_auto_flow": null,
            "grid_area": null,
            "grid_template_columns": null,
            "flex": null,
            "_model_name": "LayoutModel",
            "justify_items": null,
            "grid_row": null,
            "max_height": null,
            "align_content": null,
            "visibility": null,
            "align_self": null,
            "height": null,
            "min_height": null,
            "padding": null,
            "grid_auto_rows": null,
            "grid_gap": null,
            "max_width": null,
            "order": null,
            "_view_module_version": "1.2.0",
            "grid_template_areas": null,
            "object_position": null,
            "object_fit": null,
            "grid_auto_columns": null,
            "margin": null,
            "display": null,
            "left": null
          }
        },
        "f2eb3d2f69bf48a7967316103b570c5b": {
          "model_module": "@jupyter-widgets/controls",
          "model_name": "DescriptionStyleModel",
          "state": {
            "_view_name": "StyleView",
            "_model_name": "DescriptionStyleModel",
            "description_width": "",
            "_view_module": "@jupyter-widgets/base",
            "_model_module_version": "1.5.0",
            "_view_count": null,
            "_view_module_version": "1.2.0",
            "_model_module": "@jupyter-widgets/controls"
          }
        },
        "331ad6a9e3234c80a862da6fcdfa167c": {
          "model_module": "@jupyter-widgets/base",
          "model_name": "LayoutModel",
          "state": {
            "_view_name": "LayoutView",
            "grid_template_rows": null,
            "right": null,
            "justify_content": null,
            "_view_module": "@jupyter-widgets/base",
            "overflow": null,
            "_model_module_version": "1.2.0",
            "_view_count": null,
            "flex_flow": null,
            "width": null,
            "min_width": null,
            "border": null,
            "align_items": null,
            "bottom": null,
            "_model_module": "@jupyter-widgets/base",
            "top": null,
            "grid_column": null,
            "overflow_y": null,
            "overflow_x": null,
            "grid_auto_flow": null,
            "grid_area": null,
            "grid_template_columns": null,
            "flex": null,
            "_model_name": "LayoutModel",
            "justify_items": null,
            "grid_row": null,
            "max_height": null,
            "align_content": null,
            "visibility": null,
            "align_self": null,
            "height": null,
            "min_height": null,
            "padding": null,
            "grid_auto_rows": null,
            "grid_gap": null,
            "max_width": null,
            "order": null,
            "_view_module_version": "1.2.0",
            "grid_template_areas": null,
            "object_position": null,
            "object_fit": null,
            "grid_auto_columns": null,
            "margin": null,
            "display": null,
            "left": null
          }
        },
        "6c4a1d9d99d84c968e2fd8138c32f1e8": {
          "model_module": "@jupyter-widgets/controls",
          "model_name": "DescriptionStyleModel",
          "state": {
            "_view_name": "StyleView",
            "_model_name": "DescriptionStyleModel",
            "description_width": "",
            "_view_module": "@jupyter-widgets/base",
            "_model_module_version": "1.5.0",
            "_view_count": null,
            "_view_module_version": "1.2.0",
            "_model_module": "@jupyter-widgets/controls"
          }
        },
        "cc8f8a97a95d4f36ab6c547f4368993f": {
          "model_module": "@jupyter-widgets/base",
          "model_name": "LayoutModel",
          "state": {
            "_view_name": "LayoutView",
            "grid_template_rows": null,
            "right": null,
            "justify_content": null,
            "_view_module": "@jupyter-widgets/base",
            "overflow": null,
            "_model_module_version": "1.2.0",
            "_view_count": null,
            "flex_flow": null,
            "width": null,
            "min_width": null,
            "border": null,
            "align_items": null,
            "bottom": null,
            "_model_module": "@jupyter-widgets/base",
            "top": null,
            "grid_column": null,
            "overflow_y": null,
            "overflow_x": null,
            "grid_auto_flow": null,
            "grid_area": null,
            "grid_template_columns": null,
            "flex": null,
            "_model_name": "LayoutModel",
            "justify_items": null,
            "grid_row": null,
            "max_height": null,
            "align_content": null,
            "visibility": null,
            "align_self": null,
            "height": null,
            "min_height": null,
            "padding": null,
            "grid_auto_rows": null,
            "grid_gap": null,
            "max_width": null,
            "order": null,
            "_view_module_version": "1.2.0",
            "grid_template_areas": null,
            "object_position": null,
            "object_fit": null,
            "grid_auto_columns": null,
            "margin": null,
            "display": null,
            "left": null
          }
        },
        "4c018ad49cb641f081cb8f314a4601b7": {
          "model_module": "@jupyter-widgets/controls",
          "model_name": "DescriptionStyleModel",
          "state": {
            "_view_name": "StyleView",
            "_model_name": "DescriptionStyleModel",
            "description_width": "",
            "_view_module": "@jupyter-widgets/base",
            "_model_module_version": "1.5.0",
            "_view_count": null,
            "_view_module_version": "1.2.0",
            "_model_module": "@jupyter-widgets/controls"
          }
        },
        "431a85e831e340f5b055b054246539fa": {
          "model_module": "@jupyter-widgets/base",
          "model_name": "LayoutModel",
          "state": {
            "_view_name": "LayoutView",
            "grid_template_rows": null,
            "right": null,
            "justify_content": null,
            "_view_module": "@jupyter-widgets/base",
            "overflow": null,
            "_model_module_version": "1.2.0",
            "_view_count": null,
            "flex_flow": null,
            "width": null,
            "min_width": null,
            "border": null,
            "align_items": null,
            "bottom": null,
            "_model_module": "@jupyter-widgets/base",
            "top": null,
            "grid_column": null,
            "overflow_y": null,
            "overflow_x": null,
            "grid_auto_flow": null,
            "grid_area": null,
            "grid_template_columns": null,
            "flex": null,
            "_model_name": "LayoutModel",
            "justify_items": null,
            "grid_row": null,
            "max_height": null,
            "align_content": null,
            "visibility": null,
            "align_self": null,
            "height": null,
            "min_height": null,
            "padding": null,
            "grid_auto_rows": null,
            "grid_gap": null,
            "max_width": null,
            "order": null,
            "_view_module_version": "1.2.0",
            "grid_template_areas": null,
            "object_position": null,
            "object_fit": null,
            "grid_auto_columns": null,
            "margin": null,
            "display": null,
            "left": null
          }
        },
        "8cf5502be01e4e5b916f9c561b14f93b": {
          "model_module": "@jupyter-widgets/controls",
          "model_name": "SliderStyleModel",
          "state": {
            "_view_name": "StyleView",
            "handle_color": null,
            "_model_name": "SliderStyleModel",
            "description_width": "",
            "_view_module": "@jupyter-widgets/base",
            "_model_module_version": "1.5.0",
            "_view_count": null,
            "_view_module_version": "1.2.0",
            "_model_module": "@jupyter-widgets/controls"
          }
        },
        "8e7f87ad3f0a41a1abf155e769fe78ed": {
          "model_module": "@jupyter-widgets/base",
          "model_name": "LayoutModel",
          "state": {
            "_view_name": "LayoutView",
            "grid_template_rows": null,
            "right": null,
            "justify_content": null,
            "_view_module": "@jupyter-widgets/base",
            "overflow": null,
            "_model_module_version": "1.2.0",
            "_view_count": null,
            "flex_flow": null,
            "width": null,
            "min_width": null,
            "border": null,
            "align_items": null,
            "bottom": null,
            "_model_module": "@jupyter-widgets/base",
            "top": null,
            "grid_column": null,
            "overflow_y": null,
            "overflow_x": null,
            "grid_auto_flow": null,
            "grid_area": null,
            "grid_template_columns": null,
            "flex": null,
            "_model_name": "LayoutModel",
            "justify_items": null,
            "grid_row": null,
            "max_height": null,
            "align_content": null,
            "visibility": null,
            "align_self": null,
            "height": null,
            "min_height": null,
            "padding": null,
            "grid_auto_rows": null,
            "grid_gap": null,
            "max_width": null,
            "order": null,
            "_view_module_version": "1.2.0",
            "grid_template_areas": null,
            "object_position": null,
            "object_fit": null,
            "grid_auto_columns": null,
            "margin": null,
            "display": null,
            "left": null
          }
        },
        "5c032e428ba645dbb24d564222863910": {
          "model_module": "@jupyter-widgets/controls",
          "model_name": "DescriptionStyleModel",
          "state": {
            "_view_name": "StyleView",
            "_model_name": "DescriptionStyleModel",
            "description_width": "",
            "_view_module": "@jupyter-widgets/base",
            "_model_module_version": "1.5.0",
            "_view_count": null,
            "_view_module_version": "1.2.0",
            "_model_module": "@jupyter-widgets/controls"
          }
        },
        "dabf430e0d84405b9ccbbee790786f5c": {
          "model_module": "@jupyter-widgets/base",
          "model_name": "LayoutModel",
          "state": {
            "_view_name": "LayoutView",
            "grid_template_rows": null,
            "right": null,
            "justify_content": null,
            "_view_module": "@jupyter-widgets/base",
            "overflow": null,
            "_model_module_version": "1.2.0",
            "_view_count": null,
            "flex_flow": null,
            "width": null,
            "min_width": null,
            "border": null,
            "align_items": null,
            "bottom": null,
            "_model_module": "@jupyter-widgets/base",
            "top": null,
            "grid_column": null,
            "overflow_y": null,
            "overflow_x": null,
            "grid_auto_flow": null,
            "grid_area": null,
            "grid_template_columns": null,
            "flex": null,
            "_model_name": "LayoutModel",
            "justify_items": null,
            "grid_row": null,
            "max_height": null,
            "align_content": null,
            "visibility": null,
            "align_self": null,
            "height": null,
            "min_height": null,
            "padding": null,
            "grid_auto_rows": null,
            "grid_gap": null,
            "max_width": null,
            "order": null,
            "_view_module_version": "1.2.0",
            "grid_template_areas": null,
            "object_position": null,
            "object_fit": null,
            "grid_auto_columns": null,
            "margin": null,
            "display": null,
            "left": null
          }
        }
      }
    }
  },
  "cells": [
    {
      "cell_type": "markdown",
      "metadata": {
        "id": "view-in-github",
        "colab_type": "text"
      },
      "source": [
        "<a href=\"https://colab.research.google.com/github/dafrie/fin-disclosures-nlp/blob/master/CRO_Inference_Explorer.ipynb\" target=\"_parent\"><img src=\"https://colab.research.google.com/assets/colab-badge.svg\" alt=\"Open In Colab\"/></a>"
      ]
    },
    {
      "cell_type": "markdown",
      "metadata": {
        "id": "n_AJfy6UcO9p"
      },
      "source": [
        "# CRO Inference explorer"
      ]
    },
    {
      "cell_type": "markdown",
      "metadata": {
        "id": "kLQZSpqjcyDC"
      },
      "source": [
        "# Setup"
      ]
    },
    {
      "cell_type": "code",
      "metadata": {
        "colab": {
          "base_uri": "https://localhost:8080/"
        },
        "id": "rlYdhDy4cfhR",
        "outputId": "eea12361-254d-4868-ec0a-3a606cccc8e3"
      },
      "source": [
        "# Load Google drive where the data and models are stored\n",
        "from google.colab import drive\n",
        "drive.mount('/content/drive')"
      ],
      "execution_count": 1,
      "outputs": [
        {
          "output_type": "stream",
          "text": [
            "Drive already mounted at /content/drive; to attempt to forcibly remount, call drive.mount(\"/content/drive\", force_remount=True).\n"
          ],
          "name": "stdout"
        }
      ]
    },
    {
      "cell_type": "code",
      "metadata": {
        "id": "wl1acnTNk-ES"
      },
      "source": [
        "!pip install -U scikit-learn"
      ],
      "execution_count": null,
      "outputs": []
    },
    {
      "cell_type": "code",
      "metadata": {
        "colab": {
          "base_uri": "https://localhost:8080/"
        },
        "id": "_wngtuOlc-1e",
        "outputId": "6e648dab-c19b-44a6-f9c2-107b5c9da914"
      },
      "source": [
        "# Get project code repository\n",
        "%%shell\n",
        "cd '/content/fin-disclosures-nlp' | git clone https://github.com/dafrie/fin-disclosures-nlp.git & cd '/content/fin-disclosures-nlp'\n",
        "git pull"
      ],
      "execution_count": 12,
      "outputs": [
        {
          "output_type": "stream",
          "text": [
            "fatal: destination path 'fin-disclosures-nlp' already exists and is not an empty directory.\n",
            "Already up to date.\n"
          ],
          "name": "stdout"
        },
        {
          "output_type": "execute_result",
          "data": {
            "text/plain": [
              ""
            ]
          },
          "metadata": {
            "tags": []
          },
          "execution_count": 12
        }
      ]
    },
    {
      "cell_type": "code",
      "metadata": {
        "id": "AsMAbhoSc2ER"
      },
      "source": [
        "import sys\n",
        "import os\n",
        "from pathlib import Path\n",
        "sys.path.append('.')\n",
        "\n",
        "import pandas as pd\n",
        "import numpy as np\n",
        "\n",
        "from data.inference_widgets import CroInferenceViewer\n",
        "\n",
        "############### CONFIG ###############\n",
        "MASTER_DATA_PATH = os.path.abspath(\"/content/drive/MyDrive/fin-disclosures-nlp/data/inference/Firm_AnnualReport.csv\")\n",
        "INFERENCE_PARAGRAPH_PATH = os.path.abspath(\"/content/drive/MyDrive/fin-disclosures-nlp/data/inference/Firm_AnnualReport_Paragraphs.pkl\")\n",
        "MODELS_PATH = os.path.abspath(\"/content/drive/MyDrive/fin-disclosures-nlp/models/\")\n",
        "######################################\n",
        "\n",
        "df = pd.read_csv(MASTER_DATA_PATH)\n",
        "df = df.set_index(\"id\")\n",
        "df_paragraphs = pd.read_pickle(INFERENCE_PARAGRAPH_PATH)"
      ],
      "execution_count": 13,
      "outputs": []
    },
    {
      "cell_type": "code",
      "metadata": {
        "id": "ZfMSm9ByiSJ7"
      },
      "source": [
        "# Load classifier\n",
        "import pickle\n",
        "\n",
        "with open(os.path.join(MODELS_PATH, 'base_models', 'multilabel_svm_cro.pkl'), 'rb') as f:\n",
        "    clf = pickle.load(f)\n",
        "    \n",
        "label_list = clf.label_list"
      ],
      "execution_count": 14,
      "outputs": []
    },
    {
      "cell_type": "markdown",
      "metadata": {
        "id": "XWR4eSrvlb1D"
      },
      "source": [
        "# Data preparation"
      ]
    },
    {
      "cell_type": "code",
      "metadata": {
        "id": "At7g1_JqlRIx"
      },
      "source": [
        "df_paragraphs[label_list] = pd.DataFrame(df_paragraphs.preds_svm_cro.tolist())\n",
        "df_paragraphs[[ l + \"_prob\" for l in label_list]] = pd.DataFrame(df_paragraphs.preds_prob_svm_cro.tolist())\n",
        "df_paragraphs_merged = pd.merge(df_paragraphs, df, how=\"left\", left_on=\"report_id\", right_index=True)"
      ],
      "execution_count": 15,
      "outputs": []
    },
    {
      "cell_type": "markdown",
      "metadata": {
        "id": "rq3BmGaLlfqy"
      },
      "source": [
        "# Inference Explorer"
      ]
    },
    {
      "cell_type": "code",
      "metadata": {
        "colab": {
          "base_uri": "https://localhost:8080/",
          "height": 433,
          "referenced_widgets": [
            "dfc0479568604a21937ae39eb5728c40",
            "6b6100275f174e8a8a13c17a0b7ef28f",
            "e6a5147926ae4a5094c911bb4ddf48cd",
            "8d0e78b70a604bc48cb4579d05ad811c",
            "e811b3c88c084a68a8a48ccf73b84f33",
            "e6455210c88247f592137622d4c821c8",
            "423a7614a4374cacab4e9aaf0c03ebf5",
            "cfff7655c24f49efa178b30218da1136",
            "d809936083564a61a7f143abd27ab062",
            "9b7527cff4b74341aa7a29ae4f1f937c",
            "b85bb443652c4ea994da22e97b6b17b4",
            "caa52556d3f346f198698cac3364782c",
            "ad9c347bbc95458aa7450f6c324b1817",
            "ad9e581079af41ddb52ec7be62458c20",
            "aa8631a103f34131a8be6e9e87e72b7e",
            "be5dd1fa277f4d55b4453561ff9392a5",
            "2d6982eee71242cb9fd37f5d8dcda52a",
            "3b504399807a4087a5f29b23cc7f25fb",
            "c5257302144944ecae0478cd98bc8bb2",
            "e4b8c6ef12124e4f9ba18a4544181c14",
            "aa85c2fcfbbe46e58dc564d841bb36d8",
            "f2eb3d2f69bf48a7967316103b570c5b",
            "331ad6a9e3234c80a862da6fcdfa167c",
            "6c4a1d9d99d84c968e2fd8138c32f1e8",
            "cc8f8a97a95d4f36ab6c547f4368993f",
            "4c018ad49cb641f081cb8f314a4601b7",
            "431a85e831e340f5b055b054246539fa",
            "8cf5502be01e4e5b916f9c561b14f93b",
            "8e7f87ad3f0a41a1abf155e769fe78ed",
            "5c032e428ba645dbb24d564222863910",
            "dabf430e0d84405b9ccbbee790786f5c"
          ]
        },
        "id": "o7cZ5ToYlXAM",
        "outputId": "d128c7cf-5ba0-4ed5-a444-3ee1e9841b4a"
      },
      "source": [
        "viewer = CroInferenceViewer(df_paragraphs_merged, label_list=label_list)"
      ],
      "execution_count": 21,
      "outputs": [
        {
          "output_type": "display_data",
          "data": {
            "application/vnd.jupyter.widget-view+json": {
              "model_id": "dfc0479568604a21937ae39eb5728c40",
              "version_minor": 0,
              "version_major": 2
            },
            "text/plain": [
              "Output()"
            ]
          },
          "metadata": {
            "tags": []
          }
        },
        {
          "output_type": "display_data",
          "data": {
            "application/vnd.jupyter.widget-view+json": {
              "model_id": "8d0e78b70a604bc48cb4579d05ad811c",
              "version_minor": 0,
              "version_major": 2
            },
            "text/plain": [
              "Output()"
            ]
          },
          "metadata": {
            "tags": []
          }
        }
      ]
    },
    {
      "cell_type": "code",
      "metadata": {
        "id": "2qPsa2n6li4X"
      },
      "source": [
        ""
      ],
      "execution_count": null,
      "outputs": []
    }
  ]
}