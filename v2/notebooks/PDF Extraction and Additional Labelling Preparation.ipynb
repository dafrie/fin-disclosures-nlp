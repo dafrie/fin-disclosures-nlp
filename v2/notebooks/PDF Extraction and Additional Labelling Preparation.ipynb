{
 "cells": [
  {
   "cell_type": "markdown",
   "metadata": {},
   "source": [
    "# PDF Extraction\n",
    "\n",
    "1. First run the rename function below\n",
    "2. Then extract the yml files."
   ]
  },
  {
   "cell_type": "code",
   "execution_count": null,
   "metadata": {},
   "outputs": [],
   "source": [
    "%load_ext autoreload\n",
    "%autoreload 2\n",
    "import sys\n",
    "import os\n",
    "import re\n",
    "import pandas as pd\n",
    "import shutil\n",
    "from pathlib import Path\n",
    "#from dateutil.parser import parse\n",
    "#from fuzzyparsers import parse_date\n",
    "#import timelib\n",
    "\n",
    "sys.path.append('..')\n",
    "import data.dataframe_preparation as preparation\n",
    "\n",
    "purge_existing_folder = False\n",
    "extract_text = False\n",
    "reports_input_dir = \"/Users/david/Nextcloud/Dokumente/Education/Uni Bern/Master Thesis/Analyzing Financial Climate Disclosures with NLP/v2/data/reports/annual_reports_600_part1\"\n",
    "master_output_file = os.path.join(reports_input_dir, \"Firm_AnnualReport_TrainingV2.csv\")\n",
    "random_seed = 1"
   ]
  },
  {
   "cell_type": "markdown",
   "metadata": {},
   "source": [
    "### Script for renaming files to AR_YYYY.pdf format\n",
    "Handles cases such as 2018-2019 (will take the higher year), and 123232019 (will ignore)."
   ]
  },
  {
   "cell_type": "code",
   "execution_count": null,
   "metadata": {},
   "outputs": [],
   "source": [
    "company_paths = preparation.get_company_paths(reports_input_dir)\n",
    "for company_dir in company_paths:\n",
    "    company_files = preparation.get_reports_paths(company_dir.path)\n",
    "    \n",
    "    for p in company_files:\n",
    "        filename = str(p.stem)\n",
    "\n",
    "        if purge_existing_folder:\n",
    "            try:\n",
    "                shutil.rmtree(os.path.join(company_dir.path, filename))\n",
    "            except:\n",
    "                print(\"No file found for: \", filename)\n",
    "        \n",
    "        potential_years = re.findall(r\"(?<!\\d)((?:199|200|201|202)[0-9]{1})(?!\\d)\", filename)\n",
    "        if len(potential_years) != 1:\n",
    "            if len(potential_years) and abs(int(potential_years[0]) - int(potential_years[1])) == 1:\n",
    "                year = max(potential_years)\n",
    "                print(filename, \": found a range of years, taking the higher one...\")\n",
    "            \n",
    "            else:\n",
    "                print(\"Ambigious years found for \", filename)\n",
    "                print(potential_years)\n",
    "                print(\"=========\")\n",
    "                break\n",
    "        else:\n",
    "            year = potential_years[0]\n",
    "        \n",
    "        if year:\n",
    "            os.rename(p, Path(p.parent, f\"AR_{year}.pdf\"))\n",
    "    \n",
    "    cleaned_company_name = re.sub(r'\\W+', '', str(company_dir.name))\n",
    "    if cleaned_company_name != company_dir.name:\n",
    "        new_folder = os.path.join(os.path.dirname(company_dir), cleaned_company_name)\n",
    "        os.rename(company_dir, new_folder)"
   ]
  },
  {
   "cell_type": "markdown",
   "metadata": {},
   "source": [
    "### Extract text from PDF"
   ]
  },
  {
   "cell_type": "code",
   "execution_count": null,
   "metadata": {},
   "outputs": [],
   "source": [
    "if extract_text:\n",
    "    ! python ../data/pipeline.py \"$reports_input_dir\""
   ]
  },
  {
   "cell_type": "code",
   "execution_count": null,
   "metadata": {},
   "outputs": [],
   "source": [
    "master_df = preparation.get_df(input_path=reports_input_dir, include_text=False, include_page_no=False, include_toc=False)\n",
    "master_df['should_label'] = True\n",
    "master_df['is_labelled'] = False\n",
    "master_df = master_df.sample(frac=1, random_state=1)"
   ]
  },
  {
   "cell_type": "code",
   "execution_count": null,
   "metadata": {},
   "outputs": [],
   "source": [
    "\n",
    "master_df.to_csv(master_output_file)\n"
   ]
  },
  {
   "cell_type": "code",
   "execution_count": null,
   "metadata": {},
   "outputs": [],
   "source": []
  }
 ],
 "metadata": {
  "kernelspec": {
   "display_name": "Python 3",
   "language": "python",
   "name": "python3"
  },
  "language_info": {
   "codemirror_mode": {
    "name": "ipython",
    "version": 3
   },
   "file_extension": ".py",
   "mimetype": "text/x-python",
   "name": "python",
   "nbconvert_exporter": "python",
   "pygments_lexer": "ipython3",
   "version": "3.8.5"
  }
 },
 "nbformat": 4,
 "nbformat_minor": 4
}
