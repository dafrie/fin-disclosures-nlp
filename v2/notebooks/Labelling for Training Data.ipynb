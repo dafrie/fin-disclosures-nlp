{
 "cells": [
  {
   "cell_type": "code",
   "execution_count": null,
   "metadata": {},
   "outputs": [],
   "source": [
    "import os\n",
    "import importlib\n",
    "import sys\n",
    "\n",
    "\n",
    "import pandas as pd\n",
    "\n",
    "sys.path.append('../..')\n",
    "import data\n",
    "from data.custom_widgets import ReportsLabeler\n",
    "importlib.reload(data.custom_widgets)\n",
    "\n",
    "############## CONFIG ##############\n",
    "DATA_INPUT_PATH = os.path.abspath(\"/Users/david/Nextcloud/Dokumente/Education/Uni Bern/Master Thesis/Analyzing Financial Climate Disclosures with NLP/v2/data/reports/annual_reports_600_part1_extracted\")\n",
    "MASTER_DATA_PATH = os.path.abspath(\"/Users/david/Nextcloud/Dokumente/Education/Uni Bern/Master Thesis/Analyzing Financial Climate Disclosures with NLP/v2/data/reports/annual_reports_600_part1_extracted/Firm_AnnualReport_TrainingV2.csv\")\n",
    "LABEL_OUTPUT_FN = 'Firm_AnnualReport_Labels_TrainingV2.pkl'\n",
    "KEYWORD_VOCABULARY_PATH = os.path.abspath(\"/Users/david/Projects/fin-disclosures-nlp/v2/labelling/keyword_lists/physical_risks.txt\")\n",
    "####################################\n",
    "\n",
    "labeler = ReportsLabeler(files_input_dir=DATA_INPUT_PATH, master_input_path=MASTER_DATA_PATH, label_output_fn=LABEL_OUTPUT_FN, add_adjunct_pages=False, keyword_vocabulary_path=KEYWORD_VOCABULARY_PATH)"
   ]
  }
 ],
 "metadata": {
  "kernelspec": {
   "display_name": "Python 3",
   "language": "python",
   "name": "python3"
  },
  "language_info": {
   "codemirror_mode": {
    "name": "ipython",
    "version": 3
   },
   "file_extension": ".py",
   "mimetype": "text/x-python",
   "name": "python",
   "nbconvert_exporter": "python",
   "pygments_lexer": "ipython3",
   "version": "3.8.5"
  }
 },
 "nbformat": 4,
 "nbformat_minor": 4
}
