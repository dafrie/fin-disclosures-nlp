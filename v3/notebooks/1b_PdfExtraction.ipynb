{
 "cells": [
  {
   "cell_type": "markdown",
   "metadata": {},
   "source": [
    "# PDF Extraction\n",
    "\n",
    "From an initial annual reports master file (and folder), runs the PDF extraction"
   ]
  },
  {
   "cell_type": "markdown",
   "metadata": {},
   "source": [
    "## Setup\n"
   ]
  },
  {
   "cell_type": "code",
   "execution_count": 5,
   "metadata": {},
   "outputs": [
    {
     "name": "stdout",
     "output_type": "stream",
     "text": [
      "/Users/david/Projects/fin-disclosures-nlp/v3/notebooks\n"
     ]
    }
   ],
   "source": [
    "import sys\n",
    "import os\n",
    "import pandas as pd\n",
    "from pathlib import Path\n",
    "\n",
    "sys.path.append('../')\n",
    "print(os.getcwd())\n",
    "# os.chdir('../../data/')\n",
    "\n",
    "REPORTS_MASTER_FILE_PATH = \"/Volumes/backup/fin-disclosures-nlp/data/stoxx600_reports_master.csv\"\n",
    "EXTRACTION_OUTPUT_PATH = \"/Volumes/backup/fin-disclosures-nlp/data/annual_reports_extracted/\""
   ]
  },
  {
   "cell_type": "code",
   "execution_count": 9,
   "metadata": {},
   "outputs": [],
   "source": [
    "df_reports = pd.read_csv(REPORTS_MASTER_FILE_PATH, index_col=0)\n",
    "for (idx, row) in df_reports.iterrows():\n",
    "    input_path = Path(row.path)\n",
    "    output_path = Path(EXTRACTION_OUTPUT_PATH, row.company, input_path.stem  + '.yml')\n",
    "    if output_path.is_file():\n",
    "        df_reports.loc[idx, \"extracted\"] = True\n",
    "    else:\n",
    "        print(f\"======== Missing file: {row.path}\")\n",
    "        print(row)"
   ]
  },
  {
   "cell_type": "code",
   "execution_count": 11,
   "metadata": {},
   "outputs": [],
   "source": [
    "df_reports.to_csv(REPORTS_MASTER_FILE_PATH)"
   ]
  },
  {
   "cell_type": "markdown",
   "metadata": {},
   "source": [
    "## Run extractor"
   ]
  },
  {
   "cell_type": "code",
   "execution_count": 4,
   "metadata": {},
   "outputs": [
    {
     "name": "stdout",
     "output_type": "stream",
     "text": [
      "Processing file /Volumes/backup/fin-disclosures-nlp/data/annual_reports_raw/RubisSCA/2016.pdf into /Volumes/backup/fin-disclosures-nlp/data/annual_reports_extracted/RubisSCA\n",
      "Processing file /Volumes/backup/fin-disclosures-nlp/data/annual_reports_raw/RubisSCA/2018.pdf into /Volumes/backup/fin-disclosures-nlp/data/annual_reports_extracted/RubisSCA\n",
      "100%|████████████████████████████████████████| 273/273 [00:01<00:00, 155.02it/s]\n",
      "Done processing file /Volumes/backup/fin-disclosures-nlp/data/annual_reports_raw/RubisSCA/2016.pdf\n",
      "100%|████████████████████████████████████████| 280/280 [00:01<00:00, 161.20it/s]\n",
      "Done processing file /Volumes/backup/fin-disclosures-nlp/data/annual_reports_raw/RubisSCA/2018.pdf\n"
     ]
    }
   ],
   "source": [
    "# Needs to be get restarted somehow until it runs properly\n",
    "! python ../../data/parallel_extractor.py \"$REPORTS_MASTER_FILE_PATH\" \"$EXTRACTION_OUTPUT_PATH\""
   ]
  },
  {
   "cell_type": "code",
   "execution_count": null,
   "metadata": {},
   "outputs": [],
   "source": []
  }
 ],
 "metadata": {
  "kernelspec": {
   "display_name": "Python 3.8.2 64-bit",
   "language": "python",
   "name": "python38264bit67cd2c3704704ed3888a6e1fe5fe69b4"
  },
  "language_info": {
   "codemirror_mode": {
    "name": "ipython",
    "version": 3
   },
   "file_extension": ".py",
   "mimetype": "text/x-python",
   "name": "python",
   "nbconvert_exporter": "python",
   "pygments_lexer": "ipython3",
   "version": "3.8.5"
  }
 },
 "nbformat": 4,
 "nbformat_minor": 4
}
